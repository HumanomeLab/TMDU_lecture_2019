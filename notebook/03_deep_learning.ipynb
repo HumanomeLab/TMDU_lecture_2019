{
  "nbformat": 4,
  "nbformat_minor": 0,
  "metadata": {
    "colab": {
      "name": "pytorch_introduction.ipynb",
      "provenance": [],
      "collapsed_sections": [
        "6_yQe3GplVB-"
      ],
      "toc_visible": true,
      "include_colab_link": true
    },
    "kernelspec": {
      "name": "python3",
      "display_name": "Python 3"
    },
    "accelerator": "GPU"
  },
  "cells": [
    {
      "cell_type": "markdown",
      "metadata": {
        "id": "view-in-github",
        "colab_type": "text"
      },
      "source": [
        "<a href=\"https://colab.research.google.com/github/HumanomeLab/TMDU_lecture_2019/blob/master/notebook/03_deep_learning.ipynb\" target=\"_parent\"><img src=\"https://colab.research.google.com/assets/colab-badge.svg\" alt=\"Open In Colab\"/></a>"
      ]
    },
    {
      "cell_type": "markdown",
      "metadata": {
        "id": "FAUu64DRSfry",
        "colab_type": "text"
      },
      "source": [
        "# 0. 準備\n",
        "\n",
        "## 0.1 GPUの有効化\n",
        "\n",
        "以下の手順でGPUを選択する。\n",
        "* 英語：Edit > Notebook Settings > Hardware Accelerator \n",
        "* 日本語：編集 > ノートブックの設定 > ハードウェアアクセレレータ\n",
        "\n",
        "今回は、ほとんど効果が無いですが・・・\n",
        "\n",
        "## 0.2 データのダウンロード\n",
        "\n",
        "今まで、一度データをダウンロードした後、アップロードしてファイル名を変えていたが、トラブルが多かったので、今回は直接ダウンロードを行う。\n"
      ]
    },
    {
      "cell_type": "code",
      "metadata": {
        "id": "gAJD803jyaio",
        "colab_type": "code",
        "colab": {
          "base_uri": "https://localhost:8080/",
          "height": 69
        },
        "outputId": "9a8deff3-6858-4cc2-d5d1-1c31dbc55233"
      },
      "source": [
        "!curl -O https://raw.githubusercontent.com/HumanomeLab/TMDU_lecture_2019/master/data/exp_data.csv"
      ],
      "execution_count": 49,
      "outputs": [
        {
          "output_type": "stream",
          "text": [
            "  % Total    % Received % Xferd  Average Speed   Time    Time     Time  Current\n",
            "                                 Dload  Upload   Total   Spent    Left  Speed\n",
            "100 15.9M  100 15.9M    0     0  25.2M      0 --:--:-- --:--:-- --:--:-- 25.2M\n"
          ],
          "name": "stdout"
        }
      ]
    },
    {
      "cell_type": "markdown",
      "metadata": {
        "id": "MHEY7GE11srs",
        "colab_type": "text"
      },
      "source": [
        "## 0.3 train.py のダウンロード\n",
        "\n",
        "学習時に利用する関数が入っている、train.pyをダウンロードする"
      ]
    },
    {
      "cell_type": "code",
      "metadata": {
        "id": "Z0RD2lG02d0i",
        "colab_type": "code",
        "colab": {
          "base_uri": "https://localhost:8080/",
          "height": 69
        },
        "outputId": "a68c3d16-6e00-462b-f2bc-165412e928d0"
      },
      "source": [
        "!curl -O https://raw.githubusercontent.com/HumanomeLab/TMDU_lecture_2019/master/src/train.py"
      ],
      "execution_count": 51,
      "outputs": [
        {
          "output_type": "stream",
          "text": [
            "  % Total    % Received % Xferd  Average Speed   Time    Time     Time  Current\n",
            "                                 Dload  Upload   Total   Spent    Left  Speed\n",
            "\r  0     0    0     0    0     0      0      0 --:--:-- --:--:-- --:--:--     0\r100 10496  100 10496    0     0  56128      0 --:--:-- --:--:-- --:--:-- 56128\n"
          ],
          "name": "stdout"
        }
      ]
    },
    {
      "cell_type": "markdown",
      "metadata": {
        "id": "IR-Au7Gg623p",
        "colab_type": "text"
      },
      "source": [
        "以上を実行すると、左のタブのFiles に、exp_data.csv と train.py が現れているはずです。"
      ]
    },
    {
      "cell_type": "markdown",
      "metadata": {
        "id": "wl6H5ueyL7zj",
        "colab_type": "text"
      },
      "source": [
        "# 1. NNを用いたクラス分類\n",
        "\n",
        "PyTorchで深層学習を実施する。\n",
        "\n"
      ]
    },
    {
      "cell_type": "markdown",
      "metadata": {
        "id": "gvCZqbcRwQKm",
        "colab_type": "text"
      },
      "source": [
        "## 1.1 訓練用の関数の読み込み\n",
        "\n",
        "以下の1行で、train.py を読み込みます。"
      ]
    },
    {
      "cell_type": "code",
      "metadata": {
        "id": "ITzKkvhY3ZCw",
        "colab_type": "code",
        "colab": {}
      },
      "source": [
        "import train"
      ],
      "execution_count": 0,
      "outputs": []
    },
    {
      "cell_type": "code",
      "metadata": {
        "id": "DwEeAw4T_3xt",
        "colab_type": "code",
        "colab": {
          "base_uri": "https://localhost:8080/",
          "height": 35
        },
        "outputId": "900778a5-7b7c-4fcd-c839-79993fdab401"
      },
      "source": [
        "import importlib\n",
        "importlib.reload(train)"
      ],
      "execution_count": 67,
      "outputs": [
        {
          "output_type": "execute_result",
          "data": {
            "text/plain": [
              "<module 'train' from '/content/train.py'>"
            ]
          },
          "metadata": {
            "tags": []
          },
          "execution_count": 67
        }
      ]
    },
    {
      "cell_type": "markdown",
      "metadata": {
        "id": "gdxXp_Vvv2ZT",
        "colab_type": "text"
      },
      "source": [
        "## 1.2 深層学習の実施\n",
        "\n",
        "関連のライブラリを読み込む"
      ]
    },
    {
      "cell_type": "code",
      "metadata": {
        "id": "ijQSJ4Y18CJD",
        "colab_type": "code",
        "colab": {}
      },
      "source": [
        "import torch\n",
        "import torch.nn as nn\n",
        "import torch.optim as optim\n",
        "from torch.optim import lr_scheduler\n",
        "from torchvision import transforms\n",
        "import torch.utils.data as data\n",
        "import torch.nn.functional as F\n",
        "import matplotlib.pyplot as plt\n",
        "\n",
        "import numpy as np\n",
        "import pandas as pd"
      ],
      "execution_count": 0,
      "outputs": []
    },
    {
      "cell_type": "markdown",
      "metadata": {
        "id": "XTV8s7BQ3pXe",
        "colab_type": "text"
      },
      "source": [
        "### 1.2.1 ネットワークの定義\n",
        "\n",
        "入力層のノード数が906 (全遺伝子分)、中間層のノード数が64のネットワークを作成する。"
      ]
    },
    {
      "cell_type": "code",
      "metadata": {
        "id": "yZ4S1nn-64Rk",
        "colab_type": "code",
        "colab": {}
      },
      "source": [
        "# ネットワークモデルの定義\n",
        "class Net(nn.Module):\n",
        "    def __init__(self):\n",
        "        super(Net, self).__init__()\n",
        "        self.fc1 = nn.Linear(906, 64)\n",
        "        self.fc2 = nn.Linear(64, 2)\n",
        "\n",
        "    def forward(self, x):\n",
        "        x = F.relu(self.fc1(x))\n",
        "        x = self.fc2(x)\n",
        "        return x\n",
        "\n",
        "# ネットワークをGPUに送る\n",
        "device = train.device_name()\n",
        "model = Net()\n",
        "model = model.to(device)  "
      ],
      "execution_count": 0,
      "outputs": []
    },
    {
      "cell_type": "markdown",
      "metadata": {
        "id": "nWuSW69NQ0jL",
        "colab_type": "text"
      },
      "source": [
        "### 1.1.3 作成したネットワークの確認\n",
        "\n",
        "自身が作成したネットワークが意図しているものと同じかどうかを確かめるため、表示する。PyTorchでは、torchsummary を用いるとモデルの概要を出力できる。"
      ]
    },
    {
      "cell_type": "code",
      "metadata": {
        "id": "13KbFnhXQywW",
        "colab_type": "code",
        "outputId": "f82afc90-1e71-4ad0-d325-eb08a7b865a5",
        "colab": {
          "base_uri": "https://localhost:8080/",
          "height": 276
        }
      },
      "source": [
        "from torchsummary import summary\n",
        "summary(model, (1,906))"
      ],
      "execution_count": 56,
      "outputs": [
        {
          "output_type": "stream",
          "text": [
            "----------------------------------------------------------------\n",
            "        Layer (type)               Output Shape         Param #\n",
            "================================================================\n",
            "            Linear-1                [-1, 1, 64]          58,048\n",
            "            Linear-2                 [-1, 1, 2]             130\n",
            "================================================================\n",
            "Total params: 58,178\n",
            "Trainable params: 58,178\n",
            "Non-trainable params: 0\n",
            "----------------------------------------------------------------\n",
            "Input size (MB): 0.00\n",
            "Forward/backward pass size (MB): 0.00\n",
            "Params size (MB): 0.22\n",
            "Estimated Total Size (MB): 0.23\n",
            "----------------------------------------------------------------\n"
          ],
          "name": "stdout"
        }
      ]
    },
    {
      "cell_type": "code",
      "metadata": {
        "id": "-E1UI21GMeT6",
        "colab_type": "code",
        "outputId": "d322e9c2-5497-401c-85eb-3eb7455155b4",
        "colab": {
          "base_uri": "https://localhost:8080/",
          "height": 832
        }
      },
      "source": [
        "# パラメータの設定\n",
        "params = {\n",
        "    \"epochs\":10,\n",
        "    \"batch_size\":16,\n",
        "    \"lr\":0.0001,\n",
        "    \"momentum\":0.9,\n",
        "}\n",
        "# データの分割と学習の実施\n",
        "model = Net()\n",
        "model = model.to(device)  \n",
        "summary(model, (1,906))\n",
        "final_model, train_loss, val_loss = train.train_and_test(\"exp_data.csv\", model, params)\n",
        "\n",
        "# 学習したモデルの保存\n",
        "model_file_name = \"best_model.torch\"\n",
        "torch.save(final_model.state_dict(), model_file_name)"
      ],
      "execution_count": 57,
      "outputs": [
        {
          "output_type": "stream",
          "text": [
            "----------------------------------------------------------------\n",
            "        Layer (type)               Output Shape         Param #\n",
            "================================================================\n",
            "            Linear-1                [-1, 1, 64]          58,048\n",
            "            Linear-2                 [-1, 1, 2]             130\n",
            "================================================================\n",
            "Total params: 58,178\n",
            "Trainable params: 58,178\n",
            "Non-trainable params: 0\n",
            "----------------------------------------------------------------\n",
            "Input size (MB): 0.00\n",
            "Forward/backward pass size (MB): 0.00\n",
            "Params size (MB): 0.22\n",
            "Estimated Total Size (MB): 0.23\n",
            "----------------------------------------------------------------\n",
            "Settings:\n",
            "\tDevice: cuda\n",
            "\tBatch size: 16\n",
            "\tEpochs: 10\n",
            "\tLearning rate: 0.0001\n",
            "\tMomentum(SGD): 0.9\n",
            "\tStep size for LR: 5\n",
            "\tGamma for LR: 0.1\n",
            "\n",
            "# of samples:\n",
            "\tTraining: 596\n",
            "\tValidation: 199\n",
            "\tTest: 199\n",
            "\n",
            "Epoch:0/9\ttrain Loss: 0.7087 Acc: 0.4983 Time: 0.0787\tval Loss: 0.7042 Acc: 0.4724 Time: 0.0126\n",
            "Epoch:1/9\ttrain Loss: 0.6643 Acc: 0.6376 Time: 0.0618\tval Loss: 0.6352 Acc: 0.7286 Time: 0.0096\n",
            "Epoch:2/9\ttrain Loss: 0.6211 Acc: 0.7416 Time: 0.0691\tval Loss: 0.5964 Acc: 0.8794 Time: 0.0098\n",
            "Epoch:3/9\ttrain Loss: 0.5779 Acc: 0.8960 Time: 0.0596\tval Loss: 0.5564 Acc: 0.8894 Time: 0.0100\n",
            "Epoch:4/9\ttrain Loss: 0.5334 Acc: 0.8523 Time: 0.0674\tval Loss: 0.5431 Acc: 0.7588 Time: 0.0105\n",
            "Epoch:5/9\ttrain Loss: 0.5166 Acc: 0.8507 Time: 0.0623\tval Loss: 0.5138 Acc: 0.9196 Time: 0.0107\n",
            "Epoch:6/9\ttrain Loss: 0.5091 Acc: 0.9161 Time: 0.0610\tval Loss: 0.5104 Acc: 0.9196 Time: 0.0104\n",
            "Epoch:7/9\ttrain Loss: 0.5064 Acc: 0.9144 Time: 0.0605\tval Loss: 0.5096 Acc: 0.9146 Time: 0.0096\n",
            "Epoch:8/9\ttrain Loss: 0.5027 Acc: 0.9178 Time: 0.0629\tval Loss: 0.5037 Acc: 0.9196 Time: 0.0095\n",
            "Epoch:9/9\ttrain Loss: 0.4999 Acc: 0.9211 Time: 0.0616\tval Loss: 0.4998 Acc: 0.9246 Time: 0.0097\n",
            "\n",
            "Training complete in 0m 1s\n",
            "Best Val loss: 0.4998\n",
            "On Test:\tLoss: 0.5044 Acc: 0.9347\n",
            "    0   1\n",
            "0  98   5\n",
            "1   8  88\n"
          ],
          "name": "stdout"
        }
      ]
    },
    {
      "cell_type": "markdown",
      "metadata": {
        "id": "DkKJ6OXTGHba",
        "colab_type": "text"
      },
      "source": [
        "### 学習率の描画"
      ]
    },
    {
      "cell_type": "code",
      "metadata": {
        "id": "0XG2vT0D6lF9",
        "colab_type": "code",
        "outputId": "a89c6c6e-b6d3-44b9-c2c0-894f41924026",
        "colab": {
          "base_uri": "https://localhost:8080/",
          "height": 282
        }
      },
      "source": [
        "p1 = plt.plot(list(range(len(train_loss))), train_loss, linestyle=\"dashed\")\n",
        "p2 = plt.plot(list(range(len(val_loss))), val_loss, linestyle=\"solid\")\n",
        "plt.legend((p1[0], p2[0]), (\"Training\", \"Validation\"), loc=1)"
      ],
      "execution_count": 58,
      "outputs": [
        {
          "output_type": "execute_result",
          "data": {
            "text/plain": [
              "<matplotlib.legend.Legend at 0x7f3f4267f9e8>"
            ]
          },
          "metadata": {
            "tags": []
          },
          "execution_count": 58
        },
        {
          "output_type": "display_data",
          "data": {
            "image/png": "[encoded data removed]",
            "text/plain": [
              "<Figure size 432x288 with 1 Axes>"
            ]
          },
          "metadata": {
            "tags": []
          }
        }
      ]
    },
    {
      "cell_type": "markdown",
      "metadata": {
        "id": "6_yQe3GplVB-",
        "colab_type": "text"
      },
      "source": [
        "## 1.3 モデルの変更 (Dropoutを追加する)\n",
        "\n",
        "過学習傾向にある可能性があるので、過学習を避けるために、Dropoutを実施する。中間層でDropoutを実施する。\n",
        "Dropout とは、ランダムにネットワークを間引いて学習することで、過学習を避ける際に利用される方法の一つ。"
      ]
    },
    {
      "cell_type": "code",
      "metadata": {
        "id": "pQlyIkTGjkbr",
        "colab_type": "code",
        "colab": {}
      },
      "source": [
        "# ネットワークの定義\n",
        "class Net(nn.Module):\n",
        "    def __init__(self):\n",
        "        super(Net, self).__init__()\n",
        "        self.fc1 = nn.Linear(906, 64)\n",
        "        self.fc2 = nn.Linear(64, 2)\n",
        "        self.drop = nn.Dropout(p=0.5)  # 確率0.5でdropoutすることを宣言\n",
        "\n",
        "    def forward(self, x):\n",
        "        x = F.relu(self.drop(self.fc1(x)))  # Dropoutの実施\n",
        "        x = self.fc2(x)\n",
        "        return x\n",
        "\n",
        "# ネットワークをGPUに送る\n",
        "model = Net()\n",
        "model = model.to(device)  "
      ],
      "execution_count": 0,
      "outputs": []
    },
    {
      "cell_type": "code",
      "metadata": {
        "id": "bvjmHQ50mb1f",
        "colab_type": "code",
        "outputId": "4e4473bd-6995-4d0b-e7da-6bc3e8e2d025",
        "colab": {
          "base_uri": "https://localhost:8080/",
          "height": 294
        }
      },
      "source": [
        "summary(model, (1,906))"
      ],
      "execution_count": 60,
      "outputs": [
        {
          "output_type": "stream",
          "text": [
            "----------------------------------------------------------------\n",
            "        Layer (type)               Output Shape         Param #\n",
            "================================================================\n",
            "            Linear-1                [-1, 1, 64]          58,048\n",
            "           Dropout-2                [-1, 1, 64]               0\n",
            "            Linear-3                 [-1, 1, 2]             130\n",
            "================================================================\n",
            "Total params: 58,178\n",
            "Trainable params: 58,178\n",
            "Non-trainable params: 0\n",
            "----------------------------------------------------------------\n",
            "Input size (MB): 0.00\n",
            "Forward/backward pass size (MB): 0.00\n",
            "Params size (MB): 0.22\n",
            "Estimated Total Size (MB): 0.23\n",
            "----------------------------------------------------------------\n"
          ],
          "name": "stdout"
        }
      ]
    },
    {
      "cell_type": "markdown",
      "metadata": {
        "id": "LkB1eBDooqR2",
        "colab_type": "text"
      },
      "source": [
        "再度、学習の実施。"
      ]
    },
    {
      "cell_type": "code",
      "metadata": {
        "id": "H7Tju8RNmgKd",
        "colab_type": "code",
        "outputId": "3a258a97-80a7-4180-c730-70fb4f8ecf3d",
        "colab": {
          "base_uri": "https://localhost:8080/",
          "height": 849
        }
      },
      "source": [
        "# パラメータの設定\n",
        "params = {\n",
        "    \"epochs\":10,\n",
        "    \"batch_size\":16,\n",
        "    \"lr\":0.0001,\n",
        "    \"momentum\":0.9,\n",
        "}\n",
        "# データの分割と学習の実施\n",
        "model = Net()\n",
        "model = model.to(device)  \n",
        "summary(model, (1,906))\n",
        "final_model, train_loss, val_loss = train.train_and_test(\"exp_data.csv\", model, params)\n",
        "\n",
        "# 学習したモデルの保存\n",
        "model_file_name = \"best_model.torch\"\n",
        "torch.save(final_model.state_dict(), model_file_name)"
      ],
      "execution_count": 61,
      "outputs": [
        {
          "output_type": "stream",
          "text": [
            "----------------------------------------------------------------\n",
            "        Layer (type)               Output Shape         Param #\n",
            "================================================================\n",
            "            Linear-1                [-1, 1, 64]          58,048\n",
            "           Dropout-2                [-1, 1, 64]               0\n",
            "            Linear-3                 [-1, 1, 2]             130\n",
            "================================================================\n",
            "Total params: 58,178\n",
            "Trainable params: 58,178\n",
            "Non-trainable params: 0\n",
            "----------------------------------------------------------------\n",
            "Input size (MB): 0.00\n",
            "Forward/backward pass size (MB): 0.00\n",
            "Params size (MB): 0.22\n",
            "Estimated Total Size (MB): 0.23\n",
            "----------------------------------------------------------------\n",
            "Settings:\n",
            "\tDevice: cuda\n",
            "\tBatch size: 16\n",
            "\tEpochs: 10\n",
            "\tLearning rate: 0.0001\n",
            "\tMomentum(SGD): 0.9\n",
            "\tStep size for LR: 5\n",
            "\tGamma for LR: 0.1\n",
            "\n",
            "# of samples:\n",
            "\tTraining: 596\n",
            "\tValidation: 199\n",
            "\tTest: 199\n",
            "\n",
            "Epoch:0/9\ttrain Loss: 0.7077 Acc: 0.5688 Time: 0.0658\tval Loss: 0.6489 Acc: 0.5879 Time: 0.0104\n",
            "Epoch:1/9\ttrain Loss: 0.6366 Acc: 0.6510 Time: 0.0603\tval Loss: 0.6328 Acc: 0.5578 Time: 0.0097\n",
            "Epoch:2/9\ttrain Loss: 0.6051 Acc: 0.6946 Time: 0.0675\tval Loss: 0.5841 Acc: 0.9146 Time: 0.0096\n",
            "Epoch:3/9\ttrain Loss: 0.6037 Acc: 0.6879 Time: 0.0603\tval Loss: 0.5985 Acc: 0.5427 Time: 0.0097\n",
            "Epoch:4/9\ttrain Loss: 0.5658 Acc: 0.7349 Time: 0.0624\tval Loss: 0.5347 Acc: 0.9095 Time: 0.0097\n",
            "Epoch:5/9\ttrain Loss: 0.5441 Acc: 0.7936 Time: 0.0670\tval Loss: 0.5344 Acc: 0.9045 Time: 0.0099\n",
            "Epoch:6/9\ttrain Loss: 0.5342 Acc: 0.8104 Time: 0.0619\tval Loss: 0.5292 Acc: 0.9296 Time: 0.0095\n",
            "Epoch:7/9\ttrain Loss: 0.5238 Acc: 0.8322 Time: 0.0595\tval Loss: 0.5275 Acc: 0.9246 Time: 0.0097\n",
            "Epoch:8/9\ttrain Loss: 0.5253 Acc: 0.8322 Time: 0.0802\tval Loss: 0.5267 Acc: 0.9095 Time: 0.0106\n",
            "Epoch:9/9\ttrain Loss: 0.5295 Acc: 0.8188 Time: 0.0655\tval Loss: 0.5220 Acc: 0.9246 Time: 0.0099\n",
            "\n",
            "Training complete in 0m 1s\n",
            "Best Val loss: 0.5220\n",
            "On Test:\tLoss: 0.5066 Acc: 0.9246\n",
            "    0   1\n",
            "0  95   2\n",
            "1  13  89\n"
          ],
          "name": "stdout"
        }
      ]
    },
    {
      "cell_type": "code",
      "metadata": {
        "id": "PWzwsjN88tQ1",
        "colab_type": "code",
        "outputId": "094df43f-544b-4a7f-cfcd-648341bf5191",
        "colab": {
          "base_uri": "https://localhost:8080/",
          "height": 282
        }
      },
      "source": [
        "p1 = plt.plot(list(range(len(train_loss))), train_loss, linestyle=\"dashed\")\n",
        "p2 = plt.plot(list(range(len(val_loss))), val_loss, linestyle=\"solid\")\n",
        "plt.legend((p1[0], p2[0]), (\"Training\", \"Validation\"), loc=1)"
      ],
      "execution_count": 62,
      "outputs": [
        {
          "output_type": "execute_result",
          "data": {
            "text/plain": [
              "<matplotlib.legend.Legend at 0x7f3f425dd4a8>"
            ]
          },
          "metadata": {
            "tags": []
          },
          "execution_count": 62
        },
        {
          "output_type": "display_data",
          "data": {
            "image/png": "[encoded data removed]",
            "text/plain": [
              "<Figure size 432x288 with 1 Axes>"
            ]
          },
          "metadata": {
            "tags": []
          }
        }
      ]
    },
    {
      "cell_type": "markdown",
      "metadata": {
        "id": "5XM9gno8pGnt",
        "colab_type": "text"
      },
      "source": [
        "層の数を増やしてみる。"
      ]
    },
    {
      "cell_type": "code",
      "metadata": {
        "id": "xXeDkX3ImtUq",
        "colab_type": "code",
        "colab": {}
      },
      "source": [
        "class Net(nn.Module):\n",
        "    def __init__(self):\n",
        "        super(Net, self).__init__()\n",
        "        self.fc1 = nn.Linear(906, 32)\n",
        "        self.fc2 = nn.Linear(32, 16)\n",
        "        self.fc3 = nn.Linear(16, 8)\n",
        "        self.fc4 = nn.Linear(8, 2)\n",
        "        self.drop = nn.Dropout(p=0.5)\n",
        "\n",
        "    def forward(self, x):\n",
        "        x = F.relu(self.drop(self.fc1(x)))\n",
        "        x = F.relu(self.drop(self.fc2(x)))\n",
        "        x = F.relu(self.drop(self.fc3(x)))\n",
        "        x = self.fc4(x)\n",
        "        return x\n",
        "\n",
        "model = Net()\n",
        "model = model.to(device)"
      ],
      "execution_count": 0,
      "outputs": []
    },
    {
      "cell_type": "code",
      "metadata": {
        "id": "u6gaDZgepcOe",
        "colab_type": "code",
        "outputId": "e0c34b7a-01b8-4f43-c3d4-666d361262db",
        "colab": {
          "base_uri": "https://localhost:8080/",
          "height": 363
        }
      },
      "source": [
        "summary(model, (1,906))"
      ],
      "execution_count": 64,
      "outputs": [
        {
          "output_type": "stream",
          "text": [
            "----------------------------------------------------------------\n",
            "        Layer (type)               Output Shape         Param #\n",
            "================================================================\n",
            "            Linear-1                [-1, 1, 32]          29,024\n",
            "           Dropout-2                [-1, 1, 32]               0\n",
            "            Linear-3                [-1, 1, 16]             528\n",
            "           Dropout-4                [-1, 1, 16]               0\n",
            "            Linear-5                 [-1, 1, 8]             136\n",
            "           Dropout-6                 [-1, 1, 8]               0\n",
            "            Linear-7                 [-1, 1, 2]              18\n",
            "================================================================\n",
            "Total params: 29,706\n",
            "Trainable params: 29,706\n",
            "Non-trainable params: 0\n",
            "----------------------------------------------------------------\n",
            "Input size (MB): 0.00\n",
            "Forward/backward pass size (MB): 0.00\n",
            "Params size (MB): 0.11\n",
            "Estimated Total Size (MB): 0.12\n",
            "----------------------------------------------------------------\n"
          ],
          "name": "stdout"
        }
      ]
    },
    {
      "cell_type": "code",
      "metadata": {
        "id": "i_6-oAQYphIj",
        "colab_type": "code",
        "outputId": "a7a41279-61a3-4571-f725-0f056076e6a3",
        "colab": {
          "base_uri": "https://localhost:8080/",
          "height": 918
        }
      },
      "source": [
        "# パラメータの設定\n",
        "params = {\n",
        "    \"epochs\":10,\n",
        "    \"batch_size\":16,\n",
        "    \"lr\":0.0001,\n",
        "    \"momentum\":0.9,\n",
        "}\n",
        "\n",
        "# データの分割と学習の実施\n",
        "model = Net()\n",
        "model = model.to(device)  \n",
        "summary(model, (1,906))\n",
        "final_model, train_loss, val_loss = train.train_and_test(\"exp_data.csv\", model, params)\n",
        "\n",
        "# 学習したモデルの保存\n",
        "model_file_name = \"best_model.torch\"\n",
        "torch.save(final_model.state_dict(), model_file_name)"
      ],
      "execution_count": 65,
      "outputs": [
        {
          "output_type": "stream",
          "text": [
            "----------------------------------------------------------------\n",
            "        Layer (type)               Output Shape         Param #\n",
            "================================================================\n",
            "            Linear-1                [-1, 1, 32]          29,024\n",
            "           Dropout-2                [-1, 1, 32]               0\n",
            "            Linear-3                [-1, 1, 16]             528\n",
            "           Dropout-4                [-1, 1, 16]               0\n",
            "            Linear-5                 [-1, 1, 8]             136\n",
            "           Dropout-6                 [-1, 1, 8]               0\n",
            "            Linear-7                 [-1, 1, 2]              18\n",
            "================================================================\n",
            "Total params: 29,706\n",
            "Trainable params: 29,706\n",
            "Non-trainable params: 0\n",
            "----------------------------------------------------------------\n",
            "Input size (MB): 0.00\n",
            "Forward/backward pass size (MB): 0.00\n",
            "Params size (MB): 0.11\n",
            "Estimated Total Size (MB): 0.12\n",
            "----------------------------------------------------------------\n",
            "Settings:\n",
            "\tDevice: cuda\n",
            "\tBatch size: 16\n",
            "\tEpochs: 10\n",
            "\tLearning rate: 0.0001\n",
            "\tMomentum(SGD): 0.9\n",
            "\tStep size for LR: 5\n",
            "\tGamma for LR: 0.1\n",
            "\n",
            "# of samples:\n",
            "\tTraining: 596\n",
            "\tValidation: 199\n",
            "\tTest: 199\n",
            "\n",
            "Epoch:0/9\ttrain Loss: 0.8073 Acc: 0.4732 Time: 0.0971\tval Loss: 0.6979 Acc: 0.5327 Time: 0.0126\n",
            "Epoch:1/9\ttrain Loss: 0.7522 Acc: 0.4732 Time: 0.0952\tval Loss: 0.6991 Acc: 0.5327 Time: 0.0125\n",
            "Epoch:2/9\ttrain Loss: 0.7471 Acc: 0.4732 Time: 0.1056\tval Loss: 0.6943 Acc: 0.5327 Time: 0.0176\n",
            "Epoch:3/9\ttrain Loss: 0.7377 Acc: 0.4732 Time: 0.0982\tval Loss: 0.6945 Acc: 0.5327 Time: 0.0128\n",
            "Epoch:4/9\ttrain Loss: 0.7365 Acc: 0.4732 Time: 0.0945\tval Loss: 0.6957 Acc: 0.5327 Time: 0.0190\n",
            "Epoch:5/9\ttrain Loss: 0.7284 Acc: 0.4732 Time: 0.1120\tval Loss: 0.6958 Acc: 0.5327 Time: 0.0142\n",
            "Epoch:6/9\ttrain Loss: 0.7290 Acc: 0.4732 Time: 0.0980\tval Loss: 0.6955 Acc: 0.5327 Time: 0.0123\n",
            "Epoch:7/9\ttrain Loss: 0.7373 Acc: 0.4732 Time: 0.0960\tval Loss: 0.6952 Acc: 0.5327 Time: 0.0130\n",
            "Epoch:8/9\ttrain Loss: 0.7245 Acc: 0.4732 Time: 0.0925\tval Loss: 0.6951 Acc: 0.5327 Time: 0.0127\n",
            "Epoch:9/9\ttrain Loss: 0.7337 Acc: 0.4732 Time: 0.0962\tval Loss: 0.6950 Acc: 0.5327 Time: 0.0148\n",
            "\n",
            "Training complete in 0m 1s\n",
            "Best Val loss: 0.6943\n",
            "On Test:\tLoss: 0.7099 Acc: 0.4824\n",
            "   0    1\n",
            "0  0  103\n",
            "1  0   96\n"
          ],
          "name": "stdout"
        }
      ]
    },
    {
      "cell_type": "code",
      "metadata": {
        "id": "2aCDHHKN69jL",
        "colab_type": "code",
        "outputId": "103d9345-0f09-4a3e-9936-f221cd4ee482",
        "colab": {
          "base_uri": "https://localhost:8080/",
          "height": 282
        }
      },
      "source": [
        "p1 = plt.plot(list(range(len(train_loss))), train_loss, linestyle=\"dashed\")\n",
        "p2 = plt.plot(list(range(len(val_loss))), val_loss, linestyle=\"solid\")\n",
        "plt.legend((p1[0], p2[0]), (\"Training\", \"Validation\"), loc=1)"
      ],
      "execution_count": 66,
      "outputs": [
        {
          "output_type": "execute_result",
          "data": {
            "text/plain": [
              "<matplotlib.legend.Legend at 0x7f3f4255b048>"
            ]
          },
          "metadata": {
            "tags": []
          },
          "execution_count": 66
        },
        {
          "output_type": "display_data",
          "data": {
            "image/png": "[encoded data removed]",
            "text/plain": [
              "<Figure size 432x288 with 1 Axes>"
            ]
          },
          "metadata": {
            "tags": []
          }
        }
      ]
    },
    {
      "cell_type": "markdown",
      "metadata": {
        "id": "8OqF7c4wovNA",
        "colab_type": "text"
      },
      "source": [
        "以上で、発現量を利用したニューラルネットワークを実施した。層の数や層内のノードの数など、様々な変更可能な点が存在しているので、色々と試してみてほしい。"
      ]
    },
    {
      "cell_type": "code",
      "metadata": {
        "id": "WT9gOPvl9Eq-",
        "colab_type": "code",
        "colab": {}
      },
      "source": [
        ""
      ],
      "execution_count": 0,
      "outputs": []
    }
  ]
}