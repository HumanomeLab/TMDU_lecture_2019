{
  "nbformat": 4,
  "nbformat_minor": 0,
  "metadata": {
    "colab": {
      "name": "Copy of Supervised_learning.ipynb",
      "provenance": [],
      "collapsed_sections": [
        "jrCvfsBav9gn",
        "iC2oqwt1wjKC",
        "qIbSfSG39IKC",
        "gUJQMWAtM9Lq",
        "N4cbAm3JNJgL",
        "r5jG5L2sQrDC",
        "KZeadjMe-2b1",
        "LIad6jTB7QiT",
        "selMDCNEANMx",
        "DvuXvJ7tbPX_",
        "gfxl_4tiA8TX",
        "x1YGqbymBTaM",
        "w94ekih5Ba7q",
        "vk9Y5t9tB3e7"
      ],
      "toc_visible": true
    },
    "kernelspec": {
      "display_name": "Python 3",
      "language": "python",
      "name": "python3"
    },
    "language_info": {
      "codemirror_mode": {
        "name": "ipython",
        "version": 3
      },
      "file_extension": ".py",
      "mimetype": "text/x-python",
      "name": "python",
      "nbconvert_exporter": "python",
      "pygments_lexer": "ipython3",
      "version": "3.7.0"
    }
  },
  "cells": [
    {
      "cell_type": "markdown",
      "metadata": {
        "colab_type": "text",
        "id": "Oe7MKwRLI5hS"
      },
      "source": [
        "# 教師あり学習"
      ]
    },
    {
      "cell_type": "markdown",
      "metadata": {
        "colab_type": "text",
        "id": "IpnCzLQY90uV"
      },
      "source": [
        "* データ （ダウンロード後、指示に従ってアップロードする）CSV形式：[exp_data.csv](https://github.com/HumanomeLab/TMDU_lecture_2019/blob/master/data/exp_data.csv)\n",
        "  * データ(exp_data.csv)は前回と同じものなので、手元に持っている場合にはダウンロードの必要は無い\n"
      ]
    },
    {
      "cell_type": "markdown",
      "metadata": {
        "colab_type": "text",
        "id": "kiDbKwdtuQjT"
      },
      "source": [
        "# 0. データの準備\n",
        "## 0.1 ライブラリとデータのインポート"
      ]
    },
    {
      "cell_type": "markdown",
      "metadata": {
        "colab_type": "text",
        "id": "lCUuTm7YuVDv"
      },
      "source": [
        "必要なライブラリのインポート。Seabornを利用しないこと以外は、前回同様。"
      ]
    },
    {
      "cell_type": "code",
      "metadata": {
        "colab_type": "code",
        "id": "t-aqjqsGsUeo",
        "colab": {}
      },
      "source": [
        "import pandas as pd\n",
        "import numpy as np\n",
        "import matplotlib.pyplot as plt"
      ],
      "execution_count": 0,
      "outputs": []
    },
    {
      "cell_type": "markdown",
      "metadata": {
        "colab_type": "text",
        "id": "-QrPDUXIuXz3"
      },
      "source": [
        "データの読み込み。予め前回と同様に、exp_data.csvをアップロードする必要がある。\n",
        "df_class.shape で、994行（サンプル）、907列（遺伝子）あることを確認する。"
      ]
    },
    {
      "cell_type": "code",
      "metadata": {
        "colab_type": "code",
        "id": "xwpqFpi2sezt",
        "outputId": "c61b8172-e4a5-4da7-9bb1-24ddfa7d5d8a",
        "colab": {
          "base_uri": "https://localhost:8080/",
          "height": 50
        }
      },
      "source": [
        "df_class = pd.read_csv(\"exp_data.csv\", index_col=\"Name\")\n",
        "df = df_class.drop(\"class\", axis=1)\n",
        "print(df_class.shape)\n",
        "print(df.shape)"
      ],
      "execution_count": 51,
      "outputs": [
        {
          "output_type": "stream",
          "text": [
            "(994, 907)\n",
            "(994, 906)\n"
          ],
          "name": "stdout"
        }
      ]
    },
    {
      "cell_type": "markdown",
      "metadata": {
        "colab_type": "text",
        "id": "Jjl5uFQguInx"
      },
      "source": [
        "前回は紹介していない内容で便利なメソッドとしてdescribe()がある。各列の統計値を出すことが出来る。"
      ]
    },
    {
      "cell_type": "code",
      "metadata": {
        "colab_type": "code",
        "id": "o6W07-gFuEYR",
        "outputId": "f2efd110-c601-481e-cc6d-dd47b01ff346",
        "colab": {
          "base_uri": "https://localhost:8080/",
          "height": 336
        }
      },
      "source": [
        "df.describe()"
      ],
      "execution_count": 52,
      "outputs": [
        {
          "output_type": "execute_result",
          "data": {
            "text/html": [
              "<div>\n",
              "<style scoped>\n",
              "    .dataframe tbody tr th:only-of-type {\n",
              "        vertical-align: middle;\n",
              "    }\n",
              "\n",
              "    .dataframe tbody tr th {\n",
              "        vertical-align: top;\n",
              "    }\n",
              "\n",
              "    .dataframe thead th {\n",
              "        text-align: right;\n",
              "    }\n",
              "</style>\n",
              "<table border=\"1\" class=\"dataframe\">\n",
              "  <thead>\n",
              "    <tr style=\"text-align: right;\">\n",
              "      <th></th>\n",
              "      <th>AAMP</th>\n",
              "      <th>AARS2</th>\n",
              "      <th>ABCA9</th>\n",
              "      <th>ABCB1</th>\n",
              "      <th>ABCG4</th>\n",
              "      <th>ABI1</th>\n",
              "      <th>ABL1</th>\n",
              "      <th>ABL2</th>\n",
              "      <th>ABRAXAS1</th>\n",
              "      <th>ACKR3</th>\n",
              "      <th>ACSL3</th>\n",
              "      <th>ACSL6</th>\n",
              "      <th>ACTB</th>\n",
              "      <th>ACVR1B</th>\n",
              "      <th>ACVR2A</th>\n",
              "      <th>ADGRA2</th>\n",
              "      <th>AFDN</th>\n",
              "      <th>AFF1</th>\n",
              "      <th>AFF2</th>\n",
              "      <th>AFF3</th>\n",
              "      <th>AFF4</th>\n",
              "      <th>AHNAK2</th>\n",
              "      <th>AJUBA</th>\n",
              "      <th>AK9</th>\n",
              "      <th>AKAP9</th>\n",
              "      <th>AKT1</th>\n",
              "      <th>AKT2</th>\n",
              "      <th>AKT3</th>\n",
              "      <th>ALDH2</th>\n",
              "      <th>ALK</th>\n",
              "      <th>ALOX12B</th>\n",
              "      <th>AMER1</th>\n",
              "      <th>ANKRD12</th>\n",
              "      <th>APC</th>\n",
              "      <th>APCDD1</th>\n",
              "      <th>APH1A</th>\n",
              "      <th>AR</th>\n",
              "      <th>ARAF</th>\n",
              "      <th>ARFRP1</th>\n",
              "      <th>ARHGAP26</th>\n",
              "      <th>...</th>\n",
              "      <th>USP6</th>\n",
              "      <th>USP9X</th>\n",
              "      <th>VHL</th>\n",
              "      <th>VTCN1</th>\n",
              "      <th>VTI1A</th>\n",
              "      <th>WAS</th>\n",
              "      <th>WDCP</th>\n",
              "      <th>WDR90</th>\n",
              "      <th>WIF1</th>\n",
              "      <th>WNK1</th>\n",
              "      <th>WRN</th>\n",
              "      <th>WT1</th>\n",
              "      <th>WWOX</th>\n",
              "      <th>WWTR1</th>\n",
              "      <th>XBP1</th>\n",
              "      <th>XIAP</th>\n",
              "      <th>XPA</th>\n",
              "      <th>XPC</th>\n",
              "      <th>XPO1</th>\n",
              "      <th>XRCC3</th>\n",
              "      <th>YAP1</th>\n",
              "      <th>YES1</th>\n",
              "      <th>YWHAE</th>\n",
              "      <th>YY1AP1</th>\n",
              "      <th>ZBTB16</th>\n",
              "      <th>ZFHX3</th>\n",
              "      <th>ZFP36L1</th>\n",
              "      <th>ZMYM2</th>\n",
              "      <th>ZMYM3</th>\n",
              "      <th>ZNF132</th>\n",
              "      <th>ZNF217</th>\n",
              "      <th>ZNF24</th>\n",
              "      <th>ZNF300</th>\n",
              "      <th>ZNF331</th>\n",
              "      <th>ZNF384</th>\n",
              "      <th>ZNF521</th>\n",
              "      <th>ZNF703</th>\n",
              "      <th>ZNF750</th>\n",
              "      <th>ZNF91</th>\n",
              "      <th>ZRSR2</th>\n",
              "    </tr>\n",
              "  </thead>\n",
              "  <tbody>\n",
              "    <tr>\n",
              "      <th>count</th>\n",
              "      <td>994.000000</td>\n",
              "      <td>994.000000</td>\n",
              "      <td>994.000000</td>\n",
              "      <td>994.000000</td>\n",
              "      <td>994.000000</td>\n",
              "      <td>994.000000</td>\n",
              "      <td>994.000000</td>\n",
              "      <td>994.000000</td>\n",
              "      <td>994.000000</td>\n",
              "      <td>994.000000</td>\n",
              "      <td>994.000000</td>\n",
              "      <td>994.000000</td>\n",
              "      <td>994.000000</td>\n",
              "      <td>994.000000</td>\n",
              "      <td>994.000000</td>\n",
              "      <td>994.000000</td>\n",
              "      <td>994.000000</td>\n",
              "      <td>994.000000</td>\n",
              "      <td>994.000000</td>\n",
              "      <td>994.000000</td>\n",
              "      <td>994.000000</td>\n",
              "      <td>994.000000</td>\n",
              "      <td>994.000000</td>\n",
              "      <td>994.000000</td>\n",
              "      <td>994.000000</td>\n",
              "      <td>994.000000</td>\n",
              "      <td>994.000000</td>\n",
              "      <td>994.000000</td>\n",
              "      <td>994.000000</td>\n",
              "      <td>994.000000</td>\n",
              "      <td>994.000000</td>\n",
              "      <td>994.000000</td>\n",
              "      <td>994.000000</td>\n",
              "      <td>994.000000</td>\n",
              "      <td>994.000000</td>\n",
              "      <td>994.000000</td>\n",
              "      <td>994.000000</td>\n",
              "      <td>994.000000</td>\n",
              "      <td>994.000000</td>\n",
              "      <td>994.000000</td>\n",
              "      <td>...</td>\n",
              "      <td>994.000000</td>\n",
              "      <td>994.000000</td>\n",
              "      <td>994.000000</td>\n",
              "      <td>994.000000</td>\n",
              "      <td>994.000000</td>\n",
              "      <td>994.000000</td>\n",
              "      <td>994.000000</td>\n",
              "      <td>994.000000</td>\n",
              "      <td>994.000000</td>\n",
              "      <td>994.000000</td>\n",
              "      <td>994.000000</td>\n",
              "      <td>994.000000</td>\n",
              "      <td>994.000000</td>\n",
              "      <td>994.000000</td>\n",
              "      <td>994.000000</td>\n",
              "      <td>994.000000</td>\n",
              "      <td>994.000000</td>\n",
              "      <td>994.000000</td>\n",
              "      <td>994.000000</td>\n",
              "      <td>994.000000</td>\n",
              "      <td>994.000000</td>\n",
              "      <td>994.000000</td>\n",
              "      <td>994.000000</td>\n",
              "      <td>994.000000</td>\n",
              "      <td>994.000000</td>\n",
              "      <td>994.000000</td>\n",
              "      <td>994.000000</td>\n",
              "      <td>994.000000</td>\n",
              "      <td>994.000000</td>\n",
              "      <td>994.000000</td>\n",
              "      <td>994.000000</td>\n",
              "      <td>994.000000</td>\n",
              "      <td>994.000000</td>\n",
              "      <td>994.000000</td>\n",
              "      <td>994.000000</td>\n",
              "      <td>994.000000</td>\n",
              "      <td>994.000000</td>\n",
              "      <td>994.000000</td>\n",
              "      <td>994.000000</td>\n",
              "      <td>994.000000</td>\n",
              "    </tr>\n",
              "    <tr>\n",
              "      <th>mean</th>\n",
              "      <td>3.394743</td>\n",
              "      <td>2.678533</td>\n",
              "      <td>1.460645</td>\n",
              "      <td>1.526119</td>\n",
              "      <td>0.498881</td>\n",
              "      <td>3.244420</td>\n",
              "      <td>3.265563</td>\n",
              "      <td>2.933774</td>\n",
              "      <td>2.271508</td>\n",
              "      <td>2.951437</td>\n",
              "      <td>3.325291</td>\n",
              "      <td>0.844573</td>\n",
              "      <td>5.042571</td>\n",
              "      <td>3.116199</td>\n",
              "      <td>2.467435</td>\n",
              "      <td>2.793281</td>\n",
              "      <td>3.307228</td>\n",
              "      <td>3.156455</td>\n",
              "      <td>1.751721</td>\n",
              "      <td>1.630954</td>\n",
              "      <td>3.297475</td>\n",
              "      <td>3.311285</td>\n",
              "      <td>2.880933</td>\n",
              "      <td>1.880270</td>\n",
              "      <td>3.100287</td>\n",
              "      <td>3.592374</td>\n",
              "      <td>3.373499</td>\n",
              "      <td>2.514962</td>\n",
              "      <td>3.525712</td>\n",
              "      <td>0.680460</td>\n",
              "      <td>0.650773</td>\n",
              "      <td>2.351301</td>\n",
              "      <td>2.910264</td>\n",
              "      <td>2.734125</td>\n",
              "      <td>2.542614</td>\n",
              "      <td>3.759495</td>\n",
              "      <td>0.928425</td>\n",
              "      <td>3.140286</td>\n",
              "      <td>2.841150</td>\n",
              "      <td>2.747815</td>\n",
              "      <td>...</td>\n",
              "      <td>1.611121</td>\n",
              "      <td>3.473457</td>\n",
              "      <td>2.808072</td>\n",
              "      <td>1.977036</td>\n",
              "      <td>2.574349</td>\n",
              "      <td>2.344231</td>\n",
              "      <td>2.400338</td>\n",
              "      <td>2.689308</td>\n",
              "      <td>1.626251</td>\n",
              "      <td>1.315431</td>\n",
              "      <td>2.456618</td>\n",
              "      <td>0.968048</td>\n",
              "      <td>2.202910</td>\n",
              "      <td>2.748278</td>\n",
              "      <td>3.836417</td>\n",
              "      <td>3.175136</td>\n",
              "      <td>2.292201</td>\n",
              "      <td>2.854669</td>\n",
              "      <td>3.646842</td>\n",
              "      <td>2.566964</td>\n",
              "      <td>3.447068</td>\n",
              "      <td>3.191370</td>\n",
              "      <td>3.993064</td>\n",
              "      <td>3.290616</td>\n",
              "      <td>1.111823</td>\n",
              "      <td>2.926145</td>\n",
              "      <td>3.902640</td>\n",
              "      <td>3.098805</td>\n",
              "      <td>3.013036</td>\n",
              "      <td>1.758086</td>\n",
              "      <td>3.230092</td>\n",
              "      <td>3.196133</td>\n",
              "      <td>1.833106</td>\n",
              "      <td>2.588444</td>\n",
              "      <td>3.086075</td>\n",
              "      <td>2.062870</td>\n",
              "      <td>2.228635</td>\n",
              "      <td>2.445284</td>\n",
              "      <td>2.347372</td>\n",
              "      <td>2.277585</td>\n",
              "    </tr>\n",
              "    <tr>\n",
              "      <th>std</th>\n",
              "      <td>0.123715</td>\n",
              "      <td>0.179999</td>\n",
              "      <td>0.421810</td>\n",
              "      <td>0.433981</td>\n",
              "      <td>0.460353</td>\n",
              "      <td>0.150565</td>\n",
              "      <td>0.169559</td>\n",
              "      <td>0.184345</td>\n",
              "      <td>0.212505</td>\n",
              "      <td>0.617959</td>\n",
              "      <td>0.179665</td>\n",
              "      <td>0.640231</td>\n",
              "      <td>0.153246</td>\n",
              "      <td>0.208606</td>\n",
              "      <td>0.204374</td>\n",
              "      <td>0.290039</td>\n",
              "      <td>0.206087</td>\n",
              "      <td>0.203950</td>\n",
              "      <td>0.702549</td>\n",
              "      <td>0.584771</td>\n",
              "      <td>0.170616</td>\n",
              "      <td>0.615122</td>\n",
              "      <td>0.320488</td>\n",
              "      <td>0.312293</td>\n",
              "      <td>0.204958</td>\n",
              "      <td>0.152756</td>\n",
              "      <td>0.181723</td>\n",
              "      <td>0.371362</td>\n",
              "      <td>0.341106</td>\n",
              "      <td>0.672282</td>\n",
              "      <td>0.881236</td>\n",
              "      <td>0.267598</td>\n",
              "      <td>0.188303</td>\n",
              "      <td>0.179184</td>\n",
              "      <td>0.393666</td>\n",
              "      <td>0.130529</td>\n",
              "      <td>0.688902</td>\n",
              "      <td>0.134915</td>\n",
              "      <td>0.201755</td>\n",
              "      <td>0.324155</td>\n",
              "      <td>...</td>\n",
              "      <td>0.222699</td>\n",
              "      <td>0.155567</td>\n",
              "      <td>0.148055</td>\n",
              "      <td>0.893218</td>\n",
              "      <td>0.114389</td>\n",
              "      <td>0.340696</td>\n",
              "      <td>0.170078</td>\n",
              "      <td>0.307794</td>\n",
              "      <td>1.137687</td>\n",
              "      <td>0.404383</td>\n",
              "      <td>0.204697</td>\n",
              "      <td>0.806586</td>\n",
              "      <td>0.241555</td>\n",
              "      <td>0.270625</td>\n",
              "      <td>0.290121</td>\n",
              "      <td>0.144501</td>\n",
              "      <td>0.182849</td>\n",
              "      <td>0.166990</td>\n",
              "      <td>0.161281</td>\n",
              "      <td>0.269598</td>\n",
              "      <td>0.219310</td>\n",
              "      <td>0.195173</td>\n",
              "      <td>0.160151</td>\n",
              "      <td>0.129938</td>\n",
              "      <td>0.820663</td>\n",
              "      <td>0.236782</td>\n",
              "      <td>0.236938</td>\n",
              "      <td>0.166810</td>\n",
              "      <td>0.172153</td>\n",
              "      <td>0.291642</td>\n",
              "      <td>0.205617</td>\n",
              "      <td>0.164322</td>\n",
              "      <td>0.458601</td>\n",
              "      <td>0.295475</td>\n",
              "      <td>0.154303</td>\n",
              "      <td>0.399491</td>\n",
              "      <td>0.492956</td>\n",
              "      <td>0.692941</td>\n",
              "      <td>0.349965</td>\n",
              "      <td>0.195613</td>\n",
              "    </tr>\n",
              "    <tr>\n",
              "      <th>min</th>\n",
              "      <td>2.937886</td>\n",
              "      <td>1.752758</td>\n",
              "      <td>-0.096584</td>\n",
              "      <td>-0.334138</td>\n",
              "      <td>-1.000000</td>\n",
              "      <td>2.764830</td>\n",
              "      <td>2.463578</td>\n",
              "      <td>2.196295</td>\n",
              "      <td>1.475671</td>\n",
              "      <td>1.438949</td>\n",
              "      <td>2.802334</td>\n",
              "      <td>-1.000000</td>\n",
              "      <td>4.384154</td>\n",
              "      <td>1.858162</td>\n",
              "      <td>1.730308</td>\n",
              "      <td>1.563889</td>\n",
              "      <td>2.598859</td>\n",
              "      <td>2.145119</td>\n",
              "      <td>-1.000000</td>\n",
              "      <td>-0.175939</td>\n",
              "      <td>2.767857</td>\n",
              "      <td>0.759917</td>\n",
              "      <td>1.593225</td>\n",
              "      <td>0.793399</td>\n",
              "      <td>2.422133</td>\n",
              "      <td>2.998237</td>\n",
              "      <td>2.626182</td>\n",
              "      <td>1.310489</td>\n",
              "      <td>2.202368</td>\n",
              "      <td>-1.000000</td>\n",
              "      <td>-1.000000</td>\n",
              "      <td>1.540572</td>\n",
              "      <td>2.200859</td>\n",
              "      <td>1.961740</td>\n",
              "      <td>1.328608</td>\n",
              "      <td>3.366466</td>\n",
              "      <td>-1.000000</td>\n",
              "      <td>2.639716</td>\n",
              "      <td>2.000868</td>\n",
              "      <td>1.648862</td>\n",
              "      <td>...</td>\n",
              "      <td>0.997356</td>\n",
              "      <td>2.815549</td>\n",
              "      <td>1.972755</td>\n",
              "      <td>-1.000000</td>\n",
              "      <td>1.988891</td>\n",
              "      <td>1.176635</td>\n",
              "      <td>1.739730</td>\n",
              "      <td>0.903958</td>\n",
              "      <td>-1.000000</td>\n",
              "      <td>-1.000000</td>\n",
              "      <td>0.756385</td>\n",
              "      <td>-1.000000</td>\n",
              "      <td>1.374827</td>\n",
              "      <td>1.717586</td>\n",
              "      <td>2.894840</td>\n",
              "      <td>1.926932</td>\n",
              "      <td>1.782654</td>\n",
              "      <td>2.209384</td>\n",
              "      <td>3.071282</td>\n",
              "      <td>1.463267</td>\n",
              "      <td>2.202739</td>\n",
              "      <td>2.096180</td>\n",
              "      <td>3.492985</td>\n",
              "      <td>2.640567</td>\n",
              "      <td>-1.000000</td>\n",
              "      <td>1.916275</td>\n",
              "      <td>2.934015</td>\n",
              "      <td>2.304697</td>\n",
              "      <td>2.239517</td>\n",
              "      <td>0.502946</td>\n",
              "      <td>1.832261</td>\n",
              "      <td>2.744736</td>\n",
              "      <td>-0.465466</td>\n",
              "      <td>1.348937</td>\n",
              "      <td>2.585842</td>\n",
              "      <td>0.524370</td>\n",
              "      <td>0.756469</td>\n",
              "      <td>-0.072527</td>\n",
              "      <td>0.758306</td>\n",
              "      <td>1.625427</td>\n",
              "    </tr>\n",
              "    <tr>\n",
              "      <th>25%</th>\n",
              "      <td>3.309720</td>\n",
              "      <td>2.568492</td>\n",
              "      <td>1.177805</td>\n",
              "      <td>1.247027</td>\n",
              "      <td>0.254274</td>\n",
              "      <td>3.137137</td>\n",
              "      <td>3.175167</td>\n",
              "      <td>2.823876</td>\n",
              "      <td>2.136015</td>\n",
              "      <td>2.463903</td>\n",
              "      <td>3.201835</td>\n",
              "      <td>0.482354</td>\n",
              "      <td>4.939737</td>\n",
              "      <td>2.983449</td>\n",
              "      <td>2.338887</td>\n",
              "      <td>2.604634</td>\n",
              "      <td>3.177538</td>\n",
              "      <td>3.027419</td>\n",
              "      <td>1.242239</td>\n",
              "      <td>1.232800</td>\n",
              "      <td>3.181533</td>\n",
              "      <td>2.955970</td>\n",
              "      <td>2.667146</td>\n",
              "      <td>1.669795</td>\n",
              "      <td>2.976910</td>\n",
              "      <td>3.495082</td>\n",
              "      <td>3.257326</td>\n",
              "      <td>2.261940</td>\n",
              "      <td>3.291523</td>\n",
              "      <td>0.337249</td>\n",
              "      <td>0.064752</td>\n",
              "      <td>2.164251</td>\n",
              "      <td>2.789137</td>\n",
              "      <td>2.632787</td>\n",
              "      <td>2.290704</td>\n",
              "      <td>3.670966</td>\n",
              "      <td>0.522493</td>\n",
              "      <td>3.057907</td>\n",
              "      <td>2.720794</td>\n",
              "      <td>2.548435</td>\n",
              "      <td>...</td>\n",
              "      <td>1.471954</td>\n",
              "      <td>3.383381</td>\n",
              "      <td>2.725504</td>\n",
              "      <td>1.363611</td>\n",
              "      <td>2.508640</td>\n",
              "      <td>2.137927</td>\n",
              "      <td>2.281056</td>\n",
              "      <td>2.492695</td>\n",
              "      <td>0.893767</td>\n",
              "      <td>1.077954</td>\n",
              "      <td>2.334613</td>\n",
              "      <td>0.525247</td>\n",
              "      <td>2.044710</td>\n",
              "      <td>2.582176</td>\n",
              "      <td>3.637501</td>\n",
              "      <td>3.087236</td>\n",
              "      <td>2.182101</td>\n",
              "      <td>2.749700</td>\n",
              "      <td>3.530954</td>\n",
              "      <td>2.391136</td>\n",
              "      <td>3.338977</td>\n",
              "      <td>3.075243</td>\n",
              "      <td>3.879507</td>\n",
              "      <td>3.206210</td>\n",
              "      <td>0.581456</td>\n",
              "      <td>2.792512</td>\n",
              "      <td>3.757556</td>\n",
              "      <td>3.001236</td>\n",
              "      <td>2.917563</td>\n",
              "      <td>1.570864</td>\n",
              "      <td>3.111038</td>\n",
              "      <td>3.086869</td>\n",
              "      <td>1.562930</td>\n",
              "      <td>2.418549</td>\n",
              "      <td>2.990454</td>\n",
              "      <td>1.798927</td>\n",
              "      <td>1.880190</td>\n",
              "      <td>2.118064</td>\n",
              "      <td>2.208064</td>\n",
              "      <td>2.153312</td>\n",
              "    </tr>\n",
              "    <tr>\n",
              "      <th>50%</th>\n",
              "      <td>3.392539</td>\n",
              "      <td>2.686466</td>\n",
              "      <td>1.465954</td>\n",
              "      <td>1.523477</td>\n",
              "      <td>0.504410</td>\n",
              "      <td>3.226691</td>\n",
              "      <td>3.272993</td>\n",
              "      <td>2.945235</td>\n",
              "      <td>2.260943</td>\n",
              "      <td>2.874578</td>\n",
              "      <td>3.308722</td>\n",
              "      <td>0.861011</td>\n",
              "      <td>5.036391</td>\n",
              "      <td>3.106211</td>\n",
              "      <td>2.469240</td>\n",
              "      <td>2.805890</td>\n",
              "      <td>3.323709</td>\n",
              "      <td>3.183536</td>\n",
              "      <td>1.709334</td>\n",
              "      <td>1.594572</td>\n",
              "      <td>3.295975</td>\n",
              "      <td>3.405250</td>\n",
              "      <td>2.878413</td>\n",
              "      <td>1.893041</td>\n",
              "      <td>3.102794</td>\n",
              "      <td>3.593135</td>\n",
              "      <td>3.355154</td>\n",
              "      <td>2.507372</td>\n",
              "      <td>3.534515</td>\n",
              "      <td>0.699812</td>\n",
              "      <td>0.637385</td>\n",
              "      <td>2.334917</td>\n",
              "      <td>2.924444</td>\n",
              "      <td>2.746194</td>\n",
              "      <td>2.536693</td>\n",
              "      <td>3.744565</td>\n",
              "      <td>0.960368</td>\n",
              "      <td>3.140648</td>\n",
              "      <td>2.850001</td>\n",
              "      <td>2.730278</td>\n",
              "      <td>...</td>\n",
              "      <td>1.596873</td>\n",
              "      <td>3.484125</td>\n",
              "      <td>2.813551</td>\n",
              "      <td>2.034662</td>\n",
              "      <td>2.573284</td>\n",
              "      <td>2.372634</td>\n",
              "      <td>2.387329</td>\n",
              "      <td>2.711377</td>\n",
              "      <td>1.683081</td>\n",
              "      <td>1.326164</td>\n",
              "      <td>2.457929</td>\n",
              "      <td>1.083077</td>\n",
              "      <td>2.214151</td>\n",
              "      <td>2.748907</td>\n",
              "      <td>3.832446</td>\n",
              "      <td>3.170908</td>\n",
              "      <td>2.277569</td>\n",
              "      <td>2.855273</td>\n",
              "      <td>3.642480</td>\n",
              "      <td>2.570428</td>\n",
              "      <td>3.469622</td>\n",
              "      <td>3.182679</td>\n",
              "      <td>3.983142</td>\n",
              "      <td>3.282772</td>\n",
              "      <td>1.103739</td>\n",
              "      <td>2.938309</td>\n",
              "      <td>3.911302</td>\n",
              "      <td>3.096234</td>\n",
              "      <td>3.023341</td>\n",
              "      <td>1.776168</td>\n",
              "      <td>3.222527</td>\n",
              "      <td>3.191606</td>\n",
              "      <td>1.886605</td>\n",
              "      <td>2.598567</td>\n",
              "      <td>3.080545</td>\n",
              "      <td>2.088839</td>\n",
              "      <td>2.243379</td>\n",
              "      <td>2.582879</td>\n",
              "      <td>2.409819</td>\n",
              "      <td>2.278384</td>\n",
              "    </tr>\n",
              "    <tr>\n",
              "      <th>75%</th>\n",
              "      <td>3.476430</td>\n",
              "      <td>2.785962</td>\n",
              "      <td>1.752473</td>\n",
              "      <td>1.811056</td>\n",
              "      <td>0.760043</td>\n",
              "      <td>3.337827</td>\n",
              "      <td>3.377852</td>\n",
              "      <td>3.051225</td>\n",
              "      <td>2.396490</td>\n",
              "      <td>3.440331</td>\n",
              "      <td>3.442467</td>\n",
              "      <td>1.225556</td>\n",
              "      <td>5.141733</td>\n",
              "      <td>3.238030</td>\n",
              "      <td>2.597290</td>\n",
              "      <td>2.998728</td>\n",
              "      <td>3.435167</td>\n",
              "      <td>3.292069</td>\n",
              "      <td>2.263936</td>\n",
              "      <td>2.019505</td>\n",
              "      <td>3.416243</td>\n",
              "      <td>3.741698</td>\n",
              "      <td>3.097728</td>\n",
              "      <td>2.087859</td>\n",
              "      <td>3.229542</td>\n",
              "      <td>3.688533</td>\n",
              "      <td>3.462737</td>\n",
              "      <td>2.751523</td>\n",
              "      <td>3.766919</td>\n",
              "      <td>1.017830</td>\n",
              "      <td>1.241904</td>\n",
              "      <td>2.550590</td>\n",
              "      <td>3.037259</td>\n",
              "      <td>2.850359</td>\n",
              "      <td>2.771315</td>\n",
              "      <td>3.830414</td>\n",
              "      <td>1.386930</td>\n",
              "      <td>3.226982</td>\n",
              "      <td>2.969065</td>\n",
              "      <td>2.938730</td>\n",
              "      <td>...</td>\n",
              "      <td>1.738844</td>\n",
              "      <td>3.572382</td>\n",
              "      <td>2.897306</td>\n",
              "      <td>2.648466</td>\n",
              "      <td>2.644365</td>\n",
              "      <td>2.578258</td>\n",
              "      <td>2.509736</td>\n",
              "      <td>2.906795</td>\n",
              "      <td>2.396753</td>\n",
              "      <td>1.575806</td>\n",
              "      <td>2.587003</td>\n",
              "      <td>1.555021</td>\n",
              "      <td>2.363969</td>\n",
              "      <td>2.929385</td>\n",
              "      <td>4.040933</td>\n",
              "      <td>3.264346</td>\n",
              "      <td>2.386533</td>\n",
              "      <td>2.967614</td>\n",
              "      <td>3.751468</td>\n",
              "      <td>2.742064</td>\n",
              "      <td>3.575614</td>\n",
              "      <td>3.314791</td>\n",
              "      <td>4.090994</td>\n",
              "      <td>3.363832</td>\n",
              "      <td>1.691602</td>\n",
              "      <td>3.078623</td>\n",
              "      <td>4.058024</td>\n",
              "      <td>3.209369</td>\n",
              "      <td>3.135005</td>\n",
              "      <td>1.982613</td>\n",
              "      <td>3.347498</td>\n",
              "      <td>3.290847</td>\n",
              "      <td>2.148996</td>\n",
              "      <td>2.776645</td>\n",
              "      <td>3.180512</td>\n",
              "      <td>2.329832</td>\n",
              "      <td>2.581951</td>\n",
              "      <td>2.936400</td>\n",
              "      <td>2.567327</td>\n",
              "      <td>2.423345</td>\n",
              "    </tr>\n",
              "    <tr>\n",
              "      <th>max</th>\n",
              "      <td>3.950669</td>\n",
              "      <td>3.423044</td>\n",
              "      <td>2.624436</td>\n",
              "      <td>3.067718</td>\n",
              "      <td>2.081639</td>\n",
              "      <td>3.813918</td>\n",
              "      <td>3.798831</td>\n",
              "      <td>3.567607</td>\n",
              "      <td>3.162370</td>\n",
              "      <td>4.443498</td>\n",
              "      <td>4.046413</td>\n",
              "      <td>2.959324</td>\n",
              "      <td>5.642995</td>\n",
              "      <td>3.796630</td>\n",
              "      <td>3.406029</td>\n",
              "      <td>3.609811</td>\n",
              "      <td>3.865778</td>\n",
              "      <td>3.706422</td>\n",
              "      <td>4.417525</td>\n",
              "      <td>3.208758</td>\n",
              "      <td>3.808370</td>\n",
              "      <td>4.598273</td>\n",
              "      <td>3.763783</td>\n",
              "      <td>2.988955</td>\n",
              "      <td>4.274883</td>\n",
              "      <td>4.316727</td>\n",
              "      <td>4.598407</td>\n",
              "      <td>3.709158</td>\n",
              "      <td>4.561530</td>\n",
              "      <td>2.946428</td>\n",
              "      <td>3.091502</td>\n",
              "      <td>3.084483</td>\n",
              "      <td>3.511648</td>\n",
              "      <td>3.321350</td>\n",
              "      <td>4.445606</td>\n",
              "      <td>4.550270</td>\n",
              "      <td>2.831853</td>\n",
              "      <td>3.763536</td>\n",
              "      <td>3.593740</td>\n",
              "      <td>3.793904</td>\n",
              "      <td>...</td>\n",
              "      <td>2.747287</td>\n",
              "      <td>4.052263</td>\n",
              "      <td>3.322583</td>\n",
              "      <td>3.936547</td>\n",
              "      <td>3.132647</td>\n",
              "      <td>3.556091</td>\n",
              "      <td>2.961380</td>\n",
              "      <td>3.499853</td>\n",
              "      <td>4.787164</td>\n",
              "      <td>2.793201</td>\n",
              "      <td>3.111612</td>\n",
              "      <td>3.531204</td>\n",
              "      <td>3.288886</td>\n",
              "      <td>3.481120</td>\n",
              "      <td>4.821759</td>\n",
              "      <td>3.628496</td>\n",
              "      <td>3.076721</td>\n",
              "      <td>3.426861</td>\n",
              "      <td>4.306811</td>\n",
              "      <td>3.544736</td>\n",
              "      <td>4.543291</td>\n",
              "      <td>3.984809</td>\n",
              "      <td>4.557870</td>\n",
              "      <td>3.871483</td>\n",
              "      <td>3.066382</td>\n",
              "      <td>3.732495</td>\n",
              "      <td>4.651879</td>\n",
              "      <td>3.791313</td>\n",
              "      <td>3.496856</td>\n",
              "      <td>2.451763</td>\n",
              "      <td>4.314649</td>\n",
              "      <td>4.258328</td>\n",
              "      <td>2.996294</td>\n",
              "      <td>3.890578</td>\n",
              "      <td>3.772474</td>\n",
              "      <td>3.797340</td>\n",
              "      <td>3.958917</td>\n",
              "      <td>3.863004</td>\n",
              "      <td>3.353008</td>\n",
              "      <td>2.810002</td>\n",
              "    </tr>\n",
              "  </tbody>\n",
              "</table>\n",
              "<p>8 rows × 906 columns</p>\n",
              "</div>"
            ],
            "text/plain": [
              "             AAMP       AARS2       ABCA9  ...      ZNF750       ZNF91       ZRSR2\n",
              "count  994.000000  994.000000  994.000000  ...  994.000000  994.000000  994.000000\n",
              "mean     3.394743    2.678533    1.460645  ...    2.445284    2.347372    2.277585\n",
              "std      0.123715    0.179999    0.421810  ...    0.692941    0.349965    0.195613\n",
              "min      2.937886    1.752758   -0.096584  ...   -0.072527    0.758306    1.625427\n",
              "25%      3.309720    2.568492    1.177805  ...    2.118064    2.208064    2.153312\n",
              "50%      3.392539    2.686466    1.465954  ...    2.582879    2.409819    2.278384\n",
              "75%      3.476430    2.785962    1.752473  ...    2.936400    2.567327    2.423345\n",
              "max      3.950669    3.423044    2.624436  ...    3.863004    3.353008    2.810002\n",
              "\n",
              "[8 rows x 906 columns]"
            ]
          },
          "metadata": {
            "tags": []
          },
          "execution_count": 52
        }
      ]
    },
    {
      "cell_type": "markdown",
      "metadata": {
        "colab_type": "text",
        "id": "W5pNMEusACgl"
      },
      "source": [
        "collections.Counter で、値の出現回数をカウントする。"
      ]
    },
    {
      "cell_type": "code",
      "metadata": {
        "colab_type": "code",
        "id": "SbC_urpkuiSA",
        "outputId": "15fbdf88-6d9b-4c15-c147-6572b898d327",
        "colab": {
          "base_uri": "https://localhost:8080/",
          "height": 33
        }
      },
      "source": [
        "import collections\n",
        "collections.Counter(np.array(df_class[\"class\"]))"
      ],
      "execution_count": 53,
      "outputs": [
        {
          "output_type": "execute_result",
          "data": {
            "text/plain": [
              "Counter({0: 510, 1: 484})"
            ]
          },
          "metadata": {
            "tags": []
          },
          "execution_count": 53
        }
      ]
    },
    {
      "cell_type": "code",
      "metadata": {
        "colab_type": "code",
        "id": "OaxIXjyduHpN",
        "colab": {}
      },
      "source": [
        "# Xが特徴量、yがクラスであることを明示するため、代入。\n",
        "X = df.values\n",
        "y = df_class[\"class\"].values"
      ],
      "execution_count": 0,
      "outputs": []
    },
    {
      "cell_type": "markdown",
      "metadata": {
        "colab_type": "text",
        "id": "jrCvfsBav9gn"
      },
      "source": [
        "## 0.1 訓練データとテストデータの分割\n",
        "\n",
        "訓練データを全体の8割、テストデータを全体の2割で分割する。\n",
        "\n",
        "* X_train, X_test: 訓練データとテストデータの特徴量\n",
        "* y_train, y_test: 訓練データとテストデータのクラス\n",
        "\n",
        "ここでは、各手法に注力するため、クロスバリデーション（交差検証）と、各手法におけるパラメータの最適化は、一通り教師あり学習の話をした後に、紹介する。"
      ]
    },
    {
      "cell_type": "code",
      "metadata": {
        "colab_type": "code",
        "id": "5b2HVYjTv__Y",
        "colab": {}
      },
      "source": [
        "from sklearn.model_selection import train_test_split\n",
        "X_train, X_test, y_train, y_test = train_test_split(X, y, test_size=0.2)"
      ],
      "execution_count": 0,
      "outputs": []
    },
    {
      "cell_type": "code",
      "metadata": {
        "colab_type": "code",
        "id": "uShg2rubwUH3",
        "outputId": "7d42e9cc-e851-43c9-c913-3b628e4d7110",
        "colab": {
          "base_uri": "https://localhost:8080/",
          "height": 83
        }
      },
      "source": [
        "print(X_train.shape)\n",
        "print(X_test.shape)\n",
        "print(collections.Counter(np.array(y_train)))\n",
        "print(collections.Counter(np.array(y_test)))"
      ],
      "execution_count": 56,
      "outputs": [
        {
          "output_type": "stream",
          "text": [
            "(795, 906)\n",
            "(199, 906)\n",
            "Counter({0: 404, 1: 391})\n",
            "Counter({0: 106, 1: 93})\n"
          ],
          "name": "stdout"
        }
      ]
    },
    {
      "cell_type": "markdown",
      "metadata": {
        "colab_type": "text",
        "id": "qIbSfSG39IKC"
      },
      "source": [
        "# 1. Decision Tree（決定木）\n",
        "\n"
      ]
    },
    {
      "cell_type": "markdown",
      "metadata": {
        "colab_type": "text",
        "id": "gUJQMWAtM9Lq"
      },
      "source": [
        "## 1.1 ハイパーパラメータの指定なし"
      ]
    },
    {
      "cell_type": "markdown",
      "metadata": {
        "colab_type": "text",
        "id": "QoVWije0Ry_p"
      },
      "source": [
        "決定木のパッケージの読み込みと、分類木の構築。"
      ]
    },
    {
      "cell_type": "code",
      "metadata": {
        "colab_type": "code",
        "id": "bdwiFqmH9Epv",
        "outputId": "6529d5dc-d0bc-4138-f7f5-95e69734edf6",
        "colab": {
          "base_uri": "https://localhost:8080/",
          "height": 116
        }
      },
      "source": [
        "from sklearn import tree\n",
        "from sklearn.metrics import accuracy_score \n",
        "from sklearn import metrics\n",
        "clf = tree.DecisionTreeClassifier()\n",
        "clf.fit(X_train, y_train)"
      ],
      "execution_count": 57,
      "outputs": [
        {
          "output_type": "execute_result",
          "data": {
            "text/plain": [
              "DecisionTreeClassifier(class_weight=None, criterion='gini', max_depth=None,\n",
              "                       max_features=None, max_leaf_nodes=None,\n",
              "                       min_impurity_decrease=0.0, min_impurity_split=None,\n",
              "                       min_samples_leaf=1, min_samples_split=2,\n",
              "                       min_weight_fraction_leaf=0.0, presort=False,\n",
              "                       random_state=None, splitter='best')"
            ]
          },
          "metadata": {
            "tags": []
          },
          "execution_count": 57
        }
      ]
    },
    {
      "cell_type": "markdown",
      "metadata": {
        "colab_type": "text",
        "id": "wqA--_yeJotP"
      },
      "source": [
        "構築した分類木の精度を評価する。"
      ]
    },
    {
      "cell_type": "code",
      "metadata": {
        "colab_type": "code",
        "id": "3Wg4PNSQ9pZc",
        "outputId": "034a05cb-6fe3-4150-a2cf-1d3d1e504572",
        "colab": {
          "base_uri": "https://localhost:8080/",
          "height": 50
        }
      },
      "source": [
        "# 訓練データでの精度\n",
        "y_train_pred = clf.predict(X_train)\n",
        "print(\"Training accuracy: \", accuracy_score(y_train, y_train_pred))\n",
        "# テストデータでの精度\n",
        "y_test_pred = clf.predict(X_test)\n",
        "print(\"Test accuracy: \", accuracy_score(y_test, y_test_pred))"
      ],
      "execution_count": 58,
      "outputs": [
        {
          "output_type": "stream",
          "text": [
            "Training accuracy:  1.0\n",
            "Test accuracy:  0.8542713567839196\n"
          ],
          "name": "stdout"
        }
      ]
    },
    {
      "cell_type": "markdown",
      "metadata": {
        "colab_type": "text",
        "id": "kRX1Jo9G9g1q"
      },
      "source": [
        "ROCカーブを描画し、予測精度を調査する。"
      ]
    },
    {
      "cell_type": "code",
      "metadata": {
        "colab_type": "code",
        "id": "pn8vzoHd9zbu",
        "outputId": "128c3693-3bc3-40bf-d6ec-bcdabe0db612",
        "colab": {
          "base_uri": "https://localhost:8080/",
          "height": 294
        }
      },
      "source": [
        "y_test_proba = clf.predict_proba(X_test)\n",
        "\n",
        "# FPR, TPR(, しきい値) を算出\n",
        "fpr, tpr, thresholds = metrics.roc_curve(y_test, y_test_proba[:,1])\n",
        "auc = metrics.auc(fpr, tpr)\n",
        "\n",
        "# ROC曲線をプロット\n",
        "plt.plot(fpr, tpr, label='ROC curve (area = %.2f)'%auc)\n",
        "plt.legend()\n",
        "plt.title('ROC curve')\n",
        "plt.xlabel('False Positive Rate')\n",
        "plt.ylabel('True Positive Rate')\n",
        "plt.grid(True)"
      ],
      "execution_count": 59,
      "outputs": [
        {
          "output_type": "display_data",
          "data": {
            "image/png": "[encoded data removed]",
            "text/plain": [
              "<Figure size 432x288 with 1 Axes>"
            ]
          },
          "metadata": {
            "tags": []
          }
        }
      ]
    },
    {
      "cell_type": "markdown",
      "metadata": {
        "colab_type": "text",
        "id": "uUGc-g5k981v"
      },
      "source": [
        "決定木の描画\n",
        "\n",
        "描画で必要なGraphvizをインストールした後、描画。"
      ]
    },
    {
      "cell_type": "code",
      "metadata": {
        "colab_type": "code",
        "id": "JYrHaj8C949H",
        "outputId": "c83c6d39-312d-465e-81b1-07b8fa8b9f14",
        "colab": {
          "base_uri": "https://localhost:8080/",
          "height": 33
        }
      },
      "source": [
        "!pip install graphviz"
      ],
      "execution_count": 60,
      "outputs": [
        {
          "output_type": "stream",
          "text": [
            "Requirement already satisfied: graphviz in /usr/local/lib/python3.6/dist-packages (0.10.1)\n"
          ],
          "name": "stdout"
        }
      ]
    },
    {
      "cell_type": "code",
      "metadata": {
        "colab_type": "code",
        "id": "lbhLq-G3-H4Y",
        "outputId": "e4a602e8-8f2f-4ca0-ceda-fb29dc0cbaff",
        "colab": {
          "base_uri": "https://localhost:8080/",
          "height": 1000
        }
      },
      "source": [
        "import graphviz\n",
        "from IPython.display import Image\n",
        "dot_data = tree.export_graphviz(clf, out_file=None, \n",
        "                                feature_names=df.columns,\n",
        "                                filled=True, rounded=True,  \n",
        "                                special_characters=True)\n",
        "graph = graphviz.Source(dot_data)\n",
        "graph"
      ],
      "execution_count": 61,
      "outputs": [
        {
          "output_type": "execute_result",
          "data": {
            "text/plain": [
              "<graphviz.files.Source at 0x7f3745eb9b38>"
            ],
            "image/svg+xml": "<?xml version=\"1.0\" encoding=\"UTF-8\" standalone=\"no\"?>\n<!DOCTYPE svg PUBLIC \"-//W3C//DTD SVG 1.1//EN\"\n \"http://www.w3.org/Graphics/SVG/1.1/DTD/svg11.dtd\">\n<!-- Generated by graphviz version 2.40.1 (20161225.0304)\n -->\n<!-- Title: Tree Pages: 1 -->\n<svg width=\"1153pt\" height=\"997pt\"\n viewBox=\"0.00 0.00 1152.50 997.00\" xmlns=\"http://www.w3.org/2000/svg\" xmlns:xlink=\"http://www.w3.org/1999/xlink\">\n<g id=\"graph0\" class=\"graph\" transform=\"scale(1 1) rotate(0) translate(4 993)\">\n<title>Tree</title>\n<polygon fill=\"#ffffff\" stroke=\"transparent\" points=\"-4,4 -4,-993 1148.5,-993 1148.5,4 -4,4\"/>\n<!-- 0 -->\n<g id=\"node1\" class=\"node\">\n<title>0</title>\n<path fill=\"#fefbf9\" stroke=\"#000000\" d=\"M715,-989C715,-989 607,-989 607,-989 601,-989 595,-983 595,-977 595,-977 595,-933 595,-933 595,-927 601,-921 607,-921 607,-921 715,-921 715,-921 721,-921 727,-927 727,-933 727,-933 727,-977 727,-977 727,-983 721,-989 715,-989\"/>\n<text text-anchor=\"start\" x=\"621.5\" y=\"-973.8\" font-family=\"Helvetica,sans-Serif\" font-size=\"14.00\" fill=\"#000000\">TP63 ≤ 3.25</text>\n<text text-anchor=\"start\" x=\"631.5\" y=\"-958.8\" font-family=\"Helvetica,sans-Serif\" font-size=\"14.00\" fill=\"#000000\">gini = 0.5</text>\n<text text-anchor=\"start\" x=\"613\" y=\"-943.8\" font-family=\"Helvetica,sans-Serif\" font-size=\"14.00\" fill=\"#000000\">samples = 795</text>\n<text text-anchor=\"start\" x=\"603\" y=\"-928.8\" font-family=\"Helvetica,sans-Serif\" font-size=\"14.00\" fill=\"#000000\">value = [404, 391]</text>\n</g>\n<!-- 1 -->\n<g id=\"node2\" class=\"node\">\n<title>1</title>\n<path fill=\"#e88e4d\" stroke=\"#000000\" d=\"M641,-885C641,-885 539,-885 539,-885 533,-885 527,-879 527,-873 527,-873 527,-829 527,-829 527,-823 533,-817 539,-817 539,-817 641,-817 641,-817 647,-817 653,-823 653,-829 653,-829 653,-873 653,-873 653,-879 647,-885 641,-885\"/>\n<text text-anchor=\"start\" x=\"535\" y=\"-869.8\" font-family=\"Helvetica,sans-Serif\" font-size=\"14.00\" fill=\"#000000\">MAP3K4 ≤ 2.984</text>\n<text text-anchor=\"start\" x=\"552\" y=\"-854.8\" font-family=\"Helvetica,sans-Serif\" font-size=\"14.00\" fill=\"#000000\">gini = 0.167</text>\n<text text-anchor=\"start\" x=\"542\" y=\"-839.8\" font-family=\"Helvetica,sans-Serif\" font-size=\"14.00\" fill=\"#000000\">samples = 434</text>\n<text text-anchor=\"start\" x=\"536\" y=\"-824.8\" font-family=\"Helvetica,sans-Serif\" font-size=\"14.00\" fill=\"#000000\">value = [394, 40]</text>\n</g>\n<!-- 0&#45;&gt;1 -->\n<g id=\"edge1\" class=\"edge\">\n<title>0&#45;&gt;1</title>\n<path fill=\"none\" stroke=\"#000000\" d=\"M637.7519,-920.9465C631.745,-912.1475 625.2045,-902.5672 618.9457,-893.3993\"/>\n<polygon fill=\"#000000\" stroke=\"#000000\" points=\"621.8293,-891.4155 613.3003,-885.13 616.048,-895.3623 621.8293,-891.4155\"/>\n<text text-anchor=\"middle\" x=\"608.6676\" y=\"-905.997\" font-family=\"Helvetica,sans-Serif\" font-size=\"14.00\" fill=\"#000000\">True</text>\n</g>\n<!-- 32 -->\n<g id=\"node33\" class=\"node\">\n<title>32</title>\n<path fill=\"#3fa0e6\" stroke=\"#000000\" d=\"M783,-885C783,-885 683,-885 683,-885 677,-885 671,-879 671,-873 671,-873 671,-829 671,-829 671,-823 677,-817 683,-817 683,-817 783,-817 783,-817 789,-817 795,-823 795,-829 795,-829 795,-873 795,-873 795,-879 789,-885 783,-885\"/>\n<text text-anchor=\"start\" x=\"694\" y=\"-869.8\" font-family=\"Helvetica,sans-Serif\" font-size=\"14.00\" fill=\"#000000\">TTL ≤ 2.743</text>\n<text text-anchor=\"start\" x=\"695\" y=\"-854.8\" font-family=\"Helvetica,sans-Serif\" font-size=\"14.00\" fill=\"#000000\">gini = 0.054</text>\n<text text-anchor=\"start\" x=\"685\" y=\"-839.8\" font-family=\"Helvetica,sans-Serif\" font-size=\"14.00\" fill=\"#000000\">samples = 361</text>\n<text text-anchor=\"start\" x=\"679\" y=\"-824.8\" font-family=\"Helvetica,sans-Serif\" font-size=\"14.00\" fill=\"#000000\">value = [10, 351]</text>\n</g>\n<!-- 0&#45;&gt;32 -->\n<g id=\"edge32\" class=\"edge\">\n<title>0&#45;&gt;32</title>\n<path fill=\"none\" stroke=\"#000000\" d=\"M684.5755,-920.9465C690.6671,-912.1475 697.2996,-902.5672 703.6466,-893.3993\"/>\n<polygon fill=\"#000000\" stroke=\"#000000\" points=\"706.5571,-895.3442 709.3715,-885.13 700.8017,-891.3597 706.5571,-895.3442\"/>\n<text text-anchor=\"middle\" x=\"713.8437\" y=\"-906.0267\" font-family=\"Helvetica,sans-Serif\" font-size=\"14.00\" fill=\"#000000\">False</text>\n</g>\n<!-- 2 -->\n<g id=\"node3\" class=\"node\">\n<title>2</title>\n<path fill=\"#e78b49\" stroke=\"#000000\" d=\"M517,-781C517,-781 417,-781 417,-781 411,-781 405,-775 405,-769 405,-769 405,-725 405,-725 405,-719 411,-713 417,-713 417,-713 517,-713 517,-713 523,-713 529,-719 529,-725 529,-725 529,-769 529,-769 529,-775 523,-781 517,-781\"/>\n<text text-anchor=\"start\" x=\"424.5\" y=\"-765.8\" font-family=\"Helvetica,sans-Serif\" font-size=\"14.00\" fill=\"#000000\">MUC1 ≤ 3.39</text>\n<text text-anchor=\"start\" x=\"429\" y=\"-750.8\" font-family=\"Helvetica,sans-Serif\" font-size=\"14.00\" fill=\"#000000\">gini = 0.139</text>\n<text text-anchor=\"start\" x=\"419\" y=\"-735.8\" font-family=\"Helvetica,sans-Serif\" font-size=\"14.00\" fill=\"#000000\">samples = 426</text>\n<text text-anchor=\"start\" x=\"413\" y=\"-720.8\" font-family=\"Helvetica,sans-Serif\" font-size=\"14.00\" fill=\"#000000\">value = [394, 32]</text>\n</g>\n<!-- 1&#45;&gt;2 -->\n<g id=\"edge2\" class=\"edge\">\n<title>1&#45;&gt;2</title>\n<path fill=\"none\" stroke=\"#000000\" d=\"M549.7252,-816.9465C538.6816,-807.6088 526.5972,-797.3911 515.1596,-787.7203\"/>\n<polygon fill=\"#000000\" stroke=\"#000000\" points=\"517.2614,-784.914 507.3653,-781.13 512.7417,-790.2594 517.2614,-784.914\"/>\n</g>\n<!-- 31 -->\n<g id=\"node32\" class=\"node\">\n<title>31</title>\n<path fill=\"#399de5\" stroke=\"#000000\" d=\"M634.5,-773.5C634.5,-773.5 559.5,-773.5 559.5,-773.5 553.5,-773.5 547.5,-767.5 547.5,-761.5 547.5,-761.5 547.5,-732.5 547.5,-732.5 547.5,-726.5 553.5,-720.5 559.5,-720.5 559.5,-720.5 634.5,-720.5 634.5,-720.5 640.5,-720.5 646.5,-726.5 646.5,-732.5 646.5,-732.5 646.5,-761.5 646.5,-761.5 646.5,-767.5 640.5,-773.5 634.5,-773.5\"/>\n<text text-anchor=\"start\" x=\"567.5\" y=\"-758.3\" font-family=\"Helvetica,sans-Serif\" font-size=\"14.00\" fill=\"#000000\">gini = 0.0</text>\n<text text-anchor=\"start\" x=\"557.5\" y=\"-743.3\" font-family=\"Helvetica,sans-Serif\" font-size=\"14.00\" fill=\"#000000\">samples = 8</text>\n<text text-anchor=\"start\" x=\"555.5\" y=\"-728.3\" font-family=\"Helvetica,sans-Serif\" font-size=\"14.00\" fill=\"#000000\">value = [0, 8]</text>\n</g>\n<!-- 1&#45;&gt;31 -->\n<g id=\"edge31\" class=\"edge\">\n<title>1&#45;&gt;31</title>\n<path fill=\"none\" stroke=\"#000000\" d=\"M592.2921,-816.9465C593.0112,-806.2621 593.8079,-794.4254 594.5383,-783.5742\"/>\n<polygon fill=\"#000000\" stroke=\"#000000\" points=\"598.034,-783.7547 595.2135,-773.5422 591.0498,-783.2845 598.034,-783.7547\"/>\n</g>\n<!-- 3 -->\n<g id=\"node4\" class=\"node\">\n<title>3</title>\n<path fill=\"#fcefe6\" stroke=\"#000000\" d=\"M453,-677C453,-677 361,-677 361,-677 355,-677 349,-671 349,-665 349,-665 349,-621 349,-621 349,-615 355,-609 361,-609 361,-609 453,-609 453,-609 459,-609 465,-615 465,-621 465,-621 465,-665 465,-665 465,-671 459,-677 453,-677\"/>\n<text text-anchor=\"start\" x=\"360\" y=\"-661.8\" font-family=\"Helvetica,sans-Serif\" font-size=\"14.00\" fill=\"#000000\">LRIG3 ≤ 2.711</text>\n<text text-anchor=\"start\" x=\"369\" y=\"-646.8\" font-family=\"Helvetica,sans-Serif\" font-size=\"14.00\" fill=\"#000000\">gini = 0.498</text>\n<text text-anchor=\"start\" x=\"363\" y=\"-631.8\" font-family=\"Helvetica,sans-Serif\" font-size=\"14.00\" fill=\"#000000\">samples = 30</text>\n<text text-anchor=\"start\" x=\"357\" y=\"-616.8\" font-family=\"Helvetica,sans-Serif\" font-size=\"14.00\" fill=\"#000000\">value = [16, 14]</text>\n</g>\n<!-- 2&#45;&gt;3 -->\n<g id=\"edge3\" class=\"edge\">\n<title>2&#45;&gt;3</title>\n<path fill=\"none\" stroke=\"#000000\" d=\"M447.3538,-712.9465C442.381,-704.3271 436.9757,-694.9579 431.7852,-685.9611\"/>\n<polygon fill=\"#000000\" stroke=\"#000000\" points=\"434.7193,-684.0428 426.6904,-677.13 428.656,-687.5409 434.7193,-684.0428\"/>\n</g>\n<!-- 10 -->\n<g id=\"node11\" class=\"node\">\n<title>10</title>\n<path fill=\"#e68742\" stroke=\"#000000\" d=\"M595,-677C595,-677 495,-677 495,-677 489,-677 483,-671 483,-665 483,-665 483,-621 483,-621 483,-615 489,-609 495,-609 495,-609 595,-609 595,-609 601,-609 607,-615 607,-621 607,-621 607,-665 607,-665 607,-671 601,-677 595,-677\"/>\n<text text-anchor=\"start\" x=\"500\" y=\"-661.8\" font-family=\"Helvetica,sans-Serif\" font-size=\"14.00\" fill=\"#000000\">CD70 ≤ 2.467</text>\n<text text-anchor=\"start\" x=\"507\" y=\"-646.8\" font-family=\"Helvetica,sans-Serif\" font-size=\"14.00\" fill=\"#000000\">gini = 0.087</text>\n<text text-anchor=\"start\" x=\"497\" y=\"-631.8\" font-family=\"Helvetica,sans-Serif\" font-size=\"14.00\" fill=\"#000000\">samples = 396</text>\n<text text-anchor=\"start\" x=\"491\" y=\"-616.8\" font-family=\"Helvetica,sans-Serif\" font-size=\"14.00\" fill=\"#000000\">value = [378, 18]</text>\n</g>\n<!-- 2&#45;&gt;10 -->\n<g id=\"edge10\" class=\"edge\">\n<title>2&#45;&gt;10</title>\n<path fill=\"none\" stroke=\"#000000\" d=\"M492.5401,-712.9465C499.1393,-704.1475 506.3246,-694.5672 513.2005,-685.3993\"/>\n<polygon fill=\"#000000\" stroke=\"#000000\" points=\"516.2025,-687.23 519.4025,-677.13 510.6025,-683.03 516.2025,-687.23\"/>\n</g>\n<!-- 4 -->\n<g id=\"node5\" class=\"node\">\n<title>4</title>\n<path fill=\"#8ec7f0\" stroke=\"#000000\" d=\"M325,-573C325,-573 203,-573 203,-573 197,-573 191,-567 191,-561 191,-561 191,-517 191,-517 191,-511 197,-505 203,-505 203,-505 325,-505 325,-505 331,-505 337,-511 337,-517 337,-517 337,-561 337,-561 337,-567 331,-573 325,-573\"/>\n<text text-anchor=\"start\" x=\"199\" y=\"-557.8\" font-family=\"Helvetica,sans-Serif\" font-size=\"14.00\" fill=\"#000000\">RASGEF1A ≤ 1.759</text>\n<text text-anchor=\"start\" x=\"230.5\" y=\"-542.8\" font-family=\"Helvetica,sans-Serif\" font-size=\"14.00\" fill=\"#000000\">gini = 0.42</text>\n<text text-anchor=\"start\" x=\"220\" y=\"-527.8\" font-family=\"Helvetica,sans-Serif\" font-size=\"14.00\" fill=\"#000000\">samples = 20</text>\n<text text-anchor=\"start\" x=\"218.5\" y=\"-512.8\" font-family=\"Helvetica,sans-Serif\" font-size=\"14.00\" fill=\"#000000\">value = [6, 14]</text>\n</g>\n<!-- 3&#45;&gt;4 -->\n<g id=\"edge4\" class=\"edge\">\n<title>3&#45;&gt;4</title>\n<path fill=\"none\" stroke=\"#000000\" d=\"M360.1765,-608.9465C347.0902,-599.4293 332.747,-588.9978 319.2241,-579.163\"/>\n<polygon fill=\"#000000\" stroke=\"#000000\" points=\"321.0747,-576.1812 310.9287,-573.13 316.9575,-581.8423 321.0747,-576.1812\"/>\n</g>\n<!-- 9 -->\n<g id=\"node10\" class=\"node\">\n<title>9</title>\n<path fill=\"#e58139\" stroke=\"#000000\" d=\"M450.5,-565.5C450.5,-565.5 367.5,-565.5 367.5,-565.5 361.5,-565.5 355.5,-559.5 355.5,-553.5 355.5,-553.5 355.5,-524.5 355.5,-524.5 355.5,-518.5 361.5,-512.5 367.5,-512.5 367.5,-512.5 450.5,-512.5 450.5,-512.5 456.5,-512.5 462.5,-518.5 462.5,-524.5 462.5,-524.5 462.5,-553.5 462.5,-553.5 462.5,-559.5 456.5,-565.5 450.5,-565.5\"/>\n<text text-anchor=\"start\" x=\"379.5\" y=\"-550.3\" font-family=\"Helvetica,sans-Serif\" font-size=\"14.00\" fill=\"#000000\">gini = 0.0</text>\n<text text-anchor=\"start\" x=\"365\" y=\"-535.3\" font-family=\"Helvetica,sans-Serif\" font-size=\"14.00\" fill=\"#000000\">samples = 10</text>\n<text text-anchor=\"start\" x=\"363.5\" y=\"-520.3\" font-family=\"Helvetica,sans-Serif\" font-size=\"14.00\" fill=\"#000000\">value = [10, 0]</text>\n</g>\n<!-- 3&#45;&gt;9 -->\n<g id=\"edge9\" class=\"edge\">\n<title>3&#45;&gt;9</title>\n<path fill=\"none\" stroke=\"#000000\" d=\"M407.6549,-608.9465C407.8603,-598.2621 408.088,-586.4254 408.2966,-575.5742\"/>\n<polygon fill=\"#000000\" stroke=\"#000000\" points=\"411.7966,-575.6076 408.4896,-565.5422 404.7979,-575.473 411.7966,-575.6076\"/>\n</g>\n<!-- 5 -->\n<g id=\"node6\" class=\"node\">\n<title>5</title>\n<path fill=\"#e58139\" stroke=\"#000000\" d=\"M176.5,-461.5C176.5,-461.5 101.5,-461.5 101.5,-461.5 95.5,-461.5 89.5,-455.5 89.5,-449.5 89.5,-449.5 89.5,-420.5 89.5,-420.5 89.5,-414.5 95.5,-408.5 101.5,-408.5 101.5,-408.5 176.5,-408.5 176.5,-408.5 182.5,-408.5 188.5,-414.5 188.5,-420.5 188.5,-420.5 188.5,-449.5 188.5,-449.5 188.5,-455.5 182.5,-461.5 176.5,-461.5\"/>\n<text text-anchor=\"start\" x=\"109.5\" y=\"-446.3\" font-family=\"Helvetica,sans-Serif\" font-size=\"14.00\" fill=\"#000000\">gini = 0.0</text>\n<text text-anchor=\"start\" x=\"99.5\" y=\"-431.3\" font-family=\"Helvetica,sans-Serif\" font-size=\"14.00\" fill=\"#000000\">samples = 4</text>\n<text text-anchor=\"start\" x=\"97.5\" y=\"-416.3\" font-family=\"Helvetica,sans-Serif\" font-size=\"14.00\" fill=\"#000000\">value = [4, 0]</text>\n</g>\n<!-- 4&#45;&gt;5 -->\n<g id=\"edge5\" class=\"edge\">\n<title>4&#45;&gt;5</title>\n<path fill=\"none\" stroke=\"#000000\" d=\"M223.0703,-504.9465C208.9045,-493.1606 193.0537,-479.9726 178.9662,-468.2519\"/>\n<polygon fill=\"#000000\" stroke=\"#000000\" points=\"180.8275,-465.2474 170.9016,-461.5422 176.3504,-470.6285 180.8275,-465.2474\"/>\n</g>\n<!-- 6 -->\n<g id=\"node7\" class=\"node\">\n<title>6</title>\n<path fill=\"#55abe9\" stroke=\"#000000\" d=\"M311.5,-469C311.5,-469 218.5,-469 218.5,-469 212.5,-469 206.5,-463 206.5,-457 206.5,-457 206.5,-413 206.5,-413 206.5,-407 212.5,-401 218.5,-401 218.5,-401 311.5,-401 311.5,-401 317.5,-401 323.5,-407 323.5,-413 323.5,-413 323.5,-457 323.5,-457 323.5,-463 317.5,-469 311.5,-469\"/>\n<text text-anchor=\"start\" x=\"214.5\" y=\"-453.8\" font-family=\"Helvetica,sans-Serif\" font-size=\"14.00\" fill=\"#000000\">EIF4A2 ≤ 3.641</text>\n<text text-anchor=\"start\" x=\"227\" y=\"-438.8\" font-family=\"Helvetica,sans-Serif\" font-size=\"14.00\" fill=\"#000000\">gini = 0.219</text>\n<text text-anchor=\"start\" x=\"221\" y=\"-423.8\" font-family=\"Helvetica,sans-Serif\" font-size=\"14.00\" fill=\"#000000\">samples = 16</text>\n<text text-anchor=\"start\" x=\"219.5\" y=\"-408.8\" font-family=\"Helvetica,sans-Serif\" font-size=\"14.00\" fill=\"#000000\">value = [2, 14]</text>\n</g>\n<!-- 4&#45;&gt;6 -->\n<g id=\"edge6\" class=\"edge\">\n<title>4&#45;&gt;6</title>\n<path fill=\"none\" stroke=\"#000000\" d=\"M264.3274,-504.9465C264.406,-496.776 264.491,-487.9318 264.5734,-479.3697\"/>\n<polygon fill=\"#000000\" stroke=\"#000000\" points=\"268.0754,-479.1632 264.6718,-469.13 261.0757,-479.0958 268.0754,-479.1632\"/>\n</g>\n<!-- 7 -->\n<g id=\"node8\" class=\"node\">\n<title>7</title>\n<path fill=\"#e58139\" stroke=\"#000000\" d=\"M182.5,-357.5C182.5,-357.5 107.5,-357.5 107.5,-357.5 101.5,-357.5 95.5,-351.5 95.5,-345.5 95.5,-345.5 95.5,-316.5 95.5,-316.5 95.5,-310.5 101.5,-304.5 107.5,-304.5 107.5,-304.5 182.5,-304.5 182.5,-304.5 188.5,-304.5 194.5,-310.5 194.5,-316.5 194.5,-316.5 194.5,-345.5 194.5,-345.5 194.5,-351.5 188.5,-357.5 182.5,-357.5\"/>\n<text text-anchor=\"start\" x=\"115.5\" y=\"-342.3\" font-family=\"Helvetica,sans-Serif\" font-size=\"14.00\" fill=\"#000000\">gini = 0.0</text>\n<text text-anchor=\"start\" x=\"105.5\" y=\"-327.3\" font-family=\"Helvetica,sans-Serif\" font-size=\"14.00\" fill=\"#000000\">samples = 2</text>\n<text text-anchor=\"start\" x=\"103.5\" y=\"-312.3\" font-family=\"Helvetica,sans-Serif\" font-size=\"14.00\" fill=\"#000000\">value = [2, 0]</text>\n</g>\n<!-- 6&#45;&gt;7 -->\n<g id=\"edge7\" class=\"edge\">\n<title>6&#45;&gt;7</title>\n<path fill=\"none\" stroke=\"#000000\" d=\"M225.7075,-400.9465C212.1083,-389.1606 196.8915,-375.9726 183.3676,-364.2519\"/>\n<polygon fill=\"#000000\" stroke=\"#000000\" points=\"185.4748,-361.4466 175.6256,-357.5422 180.8902,-366.7364 185.4748,-361.4466\"/>\n</g>\n<!-- 8 -->\n<g id=\"node9\" class=\"node\">\n<title>8</title>\n<path fill=\"#399de5\" stroke=\"#000000\" d=\"M307.5,-357.5C307.5,-357.5 224.5,-357.5 224.5,-357.5 218.5,-357.5 212.5,-351.5 212.5,-345.5 212.5,-345.5 212.5,-316.5 212.5,-316.5 212.5,-310.5 218.5,-304.5 224.5,-304.5 224.5,-304.5 307.5,-304.5 307.5,-304.5 313.5,-304.5 319.5,-310.5 319.5,-316.5 319.5,-316.5 319.5,-345.5 319.5,-345.5 319.5,-351.5 313.5,-357.5 307.5,-357.5\"/>\n<text text-anchor=\"start\" x=\"236.5\" y=\"-342.3\" font-family=\"Helvetica,sans-Serif\" font-size=\"14.00\" fill=\"#000000\">gini = 0.0</text>\n<text text-anchor=\"start\" x=\"222\" y=\"-327.3\" font-family=\"Helvetica,sans-Serif\" font-size=\"14.00\" fill=\"#000000\">samples = 14</text>\n<text text-anchor=\"start\" x=\"220.5\" y=\"-312.3\" font-family=\"Helvetica,sans-Serif\" font-size=\"14.00\" fill=\"#000000\">value = [0, 14]</text>\n</g>\n<!-- 6&#45;&gt;8 -->\n<g id=\"edge8\" class=\"edge\">\n<title>6&#45;&gt;8</title>\n<path fill=\"none\" stroke=\"#000000\" d=\"M265.3274,-400.9465C265.4302,-390.2621 265.544,-378.4254 265.6483,-367.5742\"/>\n<polygon fill=\"#000000\" stroke=\"#000000\" points=\"269.1484,-367.5754 265.7448,-357.5422 262.1487,-367.508 269.1484,-367.5754\"/>\n</g>\n<!-- 11 -->\n<g id=\"node12\" class=\"node\">\n<title>11</title>\n<path fill=\"#e68641\" stroke=\"#000000\" d=\"M594,-573C594,-573 494,-573 494,-573 488,-573 482,-567 482,-561 482,-561 482,-517 482,-517 482,-511 488,-505 494,-505 494,-505 594,-505 594,-505 600,-505 606,-511 606,-517 606,-517 606,-561 606,-561 606,-567 600,-573 594,-573\"/>\n<text text-anchor=\"start\" x=\"495.5\" y=\"-557.8\" font-family=\"Helvetica,sans-Serif\" font-size=\"14.00\" fill=\"#000000\">TCL1A ≤ 2.318</text>\n<text text-anchor=\"start\" x=\"506\" y=\"-542.8\" font-family=\"Helvetica,sans-Serif\" font-size=\"14.00\" fill=\"#000000\">gini = 0.073</text>\n<text text-anchor=\"start\" x=\"496\" y=\"-527.8\" font-family=\"Helvetica,sans-Serif\" font-size=\"14.00\" fill=\"#000000\">samples = 393</text>\n<text text-anchor=\"start\" x=\"490\" y=\"-512.8\" font-family=\"Helvetica,sans-Serif\" font-size=\"14.00\" fill=\"#000000\">value = [378, 15]</text>\n</g>\n<!-- 10&#45;&gt;11 -->\n<g id=\"edge11\" class=\"edge\">\n<title>10&#45;&gt;11</title>\n<path fill=\"none\" stroke=\"#000000\" d=\"M544.6726,-608.9465C544.594,-600.776 544.509,-591.9318 544.4266,-583.3697\"/>\n<polygon fill=\"#000000\" stroke=\"#000000\" points=\"547.9243,-583.0958 544.3282,-573.13 540.9246,-583.1632 547.9243,-583.0958\"/>\n</g>\n<!-- 30 -->\n<g id=\"node31\" class=\"node\">\n<title>30</title>\n<path fill=\"#399de5\" stroke=\"#000000\" d=\"M711.5,-565.5C711.5,-565.5 636.5,-565.5 636.5,-565.5 630.5,-565.5 624.5,-559.5 624.5,-553.5 624.5,-553.5 624.5,-524.5 624.5,-524.5 624.5,-518.5 630.5,-512.5 636.5,-512.5 636.5,-512.5 711.5,-512.5 711.5,-512.5 717.5,-512.5 723.5,-518.5 723.5,-524.5 723.5,-524.5 723.5,-553.5 723.5,-553.5 723.5,-559.5 717.5,-565.5 711.5,-565.5\"/>\n<text text-anchor=\"start\" x=\"644.5\" y=\"-550.3\" font-family=\"Helvetica,sans-Serif\" font-size=\"14.00\" fill=\"#000000\">gini = 0.0</text>\n<text text-anchor=\"start\" x=\"634.5\" y=\"-535.3\" font-family=\"Helvetica,sans-Serif\" font-size=\"14.00\" fill=\"#000000\">samples = 3</text>\n<text text-anchor=\"start\" x=\"632.5\" y=\"-520.3\" font-family=\"Helvetica,sans-Serif\" font-size=\"14.00\" fill=\"#000000\">value = [0, 3]</text>\n</g>\n<!-- 10&#45;&gt;30 -->\n<g id=\"edge30\" class=\"edge\">\n<title>10&#45;&gt;30</title>\n<path fill=\"none\" stroke=\"#000000\" d=\"M587.2394,-608.9465C601.9952,-597.0504 618.5225,-583.726 633.162,-571.9237\"/>\n<polygon fill=\"#000000\" stroke=\"#000000\" points=\"635.4891,-574.5433 641.0775,-565.5422 631.0957,-569.0938 635.4891,-574.5433\"/>\n</g>\n<!-- 12 -->\n<g id=\"node13\" class=\"node\">\n<title>12</title>\n<path fill=\"#e6853f\" stroke=\"#000000\" d=\"M589,-469C589,-469 489,-469 489,-469 483,-469 477,-463 477,-457 477,-457 477,-413 477,-413 477,-407 483,-401 489,-401 489,-401 589,-401 589,-401 595,-401 601,-407 601,-413 601,-413 601,-457 601,-457 601,-463 595,-469 589,-469\"/>\n<text text-anchor=\"start\" x=\"501\" y=\"-453.8\" font-family=\"Helvetica,sans-Serif\" font-size=\"14.00\" fill=\"#000000\">IRF1 ≤ 3.62</text>\n<text text-anchor=\"start\" x=\"505.5\" y=\"-438.8\" font-family=\"Helvetica,sans-Serif\" font-size=\"14.00\" fill=\"#000000\">gini = 0.06</text>\n<text text-anchor=\"start\" x=\"491\" y=\"-423.8\" font-family=\"Helvetica,sans-Serif\" font-size=\"14.00\" fill=\"#000000\">samples = 389</text>\n<text text-anchor=\"start\" x=\"485\" y=\"-408.8\" font-family=\"Helvetica,sans-Serif\" font-size=\"14.00\" fill=\"#000000\">value = [377, 12]</text>\n</g>\n<!-- 11&#45;&gt;12 -->\n<g id=\"edge12\" class=\"edge\">\n<title>11&#45;&gt;12</title>\n<path fill=\"none\" stroke=\"#000000\" d=\"M542.3628,-504.9465C541.97,-496.776 541.5448,-487.9318 541.1332,-479.3697\"/>\n<polygon fill=\"#000000\" stroke=\"#000000\" points=\"544.6171,-478.9504 540.6409,-469.13 537.6252,-479.2866 544.6171,-478.9504\"/>\n</g>\n<!-- 27 -->\n<g id=\"node28\" class=\"node\">\n<title>27</title>\n<path fill=\"#7bbeee\" stroke=\"#000000\" d=\"M711,-469C711,-469 631,-469 631,-469 625,-469 619,-463 619,-457 619,-457 619,-413 619,-413 619,-407 625,-401 631,-401 631,-401 711,-401 711,-401 717,-401 723,-407 723,-413 723,-413 723,-457 723,-457 723,-463 717,-469 711,-469\"/>\n<text text-anchor=\"start\" x=\"627\" y=\"-453.8\" font-family=\"Helvetica,sans-Serif\" font-size=\"14.00\" fill=\"#000000\">TET1 ≤ 1.502</text>\n<text text-anchor=\"start\" x=\"633\" y=\"-438.8\" font-family=\"Helvetica,sans-Serif\" font-size=\"14.00\" fill=\"#000000\">gini = 0.375</text>\n<text text-anchor=\"start\" x=\"631.5\" y=\"-423.8\" font-family=\"Helvetica,sans-Serif\" font-size=\"14.00\" fill=\"#000000\">samples = 4</text>\n<text text-anchor=\"start\" x=\"629.5\" y=\"-408.8\" font-family=\"Helvetica,sans-Serif\" font-size=\"14.00\" fill=\"#000000\">value = [1, 3]</text>\n</g>\n<!-- 11&#45;&gt;27 -->\n<g id=\"edge27\" class=\"edge\">\n<title>11&#45;&gt;27</title>\n<path fill=\"none\" stroke=\"#000000\" d=\"M585.5845,-504.9465C596.9873,-495.6088 609.4647,-485.3911 621.2743,-475.7203\"/>\n<polygon fill=\"#000000\" stroke=\"#000000\" points=\"623.8026,-478.1736 629.322,-469.13 619.3676,-472.7578 623.8026,-478.1736\"/>\n</g>\n<!-- 13 -->\n<g id=\"node14\" class=\"node\">\n<title>13</title>\n<path fill=\"#e5833c\" stroke=\"#000000\" d=\"M453,-365C453,-365 361,-365 361,-365 355,-365 349,-359 349,-353 349,-353 349,-309 349,-309 349,-303 355,-297 361,-297 361,-297 453,-297 453,-297 459,-297 465,-303 465,-309 465,-309 465,-353 465,-353 465,-359 459,-365 453,-365\"/>\n<text text-anchor=\"start\" x=\"360.5\" y=\"-349.8\" font-family=\"Helvetica,sans-Serif\" font-size=\"14.00\" fill=\"#000000\">HIF1A ≤ 4.046</text>\n<text text-anchor=\"start\" x=\"369\" y=\"-334.8\" font-family=\"Helvetica,sans-Serif\" font-size=\"14.00\" fill=\"#000000\">gini = 0.028</text>\n<text text-anchor=\"start\" x=\"359\" y=\"-319.8\" font-family=\"Helvetica,sans-Serif\" font-size=\"14.00\" fill=\"#000000\">samples = 358</text>\n<text text-anchor=\"start\" x=\"357\" y=\"-304.8\" font-family=\"Helvetica,sans-Serif\" font-size=\"14.00\" fill=\"#000000\">value = [353, 5]</text>\n</g>\n<!-- 12&#45;&gt;13 -->\n<g id=\"edge13\" class=\"edge\">\n<title>12&#45;&gt;13</title>\n<path fill=\"none\" stroke=\"#000000\" d=\"M495.7783,-400.9465C483.8126,-391.519 470.7085,-381.1946 458.3296,-371.4415\"/>\n<polygon fill=\"#000000\" stroke=\"#000000\" points=\"460.3398,-368.5695 450.3188,-365.13 456.0077,-374.068 460.3398,-368.5695\"/>\n</g>\n<!-- 20 -->\n<g id=\"node21\" class=\"node\">\n<title>20</title>\n<path fill=\"#eda673\" stroke=\"#000000\" d=\"M586,-365C586,-365 500,-365 500,-365 494,-365 488,-359 488,-353 488,-353 488,-309 488,-309 488,-303 494,-297 500,-297 500,-297 586,-297 586,-297 592,-297 598,-303 598,-309 598,-309 598,-353 598,-353 598,-359 592,-365 586,-365\"/>\n<text text-anchor=\"start\" x=\"496\" y=\"-349.8\" font-family=\"Helvetica,sans-Serif\" font-size=\"14.00\" fill=\"#000000\">ESCO1 ≤ 2.62</text>\n<text text-anchor=\"start\" x=\"509.5\" y=\"-334.8\" font-family=\"Helvetica,sans-Serif\" font-size=\"14.00\" fill=\"#000000\">gini = 0.35</text>\n<text text-anchor=\"start\" x=\"499\" y=\"-319.8\" font-family=\"Helvetica,sans-Serif\" font-size=\"14.00\" fill=\"#000000\">samples = 31</text>\n<text text-anchor=\"start\" x=\"497.5\" y=\"-304.8\" font-family=\"Helvetica,sans-Serif\" font-size=\"14.00\" fill=\"#000000\">value = [24, 7]</text>\n</g>\n<!-- 12&#45;&gt;20 -->\n<g id=\"edge20\" class=\"edge\">\n<title>12&#45;&gt;20</title>\n<path fill=\"none\" stroke=\"#000000\" d=\"M540.3097,-400.9465C540.624,-392.776 540.9642,-383.9318 541.2935,-375.3697\"/>\n<polygon fill=\"#000000\" stroke=\"#000000\" points=\"544.8003,-375.2572 541.6873,-365.13 537.8055,-374.9881 544.8003,-375.2572\"/>\n</g>\n<!-- 14 -->\n<g id=\"node15\" class=\"node\">\n<title>14</title>\n<path fill=\"#e5813a\" stroke=\"#000000\" d=\"M230,-261C230,-261 138,-261 138,-261 132,-261 126,-255 126,-249 126,-249 126,-205 126,-205 126,-199 132,-193 138,-193 138,-193 230,-193 230,-193 236,-193 242,-199 242,-205 242,-205 242,-249 242,-249 242,-255 236,-261 230,-261\"/>\n<text text-anchor=\"start\" x=\"141\" y=\"-245.8\" font-family=\"Helvetica,sans-Serif\" font-size=\"14.00\" fill=\"#000000\">FLT3 ≤ 2.198</text>\n<text text-anchor=\"start\" x=\"146\" y=\"-230.8\" font-family=\"Helvetica,sans-Serif\" font-size=\"14.00\" fill=\"#000000\">gini = 0.006</text>\n<text text-anchor=\"start\" x=\"136\" y=\"-215.8\" font-family=\"Helvetica,sans-Serif\" font-size=\"14.00\" fill=\"#000000\">samples = 343</text>\n<text text-anchor=\"start\" x=\"134\" y=\"-200.8\" font-family=\"Helvetica,sans-Serif\" font-size=\"14.00\" fill=\"#000000\">value = [342, 1]</text>\n</g>\n<!-- 13&#45;&gt;14 -->\n<g id=\"edge14\" class=\"edge\">\n<title>13&#45;&gt;14</title>\n<path fill=\"none\" stroke=\"#000000\" d=\"M348.9915,-303.9467C319.1687,-290.0383 282.655,-273.0095 251.5658,-258.5105\"/>\n<polygon fill=\"#000000\" stroke=\"#000000\" points=\"252.6472,-255.153 242.105,-254.0983 249.6886,-261.497 252.6472,-255.153\"/>\n</g>\n<!-- 17 -->\n<g id=\"node18\" class=\"node\">\n<title>17</title>\n<path fill=\"#eeaf81\" stroke=\"#000000\" d=\"M449,-261C449,-261 365,-261 365,-261 359,-261 353,-255 353,-249 353,-249 353,-205 353,-205 353,-199 359,-193 365,-193 365,-193 449,-193 449,-193 455,-193 461,-199 461,-205 461,-205 461,-249 461,-249 461,-255 455,-261 449,-261\"/>\n<text text-anchor=\"start\" x=\"361\" y=\"-245.8\" font-family=\"Helvetica,sans-Serif\" font-size=\"14.00\" fill=\"#000000\">NEFH ≤ 1.471</text>\n<text text-anchor=\"start\" x=\"369\" y=\"-230.8\" font-family=\"Helvetica,sans-Serif\" font-size=\"14.00\" fill=\"#000000\">gini = 0.391</text>\n<text text-anchor=\"start\" x=\"363\" y=\"-215.8\" font-family=\"Helvetica,sans-Serif\" font-size=\"14.00\" fill=\"#000000\">samples = 15</text>\n<text text-anchor=\"start\" x=\"361.5\" y=\"-200.8\" font-family=\"Helvetica,sans-Serif\" font-size=\"14.00\" fill=\"#000000\">value = [11, 4]</text>\n</g>\n<!-- 13&#45;&gt;17 -->\n<g id=\"edge17\" class=\"edge\">\n<title>13&#45;&gt;17</title>\n<path fill=\"none\" stroke=\"#000000\" d=\"M407,-296.9465C407,-288.776 407,-279.9318 407,-271.3697\"/>\n<polygon fill=\"#000000\" stroke=\"#000000\" points=\"410.5001,-271.13 407,-261.13 403.5001,-271.13 410.5001,-271.13\"/>\n</g>\n<!-- 15 -->\n<g id=\"node16\" class=\"node\">\n<title>15</title>\n<path fill=\"#e58139\" stroke=\"#000000\" d=\"M104,-149.5C104,-149.5 12,-149.5 12,-149.5 6,-149.5 0,-143.5 0,-137.5 0,-137.5 0,-108.5 0,-108.5 0,-102.5 6,-96.5 12,-96.5 12,-96.5 104,-96.5 104,-96.5 110,-96.5 116,-102.5 116,-108.5 116,-108.5 116,-137.5 116,-137.5 116,-143.5 110,-149.5 104,-149.5\"/>\n<text text-anchor=\"start\" x=\"28.5\" y=\"-134.3\" font-family=\"Helvetica,sans-Serif\" font-size=\"14.00\" fill=\"#000000\">gini = 0.0</text>\n<text text-anchor=\"start\" x=\"10\" y=\"-119.3\" font-family=\"Helvetica,sans-Serif\" font-size=\"14.00\" fill=\"#000000\">samples = 342</text>\n<text text-anchor=\"start\" x=\"8\" y=\"-104.3\" font-family=\"Helvetica,sans-Serif\" font-size=\"14.00\" fill=\"#000000\">value = [342, 0]</text>\n</g>\n<!-- 14&#45;&gt;15 -->\n<g id=\"edge15\" class=\"edge\">\n<title>14&#45;&gt;15</title>\n<path fill=\"none\" stroke=\"#000000\" d=\"M142.7429,-192.9465C128.3303,-181.0504 112.1873,-167.726 97.8883,-155.9237\"/>\n<polygon fill=\"#000000\" stroke=\"#000000\" points=\"100.0971,-153.2086 90.1569,-149.5422 95.6411,-158.6071 100.0971,-153.2086\"/>\n</g>\n<!-- 16 -->\n<g id=\"node17\" class=\"node\">\n<title>16</title>\n<path fill=\"#399de5\" stroke=\"#000000\" d=\"M221.5,-149.5C221.5,-149.5 146.5,-149.5 146.5,-149.5 140.5,-149.5 134.5,-143.5 134.5,-137.5 134.5,-137.5 134.5,-108.5 134.5,-108.5 134.5,-102.5 140.5,-96.5 146.5,-96.5 146.5,-96.5 221.5,-96.5 221.5,-96.5 227.5,-96.5 233.5,-102.5 233.5,-108.5 233.5,-108.5 233.5,-137.5 233.5,-137.5 233.5,-143.5 227.5,-149.5 221.5,-149.5\"/>\n<text text-anchor=\"start\" x=\"154.5\" y=\"-134.3\" font-family=\"Helvetica,sans-Serif\" font-size=\"14.00\" fill=\"#000000\">gini = 0.0</text>\n<text text-anchor=\"start\" x=\"144.5\" y=\"-119.3\" font-family=\"Helvetica,sans-Serif\" font-size=\"14.00\" fill=\"#000000\">samples = 1</text>\n<text text-anchor=\"start\" x=\"142.5\" y=\"-104.3\" font-family=\"Helvetica,sans-Serif\" font-size=\"14.00\" fill=\"#000000\">value = [0, 1]</text>\n</g>\n<!-- 14&#45;&gt;16 -->\n<g id=\"edge16\" class=\"edge\">\n<title>14&#45;&gt;16</title>\n<path fill=\"none\" stroke=\"#000000\" d=\"M184,-192.9465C184,-182.2621 184,-170.4254 184,-159.5742\"/>\n<polygon fill=\"#000000\" stroke=\"#000000\" points=\"187.5001,-159.5421 184,-149.5422 180.5001,-159.5422 187.5001,-159.5421\"/>\n</g>\n<!-- 18 -->\n<g id=\"node19\" class=\"node\">\n<title>18</title>\n<path fill=\"#e58139\" stroke=\"#000000\" d=\"M346.5,-149.5C346.5,-149.5 263.5,-149.5 263.5,-149.5 257.5,-149.5 251.5,-143.5 251.5,-137.5 251.5,-137.5 251.5,-108.5 251.5,-108.5 251.5,-102.5 257.5,-96.5 263.5,-96.5 263.5,-96.5 346.5,-96.5 346.5,-96.5 352.5,-96.5 358.5,-102.5 358.5,-108.5 358.5,-108.5 358.5,-137.5 358.5,-137.5 358.5,-143.5 352.5,-149.5 346.5,-149.5\"/>\n<text text-anchor=\"start\" x=\"275.5\" y=\"-134.3\" font-family=\"Helvetica,sans-Serif\" font-size=\"14.00\" fill=\"#000000\">gini = 0.0</text>\n<text text-anchor=\"start\" x=\"261\" y=\"-119.3\" font-family=\"Helvetica,sans-Serif\" font-size=\"14.00\" fill=\"#000000\">samples = 11</text>\n<text text-anchor=\"start\" x=\"259.5\" y=\"-104.3\" font-family=\"Helvetica,sans-Serif\" font-size=\"14.00\" fill=\"#000000\">value = [11, 0]</text>\n</g>\n<!-- 17&#45;&gt;18 -->\n<g id=\"edge18\" class=\"edge\">\n<title>17&#45;&gt;18</title>\n<path fill=\"none\" stroke=\"#000000\" d=\"M373.6014,-192.9465C362.2582,-181.3809 349.5908,-168.4652 338.2585,-156.9107\"/>\n<polygon fill=\"#000000\" stroke=\"#000000\" points=\"340.5326,-154.2308 331.0317,-149.5422 335.5351,-159.1323 340.5326,-154.2308\"/>\n</g>\n<!-- 19 -->\n<g id=\"node20\" class=\"node\">\n<title>19</title>\n<path fill=\"#399de5\" stroke=\"#000000\" d=\"M463.5,-149.5C463.5,-149.5 388.5,-149.5 388.5,-149.5 382.5,-149.5 376.5,-143.5 376.5,-137.5 376.5,-137.5 376.5,-108.5 376.5,-108.5 376.5,-102.5 382.5,-96.5 388.5,-96.5 388.5,-96.5 463.5,-96.5 463.5,-96.5 469.5,-96.5 475.5,-102.5 475.5,-108.5 475.5,-108.5 475.5,-137.5 475.5,-137.5 475.5,-143.5 469.5,-149.5 463.5,-149.5\"/>\n<text text-anchor=\"start\" x=\"396.5\" y=\"-134.3\" font-family=\"Helvetica,sans-Serif\" font-size=\"14.00\" fill=\"#000000\">gini = 0.0</text>\n<text text-anchor=\"start\" x=\"386.5\" y=\"-119.3\" font-family=\"Helvetica,sans-Serif\" font-size=\"14.00\" fill=\"#000000\">samples = 4</text>\n<text text-anchor=\"start\" x=\"384.5\" y=\"-104.3\" font-family=\"Helvetica,sans-Serif\" font-size=\"14.00\" fill=\"#000000\">value = [0, 4]</text>\n</g>\n<!-- 17&#45;&gt;19 -->\n<g id=\"edge19\" class=\"edge\">\n<title>17&#45;&gt;19</title>\n<path fill=\"none\" stroke=\"#000000\" d=\"M413.2213,-192.9465C415.1733,-182.2621 417.3357,-170.4254 419.3182,-159.5742\"/>\n<polygon fill=\"#000000\" stroke=\"#000000\" points=\"422.7967,-160.0084 421.151,-149.5422 415.9107,-158.7503 422.7967,-160.0084\"/>\n</g>\n<!-- 21 -->\n<g id=\"node22\" class=\"node\">\n<title>21</title>\n<path fill=\"#e3f1fb\" stroke=\"#000000\" d=\"M587.5,-261C587.5,-261 498.5,-261 498.5,-261 492.5,-261 486.5,-255 486.5,-249 486.5,-249 486.5,-205 486.5,-205 486.5,-199 492.5,-193 498.5,-193 498.5,-193 587.5,-193 587.5,-193 593.5,-193 599.5,-199 599.5,-205 599.5,-205 599.5,-249 599.5,-249 599.5,-255 593.5,-261 587.5,-261\"/>\n<text text-anchor=\"start\" x=\"494.5\" y=\"-245.8\" font-family=\"Helvetica,sans-Serif\" font-size=\"14.00\" fill=\"#000000\">BCL10 ≤ 2.816</text>\n<text text-anchor=\"start\" x=\"505\" y=\"-230.8\" font-family=\"Helvetica,sans-Serif\" font-size=\"14.00\" fill=\"#000000\">gini = 0.497</text>\n<text text-anchor=\"start\" x=\"499\" y=\"-215.8\" font-family=\"Helvetica,sans-Serif\" font-size=\"14.00\" fill=\"#000000\">samples = 13</text>\n<text text-anchor=\"start\" x=\"501.5\" y=\"-200.8\" font-family=\"Helvetica,sans-Serif\" font-size=\"14.00\" fill=\"#000000\">value = [6, 7]</text>\n</g>\n<!-- 20&#45;&gt;21 -->\n<g id=\"edge21\" class=\"edge\">\n<title>20&#45;&gt;21</title>\n<path fill=\"none\" stroke=\"#000000\" d=\"M543,-296.9465C543,-288.776 543,-279.9318 543,-271.3697\"/>\n<polygon fill=\"#000000\" stroke=\"#000000\" points=\"546.5001,-271.13 543,-261.13 539.5001,-271.13 546.5001,-271.13\"/>\n</g>\n<!-- 26 -->\n<g id=\"node27\" class=\"node\">\n<title>26</title>\n<path fill=\"#e58139\" stroke=\"#000000\" d=\"M712.5,-253.5C712.5,-253.5 629.5,-253.5 629.5,-253.5 623.5,-253.5 617.5,-247.5 617.5,-241.5 617.5,-241.5 617.5,-212.5 617.5,-212.5 617.5,-206.5 623.5,-200.5 629.5,-200.5 629.5,-200.5 712.5,-200.5 712.5,-200.5 718.5,-200.5 724.5,-206.5 724.5,-212.5 724.5,-212.5 724.5,-241.5 724.5,-241.5 724.5,-247.5 718.5,-253.5 712.5,-253.5\"/>\n<text text-anchor=\"start\" x=\"641.5\" y=\"-238.3\" font-family=\"Helvetica,sans-Serif\" font-size=\"14.00\" fill=\"#000000\">gini = 0.0</text>\n<text text-anchor=\"start\" x=\"627\" y=\"-223.3\" font-family=\"Helvetica,sans-Serif\" font-size=\"14.00\" fill=\"#000000\">samples = 18</text>\n<text text-anchor=\"start\" x=\"625.5\" y=\"-208.3\" font-family=\"Helvetica,sans-Serif\" font-size=\"14.00\" fill=\"#000000\">value = [18, 0]</text>\n</g>\n<!-- 20&#45;&gt;26 -->\n<g id=\"edge26\" class=\"edge\">\n<title>20&#45;&gt;26</title>\n<path fill=\"none\" stroke=\"#000000\" d=\"M584.912,-296.9465C599.5533,-285.0504 615.9526,-271.726 630.4785,-259.9237\"/>\n<polygon fill=\"#000000\" stroke=\"#000000\" points=\"632.7786,-262.5645 638.3327,-253.5422 628.3645,-257.1317 632.7786,-262.5645\"/>\n</g>\n<!-- 22 -->\n<g id=\"node23\" class=\"node\">\n<title>22</title>\n<path fill=\"#399de5\" stroke=\"#000000\" d=\"M580.5,-149.5C580.5,-149.5 505.5,-149.5 505.5,-149.5 499.5,-149.5 493.5,-143.5 493.5,-137.5 493.5,-137.5 493.5,-108.5 493.5,-108.5 493.5,-102.5 499.5,-96.5 505.5,-96.5 505.5,-96.5 580.5,-96.5 580.5,-96.5 586.5,-96.5 592.5,-102.5 592.5,-108.5 592.5,-108.5 592.5,-137.5 592.5,-137.5 592.5,-143.5 586.5,-149.5 580.5,-149.5\"/>\n<text text-anchor=\"start\" x=\"513.5\" y=\"-134.3\" font-family=\"Helvetica,sans-Serif\" font-size=\"14.00\" fill=\"#000000\">gini = 0.0</text>\n<text text-anchor=\"start\" x=\"503.5\" y=\"-119.3\" font-family=\"Helvetica,sans-Serif\" font-size=\"14.00\" fill=\"#000000\">samples = 6</text>\n<text text-anchor=\"start\" x=\"501.5\" y=\"-104.3\" font-family=\"Helvetica,sans-Serif\" font-size=\"14.00\" fill=\"#000000\">value = [0, 6]</text>\n</g>\n<!-- 21&#45;&gt;22 -->\n<g id=\"edge22\" class=\"edge\">\n<title>21&#45;&gt;22</title>\n<path fill=\"none\" stroke=\"#000000\" d=\"M543,-192.9465C543,-182.2621 543,-170.4254 543,-159.5742\"/>\n<polygon fill=\"#000000\" stroke=\"#000000\" points=\"546.5001,-159.5421 543,-149.5422 539.5001,-159.5422 546.5001,-159.5421\"/>\n</g>\n<!-- 23 -->\n<g id=\"node24\" class=\"node\">\n<title>23</title>\n<path fill=\"#e9965a\" stroke=\"#000000\" d=\"M705.5,-157C705.5,-157 622.5,-157 622.5,-157 616.5,-157 610.5,-151 610.5,-145 610.5,-145 610.5,-101 610.5,-101 610.5,-95 616.5,-89 622.5,-89 622.5,-89 705.5,-89 705.5,-89 711.5,-89 717.5,-95 717.5,-101 717.5,-101 717.5,-145 717.5,-145 717.5,-151 711.5,-157 705.5,-157\"/>\n<text text-anchor=\"start\" x=\"618.5\" y=\"-141.8\" font-family=\"Helvetica,sans-Serif\" font-size=\"14.00\" fill=\"#000000\">SOX4 ≤ 3.417</text>\n<text text-anchor=\"start\" x=\"626\" y=\"-126.8\" font-family=\"Helvetica,sans-Serif\" font-size=\"14.00\" fill=\"#000000\">gini = 0.245</text>\n<text text-anchor=\"start\" x=\"624.5\" y=\"-111.8\" font-family=\"Helvetica,sans-Serif\" font-size=\"14.00\" fill=\"#000000\">samples = 7</text>\n<text text-anchor=\"start\" x=\"622.5\" y=\"-96.8\" font-family=\"Helvetica,sans-Serif\" font-size=\"14.00\" fill=\"#000000\">value = [6, 1]</text>\n</g>\n<!-- 21&#45;&gt;23 -->\n<g id=\"edge23\" class=\"edge\">\n<title>21&#45;&gt;23</title>\n<path fill=\"none\" stroke=\"#000000\" d=\"M582.6199,-192.9465C593.484,-183.6088 605.3718,-173.3911 616.6235,-163.7203\"/>\n<polygon fill=\"#000000\" stroke=\"#000000\" points=\"618.9887,-166.3026 624.2911,-157.13 614.4259,-160.994 618.9887,-166.3026\"/>\n</g>\n<!-- 24 -->\n<g id=\"node25\" class=\"node\">\n<title>24</title>\n<path fill=\"#399de5\" stroke=\"#000000\" d=\"M642.5,-53C642.5,-53 567.5,-53 567.5,-53 561.5,-53 555.5,-47 555.5,-41 555.5,-41 555.5,-12 555.5,-12 555.5,-6 561.5,0 567.5,0 567.5,0 642.5,0 642.5,0 648.5,0 654.5,-6 654.5,-12 654.5,-12 654.5,-41 654.5,-41 654.5,-47 648.5,-53 642.5,-53\"/>\n<text text-anchor=\"start\" x=\"575.5\" y=\"-37.8\" font-family=\"Helvetica,sans-Serif\" font-size=\"14.00\" fill=\"#000000\">gini = 0.0</text>\n<text text-anchor=\"start\" x=\"565.5\" y=\"-22.8\" font-family=\"Helvetica,sans-Serif\" font-size=\"14.00\" fill=\"#000000\">samples = 1</text>\n<text text-anchor=\"start\" x=\"563.5\" y=\"-7.8\" font-family=\"Helvetica,sans-Serif\" font-size=\"14.00\" fill=\"#000000\">value = [0, 1]</text>\n</g>\n<!-- 23&#45;&gt;24 -->\n<g id=\"edge24\" class=\"edge\">\n<title>23&#45;&gt;24</title>\n<path fill=\"none\" stroke=\"#000000\" d=\"M643.1988,-88.9777C637.8242,-80.187 632.0265,-70.7044 626.6115,-61.8477\"/>\n<polygon fill=\"#000000\" stroke=\"#000000\" points=\"629.5564,-59.9545 621.354,-53.2485 623.5842,-63.6059 629.5564,-59.9545\"/>\n</g>\n<!-- 25 -->\n<g id=\"node26\" class=\"node\">\n<title>25</title>\n<path fill=\"#e58139\" stroke=\"#000000\" d=\"M759.5,-53C759.5,-53 684.5,-53 684.5,-53 678.5,-53 672.5,-47 672.5,-41 672.5,-41 672.5,-12 672.5,-12 672.5,-6 678.5,0 684.5,0 684.5,0 759.5,0 759.5,0 765.5,0 771.5,-6 771.5,-12 771.5,-12 771.5,-41 771.5,-41 771.5,-47 765.5,-53 759.5,-53\"/>\n<text text-anchor=\"start\" x=\"692.5\" y=\"-37.8\" font-family=\"Helvetica,sans-Serif\" font-size=\"14.00\" fill=\"#000000\">gini = 0.0</text>\n<text text-anchor=\"start\" x=\"682.5\" y=\"-22.8\" font-family=\"Helvetica,sans-Serif\" font-size=\"14.00\" fill=\"#000000\">samples = 6</text>\n<text text-anchor=\"start\" x=\"680.5\" y=\"-7.8\" font-family=\"Helvetica,sans-Serif\" font-size=\"14.00\" fill=\"#000000\">value = [6, 0]</text>\n</g>\n<!-- 23&#45;&gt;25 -->\n<g id=\"edge25\" class=\"edge\">\n<title>23&#45;&gt;25</title>\n<path fill=\"none\" stroke=\"#000000\" d=\"M684.4486,-88.9777C689.7322,-80.187 695.4316,-70.7044 700.7548,-61.8477\"/>\n<polygon fill=\"#000000\" stroke=\"#000000\" points=\"703.7715,-63.6225 705.9232,-53.2485 697.7718,-60.0165 703.7715,-63.6225\"/>\n</g>\n<!-- 28 -->\n<g id=\"node29\" class=\"node\">\n<title>28</title>\n<path fill=\"#e58139\" stroke=\"#000000\" d=\"M706.5,-357.5C706.5,-357.5 631.5,-357.5 631.5,-357.5 625.5,-357.5 619.5,-351.5 619.5,-345.5 619.5,-345.5 619.5,-316.5 619.5,-316.5 619.5,-310.5 625.5,-304.5 631.5,-304.5 631.5,-304.5 706.5,-304.5 706.5,-304.5 712.5,-304.5 718.5,-310.5 718.5,-316.5 718.5,-316.5 718.5,-345.5 718.5,-345.5 718.5,-351.5 712.5,-357.5 706.5,-357.5\"/>\n<text text-anchor=\"start\" x=\"639.5\" y=\"-342.3\" font-family=\"Helvetica,sans-Serif\" font-size=\"14.00\" fill=\"#000000\">gini = 0.0</text>\n<text text-anchor=\"start\" x=\"629.5\" y=\"-327.3\" font-family=\"Helvetica,sans-Serif\" font-size=\"14.00\" fill=\"#000000\">samples = 1</text>\n<text text-anchor=\"start\" x=\"627.5\" y=\"-312.3\" font-family=\"Helvetica,sans-Serif\" font-size=\"14.00\" fill=\"#000000\">value = [1, 0]</text>\n</g>\n<!-- 27&#45;&gt;28 -->\n<g id=\"edge28\" class=\"edge\">\n<title>27&#45;&gt;28</title>\n<path fill=\"none\" stroke=\"#000000\" d=\"M670.3451,-400.9465C670.1397,-390.2621 669.912,-378.4254 669.7034,-367.5742\"/>\n<polygon fill=\"#000000\" stroke=\"#000000\" points=\"673.2021,-367.473 669.5104,-357.5422 666.2034,-367.6076 673.2021,-367.473\"/>\n</g>\n<!-- 29 -->\n<g id=\"node30\" class=\"node\">\n<title>29</title>\n<path fill=\"#399de5\" stroke=\"#000000\" d=\"M823.5,-357.5C823.5,-357.5 748.5,-357.5 748.5,-357.5 742.5,-357.5 736.5,-351.5 736.5,-345.5 736.5,-345.5 736.5,-316.5 736.5,-316.5 736.5,-310.5 742.5,-304.5 748.5,-304.5 748.5,-304.5 823.5,-304.5 823.5,-304.5 829.5,-304.5 835.5,-310.5 835.5,-316.5 835.5,-316.5 835.5,-345.5 835.5,-345.5 835.5,-351.5 829.5,-357.5 823.5,-357.5\"/>\n<text text-anchor=\"start\" x=\"756.5\" y=\"-342.3\" font-family=\"Helvetica,sans-Serif\" font-size=\"14.00\" fill=\"#000000\">gini = 0.0</text>\n<text text-anchor=\"start\" x=\"746.5\" y=\"-327.3\" font-family=\"Helvetica,sans-Serif\" font-size=\"14.00\" fill=\"#000000\">samples = 3</text>\n<text text-anchor=\"start\" x=\"744.5\" y=\"-312.3\" font-family=\"Helvetica,sans-Serif\" font-size=\"14.00\" fill=\"#000000\">value = [0, 3]</text>\n</g>\n<!-- 27&#45;&gt;29 -->\n<g id=\"edge29\" class=\"edge\">\n<title>27&#45;&gt;29</title>\n<path fill=\"none\" stroke=\"#000000\" d=\"M708.6553,-400.9465C721.6878,-389.1606 736.2706,-375.9726 749.2311,-364.2519\"/>\n<polygon fill=\"#000000\" stroke=\"#000000\" points=\"751.5812,-366.8456 756.6505,-357.5422 746.886,-361.6537 751.5812,-366.8456\"/>\n</g>\n<!-- 33 -->\n<g id=\"node34\" class=\"node\">\n<title>33</title>\n<path fill=\"#e58139\" stroke=\"#000000\" d=\"M764.5,-773.5C764.5,-773.5 689.5,-773.5 689.5,-773.5 683.5,-773.5 677.5,-767.5 677.5,-761.5 677.5,-761.5 677.5,-732.5 677.5,-732.5 677.5,-726.5 683.5,-720.5 689.5,-720.5 689.5,-720.5 764.5,-720.5 764.5,-720.5 770.5,-720.5 776.5,-726.5 776.5,-732.5 776.5,-732.5 776.5,-761.5 776.5,-761.5 776.5,-767.5 770.5,-773.5 764.5,-773.5\"/>\n<text text-anchor=\"start\" x=\"697.5\" y=\"-758.3\" font-family=\"Helvetica,sans-Serif\" font-size=\"14.00\" fill=\"#000000\">gini = 0.0</text>\n<text text-anchor=\"start\" x=\"687.5\" y=\"-743.3\" font-family=\"Helvetica,sans-Serif\" font-size=\"14.00\" fill=\"#000000\">samples = 4</text>\n<text text-anchor=\"start\" x=\"685.5\" y=\"-728.3\" font-family=\"Helvetica,sans-Serif\" font-size=\"14.00\" fill=\"#000000\">value = [4, 0]</text>\n</g>\n<!-- 32&#45;&gt;33 -->\n<g id=\"edge33\" class=\"edge\">\n<title>32&#45;&gt;33</title>\n<path fill=\"none\" stroke=\"#000000\" d=\"M731.0354,-816.9465C730.419,-806.2621 729.7361,-794.4254 729.1101,-783.5742\"/>\n<polygon fill=\"#000000\" stroke=\"#000000\" points=\"732.6015,-783.3239 728.5313,-773.5422 725.6131,-783.7272 732.6015,-783.3239\"/>\n</g>\n<!-- 34 -->\n<g id=\"node35\" class=\"node\">\n<title>34</title>\n<path fill=\"#3c9fe5\" stroke=\"#000000\" d=\"M899.5,-781C899.5,-781 806.5,-781 806.5,-781 800.5,-781 794.5,-775 794.5,-769 794.5,-769 794.5,-725 794.5,-725 794.5,-719 800.5,-713 806.5,-713 806.5,-713 899.5,-713 899.5,-713 905.5,-713 911.5,-719 911.5,-725 911.5,-725 911.5,-769 911.5,-769 911.5,-775 905.5,-781 899.5,-781\"/>\n<text text-anchor=\"start\" x=\"802.5\" y=\"-765.8\" font-family=\"Helvetica,sans-Serif\" font-size=\"14.00\" fill=\"#000000\">RBM10 ≤ 2.438</text>\n<text text-anchor=\"start\" x=\"815\" y=\"-750.8\" font-family=\"Helvetica,sans-Serif\" font-size=\"14.00\" fill=\"#000000\">gini = 0.033</text>\n<text text-anchor=\"start\" x=\"805\" y=\"-735.8\" font-family=\"Helvetica,sans-Serif\" font-size=\"14.00\" fill=\"#000000\">samples = 357</text>\n<text text-anchor=\"start\" x=\"803\" y=\"-720.8\" font-family=\"Helvetica,sans-Serif\" font-size=\"14.00\" fill=\"#000000\">value = [6, 351]</text>\n</g>\n<!-- 32&#45;&gt;34 -->\n<g id=\"edge34\" class=\"edge\">\n<title>32&#45;&gt;34</title>\n<path fill=\"none\" stroke=\"#000000\" d=\"M772.2925,-816.9465C783.0667,-807.6088 794.8564,-797.3911 806.015,-787.7203\"/>\n<polygon fill=\"#000000\" stroke=\"#000000\" points=\"808.3546,-790.3243 813.6192,-781.13 803.7701,-785.0344 808.3546,-790.3243\"/>\n</g>\n<!-- 35 -->\n<g id=\"node36\" class=\"node\">\n<title>35</title>\n<path fill=\"#e58139\" stroke=\"#000000\" d=\"M854.5,-669.5C854.5,-669.5 779.5,-669.5 779.5,-669.5 773.5,-669.5 767.5,-663.5 767.5,-657.5 767.5,-657.5 767.5,-628.5 767.5,-628.5 767.5,-622.5 773.5,-616.5 779.5,-616.5 779.5,-616.5 854.5,-616.5 854.5,-616.5 860.5,-616.5 866.5,-622.5 866.5,-628.5 866.5,-628.5 866.5,-657.5 866.5,-657.5 866.5,-663.5 860.5,-669.5 854.5,-669.5\"/>\n<text text-anchor=\"start\" x=\"787.5\" y=\"-654.3\" font-family=\"Helvetica,sans-Serif\" font-size=\"14.00\" fill=\"#000000\">gini = 0.0</text>\n<text text-anchor=\"start\" x=\"777.5\" y=\"-639.3\" font-family=\"Helvetica,sans-Serif\" font-size=\"14.00\" fill=\"#000000\">samples = 2</text>\n<text text-anchor=\"start\" x=\"775.5\" y=\"-624.3\" font-family=\"Helvetica,sans-Serif\" font-size=\"14.00\" fill=\"#000000\">value = [2, 0]</text>\n</g>\n<!-- 34&#45;&gt;35 -->\n<g id=\"edge35\" class=\"edge\">\n<title>34&#45;&gt;35</title>\n<path fill=\"none\" stroke=\"#000000\" d=\"M841.2123,-712.9465C837.4757,-702.1519 833.332,-690.1813 829.5442,-679.2389\"/>\n<polygon fill=\"#000000\" stroke=\"#000000\" points=\"832.7663,-677.8471 826.1877,-669.5422 826.1514,-680.1369 832.7663,-677.8471\"/>\n</g>\n<!-- 36 -->\n<g id=\"node37\" class=\"node\">\n<title>36</title>\n<path fill=\"#3b9ee5\" stroke=\"#000000\" d=\"M989,-677C989,-677 897,-677 897,-677 891,-677 885,-671 885,-665 885,-665 885,-621 885,-621 885,-615 891,-609 897,-609 897,-609 989,-609 989,-609 995,-609 1001,-615 1001,-621 1001,-621 1001,-665 1001,-665 1001,-671 995,-677 989,-677\"/>\n<text text-anchor=\"start\" x=\"901\" y=\"-661.8\" font-family=\"Helvetica,sans-Serif\" font-size=\"14.00\" fill=\"#000000\">MAX ≤ 2.837</text>\n<text text-anchor=\"start\" x=\"905\" y=\"-646.8\" font-family=\"Helvetica,sans-Serif\" font-size=\"14.00\" fill=\"#000000\">gini = 0.022</text>\n<text text-anchor=\"start\" x=\"895\" y=\"-631.8\" font-family=\"Helvetica,sans-Serif\" font-size=\"14.00\" fill=\"#000000\">samples = 355</text>\n<text text-anchor=\"start\" x=\"893\" y=\"-616.8\" font-family=\"Helvetica,sans-Serif\" font-size=\"14.00\" fill=\"#000000\">value = [4, 351]</text>\n</g>\n<!-- 34&#45;&gt;36 -->\n<g id=\"edge36\" class=\"edge\">\n<title>34&#45;&gt;36</title>\n<path fill=\"none\" stroke=\"#000000\" d=\"M882.4694,-712.9465C890.2393,-703.968 898.7132,-694.1758 906.7936,-684.8385\"/>\n<polygon fill=\"#000000\" stroke=\"#000000\" points=\"909.5672,-686.982 913.4644,-677.13 904.274,-682.4014 909.5672,-686.982\"/>\n</g>\n<!-- 37 -->\n<g id=\"node38\" class=\"node\">\n<title>37</title>\n<path fill=\"#e58139\" stroke=\"#000000\" d=\"M946.5,-565.5C946.5,-565.5 871.5,-565.5 871.5,-565.5 865.5,-565.5 859.5,-559.5 859.5,-553.5 859.5,-553.5 859.5,-524.5 859.5,-524.5 859.5,-518.5 865.5,-512.5 871.5,-512.5 871.5,-512.5 946.5,-512.5 946.5,-512.5 952.5,-512.5 958.5,-518.5 958.5,-524.5 958.5,-524.5 958.5,-553.5 958.5,-553.5 958.5,-559.5 952.5,-565.5 946.5,-565.5\"/>\n<text text-anchor=\"start\" x=\"879.5\" y=\"-550.3\" font-family=\"Helvetica,sans-Serif\" font-size=\"14.00\" fill=\"#000000\">gini = 0.0</text>\n<text text-anchor=\"start\" x=\"869.5\" y=\"-535.3\" font-family=\"Helvetica,sans-Serif\" font-size=\"14.00\" fill=\"#000000\">samples = 1</text>\n<text text-anchor=\"start\" x=\"867.5\" y=\"-520.3\" font-family=\"Helvetica,sans-Serif\" font-size=\"14.00\" fill=\"#000000\">value = [1, 0]</text>\n</g>\n<!-- 36&#45;&gt;37 -->\n<g id=\"edge37\" class=\"edge\">\n<title>36&#45;&gt;37</title>\n<path fill=\"none\" stroke=\"#000000\" d=\"M931.8671,-608.9465C928.3381,-598.1519 924.4246,-586.1813 920.8473,-575.2389\"/>\n<polygon fill=\"#000000\" stroke=\"#000000\" points=\"924.1114,-573.9595 917.6772,-565.5422 917.458,-576.1347 924.1114,-573.9595\"/>\n</g>\n<!-- 38 -->\n<g id=\"node39\" class=\"node\">\n<title>38</title>\n<path fill=\"#3b9ee5\" stroke=\"#000000\" d=\"M1081,-573C1081,-573 989,-573 989,-573 983,-573 977,-567 977,-561 977,-561 977,-517 977,-517 977,-511 983,-505 989,-505 989,-505 1081,-505 1081,-505 1087,-505 1093,-511 1093,-517 1093,-517 1093,-561 1093,-561 1093,-567 1087,-573 1081,-573\"/>\n<text text-anchor=\"start\" x=\"990.5\" y=\"-557.8\" font-family=\"Helvetica,sans-Serif\" font-size=\"14.00\" fill=\"#000000\">ETV6 ≤ 3.873</text>\n<text text-anchor=\"start\" x=\"997\" y=\"-542.8\" font-family=\"Helvetica,sans-Serif\" font-size=\"14.00\" fill=\"#000000\">gini = 0.017</text>\n<text text-anchor=\"start\" x=\"987\" y=\"-527.8\" font-family=\"Helvetica,sans-Serif\" font-size=\"14.00\" fill=\"#000000\">samples = 354</text>\n<text text-anchor=\"start\" x=\"985\" y=\"-512.8\" font-family=\"Helvetica,sans-Serif\" font-size=\"14.00\" fill=\"#000000\">value = [3, 351]</text>\n</g>\n<!-- 36&#45;&gt;38 -->\n<g id=\"edge38\" class=\"edge\">\n<title>36&#45;&gt;38</title>\n<path fill=\"none\" stroke=\"#000000\" d=\"M973.1242,-608.9465C981.0668,-599.968 989.7291,-590.1758 997.989,-580.8385\"/>\n<polygon fill=\"#000000\" stroke=\"#000000\" points=\"1000.8038,-582.939 1004.8081,-573.13 995.5608,-578.301 1000.8038,-582.939\"/>\n</g>\n<!-- 39 -->\n<g id=\"node40\" class=\"node\">\n<title>39</title>\n<path fill=\"#3a9ee5\" stroke=\"#000000\" d=\"M1015,-469C1015,-469 923,-469 923,-469 917,-469 911,-463 911,-457 911,-457 911,-413 911,-413 911,-407 917,-401 923,-401 923,-401 1015,-401 1015,-401 1021,-401 1027,-407 1027,-413 1027,-413 1027,-457 1027,-457 1027,-463 1021,-469 1015,-469\"/>\n<text text-anchor=\"start\" x=\"920.5\" y=\"-453.8\" font-family=\"Helvetica,sans-Serif\" font-size=\"14.00\" fill=\"#000000\">ECT2L ≤ 2.695</text>\n<text text-anchor=\"start\" x=\"931\" y=\"-438.8\" font-family=\"Helvetica,sans-Serif\" font-size=\"14.00\" fill=\"#000000\">gini = 0.011</text>\n<text text-anchor=\"start\" x=\"921\" y=\"-423.8\" font-family=\"Helvetica,sans-Serif\" font-size=\"14.00\" fill=\"#000000\">samples = 353</text>\n<text text-anchor=\"start\" x=\"919\" y=\"-408.8\" font-family=\"Helvetica,sans-Serif\" font-size=\"14.00\" fill=\"#000000\">value = [2, 351]</text>\n</g>\n<!-- 38&#45;&gt;39 -->\n<g id=\"edge39\" class=\"edge\">\n<title>38&#45;&gt;39</title>\n<path fill=\"none\" stroke=\"#000000\" d=\"M1013.3891,-504.9465C1007.8622,-496.2373 1001.8494,-486.7626 996.0854,-477.6801\"/>\n<polygon fill=\"#000000\" stroke=\"#000000\" points=\"998.9729,-475.6979 990.6594,-469.13 993.0626,-479.4487 998.9729,-475.6979\"/>\n</g>\n<!-- 44 -->\n<g id=\"node45\" class=\"node\">\n<title>44</title>\n<path fill=\"#e58139\" stroke=\"#000000\" d=\"M1132.5,-461.5C1132.5,-461.5 1057.5,-461.5 1057.5,-461.5 1051.5,-461.5 1045.5,-455.5 1045.5,-449.5 1045.5,-449.5 1045.5,-420.5 1045.5,-420.5 1045.5,-414.5 1051.5,-408.5 1057.5,-408.5 1057.5,-408.5 1132.5,-408.5 1132.5,-408.5 1138.5,-408.5 1144.5,-414.5 1144.5,-420.5 1144.5,-420.5 1144.5,-449.5 1144.5,-449.5 1144.5,-455.5 1138.5,-461.5 1132.5,-461.5\"/>\n<text text-anchor=\"start\" x=\"1065.5\" y=\"-446.3\" font-family=\"Helvetica,sans-Serif\" font-size=\"14.00\" fill=\"#000000\">gini = 0.0</text>\n<text text-anchor=\"start\" x=\"1055.5\" y=\"-431.3\" font-family=\"Helvetica,sans-Serif\" font-size=\"14.00\" fill=\"#000000\">samples = 1</text>\n<text text-anchor=\"start\" x=\"1053.5\" y=\"-416.3\" font-family=\"Helvetica,sans-Serif\" font-size=\"14.00\" fill=\"#000000\">value = [1, 0]</text>\n</g>\n<!-- 38&#45;&gt;44 -->\n<g id=\"edge44\" class=\"edge\">\n<title>38&#45;&gt;44</title>\n<path fill=\"none\" stroke=\"#000000\" d=\"M1054.6462,-504.9465C1061.0645,-493.8215 1068.2035,-481.4473 1074.671,-470.237\"/>\n<polygon fill=\"#000000\" stroke=\"#000000\" points=\"1077.7216,-471.9531 1079.6872,-461.5422 1071.6583,-468.455 1077.7216,-471.9531\"/>\n</g>\n<!-- 40 -->\n<g id=\"node41\" class=\"node\">\n<title>40</title>\n<path fill=\"#3a9de5\" stroke=\"#000000\" d=\"M1004,-365C1004,-365 900,-365 900,-365 894,-365 888,-359 888,-353 888,-353 888,-309 888,-309 888,-303 894,-297 900,-297 900,-297 1004,-297 1004,-297 1010,-297 1016,-303 1016,-309 1016,-309 1016,-353 1016,-353 1016,-359 1010,-365 1004,-365\"/>\n<text text-anchor=\"start\" x=\"896\" y=\"-349.8\" font-family=\"Helvetica,sans-Serif\" font-size=\"14.00\" fill=\"#000000\">NUTM2A ≤ 1.989</text>\n<text text-anchor=\"start\" x=\"914\" y=\"-334.8\" font-family=\"Helvetica,sans-Serif\" font-size=\"14.00\" fill=\"#000000\">gini = 0.006</text>\n<text text-anchor=\"start\" x=\"904\" y=\"-319.8\" font-family=\"Helvetica,sans-Serif\" font-size=\"14.00\" fill=\"#000000\">samples = 352</text>\n<text text-anchor=\"start\" x=\"902\" y=\"-304.8\" font-family=\"Helvetica,sans-Serif\" font-size=\"14.00\" fill=\"#000000\">value = [1, 351]</text>\n</g>\n<!-- 39&#45;&gt;40 -->\n<g id=\"edge40\" class=\"edge\">\n<title>39&#45;&gt;40</title>\n<path fill=\"none\" stroke=\"#000000\" d=\"M963.4336,-400.9465C962.0833,-392.6863 960.6205,-383.7374 959.2066,-375.0875\"/>\n<polygon fill=\"#000000\" stroke=\"#000000\" points=\"962.6464,-374.4344 957.5789,-365.13 955.7381,-375.5637 962.6464,-374.4344\"/>\n</g>\n<!-- 43 -->\n<g id=\"node44\" class=\"node\">\n<title>43</title>\n<path fill=\"#e58139\" stroke=\"#000000\" d=\"M1121.5,-357.5C1121.5,-357.5 1046.5,-357.5 1046.5,-357.5 1040.5,-357.5 1034.5,-351.5 1034.5,-345.5 1034.5,-345.5 1034.5,-316.5 1034.5,-316.5 1034.5,-310.5 1040.5,-304.5 1046.5,-304.5 1046.5,-304.5 1121.5,-304.5 1121.5,-304.5 1127.5,-304.5 1133.5,-310.5 1133.5,-316.5 1133.5,-316.5 1133.5,-345.5 1133.5,-345.5 1133.5,-351.5 1127.5,-357.5 1121.5,-357.5\"/>\n<text text-anchor=\"start\" x=\"1054.5\" y=\"-342.3\" font-family=\"Helvetica,sans-Serif\" font-size=\"14.00\" fill=\"#000000\">gini = 0.0</text>\n<text text-anchor=\"start\" x=\"1044.5\" y=\"-327.3\" font-family=\"Helvetica,sans-Serif\" font-size=\"14.00\" fill=\"#000000\">samples = 1</text>\n<text text-anchor=\"start\" x=\"1042.5\" y=\"-312.3\" font-family=\"Helvetica,sans-Serif\" font-size=\"14.00\" fill=\"#000000\">value = [1, 0]</text>\n</g>\n<!-- 39&#45;&gt;43 -->\n<g id=\"edge43\" class=\"edge\">\n<title>39&#45;&gt;43</title>\n<path fill=\"none\" stroke=\"#000000\" d=\"M1006.6553,-400.9465C1019.6878,-389.1606 1034.2706,-375.9726 1047.2311,-364.2519\"/>\n<polygon fill=\"#000000\" stroke=\"#000000\" points=\"1049.5812,-366.8456 1054.6505,-357.5422 1044.886,-361.6537 1049.5812,-366.8456\"/>\n</g>\n<!-- 41 -->\n<g id=\"node42\" class=\"node\">\n<title>41</title>\n<path fill=\"#399de5\" stroke=\"#000000\" d=\"M904,-253.5C904,-253.5 812,-253.5 812,-253.5 806,-253.5 800,-247.5 800,-241.5 800,-241.5 800,-212.5 800,-212.5 800,-206.5 806,-200.5 812,-200.5 812,-200.5 904,-200.5 904,-200.5 910,-200.5 916,-206.5 916,-212.5 916,-212.5 916,-241.5 916,-241.5 916,-247.5 910,-253.5 904,-253.5\"/>\n<text text-anchor=\"start\" x=\"828.5\" y=\"-238.3\" font-family=\"Helvetica,sans-Serif\" font-size=\"14.00\" fill=\"#000000\">gini = 0.0</text>\n<text text-anchor=\"start\" x=\"810\" y=\"-223.3\" font-family=\"Helvetica,sans-Serif\" font-size=\"14.00\" fill=\"#000000\">samples = 351</text>\n<text text-anchor=\"start\" x=\"808\" y=\"-208.3\" font-family=\"Helvetica,sans-Serif\" font-size=\"14.00\" fill=\"#000000\">value = [0, 351]</text>\n</g>\n<!-- 40&#45;&gt;41 -->\n<g id=\"edge41\" class=\"edge\">\n<title>40&#45;&gt;41</title>\n<path fill=\"none\" stroke=\"#000000\" d=\"M921.2209,-296.9465C910.8669,-285.491 899.3158,-272.711 888.9487,-261.2412\"/>\n<polygon fill=\"#000000\" stroke=\"#000000\" points=\"891.292,-258.614 881.99,-253.5422 886.0989,-263.3078 891.292,-258.614\"/>\n</g>\n<!-- 42 -->\n<g id=\"node43\" class=\"node\">\n<title>42</title>\n<path fill=\"#e58139\" stroke=\"#000000\" d=\"M1021.5,-253.5C1021.5,-253.5 946.5,-253.5 946.5,-253.5 940.5,-253.5 934.5,-247.5 934.5,-241.5 934.5,-241.5 934.5,-212.5 934.5,-212.5 934.5,-206.5 940.5,-200.5 946.5,-200.5 946.5,-200.5 1021.5,-200.5 1021.5,-200.5 1027.5,-200.5 1033.5,-206.5 1033.5,-212.5 1033.5,-212.5 1033.5,-241.5 1033.5,-241.5 1033.5,-247.5 1027.5,-253.5 1021.5,-253.5\"/>\n<text text-anchor=\"start\" x=\"954.5\" y=\"-238.3\" font-family=\"Helvetica,sans-Serif\" font-size=\"14.00\" fill=\"#000000\">gini = 0.0</text>\n<text text-anchor=\"start\" x=\"944.5\" y=\"-223.3\" font-family=\"Helvetica,sans-Serif\" font-size=\"14.00\" fill=\"#000000\">samples = 1</text>\n<text text-anchor=\"start\" x=\"942.5\" y=\"-208.3\" font-family=\"Helvetica,sans-Serif\" font-size=\"14.00\" fill=\"#000000\">value = [1, 0]</text>\n</g>\n<!-- 40&#45;&gt;42 -->\n<g id=\"edge42\" class=\"edge\">\n<title>40&#45;&gt;42</title>\n<path fill=\"none\" stroke=\"#000000\" d=\"M962.478,-296.9465C965.7994,-286.1519 969.4827,-274.1813 972.8496,-263.2389\"/>\n<polygon fill=\"#000000\" stroke=\"#000000\" points=\"976.2375,-264.1293 975.8332,-253.5422 969.547,-262.0706 976.2375,-264.1293\"/>\n</g>\n</g>\n</svg>\n"
          },
          "metadata": {
            "tags": []
          },
          "execution_count": 61
        }
      ]
    },
    {
      "cell_type": "markdown",
      "metadata": {
        "colab_type": "text",
        "id": "N4cbAm3JNJgL"
      },
      "source": [
        "## 1.2 木の高さの上限を2に指定"
      ]
    },
    {
      "cell_type": "markdown",
      "metadata": {
        "colab_type": "text",
        "id": "WXFRsPpR-SLq"
      },
      "source": [
        "木の大きさが非常に大きくて、何が意味あるかが分かりにくいので、木の高さの上限を2に制限して分類と描画をする。"
      ]
    },
    {
      "cell_type": "code",
      "metadata": {
        "colab_type": "code",
        "id": "iuQoCwwW-dCw",
        "outputId": "12d4dcd4-ced4-4f6d-dd5a-140d2be62d55",
        "colab": {
          "base_uri": "https://localhost:8080/",
          "height": 378
        }
      },
      "source": [
        "clf = tree.DecisionTreeClassifier(max_depth=2)  # max_depthで木の高さの上限を指定\n",
        "clf.fit(X_train, y_train)\n",
        "dot_data = tree.export_graphviz(clf, out_file=None,\n",
        "                                feature_names=df.columns,\n",
        "                                filled=True, rounded=True,  \n",
        "                                special_characters=True)\n",
        "graph = graphviz.Source(dot_data)\n",
        "graph"
      ],
      "execution_count": 62,
      "outputs": [
        {
          "output_type": "execute_result",
          "data": {
            "text/plain": [
              "<graphviz.files.Source at 0x7f374310af98>"
            ],
            "image/svg+xml": "<?xml version=\"1.0\" encoding=\"UTF-8\" standalone=\"no\"?>\n<!DOCTYPE svg PUBLIC \"-//W3C//DTD SVG 1.1//EN\"\n \"http://www.w3.org/Graphics/SVG/1.1/DTD/svg11.dtd\">\n<!-- Generated by graphviz version 2.40.1 (20161225.0304)\n -->\n<!-- Title: Tree Pages: 1 -->\n<svg width=\"514pt\" height=\"269pt\"\n viewBox=\"0.00 0.00 514.00 269.00\" xmlns=\"http://www.w3.org/2000/svg\" xmlns:xlink=\"http://www.w3.org/1999/xlink\">\n<g id=\"graph0\" class=\"graph\" transform=\"scale(1 1) rotate(0) translate(4 265)\">\n<title>Tree</title>\n<polygon fill=\"#ffffff\" stroke=\"transparent\" points=\"-4,4 -4,-265 510,-265 510,4 -4,4\"/>\n<!-- 0 -->\n<g id=\"node1\" class=\"node\">\n<title>0</title>\n<path fill=\"#fefbf9\" stroke=\"#000000\" d=\"M310,-261C310,-261 202,-261 202,-261 196,-261 190,-255 190,-249 190,-249 190,-205 190,-205 190,-199 196,-193 202,-193 202,-193 310,-193 310,-193 316,-193 322,-199 322,-205 322,-205 322,-249 322,-249 322,-255 316,-261 310,-261\"/>\n<text text-anchor=\"start\" x=\"216.5\" y=\"-245.8\" font-family=\"Helvetica,sans-Serif\" font-size=\"14.00\" fill=\"#000000\">TP63 ≤ 3.25</text>\n<text text-anchor=\"start\" x=\"226.5\" y=\"-230.8\" font-family=\"Helvetica,sans-Serif\" font-size=\"14.00\" fill=\"#000000\">gini = 0.5</text>\n<text text-anchor=\"start\" x=\"208\" y=\"-215.8\" font-family=\"Helvetica,sans-Serif\" font-size=\"14.00\" fill=\"#000000\">samples = 795</text>\n<text text-anchor=\"start\" x=\"198\" y=\"-200.8\" font-family=\"Helvetica,sans-Serif\" font-size=\"14.00\" fill=\"#000000\">value = [404, 391]</text>\n</g>\n<!-- 1 -->\n<g id=\"node2\" class=\"node\">\n<title>1</title>\n<path fill=\"#e88e4d\" stroke=\"#000000\" d=\"M236,-157C236,-157 134,-157 134,-157 128,-157 122,-151 122,-145 122,-145 122,-101 122,-101 122,-95 128,-89 134,-89 134,-89 236,-89 236,-89 242,-89 248,-95 248,-101 248,-101 248,-145 248,-145 248,-151 242,-157 236,-157\"/>\n<text text-anchor=\"start\" x=\"130\" y=\"-141.8\" font-family=\"Helvetica,sans-Serif\" font-size=\"14.00\" fill=\"#000000\">MAP3K4 ≤ 2.984</text>\n<text text-anchor=\"start\" x=\"147\" y=\"-126.8\" font-family=\"Helvetica,sans-Serif\" font-size=\"14.00\" fill=\"#000000\">gini = 0.167</text>\n<text text-anchor=\"start\" x=\"137\" y=\"-111.8\" font-family=\"Helvetica,sans-Serif\" font-size=\"14.00\" fill=\"#000000\">samples = 434</text>\n<text text-anchor=\"start\" x=\"131\" y=\"-96.8\" font-family=\"Helvetica,sans-Serif\" font-size=\"14.00\" fill=\"#000000\">value = [394, 40]</text>\n</g>\n<!-- 0&#45;&gt;1 -->\n<g id=\"edge1\" class=\"edge\">\n<title>0&#45;&gt;1</title>\n<path fill=\"none\" stroke=\"#000000\" d=\"M232.7519,-192.9465C226.745,-184.1475 220.2045,-174.5672 213.9457,-165.3993\"/>\n<polygon fill=\"#000000\" stroke=\"#000000\" points=\"216.8293,-163.4155 208.3003,-157.13 211.048,-167.3623 216.8293,-163.4155\"/>\n<text text-anchor=\"middle\" x=\"203.6676\" y=\"-177.997\" font-family=\"Helvetica,sans-Serif\" font-size=\"14.00\" fill=\"#000000\">True</text>\n</g>\n<!-- 4 -->\n<g id=\"node5\" class=\"node\">\n<title>4</title>\n<path fill=\"#3fa0e6\" stroke=\"#000000\" d=\"M378,-157C378,-157 278,-157 278,-157 272,-157 266,-151 266,-145 266,-145 266,-101 266,-101 266,-95 272,-89 278,-89 278,-89 378,-89 378,-89 384,-89 390,-95 390,-101 390,-101 390,-145 390,-145 390,-151 384,-157 378,-157\"/>\n<text text-anchor=\"start\" x=\"289\" y=\"-141.8\" font-family=\"Helvetica,sans-Serif\" font-size=\"14.00\" fill=\"#000000\">TTL ≤ 2.743</text>\n<text text-anchor=\"start\" x=\"290\" y=\"-126.8\" font-family=\"Helvetica,sans-Serif\" font-size=\"14.00\" fill=\"#000000\">gini = 0.054</text>\n<text text-anchor=\"start\" x=\"280\" y=\"-111.8\" font-family=\"Helvetica,sans-Serif\" font-size=\"14.00\" fill=\"#000000\">samples = 361</text>\n<text text-anchor=\"start\" x=\"274\" y=\"-96.8\" font-family=\"Helvetica,sans-Serif\" font-size=\"14.00\" fill=\"#000000\">value = [10, 351]</text>\n</g>\n<!-- 0&#45;&gt;4 -->\n<g id=\"edge4\" class=\"edge\">\n<title>0&#45;&gt;4</title>\n<path fill=\"none\" stroke=\"#000000\" d=\"M279.5755,-192.9465C285.6671,-184.1475 292.2996,-174.5672 298.6466,-165.3993\"/>\n<polygon fill=\"#000000\" stroke=\"#000000\" points=\"301.5571,-167.3442 304.3715,-157.13 295.8017,-163.3597 301.5571,-167.3442\"/>\n<text text-anchor=\"middle\" x=\"308.8437\" y=\"-178.0267\" font-family=\"Helvetica,sans-Serif\" font-size=\"14.00\" fill=\"#000000\">False</text>\n</g>\n<!-- 2 -->\n<g id=\"node3\" class=\"node\">\n<title>2</title>\n<path fill=\"#e78b49\" stroke=\"#000000\" d=\"M112,-53C112,-53 12,-53 12,-53 6,-53 0,-47 0,-41 0,-41 0,-12 0,-12 0,-6 6,0 12,0 12,0 112,0 112,0 118,0 124,-6 124,-12 124,-12 124,-41 124,-41 124,-47 118,-53 112,-53\"/>\n<text text-anchor=\"start\" x=\"24\" y=\"-37.8\" font-family=\"Helvetica,sans-Serif\" font-size=\"14.00\" fill=\"#000000\">gini = 0.139</text>\n<text text-anchor=\"start\" x=\"14\" y=\"-22.8\" font-family=\"Helvetica,sans-Serif\" font-size=\"14.00\" fill=\"#000000\">samples = 426</text>\n<text text-anchor=\"start\" x=\"8\" y=\"-7.8\" font-family=\"Helvetica,sans-Serif\" font-size=\"14.00\" fill=\"#000000\">value = [394, 32]</text>\n</g>\n<!-- 1&#45;&gt;2 -->\n<g id=\"edge2\" class=\"edge\">\n<title>1&#45;&gt;2</title>\n<path fill=\"none\" stroke=\"#000000\" d=\"M141.6348,-88.9777C129.4964,-79.4545 116.3228,-69.1191 104.2499,-59.6473\"/>\n<polygon fill=\"#000000\" stroke=\"#000000\" points=\"106.122,-56.6674 96.0939,-53.2485 101.8011,-62.1748 106.122,-56.6674\"/>\n</g>\n<!-- 3 -->\n<g id=\"node4\" class=\"node\">\n<title>3</title>\n<path fill=\"#399de5\" stroke=\"#000000\" d=\"M229.5,-53C229.5,-53 154.5,-53 154.5,-53 148.5,-53 142.5,-47 142.5,-41 142.5,-41 142.5,-12 142.5,-12 142.5,-6 148.5,0 154.5,0 154.5,0 229.5,0 229.5,0 235.5,0 241.5,-6 241.5,-12 241.5,-12 241.5,-41 241.5,-41 241.5,-47 235.5,-53 229.5,-53\"/>\n<text text-anchor=\"start\" x=\"162.5\" y=\"-37.8\" font-family=\"Helvetica,sans-Serif\" font-size=\"14.00\" fill=\"#000000\">gini = 0.0</text>\n<text text-anchor=\"start\" x=\"152.5\" y=\"-22.8\" font-family=\"Helvetica,sans-Serif\" font-size=\"14.00\" fill=\"#000000\">samples = 8</text>\n<text text-anchor=\"start\" x=\"150.5\" y=\"-7.8\" font-family=\"Helvetica,sans-Serif\" font-size=\"14.00\" fill=\"#000000\">value = [0, 8]</text>\n</g>\n<!-- 1&#45;&gt;3 -->\n<g id=\"edge3\" class=\"edge\">\n<title>1&#45;&gt;3</title>\n<path fill=\"none\" stroke=\"#000000\" d=\"M187.4679,-88.9777C188.0724,-80.6449 188.722,-71.6903 189.3352,-63.2364\"/>\n<polygon fill=\"#000000\" stroke=\"#000000\" points=\"192.8269,-63.4755 190.0597,-53.2485 185.8453,-62.969 192.8269,-63.4755\"/>\n</g>\n<!-- 5 -->\n<g id=\"node6\" class=\"node\">\n<title>5</title>\n<path fill=\"#e58139\" stroke=\"#000000\" d=\"M359.5,-53C359.5,-53 284.5,-53 284.5,-53 278.5,-53 272.5,-47 272.5,-41 272.5,-41 272.5,-12 272.5,-12 272.5,-6 278.5,0 284.5,0 284.5,0 359.5,0 359.5,0 365.5,0 371.5,-6 371.5,-12 371.5,-12 371.5,-41 371.5,-41 371.5,-47 365.5,-53 359.5,-53\"/>\n<text text-anchor=\"start\" x=\"292.5\" y=\"-37.8\" font-family=\"Helvetica,sans-Serif\" font-size=\"14.00\" fill=\"#000000\">gini = 0.0</text>\n<text text-anchor=\"start\" x=\"282.5\" y=\"-22.8\" font-family=\"Helvetica,sans-Serif\" font-size=\"14.00\" fill=\"#000000\">samples = 4</text>\n<text text-anchor=\"start\" x=\"280.5\" y=\"-7.8\" font-family=\"Helvetica,sans-Serif\" font-size=\"14.00\" fill=\"#000000\">value = [4, 0]</text>\n</g>\n<!-- 4&#45;&gt;5 -->\n<g id=\"edge5\" class=\"edge\">\n<title>4&#45;&gt;5</title>\n<path fill=\"none\" stroke=\"#000000\" d=\"M325.8846,-88.9777C325.3665,-80.6449 324.8098,-71.6903 324.2841,-63.2364\"/>\n<polygon fill=\"#000000\" stroke=\"#000000\" points=\"327.777,-63.012 323.6631,-53.2485 320.7905,-63.4464 327.777,-63.012\"/>\n</g>\n<!-- 6 -->\n<g id=\"node7\" class=\"node\">\n<title>6</title>\n<path fill=\"#3c9fe5\" stroke=\"#000000\" d=\"M494,-53C494,-53 402,-53 402,-53 396,-53 390,-47 390,-41 390,-41 390,-12 390,-12 390,-6 396,0 402,0 402,0 494,0 494,0 500,0 506,-6 506,-12 506,-12 506,-41 506,-41 506,-47 500,-53 494,-53\"/>\n<text text-anchor=\"start\" x=\"410\" y=\"-37.8\" font-family=\"Helvetica,sans-Serif\" font-size=\"14.00\" fill=\"#000000\">gini = 0.033</text>\n<text text-anchor=\"start\" x=\"400\" y=\"-22.8\" font-family=\"Helvetica,sans-Serif\" font-size=\"14.00\" fill=\"#000000\">samples = 357</text>\n<text text-anchor=\"start\" x=\"398\" y=\"-7.8\" font-family=\"Helvetica,sans-Serif\" font-size=\"14.00\" fill=\"#000000\">value = [6, 351]</text>\n</g>\n<!-- 4&#45;&gt;6 -->\n<g id=\"edge6\" class=\"edge\">\n<title>4&#45;&gt;6</title>\n<path fill=\"none\" stroke=\"#000000\" d=\"M370.3075,-88.9777C382.1499,-79.4545 395.0021,-69.1191 406.7805,-59.6473\"/>\n<polygon fill=\"#000000\" stroke=\"#000000\" points=\"409.1382,-62.2427 414.7376,-53.2485 404.7514,-56.7877 409.1382,-62.2427\"/>\n</g>\n</g>\n</svg>\n"
          },
          "metadata": {
            "tags": []
          },
          "execution_count": 62
        }
      ]
    },
    {
      "cell_type": "markdown",
      "metadata": {
        "colab_type": "text",
        "id": "y1algsF9NUBX"
      },
      "source": [
        "構築した決定木の精度評価をする。"
      ]
    },
    {
      "cell_type": "code",
      "metadata": {
        "colab_type": "code",
        "id": "Ft0H_YLPMzW1",
        "outputId": "e75ed829-137e-469d-a512-465519c2c9a0",
        "colab": {
          "base_uri": "https://localhost:8080/",
          "height": 50
        }
      },
      "source": [
        "# 訓練データでの精度\n",
        "y_train_pred = clf.predict(X_train)\n",
        "print(\"Training accuracy: \", accuracy_score(y_train, y_train_pred))\n",
        "# テストデータでの精度\n",
        "y_test_pred = clf.predict(X_test)\n",
        "print(\"Test accuracy: \", accuracy_score(y_test, y_test_pred))"
      ],
      "execution_count": 63,
      "outputs": [
        {
          "output_type": "stream",
          "text": [
            "Training accuracy:  0.9522012578616352\n",
            "Test accuracy:  0.8994974874371859\n"
          ],
          "name": "stdout"
        }
      ]
    },
    {
      "cell_type": "markdown",
      "metadata": {
        "id": "LMXULLG2DcNp",
        "colab_type": "text"
      },
      "source": [
        "予測結果が、どのように間違っているか混同行列(confusion matrix)を描く"
      ]
    },
    {
      "cell_type": "code",
      "metadata": {
        "id": "TC1PcMT9DNRw",
        "colab_type": "code",
        "colab": {
          "base_uri": "https://localhost:8080/",
          "height": 107
        },
        "outputId": "1c7f2d9b-8b65-46aa-d32e-0cb56e3cda88"
      },
      "source": [
        "from sklearn.metrics import confusion_matrix\n",
        "targets = [\"Prediction: 0\", \"1\"]\n",
        "pd.DataFrame(confusion_matrix(y_train, y_train_pred), columns=targets) # Training"
      ],
      "execution_count": 64,
      "outputs": [
        {
          "output_type": "execute_result",
          "data": {
            "text/html": [
              "<div>\n",
              "<style scoped>\n",
              "    .dataframe tbody tr th:only-of-type {\n",
              "        vertical-align: middle;\n",
              "    }\n",
              "\n",
              "    .dataframe tbody tr th {\n",
              "        vertical-align: top;\n",
              "    }\n",
              "\n",
              "    .dataframe thead th {\n",
              "        text-align: right;\n",
              "    }\n",
              "</style>\n",
              "<table border=\"1\" class=\"dataframe\">\n",
              "  <thead>\n",
              "    <tr style=\"text-align: right;\">\n",
              "      <th></th>\n",
              "      <th>Prediction: 0</th>\n",
              "      <th>1</th>\n",
              "    </tr>\n",
              "  </thead>\n",
              "  <tbody>\n",
              "    <tr>\n",
              "      <th>0</th>\n",
              "      <td>398</td>\n",
              "      <td>6</td>\n",
              "    </tr>\n",
              "    <tr>\n",
              "      <th>1</th>\n",
              "      <td>32</td>\n",
              "      <td>359</td>\n",
              "    </tr>\n",
              "  </tbody>\n",
              "</table>\n",
              "</div>"
            ],
            "text/plain": [
              "   Prediction: 0    1\n",
              "0            398    6\n",
              "1             32  359"
            ]
          },
          "metadata": {
            "tags": []
          },
          "execution_count": 64
        }
      ]
    },
    {
      "cell_type": "code",
      "metadata": {
        "id": "XkZt-BX0DWjT",
        "colab_type": "code",
        "colab": {
          "base_uri": "https://localhost:8080/",
          "height": 107
        },
        "outputId": "e134d0bd-c253-4ed6-cd2e-fb9a0dfd7a8e"
      },
      "source": [
        "targets = [\"Prediction: 0\", \"1\"]\n",
        "pd.DataFrame(confusion_matrix(y_test, y_test_pred), columns=targets) # Test"
      ],
      "execution_count": 65,
      "outputs": [
        {
          "output_type": "execute_result",
          "data": {
            "text/html": [
              "<div>\n",
              "<style scoped>\n",
              "    .dataframe tbody tr th:only-of-type {\n",
              "        vertical-align: middle;\n",
              "    }\n",
              "\n",
              "    .dataframe tbody tr th {\n",
              "        vertical-align: top;\n",
              "    }\n",
              "\n",
              "    .dataframe thead th {\n",
              "        text-align: right;\n",
              "    }\n",
              "</style>\n",
              "<table border=\"1\" class=\"dataframe\">\n",
              "  <thead>\n",
              "    <tr style=\"text-align: right;\">\n",
              "      <th></th>\n",
              "      <th>Prediction: 0</th>\n",
              "      <th>1</th>\n",
              "    </tr>\n",
              "  </thead>\n",
              "  <tbody>\n",
              "    <tr>\n",
              "      <th>0</th>\n",
              "      <td>100</td>\n",
              "      <td>6</td>\n",
              "    </tr>\n",
              "    <tr>\n",
              "      <th>1</th>\n",
              "      <td>14</td>\n",
              "      <td>79</td>\n",
              "    </tr>\n",
              "  </tbody>\n",
              "</table>\n",
              "</div>"
            ],
            "text/plain": [
              "   Prediction: 0   1\n",
              "0            100   6\n",
              "1             14  79"
            ]
          },
          "metadata": {
            "tags": []
          },
          "execution_count": 65
        }
      ]
    },
    {
      "cell_type": "markdown",
      "metadata": {
        "id": "ZCfLdLCMDna4",
        "colab_type": "text"
      },
      "source": [
        "ROCカーブの描画"
      ]
    },
    {
      "cell_type": "code",
      "metadata": {
        "colab_type": "code",
        "id": "JdWTeMdiM3-_",
        "outputId": "24c7774e-a6af-4012-ed07-e4f6e5aa6f90",
        "colab": {
          "base_uri": "https://localhost:8080/",
          "height": 294
        }
      },
      "source": [
        "y_test_proba = clf.predict_proba(X_test)\n",
        "\n",
        "# FPR, TPR(, しきい値) を算出\n",
        "fpr, tpr, thresholds = metrics.roc_curve(y_test, y_test_proba[:,1])\n",
        "auc = metrics.auc(fpr, tpr)\n",
        "\n",
        "# ROC曲線をプロット\n",
        "plt.plot(fpr, tpr, label='ROC curve (area = %.2f)'%auc)\n",
        "plt.legend()\n",
        "plt.title('ROC curve')\n",
        "plt.xlabel('False Positive Rate')\n",
        "plt.ylabel('True Positive Rate')\n",
        "plt.grid(True)"
      ],
      "execution_count": 66,
      "outputs": [
        {
          "output_type": "display_data",
          "data": {
            "image/png": "[encoded data removed]",
            "text/plain": [
              "<Figure size 432x288 with 1 Axes>"
            ]
          },
          "metadata": {
            "tags": []
          }
        }
      ]
    },
    {
      "cell_type": "markdown",
      "metadata": {
        "colab_type": "text",
        "id": "r5jG5L2sQrDC"
      },
      "source": [
        "## 1.3 指標の変更"
      ]
    },
    {
      "cell_type": "markdown",
      "metadata": {
        "colab_type": "text",
        "id": "fQkmrmAkQylp"
      },
      "source": [
        "決定木を作るときに、criterionで、決定木の良し悪しをはかる指標を変更できる。"
      ]
    },
    {
      "cell_type": "code",
      "metadata": {
        "colab_type": "code",
        "id": "gDTfpkS3RFMj",
        "outputId": "a4429fb9-3df1-4671-d631-35f54b76044a",
        "colab": {
          "base_uri": "https://localhost:8080/",
          "height": 378
        }
      },
      "source": [
        "clf = tree.DecisionTreeClassifier(max_depth=2, criterion=\"entropy\")  # criterionでエントロピーを指定\n",
        "clf.fit(X_train, y_train)\n",
        "dot_data = tree.export_graphviz(clf, out_file=None,\n",
        "                                feature_names=df.columns,\n",
        "                                filled=True, rounded=True,  \n",
        "                                special_characters=True)\n",
        "graph = graphviz.Source(dot_data)\n",
        "graph"
      ],
      "execution_count": 67,
      "outputs": [
        {
          "output_type": "execute_result",
          "data": {
            "text/plain": [
              "<graphviz.files.Source at 0x7f3743101fd0>"
            ],
            "image/svg+xml": "<?xml version=\"1.0\" encoding=\"UTF-8\" standalone=\"no\"?>\n<!DOCTYPE svg PUBLIC \"-//W3C//DTD SVG 1.1//EN\"\n \"http://www.w3.org/Graphics/SVG/1.1/DTD/svg11.dtd\">\n<!-- Generated by graphviz version 2.40.1 (20161225.0304)\n -->\n<!-- Title: Tree Pages: 1 -->\n<svg width=\"538pt\" height=\"269pt\"\n viewBox=\"0.00 0.00 538.00 269.00\" xmlns=\"http://www.w3.org/2000/svg\" xmlns:xlink=\"http://www.w3.org/1999/xlink\">\n<g id=\"graph0\" class=\"graph\" transform=\"scale(1 1) rotate(0) translate(4 265)\">\n<title>Tree</title>\n<polygon fill=\"#ffffff\" stroke=\"transparent\" points=\"-4,4 -4,-265 534,-265 534,4 -4,4\"/>\n<!-- 0 -->\n<g id=\"node1\" class=\"node\">\n<title>0</title>\n<path fill=\"#fefbf9\" stroke=\"#000000\" d=\"M321,-261C321,-261 213,-261 213,-261 207,-261 201,-255 201,-249 201,-249 201,-205 201,-205 201,-199 207,-193 213,-193 213,-193 321,-193 321,-193 327,-193 333,-199 333,-205 333,-205 333,-249 333,-249 333,-255 327,-261 321,-261\"/>\n<text text-anchor=\"start\" x=\"223\" y=\"-245.8\" font-family=\"Helvetica,sans-Serif\" font-size=\"14.00\" fill=\"#000000\">TP63 ≤ 3.406</text>\n<text text-anchor=\"start\" x=\"224.5\" y=\"-230.8\" font-family=\"Helvetica,sans-Serif\" font-size=\"14.00\" fill=\"#000000\">entropy = 1.0</text>\n<text text-anchor=\"start\" x=\"219\" y=\"-215.8\" font-family=\"Helvetica,sans-Serif\" font-size=\"14.00\" fill=\"#000000\">samples = 795</text>\n<text text-anchor=\"start\" x=\"209\" y=\"-200.8\" font-family=\"Helvetica,sans-Serif\" font-size=\"14.00\" fill=\"#000000\">value = [404, 391]</text>\n</g>\n<!-- 1 -->\n<g id=\"node2\" class=\"node\">\n<title>1</title>\n<path fill=\"#e88f4f\" stroke=\"#000000\" d=\"M248,-157C248,-157 148,-157 148,-157 142,-157 136,-151 136,-145 136,-145 136,-101 136,-101 136,-95 142,-89 148,-89 148,-89 248,-89 248,-89 254,-89 260,-95 260,-101 260,-101 260,-145 260,-145 260,-151 254,-157 248,-157\"/>\n<text text-anchor=\"start\" x=\"148\" y=\"-141.8\" font-family=\"Helvetica,sans-Serif\" font-size=\"14.00\" fill=\"#000000\">ERBB2 ≤ 3.576</text>\n<text text-anchor=\"start\" x=\"147\" y=\"-126.8\" font-family=\"Helvetica,sans-Serif\" font-size=\"14.00\" fill=\"#000000\">entropy = 0.468</text>\n<text text-anchor=\"start\" x=\"150\" y=\"-111.8\" font-family=\"Helvetica,sans-Serif\" font-size=\"14.00\" fill=\"#000000\">samples = 441</text>\n<text text-anchor=\"start\" x=\"144\" y=\"-96.8\" font-family=\"Helvetica,sans-Serif\" font-size=\"14.00\" fill=\"#000000\">value = [397, 44]</text>\n</g>\n<!-- 0&#45;&gt;1 -->\n<g id=\"edge1\" class=\"edge\">\n<title>0&#45;&gt;1</title>\n<path fill=\"none\" stroke=\"#000000\" d=\"M244.4068,-192.9465C238.6286,-184.2373 232.3425,-174.7626 226.3166,-165.6801\"/>\n<polygon fill=\"#000000\" stroke=\"#000000\" points=\"229.089,-163.5278 220.6439,-157.13 223.256,-167.3978 229.089,-163.5278\"/>\n<text text-anchor=\"middle\" x=\"215.6866\" y=\"-177.9336\" font-family=\"Helvetica,sans-Serif\" font-size=\"14.00\" fill=\"#000000\">True</text>\n</g>\n<!-- 4 -->\n<g id=\"node5\" class=\"node\">\n<title>4</title>\n<path fill=\"#3d9fe6\" stroke=\"#000000\" d=\"M383,-157C383,-157 291,-157 291,-157 285,-157 279,-151 279,-145 279,-145 279,-101 279,-101 279,-95 285,-89 291,-89 291,-89 383,-89 383,-89 389,-89 395,-95 395,-101 395,-101 395,-145 395,-145 395,-151 389,-157 383,-157\"/>\n<text text-anchor=\"start\" x=\"299\" y=\"-141.8\" font-family=\"Helvetica,sans-Serif\" font-size=\"14.00\" fill=\"#000000\">RIT1 ≤ 2.93</text>\n<text text-anchor=\"start\" x=\"290\" y=\"-126.8\" font-family=\"Helvetica,sans-Serif\" font-size=\"14.00\" fill=\"#000000\">entropy = 0.14</text>\n<text text-anchor=\"start\" x=\"289\" y=\"-111.8\" font-family=\"Helvetica,sans-Serif\" font-size=\"14.00\" fill=\"#000000\">samples = 354</text>\n<text text-anchor=\"start\" x=\"287\" y=\"-96.8\" font-family=\"Helvetica,sans-Serif\" font-size=\"14.00\" fill=\"#000000\">value = [7, 347]</text>\n</g>\n<!-- 0&#45;&gt;4 -->\n<g id=\"edge4\" class=\"edge\">\n<title>0&#45;&gt;4</title>\n<path fill=\"none\" stroke=\"#000000\" d=\"M289.9206,-192.9465C295.7826,-184.2373 302.1598,-174.7626 308.273,-165.6801\"/>\n<polygon fill=\"#000000\" stroke=\"#000000\" points=\"311.3476,-167.3802 314.0279,-157.13 305.5405,-163.4716 311.3476,-167.3802\"/>\n<text text-anchor=\"middle\" x=\"318.8223\" y=\"-177.966\" font-family=\"Helvetica,sans-Serif\" font-size=\"14.00\" fill=\"#000000\">False</text>\n</g>\n<!-- 2 -->\n<g id=\"node3\" class=\"node\">\n<title>2</title>\n<path fill=\"#f2bf9a\" stroke=\"#000000\" d=\"M106,-53C106,-53 12,-53 12,-53 6,-53 0,-47 0,-41 0,-41 0,-12 0,-12 0,-6 6,0 12,0 12,0 106,0 106,0 112,0 118,-6 118,-12 118,-12 118,-41 118,-41 118,-47 112,-53 106,-53\"/>\n<text text-anchor=\"start\" x=\"8\" y=\"-37.8\" font-family=\"Helvetica,sans-Serif\" font-size=\"14.00\" fill=\"#000000\">entropy = 0.914</text>\n<text text-anchor=\"start\" x=\"15\" y=\"-22.8\" font-family=\"Helvetica,sans-Serif\" font-size=\"14.00\" fill=\"#000000\">samples = 88</text>\n<text text-anchor=\"start\" x=\"9\" y=\"-7.8\" font-family=\"Helvetica,sans-Serif\" font-size=\"14.00\" fill=\"#000000\">value = [59, 29]</text>\n</g>\n<!-- 1&#45;&gt;2 -->\n<g id=\"edge2\" class=\"edge\">\n<title>1&#45;&gt;2</title>\n<path fill=\"none\" stroke=\"#000000\" d=\"M148.9938,-88.9777C135.0126,-79.2713 119.8162,-68.7213 105.9602,-59.1018\"/>\n<polygon fill=\"#000000\" stroke=\"#000000\" points=\"107.7394,-56.0763 97.5289,-53.2485 103.7474,-61.8264 107.7394,-56.0763\"/>\n</g>\n<!-- 3 -->\n<g id=\"node4\" class=\"node\">\n<title>3</title>\n<path fill=\"#e68742\" stroke=\"#000000\" d=\"M248,-53C248,-53 148,-53 148,-53 142,-53 136,-47 136,-41 136,-41 136,-12 136,-12 136,-6 142,0 148,0 148,0 248,0 248,0 254,0 260,-6 260,-12 260,-12 260,-41 260,-41 260,-47 254,-53 248,-53\"/>\n<text text-anchor=\"start\" x=\"147\" y=\"-37.8\" font-family=\"Helvetica,sans-Serif\" font-size=\"14.00\" fill=\"#000000\">entropy = 0.254</text>\n<text text-anchor=\"start\" x=\"150\" y=\"-22.8\" font-family=\"Helvetica,sans-Serif\" font-size=\"14.00\" fill=\"#000000\">samples = 353</text>\n<text text-anchor=\"start\" x=\"144\" y=\"-7.8\" font-family=\"Helvetica,sans-Serif\" font-size=\"14.00\" fill=\"#000000\">value = [338, 15]</text>\n</g>\n<!-- 1&#45;&gt;3 -->\n<g id=\"edge3\" class=\"edge\">\n<title>1&#45;&gt;3</title>\n<path fill=\"none\" stroke=\"#000000\" d=\"M198,-88.9777C198,-80.7364 198,-71.887 198,-63.5153\"/>\n<polygon fill=\"#000000\" stroke=\"#000000\" points=\"201.5001,-63.2484 198,-53.2485 194.5001,-63.2485 201.5001,-63.2484\"/>\n</g>\n<!-- 5 -->\n<g id=\"node6\" class=\"node\">\n<title>5</title>\n<path fill=\"#48a4e7\" stroke=\"#000000\" d=\"M384,-53C384,-53 290,-53 290,-53 284,-53 278,-47 278,-41 278,-41 278,-12 278,-12 278,-6 284,0 290,0 290,0 384,0 384,0 390,0 396,-6 396,-12 396,-12 396,-41 396,-41 396,-47 390,-53 384,-53\"/>\n<text text-anchor=\"start\" x=\"286\" y=\"-37.8\" font-family=\"Helvetica,sans-Serif\" font-size=\"14.00\" fill=\"#000000\">entropy = 0.369</text>\n<text text-anchor=\"start\" x=\"293\" y=\"-22.8\" font-family=\"Helvetica,sans-Serif\" font-size=\"14.00\" fill=\"#000000\">samples = 99</text>\n<text text-anchor=\"start\" x=\"291.5\" y=\"-7.8\" font-family=\"Helvetica,sans-Serif\" font-size=\"14.00\" fill=\"#000000\">value = [7, 92]</text>\n</g>\n<!-- 4&#45;&gt;5 -->\n<g id=\"edge5\" class=\"edge\">\n<title>4&#45;&gt;5</title>\n<path fill=\"none\" stroke=\"#000000\" d=\"M337,-88.9777C337,-80.7364 337,-71.887 337,-63.5153\"/>\n<polygon fill=\"#000000\" stroke=\"#000000\" points=\"340.5001,-63.2484 337,-53.2485 333.5001,-63.2485 340.5001,-63.2484\"/>\n</g>\n<!-- 6 -->\n<g id=\"node7\" class=\"node\">\n<title>6</title>\n<path fill=\"#399de5\" stroke=\"#000000\" d=\"M518,-53C518,-53 426,-53 426,-53 420,-53 414,-47 414,-41 414,-41 414,-12 414,-12 414,-6 420,0 426,0 426,0 518,0 518,0 524,0 530,-6 530,-12 530,-12 530,-41 530,-41 530,-47 524,-53 518,-53\"/>\n<text text-anchor=\"start\" x=\"429.5\" y=\"-37.8\" font-family=\"Helvetica,sans-Serif\" font-size=\"14.00\" fill=\"#000000\">entropy = 0.0</text>\n<text text-anchor=\"start\" x=\"424\" y=\"-22.8\" font-family=\"Helvetica,sans-Serif\" font-size=\"14.00\" fill=\"#000000\">samples = 255</text>\n<text text-anchor=\"start\" x=\"422\" y=\"-7.8\" font-family=\"Helvetica,sans-Serif\" font-size=\"14.00\" fill=\"#000000\">value = [0, 255]</text>\n</g>\n<!-- 4&#45;&gt;6 -->\n<g id=\"edge6\" class=\"edge\">\n<title>4&#45;&gt;6</title>\n<path fill=\"none\" stroke=\"#000000\" d=\"M384.5959,-88.9777C398.1748,-79.2713 412.9339,-68.7213 426.3912,-59.1018\"/>\n<polygon fill=\"#000000\" stroke=\"#000000\" points=\"428.4799,-61.9111 434.5798,-53.2485 424.4092,-56.2164 428.4799,-61.9111\"/>\n</g>\n</g>\n</svg>\n"
          },
          "metadata": {
            "tags": []
          },
          "execution_count": 67
        }
      ]
    },
    {
      "cell_type": "code",
      "metadata": {
        "colab_type": "code",
        "id": "NzYxAW_RRPJC",
        "outputId": "ab637895-8b4e-47f5-f167-74e5db35ac69",
        "colab": {
          "base_uri": "https://localhost:8080/",
          "height": 294
        }
      },
      "source": [
        "y_test_proba = clf.predict_proba(X_test)\n",
        "\n",
        "# FPR, TPR(, しきい値) を算出\n",
        "fpr, tpr, thresholds = metrics.roc_curve(y_test, y_test_proba[:,1])\n",
        "auc = metrics.auc(fpr, tpr)\n",
        "\n",
        "# ROC曲線をプロット\n",
        "plt.plot(fpr, tpr, label='ROC curve (area = %.2f)'%auc)\n",
        "plt.legend()\n",
        "plt.title('ROC curve')\n",
        "plt.xlabel('False Positive Rate')\n",
        "plt.ylabel('True Positive Rate')\n",
        "plt.grid(True)"
      ],
      "execution_count": 68,
      "outputs": [
        {
          "output_type": "display_data",
          "data": {
            "image/png": "[encoded data removed]",
            "text/plain": [
              "<Figure size 432x288 with 1 Axes>"
            ]
          },
          "metadata": {
            "tags": []
          }
        }
      ]
    },
    {
      "cell_type": "markdown",
      "metadata": {
        "colab_type": "text",
        "id": "KZeadjMe-2b1"
      },
      "source": [
        "# 2. ランダムフォレスト"
      ]
    },
    {
      "cell_type": "markdown",
      "metadata": {
        "colab_type": "text",
        "id": "d5MXjYtaR4Wj"
      },
      "source": [
        "パッケージの読み込みと、訓練データを用いてランダムフォレストのモデルを構築する。\n",
        "n_estimators は、アンサンブル学習する際の木の数。max_depth は作成する木の大きさ。"
      ]
    },
    {
      "cell_type": "code",
      "metadata": {
        "colab_type": "code",
        "id": "XYPoMvHv-4N7",
        "outputId": "0d1cfb20-1cac-461f-fb83-5e5face24a73",
        "colab": {
          "base_uri": "https://localhost:8080/",
          "height": 133
        }
      },
      "source": [
        "from sklearn.ensemble import RandomForestClassifier\n",
        "clf = RandomForestClassifier(n_estimators=100, max_depth=5, random_state=None)\n",
        "clf.fit(X_train, y_train)"
      ],
      "execution_count": 69,
      "outputs": [
        {
          "output_type": "execute_result",
          "data": {
            "text/plain": [
              "RandomForestClassifier(bootstrap=True, class_weight=None, criterion='gini',\n",
              "                       max_depth=5, max_features='auto', max_leaf_nodes=None,\n",
              "                       min_impurity_decrease=0.0, min_impurity_split=None,\n",
              "                       min_samples_leaf=1, min_samples_split=2,\n",
              "                       min_weight_fraction_leaf=0.0, n_estimators=100,\n",
              "                       n_jobs=None, oob_score=False, random_state=None,\n",
              "                       verbose=0, warm_start=False)"
            ]
          },
          "metadata": {
            "tags": []
          },
          "execution_count": 69
        }
      ]
    },
    {
      "cell_type": "markdown",
      "metadata": {
        "colab_type": "text",
        "id": "NwD7G2fdSVF4"
      },
      "source": [
        "予測精度を調べる。"
      ]
    },
    {
      "cell_type": "code",
      "metadata": {
        "colab_type": "code",
        "id": "ROQy4zk0SRcw",
        "outputId": "458147e2-aa28-4b2b-ef65-dcec9f52325b",
        "colab": {
          "base_uri": "https://localhost:8080/",
          "height": 50
        }
      },
      "source": [
        "# 訓練データでの精度\n",
        "y_train_pred = clf.predict(X_train)\n",
        "print(\"Training accuracy: \", accuracy_score(y_train, y_train_pred))\n",
        "# テストデータでの精度\n",
        "y_test_pred = clf.predict(X_test)\n",
        "print(\"Test accuracy: \", accuracy_score(y_test, y_test_pred))"
      ],
      "execution_count": 70,
      "outputs": [
        {
          "output_type": "stream",
          "text": [
            "Training accuracy:  0.9811320754716981\n",
            "Test accuracy:  0.9296482412060302\n"
          ],
          "name": "stdout"
        }
      ]
    },
    {
      "cell_type": "markdown",
      "metadata": {
        "id": "VMgqU5rRDxvs",
        "colab_type": "text"
      },
      "source": [
        "Confusion matrix の描画"
      ]
    },
    {
      "cell_type": "code",
      "metadata": {
        "id": "XkGX2N5iDvmB",
        "colab_type": "code",
        "colab": {
          "base_uri": "https://localhost:8080/",
          "height": 107
        },
        "outputId": "b0766719-9543-4434-9891-a4b81529074a"
      },
      "source": [
        "targets = [\"Prediction: 0\", \"1\"]\n",
        "pd.DataFrame(confusion_matrix(y_train, y_train_pred), columns=targets) # Training"
      ],
      "execution_count": 71,
      "outputs": [
        {
          "output_type": "execute_result",
          "data": {
            "text/html": [
              "<div>\n",
              "<style scoped>\n",
              "    .dataframe tbody tr th:only-of-type {\n",
              "        vertical-align: middle;\n",
              "    }\n",
              "\n",
              "    .dataframe tbody tr th {\n",
              "        vertical-align: top;\n",
              "    }\n",
              "\n",
              "    .dataframe thead th {\n",
              "        text-align: right;\n",
              "    }\n",
              "</style>\n",
              "<table border=\"1\" class=\"dataframe\">\n",
              "  <thead>\n",
              "    <tr style=\"text-align: right;\">\n",
              "      <th></th>\n",
              "      <th>Prediction: 0</th>\n",
              "      <th>1</th>\n",
              "    </tr>\n",
              "  </thead>\n",
              "  <tbody>\n",
              "    <tr>\n",
              "      <th>0</th>\n",
              "      <td>400</td>\n",
              "      <td>4</td>\n",
              "    </tr>\n",
              "    <tr>\n",
              "      <th>1</th>\n",
              "      <td>11</td>\n",
              "      <td>380</td>\n",
              "    </tr>\n",
              "  </tbody>\n",
              "</table>\n",
              "</div>"
            ],
            "text/plain": [
              "   Prediction: 0    1\n",
              "0            400    4\n",
              "1             11  380"
            ]
          },
          "metadata": {
            "tags": []
          },
          "execution_count": 71
        }
      ]
    },
    {
      "cell_type": "code",
      "metadata": {
        "id": "4fvXMyuND0k3",
        "colab_type": "code",
        "colab": {
          "base_uri": "https://localhost:8080/",
          "height": 107
        },
        "outputId": "a8492cf4-c4b5-492f-b5ce-75531088f7a7"
      },
      "source": [
        "targets = [\"Prediction: 0\", \"1\"]\n",
        "pd.DataFrame(confusion_matrix(y_test, y_test_pred), columns=targets) # Test"
      ],
      "execution_count": 72,
      "outputs": [
        {
          "output_type": "execute_result",
          "data": {
            "text/html": [
              "<div>\n",
              "<style scoped>\n",
              "    .dataframe tbody tr th:only-of-type {\n",
              "        vertical-align: middle;\n",
              "    }\n",
              "\n",
              "    .dataframe tbody tr th {\n",
              "        vertical-align: top;\n",
              "    }\n",
              "\n",
              "    .dataframe thead th {\n",
              "        text-align: right;\n",
              "    }\n",
              "</style>\n",
              "<table border=\"1\" class=\"dataframe\">\n",
              "  <thead>\n",
              "    <tr style=\"text-align: right;\">\n",
              "      <th></th>\n",
              "      <th>Prediction: 0</th>\n",
              "      <th>1</th>\n",
              "    </tr>\n",
              "  </thead>\n",
              "  <tbody>\n",
              "    <tr>\n",
              "      <th>0</th>\n",
              "      <td>102</td>\n",
              "      <td>4</td>\n",
              "    </tr>\n",
              "    <tr>\n",
              "      <th>1</th>\n",
              "      <td>10</td>\n",
              "      <td>83</td>\n",
              "    </tr>\n",
              "  </tbody>\n",
              "</table>\n",
              "</div>"
            ],
            "text/plain": [
              "   Prediction: 0   1\n",
              "0            102   4\n",
              "1             10  83"
            ]
          },
          "metadata": {
            "tags": []
          },
          "execution_count": 72
        }
      ]
    },
    {
      "cell_type": "markdown",
      "metadata": {
        "colab_type": "text",
        "id": "-0C719AT_M10"
      },
      "source": [
        "Random Forest で求められた木を基に作成する、特徴量の重要性指標。上位10遺伝子を描画してみる。\n",
        "\n",
        "clf.feature_importance_ に各特徴量の分類に関する重要性指標値が入っている。"
      ]
    },
    {
      "cell_type": "code",
      "metadata": {
        "colab_type": "code",
        "id": "4KlUDGxQ_brC",
        "outputId": "b510cdef-5aad-42d9-b8a6-c9db5a8d3bd5",
        "colab": {
          "base_uri": "https://localhost:8080/",
          "height": 518
        }
      },
      "source": [
        "# 重要性指標、値の上位10遺伝子を取り出す。\n",
        "importances = clf.feature_importances_\n",
        "N = 10\n",
        "indices = np.argsort(importances)[::-1][:N]\n",
        "std = np.std([clf.feature_importances_ for tree in clf.estimators_],\n",
        "             axis=0)\n",
        "\n",
        "# 重要性の高い特徴量から表示\n",
        "print(\"Feature ranking:\")\n",
        "for f in range(N):\n",
        "    print(\"%d. %s (%f)\" % (f + 1, df.columns[indices[f]], importances[indices[f]]))\n",
        "\n",
        "# 上記の数値を、棒グラフとして描画。\n",
        "plt.figure(figsize=(10,5))\n",
        "plt.title(\"Feature importances\")\n",
        "plt.bar(range(N), importances[indices],\n",
        "       color=\"m\", yerr=std[indices], align=\"center\")\n",
        "plt.xticks(range(N), [df.columns[indices[f]] for f in range(N)])\n",
        "plt.xlim([-1, N])\n",
        "plt.show()"
      ],
      "execution_count": 73,
      "outputs": [
        {
          "output_type": "stream",
          "text": [
            "Feature ranking:\n",
            "1. TP63 (0.046554)\n",
            "2. FANCE (0.041891)\n",
            "3. ERBB3 (0.028363)\n",
            "4. HRAS (0.025993)\n",
            "5. MUC1 (0.024014)\n",
            "6. CRKL (0.023694)\n",
            "7. RAD51 (0.023658)\n",
            "8. TTL (0.023019)\n",
            "9. NTRK2 (0.020669)\n",
            "10. TFRC (0.020140)\n"
          ],
          "name": "stdout"
        },
        {
          "output_type": "display_data",
          "data": {
            "image/png": "[encoded data removed]",
            "text/plain": [
              "<Figure size 720x360 with 1 Axes>"
            ]
          },
          "metadata": {
            "tags": []
          }
        }
      ]
    },
    {
      "cell_type": "markdown",
      "metadata": {
        "colab_type": "text",
        "id": "LIad6jTB7QiT"
      },
      "source": [
        "# 3. SVM"
      ]
    },
    {
      "cell_type": "markdown",
      "metadata": {
        "colab_type": "text",
        "id": "-nLLJrat8JBO"
      },
      "source": [
        "SVMのパッケージの読み込みと、SVM(クラス名はSVC (Support vector classification))の実施。\n",
        "* SVC内のオプションは、scikit-learn のマニュアル ([sklearn.svm.SVC](https://scikit-learn.org/stable/modules/generated/sklearn.svm.SVC.html)) を参照。SVMでは、C、gamma、kernel が主要なパラメータ。\n",
        "* probability=Trueは、ROCカーブを書くために出力値の追加のオプション\n",
        "\n",
        "手順が、KNNとほとんど同じであることに注意。以下のクラス分類手法も、ほぼ同じ手順で学習が可能。"
      ]
    },
    {
      "cell_type": "code",
      "metadata": {
        "colab_type": "code",
        "id": "YS_lf1Qf7IP4",
        "outputId": "64d54396-3090-4af5-d3db-e780bf4cbde5",
        "colab": {
          "base_uri": "https://localhost:8080/",
          "height": 83
        }
      },
      "source": [
        "from sklearn.svm import SVC\n",
        "from sklearn.svm import SVC # 191016\n",
        "clf = SVC(C=100, gamma='auto', kernel='rbf', probability=True) #　実行するクラス分類機の設定。ここではSVM\n",
        "clf.fit(X_train, y_train) # クラス分類の実行、モデルの作成"
      ],
      "execution_count": 74,
      "outputs": [
        {
          "output_type": "execute_result",
          "data": {
            "text/plain": [
              "SVC(C=100, cache_size=200, class_weight=None, coef0=0.0,\n",
              "    decision_function_shape='ovr', degree=3, gamma='auto', kernel='rbf',\n",
              "    max_iter=-1, probability=True, random_state=None, shrinking=True, tol=0.001,\n",
              "    verbose=False)"
            ]
          },
          "metadata": {
            "tags": []
          },
          "execution_count": 74
        }
      ]
    },
    {
      "cell_type": "markdown",
      "metadata": {
        "colab_type": "text",
        "id": "DhSgM-9-88bT"
      },
      "source": [
        "精度の調査 "
      ]
    },
    {
      "cell_type": "code",
      "metadata": {
        "colab_type": "code",
        "id": "QsiCXUni8FAj",
        "outputId": "c42d32de-3fc7-40c4-f818-f7e1498ea6d9",
        "colab": {
          "base_uri": "https://localhost:8080/",
          "height": 50
        }
      },
      "source": [
        "# 訓練データでの精度\n",
        "y_train_pred = clf.predict(X_train)\n",
        "print(\"Training accuracy: \", accuracy_score(y_train, y_train_pred))\n",
        "# テストデータでの精度\n",
        "y_test_pred = clf.predict(X_test)\n",
        "print(\"Test accuracy: \", accuracy_score(y_test, y_test_pred))"
      ],
      "execution_count": 75,
      "outputs": [
        {
          "output_type": "stream",
          "text": [
            "Training accuracy:  1.0\n",
            "Test accuracy:  0.9095477386934674\n"
          ],
          "name": "stdout"
        }
      ]
    },
    {
      "cell_type": "markdown",
      "metadata": {
        "colab_type": "text",
        "id": "XNaDg4EsWKh7"
      },
      "source": [
        "学習データにおける分類結果の分割表を調べる。"
      ]
    },
    {
      "cell_type": "code",
      "metadata": {
        "colab_type": "code",
        "id": "5CmYy4rD810a",
        "outputId": "1b62b05d-e641-4844-802f-d09a70957e7c",
        "colab": {
          "base_uri": "https://localhost:8080/",
          "height": 107
        }
      },
      "source": [
        "from sklearn.metrics import confusion_matrix\n",
        "targets = [\"Prediction: 0\", \"1\"]\n",
        "pd.DataFrame(confusion_matrix(y_train, y_train_pred), columns=targets) # Training"
      ],
      "execution_count": 76,
      "outputs": [
        {
          "output_type": "execute_result",
          "data": {
            "text/html": [
              "<div>\n",
              "<style scoped>\n",
              "    .dataframe tbody tr th:only-of-type {\n",
              "        vertical-align: middle;\n",
              "    }\n",
              "\n",
              "    .dataframe tbody tr th {\n",
              "        vertical-align: top;\n",
              "    }\n",
              "\n",
              "    .dataframe thead th {\n",
              "        text-align: right;\n",
              "    }\n",
              "</style>\n",
              "<table border=\"1\" class=\"dataframe\">\n",
              "  <thead>\n",
              "    <tr style=\"text-align: right;\">\n",
              "      <th></th>\n",
              "      <th>Prediction: 0</th>\n",
              "      <th>1</th>\n",
              "    </tr>\n",
              "  </thead>\n",
              "  <tbody>\n",
              "    <tr>\n",
              "      <th>0</th>\n",
              "      <td>404</td>\n",
              "      <td>0</td>\n",
              "    </tr>\n",
              "    <tr>\n",
              "      <th>1</th>\n",
              "      <td>0</td>\n",
              "      <td>391</td>\n",
              "    </tr>\n",
              "  </tbody>\n",
              "</table>\n",
              "</div>"
            ],
            "text/plain": [
              "   Prediction: 0    1\n",
              "0            404    0\n",
              "1              0  391"
            ]
          },
          "metadata": {
            "tags": []
          },
          "execution_count": 76
        }
      ]
    },
    {
      "cell_type": "markdown",
      "metadata": {
        "colab_type": "text",
        "id": "5-kXj7grWavp"
      },
      "source": [
        "同様に、テストデータにおける分類結果も調べる。"
      ]
    },
    {
      "cell_type": "code",
      "metadata": {
        "colab_type": "code",
        "id": "iZrJy5t3Wdw5",
        "outputId": "8dd0474c-187e-4d6d-fda8-4b6e514a7f17",
        "colab": {
          "base_uri": "https://localhost:8080/",
          "height": 107
        }
      },
      "source": [
        "targets = [\"Prediction: 0\", \"1\"]\n",
        "pd.DataFrame(confusion_matrix(y_test, y_test_pred), columns=targets) # Training"
      ],
      "execution_count": 77,
      "outputs": [
        {
          "output_type": "execute_result",
          "data": {
            "text/html": [
              "<div>\n",
              "<style scoped>\n",
              "    .dataframe tbody tr th:only-of-type {\n",
              "        vertical-align: middle;\n",
              "    }\n",
              "\n",
              "    .dataframe tbody tr th {\n",
              "        vertical-align: top;\n",
              "    }\n",
              "\n",
              "    .dataframe thead th {\n",
              "        text-align: right;\n",
              "    }\n",
              "</style>\n",
              "<table border=\"1\" class=\"dataframe\">\n",
              "  <thead>\n",
              "    <tr style=\"text-align: right;\">\n",
              "      <th></th>\n",
              "      <th>Prediction: 0</th>\n",
              "      <th>1</th>\n",
              "    </tr>\n",
              "  </thead>\n",
              "  <tbody>\n",
              "    <tr>\n",
              "      <th>0</th>\n",
              "      <td>100</td>\n",
              "      <td>6</td>\n",
              "    </tr>\n",
              "    <tr>\n",
              "      <th>1</th>\n",
              "      <td>12</td>\n",
              "      <td>81</td>\n",
              "    </tr>\n",
              "  </tbody>\n",
              "</table>\n",
              "</div>"
            ],
            "text/plain": [
              "   Prediction: 0   1\n",
              "0            100   6\n",
              "1             12  81"
            ]
          },
          "metadata": {
            "tags": []
          },
          "execution_count": 77
        }
      ]
    },
    {
      "cell_type": "markdown",
      "metadata": {
        "colab_type": "text",
        "id": "RA4kUL6qWoP5"
      },
      "source": [
        "ROCカーブで性能を評価する。"
      ]
    },
    {
      "cell_type": "code",
      "metadata": {
        "colab_type": "code",
        "id": "Fe_FIQfz8-JP",
        "outputId": "328cc220-00ba-467c-cfa0-7ab34cfdc5ee",
        "colab": {
          "base_uri": "https://localhost:8080/",
          "height": 294
        }
      },
      "source": [
        "# SVMで出力を確率値にする\n",
        "y_test_proba = clf.predict_proba(X_test)\n",
        "\n",
        "# FPR, TPR(, しきい値) を算出\n",
        "fpr, tpr, thresholds = metrics.roc_curve(y_test, y_test_proba[:,1])\n",
        "auc = metrics.auc(fpr, tpr)\n",
        "\n",
        "# ROC曲線をプロット\n",
        "plt.plot(fpr, tpr, label='ROC curve (area = %.2f)'%auc)\n",
        "plt.legend()\n",
        "plt.title('ROC curve')\n",
        "plt.xlabel('False Positive Rate')\n",
        "plt.ylabel('True Positive Rate')\n",
        "plt.grid(True)"
      ],
      "execution_count": 78,
      "outputs": [
        {
          "output_type": "display_data",
          "data": {
            "image/png": "[encoded data removed]",
            "text/plain": [
              "<Figure size 432x288 with 1 Axes>"
            ]
          },
          "metadata": {
            "tags": []
          }
        }
      ]
    },
    {
      "cell_type": "markdown",
      "metadata": {
        "colab_type": "text",
        "id": "w94ekih5Ba7q"
      },
      "source": [
        "# 4. Cross validation (交差検証)\n",
        "\n",
        "交差検証をKFoldを利用して実施する。\n",
        "典型例としてSVMに対して行う。"
      ]
    },
    {
      "cell_type": "code",
      "metadata": {
        "colab_type": "code",
        "id": "oiCLAYxxBW_t",
        "outputId": "ffff98d0-e1c5-4fdf-937b-577d6f90b2c0",
        "colab": {
          "base_uri": "https://localhost:8080/",
          "height": 133
        }
      },
      "source": [
        "# SVMで Cross Validationを実行する例\n",
        "from sklearn.model_selection import KFold\n",
        "kf = KFold(n_splits=5, shuffle=True)  # n_splitsで分割数を指定する。ここでは5-fold cross validationを実施する\n",
        "accuracies = []\n",
        "for train_index, test_index in kf.split(X):\n",
        "    X_train, X_test = X[train_index], X[test_index]\n",
        "    y_train, y_test = y[train_index], y[test_index]\n",
        "    #　実行するクラス分類機の設定。ここではSVM\n",
        "    clf = SVC(gamma='auto', probability=True) \n",
        "    clf.fit(X_train, y_train) # クラス分類の実行、モデルの作成\n",
        "    # テストデータでの精度\n",
        "    y_test_pred = clf.predict(X_test)\n",
        "    acc = accuracy_score(y_test, y_test_pred)\n",
        "    accuracies.append(acc)\n",
        "    print(\"Accuracy: \", acc)\n",
        "print(\"Mean Accuracy: \", np.mean(accuracies))\n",
        "print(\"SD: \", np.std(accuracies))"
      ],
      "execution_count": 79,
      "outputs": [
        {
          "output_type": "stream",
          "text": [
            "Accuracy:  0.9246231155778895\n",
            "Accuracy:  0.964824120603015\n",
            "Accuracy:  0.9597989949748744\n",
            "Accuracy:  0.9346733668341709\n",
            "Accuracy:  0.9444444444444444\n",
            "Mean Accuracy:  0.945672808486879\n",
            "SD:  0.015045983297333037\n"
          ],
          "name": "stdout"
        }
      ]
    },
    {
      "cell_type": "markdown",
      "metadata": {
        "colab_type": "text",
        "id": "HzNszl_uBp3h"
      },
      "source": [
        "頻出する手順なので、上記のルーティンをまとめた関数 cross_val_score が提供されている。"
      ]
    },
    {
      "cell_type": "code",
      "metadata": {
        "colab_type": "code",
        "id": "X2yBE3cwBhxO",
        "outputId": "3c5a5fbd-8fc5-4638-bdfa-b06199fab923",
        "colab": {
          "base_uri": "https://localhost:8080/",
          "height": 50
        }
      },
      "source": [
        "from sklearn.model_selection import KFold, cross_val_score\n",
        "kf = KFold(n_splits=5, shuffle=True)\n",
        "clf = SVC(gamma='auto', probability=True) \n",
        "accuracies = cross_val_score(clf, X, y, cv=kf, scoring='precision_macro')\n",
        "print(\"Mean Accuracy: \", np.mean(accuracies))\n",
        "print(\"SD: \", np.std(accuracies))"
      ],
      "execution_count": 80,
      "outputs": [
        {
          "output_type": "stream",
          "text": [
            "Mean Accuracy:  0.9476443085601304\n",
            "SD:  0.01904389778999563\n"
          ],
          "name": "stdout"
        }
      ]
    },
    {
      "cell_type": "markdown",
      "metadata": {
        "colab_type": "text",
        "id": "vk9Y5t9tB3e7"
      },
      "source": [
        "# 5. ハイパーパラメータのGrid Search\n",
        "\n",
        "パラメータ（ハイパーパラメータ）の決定には、複数のパラメータによる実験・評価が必要である。ここでは、Grid Searchを用いて、下記のSVMのパラメータのパターンを全て探索する。\n",
        "\n",
        "* SVMのパラメータ\n",
        "  * カーネル(kernerl)：\"linear\", \"rbf\"\n",
        "  * ペナルティパラメータ C：1, 10"
      ]
    },
    {
      "cell_type": "code",
      "metadata": {
        "colab_type": "code",
        "id": "PNiyYK09Bv2L",
        "outputId": "05b07f8f-6ebe-428f-9958-8ad259e7535b",
        "colab": {
          "base_uri": "https://localhost:8080/",
          "height": 200
        }
      },
      "source": [
        "from sklearn.model_selection import GridSearchCV, cross_val_score\n",
        "kf = KFold(n_splits=5, shuffle=True)\n",
        "clf = SVC(gamma='auto', probability=True)\n",
        "# 探索するパラメータを指定する\n",
        "parameters = {'kernel':('linear', 'rbf'), 'C':[10,100,1000]}\n",
        "# Grid Searchの実施\n",
        "grid_clf = GridSearchCV(estimator=clf, cv=kf, param_grid=parameters, n_jobs=-1)\n",
        "grid_clf.fit(X_train, y_train)"
      ],
      "execution_count": 81,
      "outputs": [
        {
          "output_type": "execute_result",
          "data": {
            "text/plain": [
              "GridSearchCV(cv=KFold(n_splits=5, random_state=None, shuffle=True),\n",
              "             error_score='raise-deprecating',\n",
              "             estimator=SVC(C=1.0, cache_size=200, class_weight=None, coef0=0.0,\n",
              "                           decision_function_shape='ovr', degree=3,\n",
              "                           gamma='auto', kernel='rbf', max_iter=-1,\n",
              "                           probability=True, random_state=None, shrinking=True,\n",
              "                           tol=0.001, verbose=False),\n",
              "             iid='warn', n_jobs=-1,\n",
              "             param_grid={'C': [10, 100, 1000], 'kernel': ('linear', 'rbf')},\n",
              "             pre_dispatch='2*n_jobs', refit=True, return_train_score=False,\n",
              "             scoring=None, verbose=0)"
            ]
          },
          "metadata": {
            "tags": []
          },
          "execution_count": 81
        }
      ]
    },
    {
      "cell_type": "markdown",
      "metadata": {
        "colab_type": "text",
        "id": "ovd1w0FD8yT_"
      },
      "source": [
        "ベストスコアと、そのパラメータを出力する。"
      ]
    },
    {
      "cell_type": "code",
      "metadata": {
        "colab_type": "code",
        "id": "25XC4XSgCJSD",
        "outputId": "9d3e6124-c845-4e1c-921f-80ffdff3256f",
        "colab": {
          "base_uri": "https://localhost:8080/",
          "height": 66
        }
      },
      "source": [
        "print(\"Best score: \", grid_clf.best_score_)\n",
        "print(\"kernel: \", grid_clf.best_estimator_.kernel)\n",
        "print(\"C: \", grid_clf.best_estimator_.C)"
      ],
      "execution_count": 82,
      "outputs": [
        {
          "output_type": "stream",
          "text": [
            "Best score:  0.9522613065326633\n",
            "kernel:  rbf\n",
            "C:  10\n"
          ],
          "name": "stdout"
        }
      ]
    },
    {
      "cell_type": "code",
      "metadata": {
        "colab_type": "code",
        "id": "sKEfkQXV--DT",
        "colab": {}
      },
      "source": [
        ""
      ],
      "execution_count": 0,
      "outputs": []
    }
  ]
}