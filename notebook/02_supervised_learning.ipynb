{
 "cells": [
  {
   "cell_type": "markdown",
   "metadata": {
    "colab_type": "text",
    "id": "Oe7MKwRLI5hS"
   },
   "source": [
    "# 教師あり学習"
   ]
  },
  {
   "cell_type": "markdown",
   "metadata": {
    "colab_type": "text",
    "id": "IpnCzLQY90uV"
   },
   "source": [
    "* データ （ダウンロード後、指示に従ってアップロードする）CSV形式：[exp_data.csv](https://github.com/HumanomeLab/TMDU_lecture_2019/blob/master/data/exp_data.csv)\n",
    "  * データ(exp_data.csv)は前回と同じものなので、手元に持っている場合にはダウンロードの必要は無い\n"
   ]
  },
  {
   "cell_type": "markdown",
   "metadata": {
    "colab_type": "text",
    "id": "kiDbKwdtuQjT"
   },
   "source": [
    "# 0. データの準備\n",
    "## 0.1 ライブラリとデータのインポート"
   ]
  },
  {
   "cell_type": "markdown",
   "metadata": {
    "colab_type": "text",
    "id": "lCUuTm7YuVDv"
   },
   "source": [
    "必要なライブラリのインポート。Seabornを利用しないこと以外は、前回同様。"
   ]
  },
  {
   "cell_type": "code",
   "execution_count": 0,
   "metadata": {
    "colab": {},
    "colab_type": "code",
    "id": "t-aqjqsGsUeo"
   },
   "outputs": [],
   "source": [
    "import pandas as pd\n",
    "import numpy as np\n",
    "import matplotlib.pyplot as plt"
   ]
  },
  {
   "cell_type": "markdown",
   "metadata": {
    "colab_type": "text",
    "id": "-QrPDUXIuXz3"
   },
   "source": [
    "データの読み込み。予め前回と同様に、exp_data.csvをアップロードする必要がある。\n",
    "df_class.shape で、994行（サンプル）、907列（遺伝子）あることを確認する。"
   ]
  },
  {
   "cell_type": "code",
   "execution_count": 0,
   "metadata": {
    "colab": {
     "base_uri": "https://localhost:8080/",
     "height": 52
    },
    "colab_type": "code",
    "id": "xwpqFpi2sezt",
    "outputId": "e9ced1e1-7457-42d1-d88f-79f9fa71d335"
   },
   "outputs": [
    {
     "name": "stdout",
     "output_type": "stream",
     "text": [
      "(994, 907)\n",
      "(994, 906)\n"
     ]
    }
   ],
   "source": [
    "df_class = pd.read_csv(\"exp_data.csv\", index_col=\"Name\")\n",
    "df = df_class.drop(\"class\", axis=1)\n",
    "print(df_class.shape)\n",
    "print(df.shape)"
   ]
  },
  {
   "cell_type": "markdown",
   "metadata": {
    "colab_type": "text",
    "id": "Jjl5uFQguInx"
   },
   "source": [
    "前回は紹介していない内容で便利なメソッドとしてdescribe()がある。各列の統計値を出すことが出来る。"
   ]
  },
  {
   "cell_type": "code",
   "execution_count": 0,
   "metadata": {
    "colab": {
     "base_uri": "https://localhost:8080/",
     "height": 344
    },
    "colab_type": "code",
    "id": "o6W07-gFuEYR",
    "outputId": "d0e28b75-79f8-45dc-eb43-a296525deb18"
   },
   "outputs": [
    {
     "data": {
      "text/html": [
       "<div>\n",
       "<style scoped>\n",
       "    .dataframe tbody tr th:only-of-type {\n",
       "        vertical-align: middle;\n",
       "    }\n",
       "\n",
       "    .dataframe tbody tr th {\n",
       "        vertical-align: top;\n",
       "    }\n",
       "\n",
       "    .dataframe thead th {\n",
       "        text-align: right;\n",
       "    }\n",
       "</style>\n",
       "<table border=\"1\" class=\"dataframe\">\n",
       "  <thead>\n",
       "    <tr style=\"text-align: right;\">\n",
       "      <th></th>\n",
       "      <th>AAMP</th>\n",
       "      <th>AARS2</th>\n",
       "      <th>ABCA9</th>\n",
       "      <th>ABCB1</th>\n",
       "      <th>ABCG4</th>\n",
       "      <th>ABI1</th>\n",
       "      <th>ABL1</th>\n",
       "      <th>ABL2</th>\n",
       "      <th>ABRAXAS1</th>\n",
       "      <th>ACKR3</th>\n",
       "      <th>...</th>\n",
       "      <th>ZNF217</th>\n",
       "      <th>ZNF24</th>\n",
       "      <th>ZNF300</th>\n",
       "      <th>ZNF331</th>\n",
       "      <th>ZNF384</th>\n",
       "      <th>ZNF521</th>\n",
       "      <th>ZNF703</th>\n",
       "      <th>ZNF750</th>\n",
       "      <th>ZNF91</th>\n",
       "      <th>ZRSR2</th>\n",
       "    </tr>\n",
       "  </thead>\n",
       "  <tbody>\n",
       "    <tr>\n",
       "      <th>count</th>\n",
       "      <td>994.000000</td>\n",
       "      <td>994.000000</td>\n",
       "      <td>994.000000</td>\n",
       "      <td>994.000000</td>\n",
       "      <td>994.000000</td>\n",
       "      <td>994.000000</td>\n",
       "      <td>994.000000</td>\n",
       "      <td>994.000000</td>\n",
       "      <td>994.000000</td>\n",
       "      <td>994.000000</td>\n",
       "      <td>...</td>\n",
       "      <td>994.000000</td>\n",
       "      <td>994.000000</td>\n",
       "      <td>994.000000</td>\n",
       "      <td>994.000000</td>\n",
       "      <td>994.000000</td>\n",
       "      <td>994.000000</td>\n",
       "      <td>994.000000</td>\n",
       "      <td>994.000000</td>\n",
       "      <td>994.000000</td>\n",
       "      <td>994.000000</td>\n",
       "    </tr>\n",
       "    <tr>\n",
       "      <th>mean</th>\n",
       "      <td>3.394743</td>\n",
       "      <td>2.678533</td>\n",
       "      <td>1.460645</td>\n",
       "      <td>1.526119</td>\n",
       "      <td>0.498881</td>\n",
       "      <td>3.244420</td>\n",
       "      <td>3.265563</td>\n",
       "      <td>2.933774</td>\n",
       "      <td>2.271508</td>\n",
       "      <td>2.951437</td>\n",
       "      <td>...</td>\n",
       "      <td>3.230092</td>\n",
       "      <td>3.196133</td>\n",
       "      <td>1.833106</td>\n",
       "      <td>2.588444</td>\n",
       "      <td>3.086075</td>\n",
       "      <td>2.062870</td>\n",
       "      <td>2.228635</td>\n",
       "      <td>2.445284</td>\n",
       "      <td>2.347372</td>\n",
       "      <td>2.277585</td>\n",
       "    </tr>\n",
       "    <tr>\n",
       "      <th>std</th>\n",
       "      <td>0.123715</td>\n",
       "      <td>0.179999</td>\n",
       "      <td>0.421810</td>\n",
       "      <td>0.433981</td>\n",
       "      <td>0.460353</td>\n",
       "      <td>0.150565</td>\n",
       "      <td>0.169559</td>\n",
       "      <td>0.184345</td>\n",
       "      <td>0.212505</td>\n",
       "      <td>0.617959</td>\n",
       "      <td>...</td>\n",
       "      <td>0.205617</td>\n",
       "      <td>0.164322</td>\n",
       "      <td>0.458601</td>\n",
       "      <td>0.295475</td>\n",
       "      <td>0.154303</td>\n",
       "      <td>0.399491</td>\n",
       "      <td>0.492956</td>\n",
       "      <td>0.692941</td>\n",
       "      <td>0.349965</td>\n",
       "      <td>0.195613</td>\n",
       "    </tr>\n",
       "    <tr>\n",
       "      <th>min</th>\n",
       "      <td>2.937886</td>\n",
       "      <td>1.752758</td>\n",
       "      <td>-0.096584</td>\n",
       "      <td>-0.334138</td>\n",
       "      <td>-1.000000</td>\n",
       "      <td>2.764830</td>\n",
       "      <td>2.463578</td>\n",
       "      <td>2.196295</td>\n",
       "      <td>1.475671</td>\n",
       "      <td>1.438949</td>\n",
       "      <td>...</td>\n",
       "      <td>1.832261</td>\n",
       "      <td>2.744736</td>\n",
       "      <td>-0.465466</td>\n",
       "      <td>1.348937</td>\n",
       "      <td>2.585842</td>\n",
       "      <td>0.524370</td>\n",
       "      <td>0.756469</td>\n",
       "      <td>-0.072527</td>\n",
       "      <td>0.758306</td>\n",
       "      <td>1.625427</td>\n",
       "    </tr>\n",
       "    <tr>\n",
       "      <th>25%</th>\n",
       "      <td>3.309720</td>\n",
       "      <td>2.568492</td>\n",
       "      <td>1.177805</td>\n",
       "      <td>1.247027</td>\n",
       "      <td>0.254274</td>\n",
       "      <td>3.137137</td>\n",
       "      <td>3.175167</td>\n",
       "      <td>2.823876</td>\n",
       "      <td>2.136015</td>\n",
       "      <td>2.463903</td>\n",
       "      <td>...</td>\n",
       "      <td>3.111038</td>\n",
       "      <td>3.086869</td>\n",
       "      <td>1.562930</td>\n",
       "      <td>2.418549</td>\n",
       "      <td>2.990454</td>\n",
       "      <td>1.798927</td>\n",
       "      <td>1.880190</td>\n",
       "      <td>2.118064</td>\n",
       "      <td>2.208064</td>\n",
       "      <td>2.153312</td>\n",
       "    </tr>\n",
       "    <tr>\n",
       "      <th>50%</th>\n",
       "      <td>3.392539</td>\n",
       "      <td>2.686466</td>\n",
       "      <td>1.465954</td>\n",
       "      <td>1.523477</td>\n",
       "      <td>0.504410</td>\n",
       "      <td>3.226691</td>\n",
       "      <td>3.272993</td>\n",
       "      <td>2.945235</td>\n",
       "      <td>2.260943</td>\n",
       "      <td>2.874578</td>\n",
       "      <td>...</td>\n",
       "      <td>3.222527</td>\n",
       "      <td>3.191606</td>\n",
       "      <td>1.886605</td>\n",
       "      <td>2.598567</td>\n",
       "      <td>3.080545</td>\n",
       "      <td>2.088839</td>\n",
       "      <td>2.243379</td>\n",
       "      <td>2.582879</td>\n",
       "      <td>2.409819</td>\n",
       "      <td>2.278384</td>\n",
       "    </tr>\n",
       "    <tr>\n",
       "      <th>75%</th>\n",
       "      <td>3.476430</td>\n",
       "      <td>2.785962</td>\n",
       "      <td>1.752473</td>\n",
       "      <td>1.811056</td>\n",
       "      <td>0.760043</td>\n",
       "      <td>3.337827</td>\n",
       "      <td>3.377852</td>\n",
       "      <td>3.051225</td>\n",
       "      <td>2.396490</td>\n",
       "      <td>3.440331</td>\n",
       "      <td>...</td>\n",
       "      <td>3.347498</td>\n",
       "      <td>3.290847</td>\n",
       "      <td>2.148996</td>\n",
       "      <td>2.776645</td>\n",
       "      <td>3.180512</td>\n",
       "      <td>2.329832</td>\n",
       "      <td>2.581951</td>\n",
       "      <td>2.936400</td>\n",
       "      <td>2.567327</td>\n",
       "      <td>2.423345</td>\n",
       "    </tr>\n",
       "    <tr>\n",
       "      <th>max</th>\n",
       "      <td>3.950669</td>\n",
       "      <td>3.423044</td>\n",
       "      <td>2.624436</td>\n",
       "      <td>3.067718</td>\n",
       "      <td>2.081639</td>\n",
       "      <td>3.813918</td>\n",
       "      <td>3.798831</td>\n",
       "      <td>3.567607</td>\n",
       "      <td>3.162370</td>\n",
       "      <td>4.443498</td>\n",
       "      <td>...</td>\n",
       "      <td>4.314649</td>\n",
       "      <td>4.258328</td>\n",
       "      <td>2.996294</td>\n",
       "      <td>3.890578</td>\n",
       "      <td>3.772474</td>\n",
       "      <td>3.797340</td>\n",
       "      <td>3.958917</td>\n",
       "      <td>3.863004</td>\n",
       "      <td>3.353008</td>\n",
       "      <td>2.810002</td>\n",
       "    </tr>\n",
       "  </tbody>\n",
       "</table>\n",
       "<p>8 rows × 906 columns</p>\n",
       "</div>"
      ],
      "text/plain": [
       "             AAMP       AARS2       ABCA9       ABCB1       ABCG4        ABI1  \\\n",
       "count  994.000000  994.000000  994.000000  994.000000  994.000000  994.000000   \n",
       "mean     3.394743    2.678533    1.460645    1.526119    0.498881    3.244420   \n",
       "std      0.123715    0.179999    0.421810    0.433981    0.460353    0.150565   \n",
       "min      2.937886    1.752758   -0.096584   -0.334138   -1.000000    2.764830   \n",
       "25%      3.309720    2.568492    1.177805    1.247027    0.254274    3.137137   \n",
       "50%      3.392539    2.686466    1.465954    1.523477    0.504410    3.226691   \n",
       "75%      3.476430    2.785962    1.752473    1.811056    0.760043    3.337827   \n",
       "max      3.950669    3.423044    2.624436    3.067718    2.081639    3.813918   \n",
       "\n",
       "             ABL1        ABL2    ABRAXAS1       ACKR3     ...          ZNF217  \\\n",
       "count  994.000000  994.000000  994.000000  994.000000     ...      994.000000   \n",
       "mean     3.265563    2.933774    2.271508    2.951437     ...        3.230092   \n",
       "std      0.169559    0.184345    0.212505    0.617959     ...        0.205617   \n",
       "min      2.463578    2.196295    1.475671    1.438949     ...        1.832261   \n",
       "25%      3.175167    2.823876    2.136015    2.463903     ...        3.111038   \n",
       "50%      3.272993    2.945235    2.260943    2.874578     ...        3.222527   \n",
       "75%      3.377852    3.051225    2.396490    3.440331     ...        3.347498   \n",
       "max      3.798831    3.567607    3.162370    4.443498     ...        4.314649   \n",
       "\n",
       "            ZNF24      ZNF300      ZNF331      ZNF384      ZNF521      ZNF703  \\\n",
       "count  994.000000  994.000000  994.000000  994.000000  994.000000  994.000000   \n",
       "mean     3.196133    1.833106    2.588444    3.086075    2.062870    2.228635   \n",
       "std      0.164322    0.458601    0.295475    0.154303    0.399491    0.492956   \n",
       "min      2.744736   -0.465466    1.348937    2.585842    0.524370    0.756469   \n",
       "25%      3.086869    1.562930    2.418549    2.990454    1.798927    1.880190   \n",
       "50%      3.191606    1.886605    2.598567    3.080545    2.088839    2.243379   \n",
       "75%      3.290847    2.148996    2.776645    3.180512    2.329832    2.581951   \n",
       "max      4.258328    2.996294    3.890578    3.772474    3.797340    3.958917   \n",
       "\n",
       "           ZNF750       ZNF91       ZRSR2  \n",
       "count  994.000000  994.000000  994.000000  \n",
       "mean     2.445284    2.347372    2.277585  \n",
       "std      0.692941    0.349965    0.195613  \n",
       "min     -0.072527    0.758306    1.625427  \n",
       "25%      2.118064    2.208064    2.153312  \n",
       "50%      2.582879    2.409819    2.278384  \n",
       "75%      2.936400    2.567327    2.423345  \n",
       "max      3.863004    3.353008    2.810002  \n",
       "\n",
       "[8 rows x 906 columns]"
      ]
     },
     "execution_count": 3,
     "metadata": {
      "tags": []
     },
     "output_type": "execute_result"
    }
   ],
   "source": [
    "df.describe()"
   ]
  },
  {
   "cell_type": "markdown",
   "metadata": {
    "colab_type": "text",
    "id": "W5pNMEusACgl"
   },
   "source": [
    "collections.Counter で、値の出現回数をカウントする。"
   ]
  },
  {
   "cell_type": "code",
   "execution_count": 0,
   "metadata": {
    "colab": {
     "base_uri": "https://localhost:8080/",
     "height": 35
    },
    "colab_type": "code",
    "id": "SbC_urpkuiSA",
    "outputId": "44d99f87-cf89-4aaf-d986-f5d969744292"
   },
   "outputs": [
    {
     "data": {
      "text/plain": [
       "Counter({0: 510, 1: 484})"
      ]
     },
     "execution_count": 4,
     "metadata": {
      "tags": []
     },
     "output_type": "execute_result"
    }
   ],
   "source": [
    "import collections\n",
    "collections.Counter(np.array(df_class[\"class\"]))"
   ]
  },
  {
   "cell_type": "code",
   "execution_count": 0,
   "metadata": {
    "colab": {},
    "colab_type": "code",
    "id": "OaxIXjyduHpN"
   },
   "outputs": [],
   "source": [
    "# Xが特徴量、yがクラスであることを明示するため、代入。\n",
    "X = df.values\n",
    "y = df_class[\"class\"].values"
   ]
  },
  {
   "cell_type": "code",
   "execution_count": 0,
   "metadata": {
    "colab": {
     "base_uri": "https://localhost:8080/",
     "height": 247
    },
    "colab_type": "code",
    "id": "0bDVBW4SDZ0C",
    "outputId": "53a518b9-6483-47cf-bb85-0212cf795849"
   },
   "outputs": [
    {
     "data": {
      "text/plain": [
       "array([[3.28224815, 2.71343006, 1.34909289, ..., 1.19612642, 2.19029527,\n",
       "        2.17130219],\n",
       "       [3.35003276, 2.5042166 , 1.62506848, ..., 3.01484383, 2.76762999,\n",
       "        2.22212835],\n",
       "       [3.44853937, 2.61471271, 1.32678426, ..., 1.31299565, 2.23910669,\n",
       "        2.19270402],\n",
       "       ...,\n",
       "       [3.49341762, 2.70260198, 1.78584712, ..., 3.39672576, 2.47883766,\n",
       "        2.36308336],\n",
       "       [3.30675732, 2.47753219, 1.61026507, ..., 2.75123983, 2.10813187,\n",
       "        2.14802547],\n",
       "       [3.32162328, 2.32313448, 0.97939812, ..., 3.22883905, 2.16691831,\n",
       "        2.1715919 ]])"
      ]
     },
     "execution_count": 6,
     "metadata": {
      "tags": []
     },
     "output_type": "execute_result"
    }
   ],
   "source": [
    "X"
   ]
  },
  {
   "cell_type": "code",
   "execution_count": 0,
   "metadata": {
    "colab": {
     "base_uri": "https://localhost:8080/",
     "height": 832
    },
    "colab_type": "code",
    "id": "klTawsbVDcwA",
    "outputId": "7ec732dc-029a-4933-f2c9-713cb211432b"
   },
   "outputs": [
    {
     "data": {
      "text/plain": [
       "array([0, 0, 0, 0, 0, 0, 0, 0, 0, 0, 0, 0, 0, 0, 0, 0, 0, 0, 0, 0, 0, 0,\n",
       "       0, 0, 0, 0, 0, 0, 0, 0, 0, 0, 0, 0, 0, 0, 0, 0, 0, 0, 0, 0, 0, 0,\n",
       "       0, 0, 0, 0, 0, 0, 0, 0, 0, 0, 0, 0, 0, 0, 0, 0, 0, 0, 0, 0, 0, 0,\n",
       "       0, 0, 0, 0, 0, 0, 0, 0, 0, 0, 0, 0, 0, 0, 0, 0, 0, 0, 0, 0, 0, 0,\n",
       "       0, 0, 0, 0, 0, 0, 0, 0, 0, 0, 0, 0, 0, 0, 0, 0, 0, 0, 0, 0, 0, 0,\n",
       "       0, 0, 0, 0, 0, 0, 0, 0, 0, 0, 0, 0, 0, 0, 0, 0, 0, 0, 0, 0, 0, 0,\n",
       "       0, 0, 0, 0, 0, 0, 0, 0, 0, 0, 0, 0, 0, 0, 0, 0, 0, 0, 0, 0, 0, 0,\n",
       "       0, 0, 0, 0, 0, 0, 0, 0, 0, 0, 0, 0, 0, 0, 0, 0, 0, 0, 0, 0, 0, 0,\n",
       "       0, 0, 0, 0, 0, 0, 0, 0, 0, 0, 0, 0, 0, 0, 0, 0, 0, 0, 0, 0, 0, 0,\n",
       "       0, 0, 0, 0, 0, 0, 0, 0, 0, 0, 0, 0, 0, 0, 0, 0, 0, 0, 0, 0, 0, 0,\n",
       "       0, 0, 0, 0, 0, 0, 0, 0, 0, 0, 0, 0, 0, 0, 0, 0, 0, 0, 0, 0, 0, 0,\n",
       "       0, 0, 0, 0, 0, 0, 0, 0, 0, 0, 0, 0, 0, 0, 0, 0, 0, 0, 0, 0, 0, 0,\n",
       "       0, 0, 0, 0, 0, 0, 0, 0, 0, 0, 0, 0, 0, 0, 0, 0, 0, 0, 0, 0, 0, 0,\n",
       "       0, 0, 0, 0, 0, 0, 0, 0, 0, 0, 0, 0, 0, 0, 0, 0, 0, 0, 0, 0, 0, 0,\n",
       "       0, 0, 0, 0, 0, 0, 0, 0, 0, 0, 0, 0, 0, 0, 0, 0, 0, 0, 0, 0, 0, 0,\n",
       "       0, 0, 0, 0, 0, 0, 0, 0, 0, 0, 0, 0, 0, 0, 0, 0, 0, 0, 0, 0, 0, 0,\n",
       "       0, 0, 0, 0, 0, 0, 0, 0, 0, 0, 0, 0, 0, 0, 0, 0, 0, 0, 0, 0, 0, 0,\n",
       "       0, 0, 0, 0, 0, 0, 0, 0, 0, 0, 0, 0, 0, 0, 0, 0, 0, 0, 0, 0, 0, 0,\n",
       "       0, 0, 0, 0, 0, 0, 0, 0, 0, 0, 0, 0, 0, 0, 0, 0, 0, 0, 0, 0, 0, 0,\n",
       "       0, 0, 0, 0, 0, 0, 0, 0, 0, 0, 0, 0, 0, 0, 0, 0, 0, 0, 0, 0, 0, 0,\n",
       "       0, 0, 0, 0, 0, 0, 0, 0, 0, 0, 0, 0, 0, 0, 0, 0, 0, 0, 0, 0, 0, 0,\n",
       "       0, 0, 0, 0, 0, 0, 0, 0, 0, 0, 0, 0, 0, 0, 0, 0, 0, 0, 0, 0, 0, 0,\n",
       "       0, 0, 0, 0, 0, 0, 0, 0, 0, 0, 0, 0, 0, 0, 0, 0, 0, 0, 0, 0, 0, 0,\n",
       "       0, 0, 0, 0, 1, 1, 1, 1, 1, 1, 1, 1, 1, 1, 1, 1, 1, 1, 1, 1, 1, 1,\n",
       "       1, 1, 1, 1, 1, 1, 1, 1, 1, 1, 1, 1, 1, 1, 1, 1, 1, 1, 1, 1, 1, 1,\n",
       "       1, 1, 1, 1, 1, 1, 1, 1, 1, 1, 1, 1, 1, 1, 1, 1, 1, 1, 1, 1, 1, 1,\n",
       "       1, 1, 1, 1, 1, 1, 1, 1, 1, 1, 1, 1, 1, 1, 1, 1, 1, 1, 1, 1, 1, 1,\n",
       "       1, 1, 1, 1, 1, 1, 1, 1, 1, 1, 1, 1, 1, 1, 1, 1, 1, 1, 1, 1, 1, 1,\n",
       "       1, 1, 1, 1, 1, 1, 1, 1, 1, 1, 1, 1, 1, 1, 1, 1, 1, 1, 1, 1, 1, 1,\n",
       "       1, 1, 1, 1, 1, 1, 1, 1, 1, 1, 1, 1, 1, 1, 1, 1, 1, 1, 1, 1, 1, 1,\n",
       "       1, 1, 1, 1, 1, 1, 1, 1, 1, 1, 1, 1, 1, 1, 1, 1, 1, 1, 1, 1, 1, 1,\n",
       "       1, 1, 1, 1, 1, 1, 1, 1, 1, 1, 1, 1, 1, 1, 1, 1, 1, 1, 1, 1, 1, 1,\n",
       "       1, 1, 1, 1, 1, 1, 1, 1, 1, 1, 1, 1, 1, 1, 1, 1, 1, 1, 1, 1, 1, 1,\n",
       "       1, 1, 1, 1, 1, 1, 1, 1, 1, 1, 1, 1, 1, 1, 1, 1, 1, 1, 1, 1, 1, 1,\n",
       "       1, 1, 1, 1, 1, 1, 1, 1, 1, 1, 1, 1, 1, 1, 1, 1, 1, 1, 1, 1, 1, 1,\n",
       "       1, 1, 1, 1, 1, 1, 1, 1, 1, 1, 1, 1, 1, 1, 1, 1, 1, 1, 1, 1, 1, 1,\n",
       "       1, 1, 1, 1, 1, 1, 1, 1, 1, 1, 1, 1, 1, 1, 1, 1, 1, 1, 1, 1, 1, 1,\n",
       "       1, 1, 1, 1, 1, 1, 1, 1, 1, 1, 1, 1, 1, 1, 1, 1, 1, 1, 1, 1, 1, 1,\n",
       "       1, 1, 1, 1, 1, 1, 1, 1, 1, 1, 1, 1, 1, 1, 1, 1, 1, 1, 1, 1, 1, 1,\n",
       "       1, 1, 1, 1, 1, 1, 1, 1, 1, 1, 1, 1, 1, 1, 1, 1, 1, 1, 1, 1, 1, 1,\n",
       "       1, 1, 1, 1, 1, 1, 1, 1, 1, 1, 1, 1, 1, 1, 1, 1, 1, 1, 1, 1, 1, 1,\n",
       "       1, 1, 1, 1, 1, 1, 1, 1, 1, 1, 1, 1, 1, 1, 1, 1, 1, 1, 1, 1, 1, 1,\n",
       "       1, 1, 1, 1, 1, 1, 1, 1, 1, 1, 1, 1, 1, 1, 1, 1, 1, 1, 1, 1, 1, 1,\n",
       "       1, 1, 1, 1, 1, 1, 1, 1, 1, 1, 1, 1, 1, 1, 1, 1, 1, 1, 1, 1, 1, 1,\n",
       "       1, 1, 1, 1, 1, 1, 1, 1, 1, 1, 1, 1, 1, 1, 1, 1, 1, 1, 1, 1, 1, 1,\n",
       "       1, 1, 1, 1])"
      ]
     },
     "execution_count": 7,
     "metadata": {
      "tags": []
     },
     "output_type": "execute_result"
    }
   ],
   "source": [
    "y"
   ]
  },
  {
   "cell_type": "markdown",
   "metadata": {
    "colab_type": "text",
    "id": "jrCvfsBav9gn"
   },
   "source": [
    "## 0.1 訓練データとテストデータの分割\n",
    "\n",
    "訓練データを全体の8割、テストデータを全体の2割で分割する。\n",
    "\n",
    "* X_train, X_test: 訓練データとテストデータの特徴量\n",
    "* y_train, y_test: 訓練データとテストデータのクラス\n",
    "\n",
    "ここでは、各手法に注力するため、クロスバリデーション（交差検証）と、各手法におけるパラメータの最適化は、一通り教師あり学習の話をした後に、紹介する。"
   ]
  },
  {
   "cell_type": "code",
   "execution_count": 0,
   "metadata": {
    "colab": {},
    "colab_type": "code",
    "id": "5b2HVYjTv__Y"
   },
   "outputs": [],
   "source": [
    "from sklearn.model_selection import train_test_split\n",
    "X_train, X_test, y_train, y_test = train_test_split(X, y, test_size=0.2)"
   ]
  },
  {
   "cell_type": "code",
   "execution_count": 0,
   "metadata": {
    "colab": {
     "base_uri": "https://localhost:8080/",
     "height": 88
    },
    "colab_type": "code",
    "id": "uShg2rubwUH3",
    "outputId": "b43857b4-6eb5-4371-d299-a0f67d816f00"
   },
   "outputs": [
    {
     "name": "stdout",
     "output_type": "stream",
     "text": [
      "(795, 906)\n",
      "(199, 906)\n",
      "Counter({0: 404, 1: 391})\n",
      "Counter({0: 106, 1: 93})\n"
     ]
    }
   ],
   "source": [
    "print(X_train.shape)\n",
    "print(X_test.shape)\n",
    "print(collections.Counter(np.array(y_train)))\n",
    "print(collections.Counter(np.array(y_test)))"
   ]
  },
  {
   "cell_type": "markdown",
   "metadata": {
    "colab_type": "text",
    "id": "qIbSfSG39IKC"
   },
   "source": [
    "# 1. Decision Tree（決定木）\n",
    "\n"
   ]
  },
  {
   "cell_type": "markdown",
   "metadata": {
    "colab_type": "text",
    "id": "gUJQMWAtM9Lq"
   },
   "source": [
    "## 1.1 ハイパーパラメータの指定なし"
   ]
  },
  {
   "cell_type": "markdown",
   "metadata": {
    "colab_type": "text",
    "id": "QoVWije0Ry_p"
   },
   "source": [
    "決定木のパッケージの読み込みと、分類木の構築。"
   ]
  },
  {
   "cell_type": "code",
   "execution_count": 0,
   "metadata": {
    "colab": {
     "base_uri": "https://localhost:8080/",
     "height": 123
    },
    "colab_type": "code",
    "id": "bdwiFqmH9Epv",
    "outputId": "daf2a7d1-5153-4882-9c01-265e4d9db4d7"
   },
   "outputs": [
    {
     "data": {
      "text/plain": [
       "DecisionTreeClassifier(class_weight=None, criterion='gini', max_depth=None,\n",
       "            max_features=None, max_leaf_nodes=None,\n",
       "            min_impurity_decrease=0.0, min_impurity_split=None,\n",
       "            min_samples_leaf=1, min_samples_split=2,\n",
       "            min_weight_fraction_leaf=0.0, presort=False, random_state=None,\n",
       "            splitter='best')"
      ]
     },
     "execution_count": 37,
     "metadata": {
      "tags": []
     },
     "output_type": "execute_result"
    }
   ],
   "source": [
    "from sklearn import tree\n",
    "clf = tree.DecisionTreeClassifier()\n",
    "clf.fit(X_train, y_train)"
   ]
  },
  {
   "cell_type": "markdown",
   "metadata": {
    "colab_type": "text",
    "id": "wqA--_yeJotP"
   },
   "source": [
    "構築した分類木の精度を評価する。"
   ]
  },
  {
   "cell_type": "code",
   "execution_count": 0,
   "metadata": {
    "colab": {
     "base_uri": "https://localhost:8080/",
     "height": 52
    },
    "colab_type": "code",
    "id": "3Wg4PNSQ9pZc",
    "outputId": "a6e50c6d-e3b8-4846-f7ef-d2aecaade58e"
   },
   "outputs": [
    {
     "name": "stdout",
     "output_type": "stream",
     "text": [
      "Training accuracy:  1.0\n",
      "Test accuracy:  0.8894472361809045\n"
     ]
    }
   ],
   "source": [
    "# 訓練データでの精度\n",
    "y_train_pred = clf.predict(X_train)\n",
    "print(\"Training accuracy: \", accuracy_score(y_train, y_train_pred))\n",
    "# テストデータでの精度\n",
    "y_test_pred = clf.predict(X_test)\n",
    "print(\"Test accuracy: \", accuracy_score(y_test, y_test_pred))"
   ]
  },
  {
   "cell_type": "markdown",
   "metadata": {
    "colab_type": "text",
    "id": "kRX1Jo9G9g1q"
   },
   "source": [
    "ROCカーブを描画し、予測精度を調査する。"
   ]
  },
  {
   "cell_type": "code",
   "execution_count": 0,
   "metadata": {
    "colab": {
     "base_uri": "https://localhost:8080/",
     "height": 295
    },
    "colab_type": "code",
    "id": "pn8vzoHd9zbu",
    "outputId": "8ce322da-0787-47fb-c7e1-f0ddd8877b0a"
   },
   "outputs": [
    {
     "data": {
      "image/png": "[encoded data removed]",
      "text/plain": [
       "<Figure size 432x288 with 1 Axes>"
      ]
     },
     "metadata": {
      "tags": []
     },
     "output_type": "display_data"
    }
   ],
   "source": [
    "y_test_proba = clf.predict_proba(X_test)\n",
    "\n",
    "# FPR, TPR(, しきい値) を算出\n",
    "fpr, tpr, thresholds = metrics.roc_curve(y_test, y_test_proba[:,1])\n",
    "auc = metrics.auc(fpr, tpr)\n",
    "\n",
    "# ROC曲線をプロット\n",
    "plt.plot(fpr, tpr, label='ROC curve (area = %.2f)'%auc)\n",
    "plt.legend()\n",
    "plt.title('ROC curve')\n",
    "plt.xlabel('False Positive Rate')\n",
    "plt.ylabel('True Positive Rate')\n",
    "plt.grid(True)"
   ]
  },
  {
   "cell_type": "markdown",
   "metadata": {
    "colab_type": "text",
    "id": "uUGc-g5k981v"
   },
   "source": [
    "決定木の描画\n",
    "\n",
    "描画で必要なGraphvizをインストールした後、描画。"
   ]
  },
  {
   "cell_type": "code",
   "execution_count": 0,
   "metadata": {
    "colab": {
     "base_uri": "https://localhost:8080/",
     "height": 35
    },
    "colab_type": "code",
    "id": "JYrHaj8C949H",
    "outputId": "b1019bc6-582a-4aeb-f08a-718bbc63fd77"
   },
   "outputs": [
    {
     "name": "stdout",
     "output_type": "stream",
     "text": [
      "Requirement already satisfied: graphviz in /usr/local/lib/python3.6/dist-packages (0.10.1)\n"
     ]
    }
   ],
   "source": [
    "!pip install graphviz"
   ]
  },
  {
   "cell_type": "code",
   "execution_count": 0,
   "metadata": {
    "colab": {
     "base_uri": "https://localhost:8080/",
     "height": 2757
    },
    "colab_type": "code",
    "id": "lbhLq-G3-H4Y",
    "outputId": "f1413b7e-548c-498b-c93c-6a75f68b57da"
   },
   "outputs": [
    {
     "data": {
      "image/svg+xml": [
       "<?xml version=\"1.0\" encoding=\"UTF-8\" standalone=\"no\"?>\n",
       "<!DOCTYPE svg PUBLIC \"-//W3C//DTD SVG 1.1//EN\"\n",
       " \"http://www.w3.org/Graphics/SVG/1.1/DTD/svg11.dtd\">\n",
       "<!-- Generated by graphviz version 2.40.1 (20161225.0304)\n",
       " -->\n",
       "<!-- Title: Tree Pages: 1 -->\n",
       "<svg width=\"1542pt\" height=\"2037pt\"\n",
       " viewBox=\"0.00 0.00 1541.50 2037.00\" xmlns=\"http://www.w3.org/2000/svg\" xmlns:xlink=\"http://www.w3.org/1999/xlink\">\n",
       "<g id=\"graph0\" class=\"graph\" transform=\"scale(1 1) rotate(0) translate(4 2033)\">\n",
       "<title>Tree</title>\n",
       "<polygon fill=\"#ffffff\" stroke=\"transparent\" points=\"-4,4 -4,-2033 1537.5,-2033 1537.5,4 -4,4\"/>\n",
       "<!-- 0 -->\n",
       "<g id=\"node1\" class=\"node\">\n",
       "<title>0</title>\n",
       "<path fill=\"#e58139\" fill-opacity=\"0.031373\" stroke=\"#000000\" d=\"M1026.5,-2029C1026.5,-2029 918.5,-2029 918.5,-2029 912.5,-2029 906.5,-2023 906.5,-2017 906.5,-2017 906.5,-1973 906.5,-1973 906.5,-1967 912.5,-1961 918.5,-1961 918.5,-1961 1026.5,-1961 1026.5,-1961 1032.5,-1961 1038.5,-1967 1038.5,-1973 1038.5,-1973 1038.5,-2017 1038.5,-2017 1038.5,-2023 1032.5,-2029 1026.5,-2029\"/>\n",
       "<text text-anchor=\"start\" x=\"928.5\" y=\"-2013.8\" font-family=\"Helvetica,sans-Serif\" font-size=\"14.00\" fill=\"#000000\">TP63 ≤ 3.235</text>\n",
       "<text text-anchor=\"start\" x=\"943\" y=\"-1998.8\" font-family=\"Helvetica,sans-Serif\" font-size=\"14.00\" fill=\"#000000\">gini = 0.5</text>\n",
       "<text text-anchor=\"start\" x=\"924.5\" y=\"-1983.8\" font-family=\"Helvetica,sans-Serif\" font-size=\"14.00\" fill=\"#000000\">samples = 795</text>\n",
       "<text text-anchor=\"start\" x=\"914.5\" y=\"-1968.8\" font-family=\"Helvetica,sans-Serif\" font-size=\"14.00\" fill=\"#000000\">value = [404, 391]</text>\n",
       "</g>\n",
       "<!-- 1 -->\n",
       "<g id=\"node2\" class=\"node\">\n",
       "<title>1</title>\n",
       "<path fill=\"#e58139\" fill-opacity=\"0.886275\" stroke=\"#000000\" d=\"M885.5,-1925C885.5,-1925 785.5,-1925 785.5,-1925 779.5,-1925 773.5,-1919 773.5,-1913 773.5,-1913 773.5,-1869 773.5,-1869 773.5,-1863 779.5,-1857 785.5,-1857 785.5,-1857 885.5,-1857 885.5,-1857 891.5,-1857 897.5,-1863 897.5,-1869 897.5,-1869 897.5,-1913 897.5,-1913 897.5,-1919 891.5,-1925 885.5,-1925\"/>\n",
       "<text text-anchor=\"start\" x=\"788.5\" y=\"-1909.8\" font-family=\"Helvetica,sans-Serif\" font-size=\"14.00\" fill=\"#000000\">MUC1 ≤ 3.277</text>\n",
       "<text text-anchor=\"start\" x=\"797.5\" y=\"-1894.8\" font-family=\"Helvetica,sans-Serif\" font-size=\"14.00\" fill=\"#000000\">gini = 0.183</text>\n",
       "<text text-anchor=\"start\" x=\"787.5\" y=\"-1879.8\" font-family=\"Helvetica,sans-Serif\" font-size=\"14.00\" fill=\"#000000\">samples = 441</text>\n",
       "<text text-anchor=\"start\" x=\"781.5\" y=\"-1864.8\" font-family=\"Helvetica,sans-Serif\" font-size=\"14.00\" fill=\"#000000\">value = [396, 45]</text>\n",
       "</g>\n",
       "<!-- 0&#45;&gt;1 -->\n",
       "<g id=\"edge1\" class=\"edge\">\n",
       "<title>0&#45;&gt;1</title>\n",
       "<path fill=\"none\" stroke=\"#000000\" d=\"M927.6411,-1960.9465C915.2222,-1951.519 901.6217,-1941.1946 888.7739,-1931.4415\"/>\n",
       "<polygon fill=\"#000000\" stroke=\"#000000\" points=\"890.541,-1928.3887 880.4597,-1925.13 886.3085,-1933.9642 890.541,-1928.3887\"/>\n",
       "<text text-anchor=\"middle\" x=\"883.8513\" y=\"-1946.1989\" font-family=\"Helvetica,sans-Serif\" font-size=\"14.00\" fill=\"#000000\">True</text>\n",
       "</g>\n",
       "<!-- 48 -->\n",
       "<g id=\"node49\" class=\"node\">\n",
       "<title>48</title>\n",
       "<path fill=\"#399de5\" fill-opacity=\"0.976471\" stroke=\"#000000\" d=\"M1139,-1925C1139,-1925 1046,-1925 1046,-1925 1040,-1925 1034,-1919 1034,-1913 1034,-1913 1034,-1869 1034,-1869 1034,-1863 1040,-1857 1046,-1857 1046,-1857 1139,-1857 1139,-1857 1145,-1857 1151,-1863 1151,-1869 1151,-1869 1151,-1913 1151,-1913 1151,-1919 1145,-1925 1139,-1925\"/>\n",
       "<text text-anchor=\"start\" x=\"1042\" y=\"-1909.8\" font-family=\"Helvetica,sans-Serif\" font-size=\"14.00\" fill=\"#000000\">FANCE ≤ 2.253</text>\n",
       "<text text-anchor=\"start\" x=\"1054.5\" y=\"-1894.8\" font-family=\"Helvetica,sans-Serif\" font-size=\"14.00\" fill=\"#000000\">gini = 0.044</text>\n",
       "<text text-anchor=\"start\" x=\"1044.5\" y=\"-1879.8\" font-family=\"Helvetica,sans-Serif\" font-size=\"14.00\" fill=\"#000000\">samples = 354</text>\n",
       "<text text-anchor=\"start\" x=\"1042.5\" y=\"-1864.8\" font-family=\"Helvetica,sans-Serif\" font-size=\"14.00\" fill=\"#000000\">value = [8, 346]</text>\n",
       "</g>\n",
       "<!-- 0&#45;&gt;48 -->\n",
       "<g id=\"edge48\" class=\"edge\">\n",
       "<title>0&#45;&gt;48</title>\n",
       "<path fill=\"none\" stroke=\"#000000\" d=\"M1011.7925,-1960.9465C1022.5667,-1951.6088 1034.3564,-1941.3911 1045.515,-1931.7203\"/>\n",
       "<polygon fill=\"#000000\" stroke=\"#000000\" points=\"1047.8546,-1934.3243 1053.1192,-1925.13 1043.2701,-1929.0344 1047.8546,-1934.3243\"/>\n",
       "<text text-anchor=\"middle\" x=\"1051.3381\" y=\"-1946.3665\" font-family=\"Helvetica,sans-Serif\" font-size=\"14.00\" fill=\"#000000\">False</text>\n",
       "</g>\n",
       "<!-- 2 -->\n",
       "<g id=\"node3\" class=\"node\">\n",
       "<title>2</title>\n",
       "<path fill=\"#399de5\" fill-opacity=\"0.333333\" stroke=\"#000000\" d=\"M591.5,-1821C591.5,-1821 499.5,-1821 499.5,-1821 493.5,-1821 487.5,-1815 487.5,-1809 487.5,-1809 487.5,-1765 487.5,-1765 487.5,-1759 493.5,-1753 499.5,-1753 499.5,-1753 591.5,-1753 591.5,-1753 597.5,-1753 603.5,-1759 603.5,-1765 603.5,-1765 603.5,-1809 603.5,-1809 603.5,-1815 597.5,-1821 591.5,-1821\"/>\n",
       "<text text-anchor=\"start\" x=\"499.5\" y=\"-1805.8\" font-family=\"Helvetica,sans-Serif\" font-size=\"14.00\" fill=\"#000000\">MTAP ≤ 2.789</text>\n",
       "<text text-anchor=\"start\" x=\"512\" y=\"-1790.8\" font-family=\"Helvetica,sans-Serif\" font-size=\"14.00\" fill=\"#000000\">gini = 0.48</text>\n",
       "<text text-anchor=\"start\" x=\"501.5\" y=\"-1775.8\" font-family=\"Helvetica,sans-Serif\" font-size=\"14.00\" fill=\"#000000\">samples = 25</text>\n",
       "<text text-anchor=\"start\" x=\"495.5\" y=\"-1760.8\" font-family=\"Helvetica,sans-Serif\" font-size=\"14.00\" fill=\"#000000\">value = [10, 15]</text>\n",
       "</g>\n",
       "<!-- 1&#45;&gt;2 -->\n",
       "<g id=\"edge2\" class=\"edge\">\n",
       "<title>1&#45;&gt;2</title>\n",
       "<path fill=\"none\" stroke=\"#000000\" d=\"M773.2877,-1868.6894C726.1676,-1851.7911 661.5062,-1828.6022 613.112,-1811.2471\"/>\n",
       "<polygon fill=\"#000000\" stroke=\"#000000\" points=\"614.2546,-1807.9386 603.6601,-1807.8574 611.8916,-1814.5277 614.2546,-1807.9386\"/>\n",
       "</g>\n",
       "<!-- 7 -->\n",
       "<g id=\"node8\" class=\"node\">\n",
       "<title>7</title>\n",
       "<path fill=\"#e58139\" fill-opacity=\"0.921569\" stroke=\"#000000\" d=\"M885.5,-1821C885.5,-1821 785.5,-1821 785.5,-1821 779.5,-1821 773.5,-1815 773.5,-1809 773.5,-1809 773.5,-1765 773.5,-1765 773.5,-1759 779.5,-1753 785.5,-1753 785.5,-1753 885.5,-1753 885.5,-1753 891.5,-1753 897.5,-1759 897.5,-1765 897.5,-1765 897.5,-1809 897.5,-1809 897.5,-1815 891.5,-1821 885.5,-1821\"/>\n",
       "<text text-anchor=\"start\" x=\"791\" y=\"-1805.8\" font-family=\"Helvetica,sans-Serif\" font-size=\"14.00\" fill=\"#000000\">ETS1 ≤ 3.873</text>\n",
       "<text text-anchor=\"start\" x=\"797.5\" y=\"-1790.8\" font-family=\"Helvetica,sans-Serif\" font-size=\"14.00\" fill=\"#000000\">gini = 0.134</text>\n",
       "<text text-anchor=\"start\" x=\"787.5\" y=\"-1775.8\" font-family=\"Helvetica,sans-Serif\" font-size=\"14.00\" fill=\"#000000\">samples = 416</text>\n",
       "<text text-anchor=\"start\" x=\"781.5\" y=\"-1760.8\" font-family=\"Helvetica,sans-Serif\" font-size=\"14.00\" fill=\"#000000\">value = [386, 30]</text>\n",
       "</g>\n",
       "<!-- 1&#45;&gt;7 -->\n",
       "<g id=\"edge7\" class=\"edge\">\n",
       "<title>1&#45;&gt;7</title>\n",
       "<path fill=\"none\" stroke=\"#000000\" d=\"M835.5,-1856.9465C835.5,-1848.776 835.5,-1839.9318 835.5,-1831.3697\"/>\n",
       "<polygon fill=\"#000000\" stroke=\"#000000\" points=\"839.0001,-1831.13 835.5,-1821.13 832.0001,-1831.13 839.0001,-1831.13\"/>\n",
       "</g>\n",
       "<!-- 3 -->\n",
       "<g id=\"node4\" class=\"node\">\n",
       "<title>3</title>\n",
       "<path fill=\"#399de5\" stroke=\"#000000\" d=\"M461,-1709.5C461,-1709.5 378,-1709.5 378,-1709.5 372,-1709.5 366,-1703.5 366,-1697.5 366,-1697.5 366,-1668.5 366,-1668.5 366,-1662.5 372,-1656.5 378,-1656.5 378,-1656.5 461,-1656.5 461,-1656.5 467,-1656.5 473,-1662.5 473,-1668.5 473,-1668.5 473,-1697.5 473,-1697.5 473,-1703.5 467,-1709.5 461,-1709.5\"/>\n",
       "<text text-anchor=\"start\" x=\"390\" y=\"-1694.3\" font-family=\"Helvetica,sans-Serif\" font-size=\"14.00\" fill=\"#000000\">gini = 0.0</text>\n",
       "<text text-anchor=\"start\" x=\"375.5\" y=\"-1679.3\" font-family=\"Helvetica,sans-Serif\" font-size=\"14.00\" fill=\"#000000\">samples = 12</text>\n",
       "<text text-anchor=\"start\" x=\"374\" y=\"-1664.3\" font-family=\"Helvetica,sans-Serif\" font-size=\"14.00\" fill=\"#000000\">value = [0, 12]</text>\n",
       "</g>\n",
       "<!-- 2&#45;&gt;3 -->\n",
       "<g id=\"edge3\" class=\"edge\">\n",
       "<title>2&#45;&gt;3</title>\n",
       "<path fill=\"none\" stroke=\"#000000\" d=\"M504.2429,-1752.9465C489.8303,-1741.0504 473.6873,-1727.726 459.3883,-1715.9237\"/>\n",
       "<polygon fill=\"#000000\" stroke=\"#000000\" points=\"461.5971,-1713.2086 451.6569,-1709.5422 457.1411,-1718.6071 461.5971,-1713.2086\"/>\n",
       "</g>\n",
       "<!-- 4 -->\n",
       "<g id=\"node5\" class=\"node\">\n",
       "<title>4</title>\n",
       "<path fill=\"#e58139\" fill-opacity=\"0.701961\" stroke=\"#000000\" d=\"M588,-1717C588,-1717 503,-1717 503,-1717 497,-1717 491,-1711 491,-1705 491,-1705 491,-1661 491,-1661 491,-1655 497,-1649 503,-1649 503,-1649 588,-1649 588,-1649 594,-1649 600,-1655 600,-1661 600,-1661 600,-1705 600,-1705 600,-1711 594,-1717 588,-1717\"/>\n",
       "<text text-anchor=\"start\" x=\"499\" y=\"-1701.8\" font-family=\"Helvetica,sans-Serif\" font-size=\"14.00\" fill=\"#000000\">NRAS ≤ 3.577</text>\n",
       "<text text-anchor=\"start\" x=\"507.5\" y=\"-1686.8\" font-family=\"Helvetica,sans-Serif\" font-size=\"14.00\" fill=\"#000000\">gini = 0.355</text>\n",
       "<text text-anchor=\"start\" x=\"501.5\" y=\"-1671.8\" font-family=\"Helvetica,sans-Serif\" font-size=\"14.00\" fill=\"#000000\">samples = 13</text>\n",
       "<text text-anchor=\"start\" x=\"500\" y=\"-1656.8\" font-family=\"Helvetica,sans-Serif\" font-size=\"14.00\" fill=\"#000000\">value = [10, 3]</text>\n",
       "</g>\n",
       "<!-- 2&#45;&gt;4 -->\n",
       "<g id=\"edge4\" class=\"edge\">\n",
       "<title>2&#45;&gt;4</title>\n",
       "<path fill=\"none\" stroke=\"#000000\" d=\"M545.5,-1752.9465C545.5,-1744.776 545.5,-1735.9318 545.5,-1727.3697\"/>\n",
       "<polygon fill=\"#000000\" stroke=\"#000000\" points=\"549.0001,-1727.13 545.5,-1717.13 542.0001,-1727.13 549.0001,-1727.13\"/>\n",
       "</g>\n",
       "<!-- 5 -->\n",
       "<g id=\"node6\" class=\"node\">\n",
       "<title>5</title>\n",
       "<path fill=\"#e58139\" stroke=\"#000000\" d=\"M466,-1605.5C466,-1605.5 383,-1605.5 383,-1605.5 377,-1605.5 371,-1599.5 371,-1593.5 371,-1593.5 371,-1564.5 371,-1564.5 371,-1558.5 377,-1552.5 383,-1552.5 383,-1552.5 466,-1552.5 466,-1552.5 472,-1552.5 478,-1558.5 478,-1564.5 478,-1564.5 478,-1593.5 478,-1593.5 478,-1599.5 472,-1605.5 466,-1605.5\"/>\n",
       "<text text-anchor=\"start\" x=\"395\" y=\"-1590.3\" font-family=\"Helvetica,sans-Serif\" font-size=\"14.00\" fill=\"#000000\">gini = 0.0</text>\n",
       "<text text-anchor=\"start\" x=\"380.5\" y=\"-1575.3\" font-family=\"Helvetica,sans-Serif\" font-size=\"14.00\" fill=\"#000000\">samples = 10</text>\n",
       "<text text-anchor=\"start\" x=\"379\" y=\"-1560.3\" font-family=\"Helvetica,sans-Serif\" font-size=\"14.00\" fill=\"#000000\">value = [10, 0]</text>\n",
       "</g>\n",
       "<!-- 4&#45;&gt;5 -->\n",
       "<g id=\"edge5\" class=\"edge\">\n",
       "<title>4&#45;&gt;5</title>\n",
       "<path fill=\"none\" stroke=\"#000000\" d=\"M505.8801,-1648.9465C492.1676,-1637.1606 476.8239,-1623.9726 463.1873,-1612.2519\"/>\n",
       "<polygon fill=\"#000000\" stroke=\"#000000\" points=\"465.2459,-1609.4061 455.3808,-1605.5422 460.6831,-1614.7147 465.2459,-1609.4061\"/>\n",
       "</g>\n",
       "<!-- 6 -->\n",
       "<g id=\"node7\" class=\"node\">\n",
       "<title>6</title>\n",
       "<path fill=\"#399de5\" stroke=\"#000000\" d=\"M583,-1605.5C583,-1605.5 508,-1605.5 508,-1605.5 502,-1605.5 496,-1599.5 496,-1593.5 496,-1593.5 496,-1564.5 496,-1564.5 496,-1558.5 502,-1552.5 508,-1552.5 508,-1552.5 583,-1552.5 583,-1552.5 589,-1552.5 595,-1558.5 595,-1564.5 595,-1564.5 595,-1593.5 595,-1593.5 595,-1599.5 589,-1605.5 583,-1605.5\"/>\n",
       "<text text-anchor=\"start\" x=\"516\" y=\"-1590.3\" font-family=\"Helvetica,sans-Serif\" font-size=\"14.00\" fill=\"#000000\">gini = 0.0</text>\n",
       "<text text-anchor=\"start\" x=\"506\" y=\"-1575.3\" font-family=\"Helvetica,sans-Serif\" font-size=\"14.00\" fill=\"#000000\">samples = 3</text>\n",
       "<text text-anchor=\"start\" x=\"504\" y=\"-1560.3\" font-family=\"Helvetica,sans-Serif\" font-size=\"14.00\" fill=\"#000000\">value = [0, 3]</text>\n",
       "</g>\n",
       "<!-- 4&#45;&gt;6 -->\n",
       "<g id=\"edge6\" class=\"edge\">\n",
       "<title>4&#45;&gt;6</title>\n",
       "<path fill=\"none\" stroke=\"#000000\" d=\"M545.5,-1648.9465C545.5,-1638.2621 545.5,-1626.4254 545.5,-1615.5742\"/>\n",
       "<polygon fill=\"#000000\" stroke=\"#000000\" points=\"549.0001,-1615.5421 545.5,-1605.5422 542.0001,-1615.5422 549.0001,-1615.5421\"/>\n",
       "</g>\n",
       "<!-- 8 -->\n",
       "<g id=\"node9\" class=\"node\">\n",
       "<title>8</title>\n",
       "<path fill=\"#e58139\" fill-opacity=\"0.933333\" stroke=\"#000000\" d=\"M836.5,-1717C836.5,-1717 714.5,-1717 714.5,-1717 708.5,-1717 702.5,-1711 702.5,-1705 702.5,-1705 702.5,-1661 702.5,-1661 702.5,-1655 708.5,-1649 714.5,-1649 714.5,-1649 836.5,-1649 836.5,-1649 842.5,-1649 848.5,-1655 848.5,-1661 848.5,-1661 848.5,-1705 848.5,-1705 848.5,-1711 842.5,-1717 836.5,-1717\"/>\n",
       "<text text-anchor=\"start\" x=\"710.5\" y=\"-1701.8\" font-family=\"Helvetica,sans-Serif\" font-size=\"14.00\" fill=\"#000000\">ARHGAP35 ≤ 3.753</text>\n",
       "<text text-anchor=\"start\" x=\"737.5\" y=\"-1686.8\" font-family=\"Helvetica,sans-Serif\" font-size=\"14.00\" fill=\"#000000\">gini = 0.115</text>\n",
       "<text text-anchor=\"start\" x=\"727.5\" y=\"-1671.8\" font-family=\"Helvetica,sans-Serif\" font-size=\"14.00\" fill=\"#000000\">samples = 410</text>\n",
       "<text text-anchor=\"start\" x=\"721.5\" y=\"-1656.8\" font-family=\"Helvetica,sans-Serif\" font-size=\"14.00\" fill=\"#000000\">value = [385, 25]</text>\n",
       "</g>\n",
       "<!-- 7&#45;&gt;8 -->\n",
       "<g id=\"edge8\" class=\"edge\">\n",
       "<title>7&#45;&gt;8</title>\n",
       "<path fill=\"none\" stroke=\"#000000\" d=\"M815.8538,-1752.9465C810.881,-1744.3271 805.4757,-1734.9579 800.2852,-1725.9611\"/>\n",
       "<polygon fill=\"#000000\" stroke=\"#000000\" points=\"803.2193,-1724.0428 795.1904,-1717.13 797.156,-1727.5409 803.2193,-1724.0428\"/>\n",
       "</g>\n",
       "<!-- 45 -->\n",
       "<g id=\"node46\" class=\"node\">\n",
       "<title>45</title>\n",
       "<path fill=\"#399de5\" fill-opacity=\"0.800000\" stroke=\"#000000\" d=\"M970.5,-1717C970.5,-1717 878.5,-1717 878.5,-1717 872.5,-1717 866.5,-1711 866.5,-1705 866.5,-1705 866.5,-1661 866.5,-1661 866.5,-1655 872.5,-1649 878.5,-1649 878.5,-1649 970.5,-1649 970.5,-1649 976.5,-1649 982.5,-1655 982.5,-1661 982.5,-1661 982.5,-1705 982.5,-1705 982.5,-1711 976.5,-1717 970.5,-1717\"/>\n",
       "<text text-anchor=\"start\" x=\"874.5\" y=\"-1701.8\" font-family=\"Helvetica,sans-Serif\" font-size=\"14.00\" fill=\"#000000\">USP9X ≤ 3.544</text>\n",
       "<text text-anchor=\"start\" x=\"886.5\" y=\"-1686.8\" font-family=\"Helvetica,sans-Serif\" font-size=\"14.00\" fill=\"#000000\">gini = 0.278</text>\n",
       "<text text-anchor=\"start\" x=\"885\" y=\"-1671.8\" font-family=\"Helvetica,sans-Serif\" font-size=\"14.00\" fill=\"#000000\">samples = 6</text>\n",
       "<text text-anchor=\"start\" x=\"883\" y=\"-1656.8\" font-family=\"Helvetica,sans-Serif\" font-size=\"14.00\" fill=\"#000000\">value = [1, 5]</text>\n",
       "</g>\n",
       "<!-- 7&#45;&gt;45 -->\n",
       "<g id=\"edge45\" class=\"edge\">\n",
       "<title>7&#45;&gt;45</title>\n",
       "<path fill=\"none\" stroke=\"#000000\" d=\"M864.6419,-1752.9465C872.3255,-1743.968 880.7053,-1734.1758 888.6959,-1724.8385\"/>\n",
       "<polygon fill=\"#000000\" stroke=\"#000000\" points=\"891.4499,-1727.0034 895.2926,-1717.13 886.1315,-1722.4521 891.4499,-1727.0034\"/>\n",
       "</g>\n",
       "<!-- 9 -->\n",
       "<g id=\"node10\" class=\"node\">\n",
       "<title>9</title>\n",
       "<path fill=\"#e58139\" fill-opacity=\"0.945098\" stroke=\"#000000\" d=\"M727.5,-1613C727.5,-1613 625.5,-1613 625.5,-1613 619.5,-1613 613.5,-1607 613.5,-1601 613.5,-1601 613.5,-1557 613.5,-1557 613.5,-1551 619.5,-1545 625.5,-1545 625.5,-1545 727.5,-1545 727.5,-1545 733.5,-1545 739.5,-1551 739.5,-1557 739.5,-1557 739.5,-1601 739.5,-1601 739.5,-1607 733.5,-1613 727.5,-1613\"/>\n",
       "<text text-anchor=\"start\" x=\"621.5\" y=\"-1597.8\" font-family=\"Helvetica,sans-Serif\" font-size=\"14.00\" fill=\"#000000\">MAP3K4 ≤ 2.981</text>\n",
       "<text text-anchor=\"start\" x=\"638.5\" y=\"-1582.8\" font-family=\"Helvetica,sans-Serif\" font-size=\"14.00\" fill=\"#000000\">gini = 0.098</text>\n",
       "<text text-anchor=\"start\" x=\"628.5\" y=\"-1567.8\" font-family=\"Helvetica,sans-Serif\" font-size=\"14.00\" fill=\"#000000\">samples = 406</text>\n",
       "<text text-anchor=\"start\" x=\"622.5\" y=\"-1552.8\" font-family=\"Helvetica,sans-Serif\" font-size=\"14.00\" fill=\"#000000\">value = [385, 21]</text>\n",
       "</g>\n",
       "<!-- 8&#45;&gt;9 -->\n",
       "<g id=\"edge9\" class=\"edge\">\n",
       "<title>8&#45;&gt;9</title>\n",
       "<path fill=\"none\" stroke=\"#000000\" d=\"M743.0837,-1648.9465C734.4514,-1639.8782 725.0289,-1629.9799 716.0605,-1620.5585\"/>\n",
       "<polygon fill=\"#000000\" stroke=\"#000000\" points=\"718.419,-1617.9599 708.9891,-1613.13 713.3489,-1622.7863 718.419,-1617.9599\"/>\n",
       "</g>\n",
       "<!-- 44 -->\n",
       "<g id=\"node45\" class=\"node\">\n",
       "<title>44</title>\n",
       "<path fill=\"#399de5\" stroke=\"#000000\" d=\"M845,-1605.5C845,-1605.5 770,-1605.5 770,-1605.5 764,-1605.5 758,-1599.5 758,-1593.5 758,-1593.5 758,-1564.5 758,-1564.5 758,-1558.5 764,-1552.5 770,-1552.5 770,-1552.5 845,-1552.5 845,-1552.5 851,-1552.5 857,-1558.5 857,-1564.5 857,-1564.5 857,-1593.5 857,-1593.5 857,-1599.5 851,-1605.5 845,-1605.5\"/>\n",
       "<text text-anchor=\"start\" x=\"778\" y=\"-1590.3\" font-family=\"Helvetica,sans-Serif\" font-size=\"14.00\" fill=\"#000000\">gini = 0.0</text>\n",
       "<text text-anchor=\"start\" x=\"768\" y=\"-1575.3\" font-family=\"Helvetica,sans-Serif\" font-size=\"14.00\" fill=\"#000000\">samples = 4</text>\n",
       "<text text-anchor=\"start\" x=\"766\" y=\"-1560.3\" font-family=\"Helvetica,sans-Serif\" font-size=\"14.00\" fill=\"#000000\">value = [0, 4]</text>\n",
       "</g>\n",
       "<!-- 8&#45;&gt;44 -->\n",
       "<g id=\"edge44\" class=\"edge\">\n",
       "<title>8&#45;&gt;44</title>\n",
       "<path fill=\"none\" stroke=\"#000000\" d=\"M785.978,-1648.9465C789.2994,-1638.1519 792.9827,-1626.1813 796.3496,-1615.2389\"/>\n",
       "<polygon fill=\"#000000\" stroke=\"#000000\" points=\"799.7375,-1616.1293 799.3332,-1605.5422 793.047,-1614.0706 799.7375,-1616.1293\"/>\n",
       "</g>\n",
       "<!-- 10 -->\n",
       "<g id=\"node11\" class=\"node\">\n",
       "<title>10</title>\n",
       "<path fill=\"#e58139\" fill-opacity=\"0.956863\" stroke=\"#000000\" d=\"M661.5,-1509C661.5,-1509 561.5,-1509 561.5,-1509 555.5,-1509 549.5,-1503 549.5,-1497 549.5,-1497 549.5,-1453 549.5,-1453 549.5,-1447 555.5,-1441 561.5,-1441 561.5,-1441 661.5,-1441 661.5,-1441 667.5,-1441 673.5,-1447 673.5,-1453 673.5,-1453 673.5,-1497 673.5,-1497 673.5,-1503 667.5,-1509 661.5,-1509\"/>\n",
       "<text text-anchor=\"start\" x=\"569\" y=\"-1493.8\" font-family=\"Helvetica,sans-Serif\" font-size=\"14.00\" fill=\"#000000\">NFIB ≤ 2.178</text>\n",
       "<text text-anchor=\"start\" x=\"573.5\" y=\"-1478.8\" font-family=\"Helvetica,sans-Serif\" font-size=\"14.00\" fill=\"#000000\">gini = 0.081</text>\n",
       "<text text-anchor=\"start\" x=\"563.5\" y=\"-1463.8\" font-family=\"Helvetica,sans-Serif\" font-size=\"14.00\" fill=\"#000000\">samples = 402</text>\n",
       "<text text-anchor=\"start\" x=\"557.5\" y=\"-1448.8\" font-family=\"Helvetica,sans-Serif\" font-size=\"14.00\" fill=\"#000000\">value = [385, 17]</text>\n",
       "</g>\n",
       "<!-- 9&#45;&gt;10 -->\n",
       "<g id=\"edge10\" class=\"edge\">\n",
       "<title>9&#45;&gt;10</title>\n",
       "<path fill=\"none\" stroke=\"#000000\" d=\"M655.2166,-1544.9465C649.7733,-1536.2373 643.8516,-1526.7626 638.175,-1517.6801\"/>\n",
       "<polygon fill=\"#000000\" stroke=\"#000000\" points=\"641.0993,-1515.755 632.8312,-1509.13 635.1633,-1519.465 641.0993,-1515.755\"/>\n",
       "</g>\n",
       "<!-- 43 -->\n",
       "<g id=\"node44\" class=\"node\">\n",
       "<title>43</title>\n",
       "<path fill=\"#399de5\" stroke=\"#000000\" d=\"M779,-1501.5C779,-1501.5 704,-1501.5 704,-1501.5 698,-1501.5 692,-1495.5 692,-1489.5 692,-1489.5 692,-1460.5 692,-1460.5 692,-1454.5 698,-1448.5 704,-1448.5 704,-1448.5 779,-1448.5 779,-1448.5 785,-1448.5 791,-1454.5 791,-1460.5 791,-1460.5 791,-1489.5 791,-1489.5 791,-1495.5 785,-1501.5 779,-1501.5\"/>\n",
       "<text text-anchor=\"start\" x=\"712\" y=\"-1486.3\" font-family=\"Helvetica,sans-Serif\" font-size=\"14.00\" fill=\"#000000\">gini = 0.0</text>\n",
       "<text text-anchor=\"start\" x=\"702\" y=\"-1471.3\" font-family=\"Helvetica,sans-Serif\" font-size=\"14.00\" fill=\"#000000\">samples = 4</text>\n",
       "<text text-anchor=\"start\" x=\"700\" y=\"-1456.3\" font-family=\"Helvetica,sans-Serif\" font-size=\"14.00\" fill=\"#000000\">value = [0, 4]</text>\n",
       "</g>\n",
       "<!-- 9&#45;&gt;43 -->\n",
       "<g id=\"edge43\" class=\"edge\">\n",
       "<title>9&#45;&gt;43</title>\n",
       "<path fill=\"none\" stroke=\"#000000\" d=\"M697.7834,-1544.9465C704.7366,-1533.8215 712.4705,-1521.4473 719.4769,-1510.237\"/>\n",
       "<polygon fill=\"#000000\" stroke=\"#000000\" points=\"722.5791,-1511.8772 724.9111,-1501.5422 716.6431,-1508.1671 722.5791,-1511.8772\"/>\n",
       "</g>\n",
       "<!-- 11 -->\n",
       "<g id=\"node12\" class=\"node\">\n",
       "<title>11</title>\n",
       "<path fill=\"#399de5\" fill-opacity=\"0.666667\" stroke=\"#000000\" d=\"M587,-1405C587,-1405 500,-1405 500,-1405 494,-1405 488,-1399 488,-1393 488,-1393 488,-1349 488,-1349 488,-1343 494,-1337 500,-1337 500,-1337 587,-1337 587,-1337 593,-1337 599,-1343 599,-1349 599,-1349 599,-1393 599,-1393 599,-1399 593,-1405 587,-1405\"/>\n",
       "<text text-anchor=\"start\" x=\"496\" y=\"-1389.8\" font-family=\"Helvetica,sans-Serif\" font-size=\"14.00\" fill=\"#000000\">MDM2 ≤ 3.377</text>\n",
       "<text text-anchor=\"start\" x=\"505.5\" y=\"-1374.8\" font-family=\"Helvetica,sans-Serif\" font-size=\"14.00\" fill=\"#000000\">gini = 0.375</text>\n",
       "<text text-anchor=\"start\" x=\"504\" y=\"-1359.8\" font-family=\"Helvetica,sans-Serif\" font-size=\"14.00\" fill=\"#000000\">samples = 4</text>\n",
       "<text text-anchor=\"start\" x=\"502\" y=\"-1344.8\" font-family=\"Helvetica,sans-Serif\" font-size=\"14.00\" fill=\"#000000\">value = [1, 3]</text>\n",
       "</g>\n",
       "<!-- 10&#45;&gt;11 -->\n",
       "<g id=\"edge11\" class=\"edge\">\n",
       "<title>10&#45;&gt;11</title>\n",
       "<path fill=\"none\" stroke=\"#000000\" d=\"M589.2343,-1440.9465C583.5398,-1432.2373 577.3448,-1422.7626 571.4062,-1413.6801\"/>\n",
       "<polygon fill=\"#000000\" stroke=\"#000000\" points=\"574.2177,-1411.5843 565.8158,-1405.13 568.3589,-1415.4151 574.2177,-1411.5843\"/>\n",
       "</g>\n",
       "<!-- 14 -->\n",
       "<g id=\"node15\" class=\"node\">\n",
       "<title>14</title>\n",
       "<path fill=\"#e58139\" fill-opacity=\"0.964706\" stroke=\"#000000\" d=\"M732,-1405C732,-1405 629,-1405 629,-1405 623,-1405 617,-1399 617,-1393 617,-1393 617,-1349 617,-1349 617,-1343 623,-1337 629,-1337 629,-1337 732,-1337 732,-1337 738,-1337 744,-1343 744,-1349 744,-1349 744,-1393 744,-1393 744,-1399 738,-1405 732,-1405\"/>\n",
       "<text text-anchor=\"start\" x=\"625\" y=\"-1389.8\" font-family=\"Helvetica,sans-Serif\" font-size=\"14.00\" fill=\"#000000\">POU2AF1 ≤ 3.56</text>\n",
       "<text text-anchor=\"start\" x=\"642.5\" y=\"-1374.8\" font-family=\"Helvetica,sans-Serif\" font-size=\"14.00\" fill=\"#000000\">gini = 0.068</text>\n",
       "<text text-anchor=\"start\" x=\"632.5\" y=\"-1359.8\" font-family=\"Helvetica,sans-Serif\" font-size=\"14.00\" fill=\"#000000\">samples = 398</text>\n",
       "<text text-anchor=\"start\" x=\"626.5\" y=\"-1344.8\" font-family=\"Helvetica,sans-Serif\" font-size=\"14.00\" fill=\"#000000\">value = [384, 14]</text>\n",
       "</g>\n",
       "<!-- 10&#45;&gt;14 -->\n",
       "<g id=\"edge14\" class=\"edge\">\n",
       "<title>10&#45;&gt;14</title>\n",
       "<path fill=\"none\" stroke=\"#000000\" d=\"M634.0932,-1440.9465C639.8714,-1432.2373 646.1575,-1422.7626 652.1834,-1413.6801\"/>\n",
       "<polygon fill=\"#000000\" stroke=\"#000000\" points=\"655.244,-1415.3978 657.8561,-1405.13 649.411,-1411.5278 655.244,-1415.3978\"/>\n",
       "</g>\n",
       "<!-- 12 -->\n",
       "<g id=\"node13\" class=\"node\">\n",
       "<title>12</title>\n",
       "<path fill=\"#399de5\" stroke=\"#000000\" d=\"M466,-1293.5C466,-1293.5 391,-1293.5 391,-1293.5 385,-1293.5 379,-1287.5 379,-1281.5 379,-1281.5 379,-1252.5 379,-1252.5 379,-1246.5 385,-1240.5 391,-1240.5 391,-1240.5 466,-1240.5 466,-1240.5 472,-1240.5 478,-1246.5 478,-1252.5 478,-1252.5 478,-1281.5 478,-1281.5 478,-1287.5 472,-1293.5 466,-1293.5\"/>\n",
       "<text text-anchor=\"start\" x=\"399\" y=\"-1278.3\" font-family=\"Helvetica,sans-Serif\" font-size=\"14.00\" fill=\"#000000\">gini = 0.0</text>\n",
       "<text text-anchor=\"start\" x=\"389\" y=\"-1263.3\" font-family=\"Helvetica,sans-Serif\" font-size=\"14.00\" fill=\"#000000\">samples = 3</text>\n",
       "<text text-anchor=\"start\" x=\"387\" y=\"-1248.3\" font-family=\"Helvetica,sans-Serif\" font-size=\"14.00\" fill=\"#000000\">value = [0, 3]</text>\n",
       "</g>\n",
       "<!-- 11&#45;&gt;12 -->\n",
       "<g id=\"edge12\" class=\"edge\">\n",
       "<title>11&#45;&gt;12</title>\n",
       "<path fill=\"none\" stroke=\"#000000\" d=\"M505.8447,-1336.9465C492.8122,-1325.1606 478.2294,-1311.9726 465.2689,-1300.2519\"/>\n",
       "<polygon fill=\"#000000\" stroke=\"#000000\" points=\"467.614,-1297.6537 457.8495,-1293.5422 462.9188,-1302.8456 467.614,-1297.6537\"/>\n",
       "</g>\n",
       "<!-- 13 -->\n",
       "<g id=\"node14\" class=\"node\">\n",
       "<title>13</title>\n",
       "<path fill=\"#e58139\" stroke=\"#000000\" d=\"M583,-1293.5C583,-1293.5 508,-1293.5 508,-1293.5 502,-1293.5 496,-1287.5 496,-1281.5 496,-1281.5 496,-1252.5 496,-1252.5 496,-1246.5 502,-1240.5 508,-1240.5 508,-1240.5 583,-1240.5 583,-1240.5 589,-1240.5 595,-1246.5 595,-1252.5 595,-1252.5 595,-1281.5 595,-1281.5 595,-1287.5 589,-1293.5 583,-1293.5\"/>\n",
       "<text text-anchor=\"start\" x=\"516\" y=\"-1278.3\" font-family=\"Helvetica,sans-Serif\" font-size=\"14.00\" fill=\"#000000\">gini = 0.0</text>\n",
       "<text text-anchor=\"start\" x=\"506\" y=\"-1263.3\" font-family=\"Helvetica,sans-Serif\" font-size=\"14.00\" fill=\"#000000\">samples = 1</text>\n",
       "<text text-anchor=\"start\" x=\"504\" y=\"-1248.3\" font-family=\"Helvetica,sans-Serif\" font-size=\"14.00\" fill=\"#000000\">value = [1, 0]</text>\n",
       "</g>\n",
       "<!-- 11&#45;&gt;13 -->\n",
       "<g id=\"edge13\" class=\"edge\">\n",
       "<title>11&#45;&gt;13</title>\n",
       "<path fill=\"none\" stroke=\"#000000\" d=\"M544.1549,-1336.9465C544.3603,-1326.2621 544.588,-1314.4254 544.7966,-1303.5742\"/>\n",
       "<polygon fill=\"#000000\" stroke=\"#000000\" points=\"548.2966,-1303.6076 544.9896,-1293.5422 541.2979,-1303.473 548.2966,-1303.6076\"/>\n",
       "</g>\n",
       "<!-- 15 -->\n",
       "<g id=\"node16\" class=\"node\">\n",
       "<title>15</title>\n",
       "<path fill=\"#e58139\" fill-opacity=\"0.968627\" stroke=\"#000000\" d=\"M728.5,-1301C728.5,-1301 628.5,-1301 628.5,-1301 622.5,-1301 616.5,-1295 616.5,-1289 616.5,-1289 616.5,-1245 616.5,-1245 616.5,-1239 622.5,-1233 628.5,-1233 628.5,-1233 728.5,-1233 728.5,-1233 734.5,-1233 740.5,-1239 740.5,-1245 740.5,-1245 740.5,-1289 740.5,-1289 740.5,-1295 734.5,-1301 728.5,-1301\"/>\n",
       "<text text-anchor=\"start\" x=\"637\" y=\"-1285.8\" font-family=\"Helvetica,sans-Serif\" font-size=\"14.00\" fill=\"#000000\">HGF ≤ 3.114</text>\n",
       "<text text-anchor=\"start\" x=\"640.5\" y=\"-1270.8\" font-family=\"Helvetica,sans-Serif\" font-size=\"14.00\" fill=\"#000000\">gini = 0.059</text>\n",
       "<text text-anchor=\"start\" x=\"630.5\" y=\"-1255.8\" font-family=\"Helvetica,sans-Serif\" font-size=\"14.00\" fill=\"#000000\">samples = 396</text>\n",
       "<text text-anchor=\"start\" x=\"624.5\" y=\"-1240.8\" font-family=\"Helvetica,sans-Serif\" font-size=\"14.00\" fill=\"#000000\">value = [384, 12]</text>\n",
       "</g>\n",
       "<!-- 14&#45;&gt;15 -->\n",
       "<g id=\"edge15\" class=\"edge\">\n",
       "<title>14&#45;&gt;15</title>\n",
       "<path fill=\"none\" stroke=\"#000000\" d=\"M679.8451,-1336.9465C679.688,-1328.776 679.5179,-1319.9318 679.3533,-1311.3697\"/>\n",
       "<polygon fill=\"#000000\" stroke=\"#000000\" points=\"682.8481,-1311.0608 679.1563,-1301.13 675.8494,-1311.1955 682.8481,-1311.0608\"/>\n",
       "</g>\n",
       "<!-- 42 -->\n",
       "<g id=\"node43\" class=\"node\">\n",
       "<title>42</title>\n",
       "<path fill=\"#399de5\" stroke=\"#000000\" d=\"M846,-1293.5C846,-1293.5 771,-1293.5 771,-1293.5 765,-1293.5 759,-1287.5 759,-1281.5 759,-1281.5 759,-1252.5 759,-1252.5 759,-1246.5 765,-1240.5 771,-1240.5 771,-1240.5 846,-1240.5 846,-1240.5 852,-1240.5 858,-1246.5 858,-1252.5 858,-1252.5 858,-1281.5 858,-1281.5 858,-1287.5 852,-1293.5 846,-1293.5\"/>\n",
       "<text text-anchor=\"start\" x=\"779\" y=\"-1278.3\" font-family=\"Helvetica,sans-Serif\" font-size=\"14.00\" fill=\"#000000\">gini = 0.0</text>\n",
       "<text text-anchor=\"start\" x=\"769\" y=\"-1263.3\" font-family=\"Helvetica,sans-Serif\" font-size=\"14.00\" fill=\"#000000\">samples = 2</text>\n",
       "<text text-anchor=\"start\" x=\"767\" y=\"-1248.3\" font-family=\"Helvetica,sans-Serif\" font-size=\"14.00\" fill=\"#000000\">value = [0, 2]</text>\n",
       "</g>\n",
       "<!-- 14&#45;&gt;42 -->\n",
       "<g id=\"edge42\" class=\"edge\">\n",
       "<title>14&#45;&gt;42</title>\n",
       "<path fill=\"none\" stroke=\"#000000\" d=\"M722.412,-1336.9465C737.0533,-1325.0504 753.4526,-1311.726 767.9785,-1299.9237\"/>\n",
       "<polygon fill=\"#000000\" stroke=\"#000000\" points=\"770.2786,-1302.5645 775.8327,-1293.5422 765.8645,-1297.1317 770.2786,-1302.5645\"/>\n",
       "</g>\n",
       "<!-- 16 -->\n",
       "<g id=\"node17\" class=\"node\">\n",
       "<title>16</title>\n",
       "<path fill=\"#e58139\" fill-opacity=\"0.972549\" stroke=\"#000000\" d=\"M662.5,-1197C662.5,-1197 562.5,-1197 562.5,-1197 556.5,-1197 550.5,-1191 550.5,-1185 550.5,-1185 550.5,-1141 550.5,-1141 550.5,-1135 556.5,-1129 562.5,-1129 562.5,-1129 662.5,-1129 662.5,-1129 668.5,-1129 674.5,-1135 674.5,-1141 674.5,-1141 674.5,-1185 674.5,-1185 674.5,-1191 668.5,-1197 662.5,-1197\"/>\n",
       "<text text-anchor=\"start\" x=\"562.5\" y=\"-1181.8\" font-family=\"Helvetica,sans-Serif\" font-size=\"14.00\" fill=\"#000000\">GTSE1 ≤ 3.088</text>\n",
       "<text text-anchor=\"start\" x=\"579\" y=\"-1166.8\" font-family=\"Helvetica,sans-Serif\" font-size=\"14.00\" fill=\"#000000\">gini = 0.05</text>\n",
       "<text text-anchor=\"start\" x=\"564.5\" y=\"-1151.8\" font-family=\"Helvetica,sans-Serif\" font-size=\"14.00\" fill=\"#000000\">samples = 393</text>\n",
       "<text text-anchor=\"start\" x=\"558.5\" y=\"-1136.8\" font-family=\"Helvetica,sans-Serif\" font-size=\"14.00\" fill=\"#000000\">value = [383, 10]</text>\n",
       "</g>\n",
       "<!-- 15&#45;&gt;16 -->\n",
       "<g id=\"edge16\" class=\"edge\">\n",
       "<title>15&#45;&gt;16</title>\n",
       "<path fill=\"none\" stroke=\"#000000\" d=\"M656.8891,-1232.9465C651.3622,-1224.2373 645.3494,-1214.7626 639.5854,-1205.6801\"/>\n",
       "<polygon fill=\"#000000\" stroke=\"#000000\" points=\"642.4729,-1203.6979 634.1594,-1197.13 636.5626,-1207.4487 642.4729,-1203.6979\"/>\n",
       "</g>\n",
       "<!-- 39 -->\n",
       "<g id=\"node40\" class=\"node\">\n",
       "<title>39</title>\n",
       "<path fill=\"#399de5\" fill-opacity=\"0.498039\" stroke=\"#000000\" d=\"M782,-1197C782,-1197 705,-1197 705,-1197 699,-1197 693,-1191 693,-1185 693,-1185 693,-1141 693,-1141 693,-1135 699,-1129 705,-1129 705,-1129 782,-1129 782,-1129 788,-1129 794,-1135 794,-1141 794,-1141 794,-1185 794,-1185 794,-1191 788,-1197 782,-1197\"/>\n",
       "<text text-anchor=\"start\" x=\"701\" y=\"-1181.8\" font-family=\"Helvetica,sans-Serif\" font-size=\"14.00\" fill=\"#000000\">IDH2 ≤ 3.309</text>\n",
       "<text text-anchor=\"start\" x=\"705.5\" y=\"-1166.8\" font-family=\"Helvetica,sans-Serif\" font-size=\"14.00\" fill=\"#000000\">gini = 0.444</text>\n",
       "<text text-anchor=\"start\" x=\"704\" y=\"-1151.8\" font-family=\"Helvetica,sans-Serif\" font-size=\"14.00\" fill=\"#000000\">samples = 3</text>\n",
       "<text text-anchor=\"start\" x=\"702\" y=\"-1136.8\" font-family=\"Helvetica,sans-Serif\" font-size=\"14.00\" fill=\"#000000\">value = [1, 2]</text>\n",
       "</g>\n",
       "<!-- 15&#45;&gt;39 -->\n",
       "<g id=\"edge39\" class=\"edge\">\n",
       "<title>15&#45;&gt;39</title>\n",
       "<path fill=\"none\" stroke=\"#000000\" d=\"M699.7834,-1232.9465C705.2267,-1224.2373 711.1484,-1214.7626 716.825,-1205.6801\"/>\n",
       "<polygon fill=\"#000000\" stroke=\"#000000\" points=\"719.8367,-1207.465 722.1688,-1197.13 713.9007,-1203.755 719.8367,-1207.465\"/>\n",
       "</g>\n",
       "<!-- 17 -->\n",
       "<g id=\"node18\" class=\"node\">\n",
       "<title>17</title>\n",
       "<path fill=\"#e58139\" fill-opacity=\"0.976471\" stroke=\"#000000\" d=\"M536.5,-1093C536.5,-1093 444.5,-1093 444.5,-1093 438.5,-1093 432.5,-1087 432.5,-1081 432.5,-1081 432.5,-1037 432.5,-1037 432.5,-1031 438.5,-1025 444.5,-1025 444.5,-1025 536.5,-1025 536.5,-1025 542.5,-1025 548.5,-1031 548.5,-1037 548.5,-1037 548.5,-1081 548.5,-1081 548.5,-1087 542.5,-1093 536.5,-1093\"/>\n",
       "<text text-anchor=\"start\" x=\"449\" y=\"-1077.8\" font-family=\"Helvetica,sans-Serif\" font-size=\"14.00\" fill=\"#000000\">IL7R ≤ 3.216</text>\n",
       "<text text-anchor=\"start\" x=\"452.5\" y=\"-1062.8\" font-family=\"Helvetica,sans-Serif\" font-size=\"14.00\" fill=\"#000000\">gini = 0.045</text>\n",
       "<text text-anchor=\"start\" x=\"442.5\" y=\"-1047.8\" font-family=\"Helvetica,sans-Serif\" font-size=\"14.00\" fill=\"#000000\">samples = 392</text>\n",
       "<text text-anchor=\"start\" x=\"440.5\" y=\"-1032.8\" font-family=\"Helvetica,sans-Serif\" font-size=\"14.00\" fill=\"#000000\">value = [383, 9]</text>\n",
       "</g>\n",
       "<!-- 16&#45;&gt;17 -->\n",
       "<g id=\"edge17\" class=\"edge\">\n",
       "<title>16&#45;&gt;17</title>\n",
       "<path fill=\"none\" stroke=\"#000000\" d=\"M572.5526,-1128.9465C561.5988,-1119.6088 549.6127,-1109.3911 538.268,-1099.7203\"/>\n",
       "<polygon fill=\"#000000\" stroke=\"#000000\" points=\"540.4179,-1096.9538 530.5371,-1093.13 535.8767,-1102.2809 540.4179,-1096.9538\"/>\n",
       "</g>\n",
       "<!-- 38 -->\n",
       "<g id=\"node39\" class=\"node\">\n",
       "<title>38</title>\n",
       "<path fill=\"#399de5\" stroke=\"#000000\" d=\"M654,-1085.5C654,-1085.5 579,-1085.5 579,-1085.5 573,-1085.5 567,-1079.5 567,-1073.5 567,-1073.5 567,-1044.5 567,-1044.5 567,-1038.5 573,-1032.5 579,-1032.5 579,-1032.5 654,-1032.5 654,-1032.5 660,-1032.5 666,-1038.5 666,-1044.5 666,-1044.5 666,-1073.5 666,-1073.5 666,-1079.5 660,-1085.5 654,-1085.5\"/>\n",
       "<text text-anchor=\"start\" x=\"587\" y=\"-1070.3\" font-family=\"Helvetica,sans-Serif\" font-size=\"14.00\" fill=\"#000000\">gini = 0.0</text>\n",
       "<text text-anchor=\"start\" x=\"577\" y=\"-1055.3\" font-family=\"Helvetica,sans-Serif\" font-size=\"14.00\" fill=\"#000000\">samples = 1</text>\n",
       "<text text-anchor=\"start\" x=\"575\" y=\"-1040.3\" font-family=\"Helvetica,sans-Serif\" font-size=\"14.00\" fill=\"#000000\">value = [0, 1]</text>\n",
       "</g>\n",
       "<!-- 16&#45;&gt;38 -->\n",
       "<g id=\"edge38\" class=\"edge\">\n",
       "<title>16&#45;&gt;38</title>\n",
       "<path fill=\"none\" stroke=\"#000000\" d=\"M613.8097,-1128.9465C614.2207,-1118.2621 614.6759,-1106.4254 615.0933,-1095.5742\"/>\n",
       "<polygon fill=\"#000000\" stroke=\"#000000\" points=\"618.5921,-1095.6693 615.4791,-1085.5422 611.5973,-1095.4002 618.5921,-1095.6693\"/>\n",
       "</g>\n",
       "<!-- 18 -->\n",
       "<g id=\"node19\" class=\"node\">\n",
       "<title>18</title>\n",
       "<path fill=\"#e58139\" fill-opacity=\"0.980392\" stroke=\"#000000\" d=\"M473.5,-989C473.5,-989 381.5,-989 381.5,-989 375.5,-989 369.5,-983 369.5,-977 369.5,-977 369.5,-933 369.5,-933 369.5,-927 375.5,-921 381.5,-921 381.5,-921 473.5,-921 473.5,-921 479.5,-921 485.5,-927 485.5,-933 485.5,-933 485.5,-977 485.5,-977 485.5,-983 479.5,-989 473.5,-989\"/>\n",
       "<text text-anchor=\"start\" x=\"383.5\" y=\"-973.8\" font-family=\"Helvetica,sans-Serif\" font-size=\"14.00\" fill=\"#000000\">KLF4 ≤ 3.769</text>\n",
       "<text text-anchor=\"start\" x=\"394\" y=\"-958.8\" font-family=\"Helvetica,sans-Serif\" font-size=\"14.00\" fill=\"#000000\">gini = 0.04</text>\n",
       "<text text-anchor=\"start\" x=\"379.5\" y=\"-943.8\" font-family=\"Helvetica,sans-Serif\" font-size=\"14.00\" fill=\"#000000\">samples = 391</text>\n",
       "<text text-anchor=\"start\" x=\"377.5\" y=\"-928.8\" font-family=\"Helvetica,sans-Serif\" font-size=\"14.00\" fill=\"#000000\">value = [383, 8]</text>\n",
       "</g>\n",
       "<!-- 17&#45;&gt;18 -->\n",
       "<g id=\"edge18\" class=\"edge\">\n",
       "<title>17&#45;&gt;18</title>\n",
       "<path fill=\"none\" stroke=\"#000000\" d=\"M469.8714,-1024.9465C464.6501,-1016.3271 458.9745,-1006.9579 453.5245,-997.9611\"/>\n",
       "<polygon fill=\"#000000\" stroke=\"#000000\" points=\"456.3497,-995.8697 448.1749,-989.13 450.3626,-999.4965 456.3497,-995.8697\"/>\n",
       "</g>\n",
       "<!-- 37 -->\n",
       "<g id=\"node38\" class=\"node\">\n",
       "<title>37</title>\n",
       "<path fill=\"#399de5\" stroke=\"#000000\" d=\"M591,-981.5C591,-981.5 516,-981.5 516,-981.5 510,-981.5 504,-975.5 504,-969.5 504,-969.5 504,-940.5 504,-940.5 504,-934.5 510,-928.5 516,-928.5 516,-928.5 591,-928.5 591,-928.5 597,-928.5 603,-934.5 603,-940.5 603,-940.5 603,-969.5 603,-969.5 603,-975.5 597,-981.5 591,-981.5\"/>\n",
       "<text text-anchor=\"start\" x=\"524\" y=\"-966.3\" font-family=\"Helvetica,sans-Serif\" font-size=\"14.00\" fill=\"#000000\">gini = 0.0</text>\n",
       "<text text-anchor=\"start\" x=\"514\" y=\"-951.3\" font-family=\"Helvetica,sans-Serif\" font-size=\"14.00\" fill=\"#000000\">samples = 1</text>\n",
       "<text text-anchor=\"start\" x=\"512\" y=\"-936.3\" font-family=\"Helvetica,sans-Serif\" font-size=\"14.00\" fill=\"#000000\">value = [0, 1]</text>\n",
       "</g>\n",
       "<!-- 17&#45;&gt;37 -->\n",
       "<g id=\"edge37\" class=\"edge\">\n",
       "<title>17&#45;&gt;37</title>\n",
       "<path fill=\"none\" stroke=\"#000000\" d=\"M511.1286,-1024.9465C517.8678,-1013.8215 525.3637,-1001.4473 532.1545,-990.237\"/>\n",
       "<polygon fill=\"#000000\" stroke=\"#000000\" points=\"535.2339,-991.9087 537.4216,-981.5422 529.2467,-988.2818 535.2339,-991.9087\"/>\n",
       "</g>\n",
       "<!-- 19 -->\n",
       "<g id=\"node20\" class=\"node\">\n",
       "<title>19</title>\n",
       "<path fill=\"#e58139\" fill-opacity=\"0.980392\" stroke=\"#000000\" d=\"M410.5,-885C410.5,-885 318.5,-885 318.5,-885 312.5,-885 306.5,-879 306.5,-873 306.5,-873 306.5,-829 306.5,-829 306.5,-823 312.5,-817 318.5,-817 318.5,-817 410.5,-817 410.5,-817 416.5,-817 422.5,-823 422.5,-829 422.5,-829 422.5,-873 422.5,-873 422.5,-879 416.5,-885 410.5,-885\"/>\n",
       "<text text-anchor=\"start\" x=\"328\" y=\"-869.8\" font-family=\"Helvetica,sans-Serif\" font-size=\"14.00\" fill=\"#000000\">FYN ≤ 3.56</text>\n",
       "<text text-anchor=\"start\" x=\"326.5\" y=\"-854.8\" font-family=\"Helvetica,sans-Serif\" font-size=\"14.00\" fill=\"#000000\">gini = 0.035</text>\n",
       "<text text-anchor=\"start\" x=\"316.5\" y=\"-839.8\" font-family=\"Helvetica,sans-Serif\" font-size=\"14.00\" fill=\"#000000\">samples = 390</text>\n",
       "<text text-anchor=\"start\" x=\"314.5\" y=\"-824.8\" font-family=\"Helvetica,sans-Serif\" font-size=\"14.00\" fill=\"#000000\">value = [383, 7]</text>\n",
       "</g>\n",
       "<!-- 18&#45;&gt;19 -->\n",
       "<g id=\"edge19\" class=\"edge\">\n",
       "<title>18&#45;&gt;19</title>\n",
       "<path fill=\"none\" stroke=\"#000000\" d=\"M406.8714,-920.9465C401.6501,-912.3271 395.9745,-902.9579 390.5245,-893.9611\"/>\n",
       "<polygon fill=\"#000000\" stroke=\"#000000\" points=\"393.3497,-891.8697 385.1749,-885.13 387.3626,-895.4965 393.3497,-891.8697\"/>\n",
       "</g>\n",
       "<!-- 36 -->\n",
       "<g id=\"node37\" class=\"node\">\n",
       "<title>36</title>\n",
       "<path fill=\"#399de5\" stroke=\"#000000\" d=\"M528,-877.5C528,-877.5 453,-877.5 453,-877.5 447,-877.5 441,-871.5 441,-865.5 441,-865.5 441,-836.5 441,-836.5 441,-830.5 447,-824.5 453,-824.5 453,-824.5 528,-824.5 528,-824.5 534,-824.5 540,-830.5 540,-836.5 540,-836.5 540,-865.5 540,-865.5 540,-871.5 534,-877.5 528,-877.5\"/>\n",
       "<text text-anchor=\"start\" x=\"461\" y=\"-862.3\" font-family=\"Helvetica,sans-Serif\" font-size=\"14.00\" fill=\"#000000\">gini = 0.0</text>\n",
       "<text text-anchor=\"start\" x=\"451\" y=\"-847.3\" font-family=\"Helvetica,sans-Serif\" font-size=\"14.00\" fill=\"#000000\">samples = 1</text>\n",
       "<text text-anchor=\"start\" x=\"449\" y=\"-832.3\" font-family=\"Helvetica,sans-Serif\" font-size=\"14.00\" fill=\"#000000\">value = [0, 1]</text>\n",
       "</g>\n",
       "<!-- 18&#45;&gt;36 -->\n",
       "<g id=\"edge36\" class=\"edge\">\n",
       "<title>18&#45;&gt;36</title>\n",
       "<path fill=\"none\" stroke=\"#000000\" d=\"M448.1286,-920.9465C454.8678,-909.8215 462.3637,-897.4473 469.1545,-886.237\"/>\n",
       "<polygon fill=\"#000000\" stroke=\"#000000\" points=\"472.2339,-887.9087 474.4216,-877.5422 466.2467,-884.2818 472.2339,-887.9087\"/>\n",
       "</g>\n",
       "<!-- 20 -->\n",
       "<g id=\"node21\" class=\"node\">\n",
       "<title>20</title>\n",
       "<path fill=\"#e58139\" fill-opacity=\"0.984314\" stroke=\"#000000\" d=\"M347.5,-781C347.5,-781 255.5,-781 255.5,-781 249.5,-781 243.5,-775 243.5,-769 243.5,-769 243.5,-725 243.5,-725 243.5,-719 249.5,-713 255.5,-713 255.5,-713 347.5,-713 347.5,-713 353.5,-713 359.5,-719 359.5,-725 359.5,-725 359.5,-769 359.5,-769 359.5,-775 353.5,-781 347.5,-781\"/>\n",
       "<text text-anchor=\"start\" x=\"257\" y=\"-765.8\" font-family=\"Helvetica,sans-Serif\" font-size=\"14.00\" fill=\"#000000\">TYK2 ≤ 3.644</text>\n",
       "<text text-anchor=\"start\" x=\"268\" y=\"-750.8\" font-family=\"Helvetica,sans-Serif\" font-size=\"14.00\" fill=\"#000000\">gini = 0.03</text>\n",
       "<text text-anchor=\"start\" x=\"253.5\" y=\"-735.8\" font-family=\"Helvetica,sans-Serif\" font-size=\"14.00\" fill=\"#000000\">samples = 389</text>\n",
       "<text text-anchor=\"start\" x=\"251.5\" y=\"-720.8\" font-family=\"Helvetica,sans-Serif\" font-size=\"14.00\" fill=\"#000000\">value = [383, 6]</text>\n",
       "</g>\n",
       "<!-- 19&#45;&gt;20 -->\n",
       "<g id=\"edge20\" class=\"edge\">\n",
       "<title>19&#45;&gt;20</title>\n",
       "<path fill=\"none\" stroke=\"#000000\" d=\"M343.8714,-816.9465C338.6501,-808.3271 332.9745,-798.9579 327.5245,-789.9611\"/>\n",
       "<polygon fill=\"#000000\" stroke=\"#000000\" points=\"330.3497,-787.8697 322.1749,-781.13 324.3626,-791.4965 330.3497,-787.8697\"/>\n",
       "</g>\n",
       "<!-- 35 -->\n",
       "<g id=\"node36\" class=\"node\">\n",
       "<title>35</title>\n",
       "<path fill=\"#399de5\" stroke=\"#000000\" d=\"M465,-773.5C465,-773.5 390,-773.5 390,-773.5 384,-773.5 378,-767.5 378,-761.5 378,-761.5 378,-732.5 378,-732.5 378,-726.5 384,-720.5 390,-720.5 390,-720.5 465,-720.5 465,-720.5 471,-720.5 477,-726.5 477,-732.5 477,-732.5 477,-761.5 477,-761.5 477,-767.5 471,-773.5 465,-773.5\"/>\n",
       "<text text-anchor=\"start\" x=\"398\" y=\"-758.3\" font-family=\"Helvetica,sans-Serif\" font-size=\"14.00\" fill=\"#000000\">gini = 0.0</text>\n",
       "<text text-anchor=\"start\" x=\"388\" y=\"-743.3\" font-family=\"Helvetica,sans-Serif\" font-size=\"14.00\" fill=\"#000000\">samples = 1</text>\n",
       "<text text-anchor=\"start\" x=\"386\" y=\"-728.3\" font-family=\"Helvetica,sans-Serif\" font-size=\"14.00\" fill=\"#000000\">value = [0, 1]</text>\n",
       "</g>\n",
       "<!-- 19&#45;&gt;35 -->\n",
       "<g id=\"edge35\" class=\"edge\">\n",
       "<title>19&#45;&gt;35</title>\n",
       "<path fill=\"none\" stroke=\"#000000\" d=\"M385.1286,-816.9465C391.8678,-805.8215 399.3637,-793.4473 406.1545,-782.237\"/>\n",
       "<polygon fill=\"#000000\" stroke=\"#000000\" points=\"409.2339,-783.9087 411.4216,-773.5422 403.2467,-780.2818 409.2339,-783.9087\"/>\n",
       "</g>\n",
       "<!-- 21 -->\n",
       "<g id=\"node22\" class=\"node\">\n",
       "<title>21</title>\n",
       "<path fill=\"#e58139\" fill-opacity=\"0.988235\" stroke=\"#000000\" d=\"M284.5,-677C284.5,-677 192.5,-677 192.5,-677 186.5,-677 180.5,-671 180.5,-665 180.5,-665 180.5,-621 180.5,-621 180.5,-615 186.5,-609 192.5,-609 192.5,-609 284.5,-609 284.5,-609 290.5,-609 296.5,-615 296.5,-621 296.5,-621 296.5,-665 296.5,-665 296.5,-671 290.5,-677 284.5,-677\"/>\n",
       "<text text-anchor=\"start\" x=\"188.5\" y=\"-661.8\" font-family=\"Helvetica,sans-Serif\" font-size=\"14.00\" fill=\"#000000\">PPP6C ≤ 3.436</text>\n",
       "<text text-anchor=\"start\" x=\"200.5\" y=\"-646.8\" font-family=\"Helvetica,sans-Serif\" font-size=\"14.00\" fill=\"#000000\">gini = 0.025</text>\n",
       "<text text-anchor=\"start\" x=\"190.5\" y=\"-631.8\" font-family=\"Helvetica,sans-Serif\" font-size=\"14.00\" fill=\"#000000\">samples = 388</text>\n",
       "<text text-anchor=\"start\" x=\"188.5\" y=\"-616.8\" font-family=\"Helvetica,sans-Serif\" font-size=\"14.00\" fill=\"#000000\">value = [383, 5]</text>\n",
       "</g>\n",
       "<!-- 20&#45;&gt;21 -->\n",
       "<g id=\"edge21\" class=\"edge\">\n",
       "<title>20&#45;&gt;21</title>\n",
       "<path fill=\"none\" stroke=\"#000000\" d=\"M280.8714,-712.9465C275.6501,-704.3271 269.9745,-694.9579 264.5245,-685.9611\"/>\n",
       "<polygon fill=\"#000000\" stroke=\"#000000\" points=\"267.3497,-683.8697 259.1749,-677.13 261.3626,-687.4965 267.3497,-683.8697\"/>\n",
       "</g>\n",
       "<!-- 34 -->\n",
       "<g id=\"node35\" class=\"node\">\n",
       "<title>34</title>\n",
       "<path fill=\"#399de5\" stroke=\"#000000\" d=\"M402,-669.5C402,-669.5 327,-669.5 327,-669.5 321,-669.5 315,-663.5 315,-657.5 315,-657.5 315,-628.5 315,-628.5 315,-622.5 321,-616.5 327,-616.5 327,-616.5 402,-616.5 402,-616.5 408,-616.5 414,-622.5 414,-628.5 414,-628.5 414,-657.5 414,-657.5 414,-663.5 408,-669.5 402,-669.5\"/>\n",
       "<text text-anchor=\"start\" x=\"335\" y=\"-654.3\" font-family=\"Helvetica,sans-Serif\" font-size=\"14.00\" fill=\"#000000\">gini = 0.0</text>\n",
       "<text text-anchor=\"start\" x=\"325\" y=\"-639.3\" font-family=\"Helvetica,sans-Serif\" font-size=\"14.00\" fill=\"#000000\">samples = 1</text>\n",
       "<text text-anchor=\"start\" x=\"323\" y=\"-624.3\" font-family=\"Helvetica,sans-Serif\" font-size=\"14.00\" fill=\"#000000\">value = [0, 1]</text>\n",
       "</g>\n",
       "<!-- 20&#45;&gt;34 -->\n",
       "<g id=\"edge34\" class=\"edge\">\n",
       "<title>20&#45;&gt;34</title>\n",
       "<path fill=\"none\" stroke=\"#000000\" d=\"M322.1286,-712.9465C328.8678,-701.8215 336.3637,-689.4473 343.1545,-678.237\"/>\n",
       "<polygon fill=\"#000000\" stroke=\"#000000\" points=\"346.2339,-679.9087 348.4216,-669.5422 340.2467,-676.2818 346.2339,-679.9087\"/>\n",
       "</g>\n",
       "<!-- 22 -->\n",
       "<g id=\"node23\" class=\"node\">\n",
       "<title>22</title>\n",
       "<path fill=\"#e58139\" fill-opacity=\"0.988235\" stroke=\"#000000\" d=\"M221.5,-573C221.5,-573 129.5,-573 129.5,-573 123.5,-573 117.5,-567 117.5,-561 117.5,-561 117.5,-517 117.5,-517 117.5,-511 123.5,-505 129.5,-505 129.5,-505 221.5,-505 221.5,-505 227.5,-505 233.5,-511 233.5,-517 233.5,-517 233.5,-561 233.5,-561 233.5,-567 227.5,-573 221.5,-573\"/>\n",
       "<text text-anchor=\"start\" x=\"130\" y=\"-557.8\" font-family=\"Helvetica,sans-Serif\" font-size=\"14.00\" fill=\"#000000\">DKC1 ≤ 3.855</text>\n",
       "<text text-anchor=\"start\" x=\"142\" y=\"-542.8\" font-family=\"Helvetica,sans-Serif\" font-size=\"14.00\" fill=\"#000000\">gini = 0.02</text>\n",
       "<text text-anchor=\"start\" x=\"127.5\" y=\"-527.8\" font-family=\"Helvetica,sans-Serif\" font-size=\"14.00\" fill=\"#000000\">samples = 387</text>\n",
       "<text text-anchor=\"start\" x=\"125.5\" y=\"-512.8\" font-family=\"Helvetica,sans-Serif\" font-size=\"14.00\" fill=\"#000000\">value = [383, 4]</text>\n",
       "</g>\n",
       "<!-- 21&#45;&gt;22 -->\n",
       "<g id=\"edge22\" class=\"edge\">\n",
       "<title>21&#45;&gt;22</title>\n",
       "<path fill=\"none\" stroke=\"#000000\" d=\"M217.8714,-608.9465C212.6501,-600.3271 206.9745,-590.9579 201.5245,-581.9611\"/>\n",
       "<polygon fill=\"#000000\" stroke=\"#000000\" points=\"204.3497,-579.8697 196.1749,-573.13 198.3626,-583.4965 204.3497,-579.8697\"/>\n",
       "</g>\n",
       "<!-- 33 -->\n",
       "<g id=\"node34\" class=\"node\">\n",
       "<title>33</title>\n",
       "<path fill=\"#399de5\" stroke=\"#000000\" d=\"M339,-565.5C339,-565.5 264,-565.5 264,-565.5 258,-565.5 252,-559.5 252,-553.5 252,-553.5 252,-524.5 252,-524.5 252,-518.5 258,-512.5 264,-512.5 264,-512.5 339,-512.5 339,-512.5 345,-512.5 351,-518.5 351,-524.5 351,-524.5 351,-553.5 351,-553.5 351,-559.5 345,-565.5 339,-565.5\"/>\n",
       "<text text-anchor=\"start\" x=\"272\" y=\"-550.3\" font-family=\"Helvetica,sans-Serif\" font-size=\"14.00\" fill=\"#000000\">gini = 0.0</text>\n",
       "<text text-anchor=\"start\" x=\"262\" y=\"-535.3\" font-family=\"Helvetica,sans-Serif\" font-size=\"14.00\" fill=\"#000000\">samples = 1</text>\n",
       "<text text-anchor=\"start\" x=\"260\" y=\"-520.3\" font-family=\"Helvetica,sans-Serif\" font-size=\"14.00\" fill=\"#000000\">value = [0, 1]</text>\n",
       "</g>\n",
       "<!-- 21&#45;&gt;33 -->\n",
       "<g id=\"edge33\" class=\"edge\">\n",
       "<title>21&#45;&gt;33</title>\n",
       "<path fill=\"none\" stroke=\"#000000\" d=\"M259.1286,-608.9465C265.8678,-597.8215 273.3637,-585.4473 280.1545,-574.237\"/>\n",
       "<polygon fill=\"#000000\" stroke=\"#000000\" points=\"283.2339,-575.9087 285.4216,-565.5422 277.2467,-572.2818 283.2339,-575.9087\"/>\n",
       "</g>\n",
       "<!-- 23 -->\n",
       "<g id=\"node24\" class=\"node\">\n",
       "<title>23</title>\n",
       "<path fill=\"#e58139\" fill-opacity=\"0.992157\" stroke=\"#000000\" d=\"M158.5,-469C158.5,-469 66.5,-469 66.5,-469 60.5,-469 54.5,-463 54.5,-457 54.5,-457 54.5,-413 54.5,-413 54.5,-407 60.5,-401 66.5,-401 66.5,-401 158.5,-401 158.5,-401 164.5,-401 170.5,-407 170.5,-413 170.5,-413 170.5,-457 170.5,-457 170.5,-463 164.5,-469 158.5,-469\"/>\n",
       "<text text-anchor=\"start\" x=\"67\" y=\"-453.8\" font-family=\"Helvetica,sans-Serif\" font-size=\"14.00\" fill=\"#000000\">DDX5 ≤ 3.776</text>\n",
       "<text text-anchor=\"start\" x=\"74.5\" y=\"-438.8\" font-family=\"Helvetica,sans-Serif\" font-size=\"14.00\" fill=\"#000000\">gini = 0.015</text>\n",
       "<text text-anchor=\"start\" x=\"64.5\" y=\"-423.8\" font-family=\"Helvetica,sans-Serif\" font-size=\"14.00\" fill=\"#000000\">samples = 386</text>\n",
       "<text text-anchor=\"start\" x=\"62.5\" y=\"-408.8\" font-family=\"Helvetica,sans-Serif\" font-size=\"14.00\" fill=\"#000000\">value = [383, 3]</text>\n",
       "</g>\n",
       "<!-- 22&#45;&gt;23 -->\n",
       "<g id=\"edge23\" class=\"edge\">\n",
       "<title>22&#45;&gt;23</title>\n",
       "<path fill=\"none\" stroke=\"#000000\" d=\"M154.8714,-504.9465C149.6501,-496.3271 143.9745,-486.9579 138.5245,-477.9611\"/>\n",
       "<polygon fill=\"#000000\" stroke=\"#000000\" points=\"141.3497,-475.8697 133.1749,-469.13 135.3626,-479.4965 141.3497,-475.8697\"/>\n",
       "</g>\n",
       "<!-- 32 -->\n",
       "<g id=\"node33\" class=\"node\">\n",
       "<title>32</title>\n",
       "<path fill=\"#399de5\" stroke=\"#000000\" d=\"M276,-461.5C276,-461.5 201,-461.5 201,-461.5 195,-461.5 189,-455.5 189,-449.5 189,-449.5 189,-420.5 189,-420.5 189,-414.5 195,-408.5 201,-408.5 201,-408.5 276,-408.5 276,-408.5 282,-408.5 288,-414.5 288,-420.5 288,-420.5 288,-449.5 288,-449.5 288,-455.5 282,-461.5 276,-461.5\"/>\n",
       "<text text-anchor=\"start\" x=\"209\" y=\"-446.3\" font-family=\"Helvetica,sans-Serif\" font-size=\"14.00\" fill=\"#000000\">gini = 0.0</text>\n",
       "<text text-anchor=\"start\" x=\"199\" y=\"-431.3\" font-family=\"Helvetica,sans-Serif\" font-size=\"14.00\" fill=\"#000000\">samples = 1</text>\n",
       "<text text-anchor=\"start\" x=\"197\" y=\"-416.3\" font-family=\"Helvetica,sans-Serif\" font-size=\"14.00\" fill=\"#000000\">value = [0, 1]</text>\n",
       "</g>\n",
       "<!-- 22&#45;&gt;32 -->\n",
       "<g id=\"edge32\" class=\"edge\">\n",
       "<title>22&#45;&gt;32</title>\n",
       "<path fill=\"none\" stroke=\"#000000\" d=\"M196.1286,-504.9465C202.8678,-493.8215 210.3637,-481.4473 217.1545,-470.237\"/>\n",
       "<polygon fill=\"#000000\" stroke=\"#000000\" points=\"220.2339,-471.9087 222.4216,-461.5422 214.2467,-468.2818 220.2339,-471.9087\"/>\n",
       "</g>\n",
       "<!-- 24 -->\n",
       "<g id=\"node25\" class=\"node\">\n",
       "<title>24</title>\n",
       "<path fill=\"#399de5\" stroke=\"#000000\" d=\"M87,-357.5C87,-357.5 12,-357.5 12,-357.5 6,-357.5 0,-351.5 0,-345.5 0,-345.5 0,-316.5 0,-316.5 0,-310.5 6,-304.5 12,-304.5 12,-304.5 87,-304.5 87,-304.5 93,-304.5 99,-310.5 99,-316.5 99,-316.5 99,-345.5 99,-345.5 99,-351.5 93,-357.5 87,-357.5\"/>\n",
       "<text text-anchor=\"start\" x=\"20\" y=\"-342.3\" font-family=\"Helvetica,sans-Serif\" font-size=\"14.00\" fill=\"#000000\">gini = 0.0</text>\n",
       "<text text-anchor=\"start\" x=\"10\" y=\"-327.3\" font-family=\"Helvetica,sans-Serif\" font-size=\"14.00\" fill=\"#000000\">samples = 1</text>\n",
       "<text text-anchor=\"start\" x=\"8\" y=\"-312.3\" font-family=\"Helvetica,sans-Serif\" font-size=\"14.00\" fill=\"#000000\">value = [0, 1]</text>\n",
       "</g>\n",
       "<!-- 23&#45;&gt;24 -->\n",
       "<g id=\"edge24\" class=\"edge\">\n",
       "<title>23&#45;&gt;24</title>\n",
       "<path fill=\"none\" stroke=\"#000000\" d=\"M91.8714,-400.9465C85.1322,-389.8215 77.6363,-377.4473 70.8455,-366.237\"/>\n",
       "<polygon fill=\"#000000\" stroke=\"#000000\" points=\"73.7533,-364.2818 65.5784,-357.5422 67.7661,-367.9087 73.7533,-364.2818\"/>\n",
       "</g>\n",
       "<!-- 25 -->\n",
       "<g id=\"node26\" class=\"node\">\n",
       "<title>25</title>\n",
       "<path fill=\"#e58139\" fill-opacity=\"0.996078\" stroke=\"#000000\" d=\"M221.5,-365C221.5,-365 129.5,-365 129.5,-365 123.5,-365 117.5,-359 117.5,-353 117.5,-353 117.5,-309 117.5,-309 117.5,-303 123.5,-297 129.5,-297 129.5,-297 221.5,-297 221.5,-297 227.5,-297 233.5,-303 233.5,-309 233.5,-309 233.5,-353 233.5,-353 233.5,-359 227.5,-365 221.5,-365\"/>\n",
       "<text text-anchor=\"start\" x=\"129.5\" y=\"-349.8\" font-family=\"Helvetica,sans-Serif\" font-size=\"14.00\" fill=\"#000000\">PMS1 ≤ 2.008</text>\n",
       "<text text-anchor=\"start\" x=\"142\" y=\"-334.8\" font-family=\"Helvetica,sans-Serif\" font-size=\"14.00\" fill=\"#000000\">gini = 0.01</text>\n",
       "<text text-anchor=\"start\" x=\"127.5\" y=\"-319.8\" font-family=\"Helvetica,sans-Serif\" font-size=\"14.00\" fill=\"#000000\">samples = 385</text>\n",
       "<text text-anchor=\"start\" x=\"125.5\" y=\"-304.8\" font-family=\"Helvetica,sans-Serif\" font-size=\"14.00\" fill=\"#000000\">value = [383, 2]</text>\n",
       "</g>\n",
       "<!-- 23&#45;&gt;25 -->\n",
       "<g id=\"edge25\" class=\"edge\">\n",
       "<title>23&#45;&gt;25</title>\n",
       "<path fill=\"none\" stroke=\"#000000\" d=\"M133.1286,-400.9465C138.3499,-392.3271 144.0255,-382.9579 149.4755,-373.9611\"/>\n",
       "<polygon fill=\"#000000\" stroke=\"#000000\" points=\"152.6374,-375.4965 154.8251,-365.13 146.6503,-371.8697 152.6374,-375.4965\"/>\n",
       "</g>\n",
       "<!-- 26 -->\n",
       "<g id=\"node27\" class=\"node\">\n",
       "<title>26</title>\n",
       "<path fill=\"#399de5\" stroke=\"#000000\" d=\"M144,-253.5C144,-253.5 69,-253.5 69,-253.5 63,-253.5 57,-247.5 57,-241.5 57,-241.5 57,-212.5 57,-212.5 57,-206.5 63,-200.5 69,-200.5 69,-200.5 144,-200.5 144,-200.5 150,-200.5 156,-206.5 156,-212.5 156,-212.5 156,-241.5 156,-241.5 156,-247.5 150,-253.5 144,-253.5\"/>\n",
       "<text text-anchor=\"start\" x=\"77\" y=\"-238.3\" font-family=\"Helvetica,sans-Serif\" font-size=\"14.00\" fill=\"#000000\">gini = 0.0</text>\n",
       "<text text-anchor=\"start\" x=\"67\" y=\"-223.3\" font-family=\"Helvetica,sans-Serif\" font-size=\"14.00\" fill=\"#000000\">samples = 1</text>\n",
       "<text text-anchor=\"start\" x=\"65\" y=\"-208.3\" font-family=\"Helvetica,sans-Serif\" font-size=\"14.00\" fill=\"#000000\">value = [0, 1]</text>\n",
       "</g>\n",
       "<!-- 25&#45;&gt;26 -->\n",
       "<g id=\"edge26\" class=\"edge\">\n",
       "<title>25&#45;&gt;26</title>\n",
       "<path fill=\"none\" stroke=\"#000000\" d=\"M152.9068,-296.9465C145.4527,-285.7113 137.1533,-273.2021 129.6577,-261.9043\"/>\n",
       "<polygon fill=\"#000000\" stroke=\"#000000\" points=\"132.5547,-259.94 124.1097,-253.5422 126.7218,-263.81 132.5547,-259.94\"/>\n",
       "</g>\n",
       "<!-- 27 -->\n",
       "<g id=\"node28\" class=\"node\">\n",
       "<title>27</title>\n",
       "<path fill=\"#e58139\" fill-opacity=\"0.996078\" stroke=\"#000000\" d=\"M303,-261C303,-261 186,-261 186,-261 180,-261 174,-255 174,-249 174,-249 174,-205 174,-205 174,-199 180,-193 186,-193 186,-193 303,-193 303,-193 309,-193 315,-199 315,-205 315,-205 315,-249 315,-249 315,-255 309,-261 303,-261\"/>\n",
       "<text text-anchor=\"start\" x=\"182\" y=\"-245.8\" font-family=\"Helvetica,sans-Serif\" font-size=\"14.00\" fill=\"#000000\">HIST1H2AG ≤ 1.71</text>\n",
       "<text text-anchor=\"start\" x=\"206.5\" y=\"-230.8\" font-family=\"Helvetica,sans-Serif\" font-size=\"14.00\" fill=\"#000000\">gini = 0.005</text>\n",
       "<text text-anchor=\"start\" x=\"196.5\" y=\"-215.8\" font-family=\"Helvetica,sans-Serif\" font-size=\"14.00\" fill=\"#000000\">samples = 384</text>\n",
       "<text text-anchor=\"start\" x=\"194.5\" y=\"-200.8\" font-family=\"Helvetica,sans-Serif\" font-size=\"14.00\" fill=\"#000000\">value = [383, 1]</text>\n",
       "</g>\n",
       "<!-- 25&#45;&gt;27 -->\n",
       "<g id=\"edge27\" class=\"edge\">\n",
       "<title>25&#45;&gt;27</title>\n",
       "<path fill=\"none\" stroke=\"#000000\" d=\"M198.0932,-296.9465C203.8714,-288.2373 210.1575,-278.7626 216.1834,-269.6801\"/>\n",
       "<polygon fill=\"#000000\" stroke=\"#000000\" points=\"219.244,-271.3978 221.8561,-261.13 213.411,-267.5278 219.244,-271.3978\"/>\n",
       "</g>\n",
       "<!-- 28 -->\n",
       "<g id=\"node29\" class=\"node\">\n",
       "<title>28</title>\n",
       "<path fill=\"#e58139\" stroke=\"#000000\" d=\"M220.5,-149.5C220.5,-149.5 128.5,-149.5 128.5,-149.5 122.5,-149.5 116.5,-143.5 116.5,-137.5 116.5,-137.5 116.5,-108.5 116.5,-108.5 116.5,-102.5 122.5,-96.5 128.5,-96.5 128.5,-96.5 220.5,-96.5 220.5,-96.5 226.5,-96.5 232.5,-102.5 232.5,-108.5 232.5,-108.5 232.5,-137.5 232.5,-137.5 232.5,-143.5 226.5,-149.5 220.5,-149.5\"/>\n",
       "<text text-anchor=\"start\" x=\"145\" y=\"-134.3\" font-family=\"Helvetica,sans-Serif\" font-size=\"14.00\" fill=\"#000000\">gini = 0.0</text>\n",
       "<text text-anchor=\"start\" x=\"126.5\" y=\"-119.3\" font-family=\"Helvetica,sans-Serif\" font-size=\"14.00\" fill=\"#000000\">samples = 382</text>\n",
       "<text text-anchor=\"start\" x=\"124.5\" y=\"-104.3\" font-family=\"Helvetica,sans-Serif\" font-size=\"14.00\" fill=\"#000000\">value = [382, 0]</text>\n",
       "</g>\n",
       "<!-- 27&#45;&gt;28 -->\n",
       "<g id=\"edge28\" class=\"edge\">\n",
       "<title>27&#45;&gt;28</title>\n",
       "<path fill=\"none\" stroke=\"#000000\" d=\"M221.5794,-192.9465C214.0172,-181.7113 205.5976,-169.2021 197.9933,-157.9043\"/>\n",
       "<polygon fill=\"#000000\" stroke=\"#000000\" points=\"200.8523,-155.8837 192.3649,-149.5422 195.0452,-159.7924 200.8523,-155.8837\"/>\n",
       "</g>\n",
       "<!-- 29 -->\n",
       "<g id=\"node30\" class=\"node\">\n",
       "<title>29</title>\n",
       "<path fill=\"transparent\" stroke=\"#000000\" d=\"M366.5,-157C366.5,-157 262.5,-157 262.5,-157 256.5,-157 250.5,-151 250.5,-145 250.5,-145 250.5,-101 250.5,-101 250.5,-95 256.5,-89 262.5,-89 262.5,-89 366.5,-89 366.5,-89 372.5,-89 378.5,-95 378.5,-101 378.5,-101 378.5,-145 378.5,-145 378.5,-151 372.5,-157 366.5,-157\"/>\n",
       "<text text-anchor=\"start\" x=\"258.5\" y=\"-141.8\" font-family=\"Helvetica,sans-Serif\" font-size=\"14.00\" fill=\"#000000\">NOTCH4 ≤ 2.668</text>\n",
       "<text text-anchor=\"start\" x=\"285\" y=\"-126.8\" font-family=\"Helvetica,sans-Serif\" font-size=\"14.00\" fill=\"#000000\">gini = 0.5</text>\n",
       "<text text-anchor=\"start\" x=\"275\" y=\"-111.8\" font-family=\"Helvetica,sans-Serif\" font-size=\"14.00\" fill=\"#000000\">samples = 2</text>\n",
       "<text text-anchor=\"start\" x=\"273\" y=\"-96.8\" font-family=\"Helvetica,sans-Serif\" font-size=\"14.00\" fill=\"#000000\">value = [1, 1]</text>\n",
       "</g>\n",
       "<!-- 27&#45;&gt;29 -->\n",
       "<g id=\"edge29\" class=\"edge\">\n",
       "<title>27&#45;&gt;29</title>\n",
       "<path fill=\"none\" stroke=\"#000000\" d=\"M267.4206,-192.9465C273.2826,-184.2373 279.6598,-174.7626 285.773,-165.6801\"/>\n",
       "<polygon fill=\"#000000\" stroke=\"#000000\" points=\"288.8476,-167.3802 291.5279,-157.13 283.0405,-163.4716 288.8476,-167.3802\"/>\n",
       "</g>\n",
       "<!-- 30 -->\n",
       "<g id=\"node31\" class=\"node\">\n",
       "<title>30</title>\n",
       "<path fill=\"#399de5\" stroke=\"#000000\" d=\"M293,-53C293,-53 218,-53 218,-53 212,-53 206,-47 206,-41 206,-41 206,-12 206,-12 206,-6 212,0 218,0 218,0 293,0 293,0 299,0 305,-6 305,-12 305,-12 305,-41 305,-41 305,-47 299,-53 293,-53\"/>\n",
       "<text text-anchor=\"start\" x=\"226\" y=\"-37.8\" font-family=\"Helvetica,sans-Serif\" font-size=\"14.00\" fill=\"#000000\">gini = 0.0</text>\n",
       "<text text-anchor=\"start\" x=\"216\" y=\"-22.8\" font-family=\"Helvetica,sans-Serif\" font-size=\"14.00\" fill=\"#000000\">samples = 1</text>\n",
       "<text text-anchor=\"start\" x=\"214\" y=\"-7.8\" font-family=\"Helvetica,sans-Serif\" font-size=\"14.00\" fill=\"#000000\">value = [0, 1]</text>\n",
       "</g>\n",
       "<!-- 29&#45;&gt;30 -->\n",
       "<g id=\"edge30\" class=\"edge\">\n",
       "<title>29&#45;&gt;30</title>\n",
       "<path fill=\"none\" stroke=\"#000000\" d=\"M293.6988,-88.9777C288.3242,-80.187 282.5265,-70.7044 277.1115,-61.8477\"/>\n",
       "<polygon fill=\"#000000\" stroke=\"#000000\" points=\"280.0564,-59.9545 271.854,-53.2485 274.0842,-63.6059 280.0564,-59.9545\"/>\n",
       "</g>\n",
       "<!-- 31 -->\n",
       "<g id=\"node32\" class=\"node\">\n",
       "<title>31</title>\n",
       "<path fill=\"#e58139\" stroke=\"#000000\" d=\"M410,-53C410,-53 335,-53 335,-53 329,-53 323,-47 323,-41 323,-41 323,-12 323,-12 323,-6 329,0 335,0 335,0 410,0 410,0 416,0 422,-6 422,-12 422,-12 422,-41 422,-41 422,-47 416,-53 410,-53\"/>\n",
       "<text text-anchor=\"start\" x=\"343\" y=\"-37.8\" font-family=\"Helvetica,sans-Serif\" font-size=\"14.00\" fill=\"#000000\">gini = 0.0</text>\n",
       "<text text-anchor=\"start\" x=\"333\" y=\"-22.8\" font-family=\"Helvetica,sans-Serif\" font-size=\"14.00\" fill=\"#000000\">samples = 1</text>\n",
       "<text text-anchor=\"start\" x=\"331\" y=\"-7.8\" font-family=\"Helvetica,sans-Serif\" font-size=\"14.00\" fill=\"#000000\">value = [1, 0]</text>\n",
       "</g>\n",
       "<!-- 29&#45;&gt;31 -->\n",
       "<g id=\"edge31\" class=\"edge\">\n",
       "<title>29&#45;&gt;31</title>\n",
       "<path fill=\"none\" stroke=\"#000000\" d=\"M334.9486,-88.9777C340.2322,-80.187 345.9316,-70.7044 351.2548,-61.8477\"/>\n",
       "<polygon fill=\"#000000\" stroke=\"#000000\" points=\"354.2715,-63.6225 356.4232,-53.2485 348.2718,-60.0165 354.2715,-63.6225\"/>\n",
       "</g>\n",
       "<!-- 40 -->\n",
       "<g id=\"node41\" class=\"node\">\n",
       "<title>40</title>\n",
       "<path fill=\"#e58139\" stroke=\"#000000\" d=\"M778,-1085.5C778,-1085.5 703,-1085.5 703,-1085.5 697,-1085.5 691,-1079.5 691,-1073.5 691,-1073.5 691,-1044.5 691,-1044.5 691,-1038.5 697,-1032.5 703,-1032.5 703,-1032.5 778,-1032.5 778,-1032.5 784,-1032.5 790,-1038.5 790,-1044.5 790,-1044.5 790,-1073.5 790,-1073.5 790,-1079.5 784,-1085.5 778,-1085.5\"/>\n",
       "<text text-anchor=\"start\" x=\"711\" y=\"-1070.3\" font-family=\"Helvetica,sans-Serif\" font-size=\"14.00\" fill=\"#000000\">gini = 0.0</text>\n",
       "<text text-anchor=\"start\" x=\"701\" y=\"-1055.3\" font-family=\"Helvetica,sans-Serif\" font-size=\"14.00\" fill=\"#000000\">samples = 1</text>\n",
       "<text text-anchor=\"start\" x=\"699\" y=\"-1040.3\" font-family=\"Helvetica,sans-Serif\" font-size=\"14.00\" fill=\"#000000\">value = [1, 0]</text>\n",
       "</g>\n",
       "<!-- 39&#45;&gt;40 -->\n",
       "<g id=\"edge40\" class=\"edge\">\n",
       "<title>39&#45;&gt;40</title>\n",
       "<path fill=\"none\" stroke=\"#000000\" d=\"M742.5177,-1128.9465C742.2095,-1118.2621 741.868,-1106.4254 741.555,-1095.5742\"/>\n",
       "<polygon fill=\"#000000\" stroke=\"#000000\" points=\"745.0526,-1095.4371 741.2656,-1085.5422 738.0555,-1095.639 745.0526,-1095.4371\"/>\n",
       "</g>\n",
       "<!-- 41 -->\n",
       "<g id=\"node42\" class=\"node\">\n",
       "<title>41</title>\n",
       "<path fill=\"#399de5\" stroke=\"#000000\" d=\"M895,-1085.5C895,-1085.5 820,-1085.5 820,-1085.5 814,-1085.5 808,-1079.5 808,-1073.5 808,-1073.5 808,-1044.5 808,-1044.5 808,-1038.5 814,-1032.5 820,-1032.5 820,-1032.5 895,-1032.5 895,-1032.5 901,-1032.5 907,-1038.5 907,-1044.5 907,-1044.5 907,-1073.5 907,-1073.5 907,-1079.5 901,-1085.5 895,-1085.5\"/>\n",
       "<text text-anchor=\"start\" x=\"828\" y=\"-1070.3\" font-family=\"Helvetica,sans-Serif\" font-size=\"14.00\" fill=\"#000000\">gini = 0.0</text>\n",
       "<text text-anchor=\"start\" x=\"818\" y=\"-1055.3\" font-family=\"Helvetica,sans-Serif\" font-size=\"14.00\" fill=\"#000000\">samples = 2</text>\n",
       "<text text-anchor=\"start\" x=\"816\" y=\"-1040.3\" font-family=\"Helvetica,sans-Serif\" font-size=\"14.00\" fill=\"#000000\">value = [0, 2]</text>\n",
       "</g>\n",
       "<!-- 39&#45;&gt;41 -->\n",
       "<g id=\"edge41\" class=\"edge\">\n",
       "<title>39&#45;&gt;41</title>\n",
       "<path fill=\"none\" stroke=\"#000000\" d=\"M780.8279,-1128.9465C793.6263,-1117.2707 807.933,-1104.219 820.6901,-1092.5809\"/>\n",
       "<polygon fill=\"#000000\" stroke=\"#000000\" points=\"823.3769,-1094.8675 828.4057,-1085.5422 818.6591,-1089.6961 823.3769,-1094.8675\"/>\n",
       "</g>\n",
       "<!-- 46 -->\n",
       "<g id=\"node47\" class=\"node\">\n",
       "<title>46</title>\n",
       "<path fill=\"#399de5\" stroke=\"#000000\" d=\"M962,-1605.5C962,-1605.5 887,-1605.5 887,-1605.5 881,-1605.5 875,-1599.5 875,-1593.5 875,-1593.5 875,-1564.5 875,-1564.5 875,-1558.5 881,-1552.5 887,-1552.5 887,-1552.5 962,-1552.5 962,-1552.5 968,-1552.5 974,-1558.5 974,-1564.5 974,-1564.5 974,-1593.5 974,-1593.5 974,-1599.5 968,-1605.5 962,-1605.5\"/>\n",
       "<text text-anchor=\"start\" x=\"895\" y=\"-1590.3\" font-family=\"Helvetica,sans-Serif\" font-size=\"14.00\" fill=\"#000000\">gini = 0.0</text>\n",
       "<text text-anchor=\"start\" x=\"885\" y=\"-1575.3\" font-family=\"Helvetica,sans-Serif\" font-size=\"14.00\" fill=\"#000000\">samples = 5</text>\n",
       "<text text-anchor=\"start\" x=\"883\" y=\"-1560.3\" font-family=\"Helvetica,sans-Serif\" font-size=\"14.00\" fill=\"#000000\">value = [0, 5]</text>\n",
       "</g>\n",
       "<!-- 45&#45;&gt;46 -->\n",
       "<g id=\"edge46\" class=\"edge\">\n",
       "<title>45&#45;&gt;46</title>\n",
       "<path fill=\"none\" stroke=\"#000000\" d=\"M924.5,-1648.9465C924.5,-1638.2621 924.5,-1626.4254 924.5,-1615.5742\"/>\n",
       "<polygon fill=\"#000000\" stroke=\"#000000\" points=\"928.0001,-1615.5421 924.5,-1605.5422 921.0001,-1615.5422 928.0001,-1615.5421\"/>\n",
       "</g>\n",
       "<!-- 47 -->\n",
       "<g id=\"node48\" class=\"node\">\n",
       "<title>47</title>\n",
       "<path fill=\"#e58139\" stroke=\"#000000\" d=\"M1079,-1605.5C1079,-1605.5 1004,-1605.5 1004,-1605.5 998,-1605.5 992,-1599.5 992,-1593.5 992,-1593.5 992,-1564.5 992,-1564.5 992,-1558.5 998,-1552.5 1004,-1552.5 1004,-1552.5 1079,-1552.5 1079,-1552.5 1085,-1552.5 1091,-1558.5 1091,-1564.5 1091,-1564.5 1091,-1593.5 1091,-1593.5 1091,-1599.5 1085,-1605.5 1079,-1605.5\"/>\n",
       "<text text-anchor=\"start\" x=\"1012\" y=\"-1590.3\" font-family=\"Helvetica,sans-Serif\" font-size=\"14.00\" fill=\"#000000\">gini = 0.0</text>\n",
       "<text text-anchor=\"start\" x=\"1002\" y=\"-1575.3\" font-family=\"Helvetica,sans-Serif\" font-size=\"14.00\" fill=\"#000000\">samples = 1</text>\n",
       "<text text-anchor=\"start\" x=\"1000\" y=\"-1560.3\" font-family=\"Helvetica,sans-Serif\" font-size=\"14.00\" fill=\"#000000\">value = [1, 0]</text>\n",
       "</g>\n",
       "<!-- 45&#45;&gt;47 -->\n",
       "<g id=\"edge47\" class=\"edge\">\n",
       "<title>45&#45;&gt;47</title>\n",
       "<path fill=\"none\" stroke=\"#000000\" d=\"M962.8102,-1648.9465C976.0694,-1637.1606 990.9058,-1623.9726 1004.0916,-1612.2519\"/>\n",
       "<polygon fill=\"#000000\" stroke=\"#000000\" points=\"1006.4912,-1614.8018 1011.6401,-1605.5422 1001.8407,-1609.5699 1006.4912,-1614.8018\"/>\n",
       "</g>\n",
       "<!-- 49 -->\n",
       "<g id=\"node50\" class=\"node\">\n",
       "<title>49</title>\n",
       "<path fill=\"#e58139\" fill-opacity=\"0.749020\" stroke=\"#000000\" d=\"M1155,-1821C1155,-1821 1030,-1821 1030,-1821 1024,-1821 1018,-1815 1018,-1809 1018,-1809 1018,-1765 1018,-1765 1018,-1759 1024,-1753 1030,-1753 1030,-1753 1155,-1753 1155,-1753 1161,-1753 1167,-1759 1167,-1765 1167,-1765 1167,-1809 1167,-1809 1167,-1815 1161,-1821 1155,-1821\"/>\n",
       "<text text-anchor=\"start\" x=\"1026\" y=\"-1805.8\" font-family=\"Helvetica,sans-Serif\" font-size=\"14.00\" fill=\"#000000\">HIST1H2AC ≤ 2.555</text>\n",
       "<text text-anchor=\"start\" x=\"1059\" y=\"-1790.8\" font-family=\"Helvetica,sans-Serif\" font-size=\"14.00\" fill=\"#000000\">gini = 0.32</text>\n",
       "<text text-anchor=\"start\" x=\"1053\" y=\"-1775.8\" font-family=\"Helvetica,sans-Serif\" font-size=\"14.00\" fill=\"#000000\">samples = 5</text>\n",
       "<text text-anchor=\"start\" x=\"1051\" y=\"-1760.8\" font-family=\"Helvetica,sans-Serif\" font-size=\"14.00\" fill=\"#000000\">value = [4, 1]</text>\n",
       "</g>\n",
       "<!-- 48&#45;&gt;49 -->\n",
       "<g id=\"edge49\" class=\"edge\">\n",
       "<title>48&#45;&gt;49</title>\n",
       "<path fill=\"none\" stroke=\"#000000\" d=\"M1092.5,-1856.9465C1092.5,-1848.776 1092.5,-1839.9318 1092.5,-1831.3697\"/>\n",
       "<polygon fill=\"#000000\" stroke=\"#000000\" points=\"1096.0001,-1831.13 1092.5,-1821.13 1089.0001,-1831.13 1096.0001,-1831.13\"/>\n",
       "</g>\n",
       "<!-- 52 -->\n",
       "<g id=\"node53\" class=\"node\">\n",
       "<title>52</title>\n",
       "<path fill=\"#399de5\" fill-opacity=\"0.988235\" stroke=\"#000000\" d=\"M1330.5,-1821C1330.5,-1821 1238.5,-1821 1238.5,-1821 1232.5,-1821 1226.5,-1815 1226.5,-1809 1226.5,-1809 1226.5,-1765 1226.5,-1765 1226.5,-1759 1232.5,-1753 1238.5,-1753 1238.5,-1753 1330.5,-1753 1330.5,-1753 1336.5,-1753 1342.5,-1759 1342.5,-1765 1342.5,-1765 1342.5,-1809 1342.5,-1809 1342.5,-1815 1336.5,-1821 1330.5,-1821\"/>\n",
       "<text text-anchor=\"start\" x=\"1238.5\" y=\"-1805.8\" font-family=\"Helvetica,sans-Serif\" font-size=\"14.00\" fill=\"#000000\">ASMTL ≤ 2.04</text>\n",
       "<text text-anchor=\"start\" x=\"1246.5\" y=\"-1790.8\" font-family=\"Helvetica,sans-Serif\" font-size=\"14.00\" fill=\"#000000\">gini = 0.023</text>\n",
       "<text text-anchor=\"start\" x=\"1236.5\" y=\"-1775.8\" font-family=\"Helvetica,sans-Serif\" font-size=\"14.00\" fill=\"#000000\">samples = 349</text>\n",
       "<text text-anchor=\"start\" x=\"1234.5\" y=\"-1760.8\" font-family=\"Helvetica,sans-Serif\" font-size=\"14.00\" fill=\"#000000\">value = [4, 345]</text>\n",
       "</g>\n",
       "<!-- 48&#45;&gt;52 -->\n",
       "<g id=\"edge52\" class=\"edge\">\n",
       "<title>48&#45;&gt;52</title>\n",
       "<path fill=\"none\" stroke=\"#000000\" d=\"M1151.1496,-1859.2315C1171.9926,-1847.9415 1195.6186,-1835.1441 1217.1328,-1823.4906\"/>\n",
       "<polygon fill=\"#000000\" stroke=\"#000000\" points=\"1219.0836,-1826.4144 1226.2096,-1818.574 1215.7496,-1820.2593 1219.0836,-1826.4144\"/>\n",
       "</g>\n",
       "<!-- 50 -->\n",
       "<g id=\"node51\" class=\"node\">\n",
       "<title>50</title>\n",
       "<path fill=\"#399de5\" stroke=\"#000000\" d=\"M1088,-1709.5C1088,-1709.5 1013,-1709.5 1013,-1709.5 1007,-1709.5 1001,-1703.5 1001,-1697.5 1001,-1697.5 1001,-1668.5 1001,-1668.5 1001,-1662.5 1007,-1656.5 1013,-1656.5 1013,-1656.5 1088,-1656.5 1088,-1656.5 1094,-1656.5 1100,-1662.5 1100,-1668.5 1100,-1668.5 1100,-1697.5 1100,-1697.5 1100,-1703.5 1094,-1709.5 1088,-1709.5\"/>\n",
       "<text text-anchor=\"start\" x=\"1021\" y=\"-1694.3\" font-family=\"Helvetica,sans-Serif\" font-size=\"14.00\" fill=\"#000000\">gini = 0.0</text>\n",
       "<text text-anchor=\"start\" x=\"1011\" y=\"-1679.3\" font-family=\"Helvetica,sans-Serif\" font-size=\"14.00\" fill=\"#000000\">samples = 1</text>\n",
       "<text text-anchor=\"start\" x=\"1009\" y=\"-1664.3\" font-family=\"Helvetica,sans-Serif\" font-size=\"14.00\" fill=\"#000000\">value = [0, 1]</text>\n",
       "</g>\n",
       "<!-- 49&#45;&gt;50 -->\n",
       "<g id=\"edge50\" class=\"edge\">\n",
       "<title>49&#45;&gt;50</title>\n",
       "<path fill=\"none\" stroke=\"#000000\" d=\"M1078.7476,-1752.9465C1074.3438,-1742.0418 1069.4553,-1729.9368 1064.9998,-1718.9043\"/>\n",
       "<polygon fill=\"#000000\" stroke=\"#000000\" points=\"1068.209,-1717.5039 1061.219,-1709.5422 1061.7183,-1720.1252 1068.209,-1717.5039\"/>\n",
       "</g>\n",
       "<!-- 51 -->\n",
       "<g id=\"node52\" class=\"node\">\n",
       "<title>51</title>\n",
       "<path fill=\"#e58139\" stroke=\"#000000\" d=\"M1205,-1709.5C1205,-1709.5 1130,-1709.5 1130,-1709.5 1124,-1709.5 1118,-1703.5 1118,-1697.5 1118,-1697.5 1118,-1668.5 1118,-1668.5 1118,-1662.5 1124,-1656.5 1130,-1656.5 1130,-1656.5 1205,-1656.5 1205,-1656.5 1211,-1656.5 1217,-1662.5 1217,-1668.5 1217,-1668.5 1217,-1697.5 1217,-1697.5 1217,-1703.5 1211,-1709.5 1205,-1709.5\"/>\n",
       "<text text-anchor=\"start\" x=\"1138\" y=\"-1694.3\" font-family=\"Helvetica,sans-Serif\" font-size=\"14.00\" fill=\"#000000\">gini = 0.0</text>\n",
       "<text text-anchor=\"start\" x=\"1128\" y=\"-1679.3\" font-family=\"Helvetica,sans-Serif\" font-size=\"14.00\" fill=\"#000000\">samples = 4</text>\n",
       "<text text-anchor=\"start\" x=\"1126\" y=\"-1664.3\" font-family=\"Helvetica,sans-Serif\" font-size=\"14.00\" fill=\"#000000\">value = [4, 0]</text>\n",
       "</g>\n",
       "<!-- 49&#45;&gt;51 -->\n",
       "<g id=\"edge51\" class=\"edge\">\n",
       "<title>49&#45;&gt;51</title>\n",
       "<path fill=\"none\" stroke=\"#000000\" d=\"M1117.0578,-1752.9465C1125.1601,-1741.7113 1134.1812,-1729.2021 1142.3286,-1717.9043\"/>\n",
       "<polygon fill=\"#000000\" stroke=\"#000000\" points=\"1145.3486,-1719.7003 1148.359,-1709.5422 1139.6709,-1715.6058 1145.3486,-1719.7003\"/>\n",
       "</g>\n",
       "<!-- 53 -->\n",
       "<g id=\"node54\" class=\"node\">\n",
       "<title>53</title>\n",
       "<path fill=\"#e58139\" stroke=\"#000000\" d=\"M1322,-1709.5C1322,-1709.5 1247,-1709.5 1247,-1709.5 1241,-1709.5 1235,-1703.5 1235,-1697.5 1235,-1697.5 1235,-1668.5 1235,-1668.5 1235,-1662.5 1241,-1656.5 1247,-1656.5 1247,-1656.5 1322,-1656.5 1322,-1656.5 1328,-1656.5 1334,-1662.5 1334,-1668.5 1334,-1668.5 1334,-1697.5 1334,-1697.5 1334,-1703.5 1328,-1709.5 1322,-1709.5\"/>\n",
       "<text text-anchor=\"start\" x=\"1255\" y=\"-1694.3\" font-family=\"Helvetica,sans-Serif\" font-size=\"14.00\" fill=\"#000000\">gini = 0.0</text>\n",
       "<text text-anchor=\"start\" x=\"1245\" y=\"-1679.3\" font-family=\"Helvetica,sans-Serif\" font-size=\"14.00\" fill=\"#000000\">samples = 2</text>\n",
       "<text text-anchor=\"start\" x=\"1243\" y=\"-1664.3\" font-family=\"Helvetica,sans-Serif\" font-size=\"14.00\" fill=\"#000000\">value = [2, 0]</text>\n",
       "</g>\n",
       "<!-- 52&#45;&gt;53 -->\n",
       "<g id=\"edge53\" class=\"edge\">\n",
       "<title>52&#45;&gt;53</title>\n",
       "<path fill=\"none\" stroke=\"#000000\" d=\"M1284.5,-1752.9465C1284.5,-1742.2621 1284.5,-1730.4254 1284.5,-1719.5742\"/>\n",
       "<polygon fill=\"#000000\" stroke=\"#000000\" points=\"1288.0001,-1719.5421 1284.5,-1709.5422 1281.0001,-1719.5422 1288.0001,-1719.5421\"/>\n",
       "</g>\n",
       "<!-- 54 -->\n",
       "<g id=\"node55\" class=\"node\">\n",
       "<title>54</title>\n",
       "<path fill=\"#399de5\" fill-opacity=\"0.996078\" stroke=\"#000000\" d=\"M1456.5,-1717C1456.5,-1717 1364.5,-1717 1364.5,-1717 1358.5,-1717 1352.5,-1711 1352.5,-1705 1352.5,-1705 1352.5,-1661 1352.5,-1661 1352.5,-1655 1358.5,-1649 1364.5,-1649 1364.5,-1649 1456.5,-1649 1456.5,-1649 1462.5,-1649 1468.5,-1655 1468.5,-1661 1468.5,-1661 1468.5,-1705 1468.5,-1705 1468.5,-1711 1462.5,-1717 1456.5,-1717\"/>\n",
       "<text text-anchor=\"start\" x=\"1365\" y=\"-1701.8\" font-family=\"Helvetica,sans-Serif\" font-size=\"14.00\" fill=\"#000000\">RNF43 ≤ 2.25</text>\n",
       "<text text-anchor=\"start\" x=\"1372.5\" y=\"-1686.8\" font-family=\"Helvetica,sans-Serif\" font-size=\"14.00\" fill=\"#000000\">gini = 0.011</text>\n",
       "<text text-anchor=\"start\" x=\"1362.5\" y=\"-1671.8\" font-family=\"Helvetica,sans-Serif\" font-size=\"14.00\" fill=\"#000000\">samples = 347</text>\n",
       "<text text-anchor=\"start\" x=\"1360.5\" y=\"-1656.8\" font-family=\"Helvetica,sans-Serif\" font-size=\"14.00\" fill=\"#000000\">value = [2, 345]</text>\n",
       "</g>\n",
       "<!-- 52&#45;&gt;54 -->\n",
       "<g id=\"edge54\" class=\"edge\">\n",
       "<title>52&#45;&gt;54</title>\n",
       "<path fill=\"none\" stroke=\"#000000\" d=\"M1325.7571,-1752.9465C1337.0701,-1743.6088 1349.4492,-1733.3911 1361.1658,-1723.7203\"/>\n",
       "<polygon fill=\"#000000\" stroke=\"#000000\" points=\"1363.6659,-1726.195 1369.1502,-1717.13 1359.21,-1720.7964 1363.6659,-1726.195\"/>\n",
       "</g>\n",
       "<!-- 55 -->\n",
       "<g id=\"node56\" class=\"node\">\n",
       "<title>55</title>\n",
       "<path fill=\"#e58139\" fill-opacity=\"0.498039\" stroke=\"#000000\" d=\"M1387.5,-1613C1387.5,-1613 1301.5,-1613 1301.5,-1613 1295.5,-1613 1289.5,-1607 1289.5,-1601 1289.5,-1601 1289.5,-1557 1289.5,-1557 1289.5,-1551 1295.5,-1545 1301.5,-1545 1301.5,-1545 1387.5,-1545 1387.5,-1545 1393.5,-1545 1399.5,-1551 1399.5,-1557 1399.5,-1557 1399.5,-1601 1399.5,-1601 1399.5,-1607 1393.5,-1613 1387.5,-1613\"/>\n",
       "<text text-anchor=\"start\" x=\"1297.5\" y=\"-1597.8\" font-family=\"Helvetica,sans-Serif\" font-size=\"14.00\" fill=\"#000000\">ITGAL ≤ 2.179</text>\n",
       "<text text-anchor=\"start\" x=\"1306.5\" y=\"-1582.8\" font-family=\"Helvetica,sans-Serif\" font-size=\"14.00\" fill=\"#000000\">gini = 0.444</text>\n",
       "<text text-anchor=\"start\" x=\"1305\" y=\"-1567.8\" font-family=\"Helvetica,sans-Serif\" font-size=\"14.00\" fill=\"#000000\">samples = 3</text>\n",
       "<text text-anchor=\"start\" x=\"1303\" y=\"-1552.8\" font-family=\"Helvetica,sans-Serif\" font-size=\"14.00\" fill=\"#000000\">value = [2, 1]</text>\n",
       "</g>\n",
       "<!-- 54&#45;&gt;55 -->\n",
       "<g id=\"edge55\" class=\"edge\">\n",
       "<title>54&#45;&gt;55</title>\n",
       "<path fill=\"none\" stroke=\"#000000\" d=\"M1388.8891,-1648.9465C1383.3622,-1640.2373 1377.3494,-1630.7626 1371.5854,-1621.6801\"/>\n",
       "<polygon fill=\"#000000\" stroke=\"#000000\" points=\"1374.4729,-1619.6979 1366.1594,-1613.13 1368.5626,-1623.4487 1374.4729,-1619.6979\"/>\n",
       "</g>\n",
       "<!-- 58 -->\n",
       "<g id=\"node59\" class=\"node\">\n",
       "<title>58</title>\n",
       "<path fill=\"#399de5\" stroke=\"#000000\" d=\"M1521.5,-1605.5C1521.5,-1605.5 1429.5,-1605.5 1429.5,-1605.5 1423.5,-1605.5 1417.5,-1599.5 1417.5,-1593.5 1417.5,-1593.5 1417.5,-1564.5 1417.5,-1564.5 1417.5,-1558.5 1423.5,-1552.5 1429.5,-1552.5 1429.5,-1552.5 1521.5,-1552.5 1521.5,-1552.5 1527.5,-1552.5 1533.5,-1558.5 1533.5,-1564.5 1533.5,-1564.5 1533.5,-1593.5 1533.5,-1593.5 1533.5,-1599.5 1527.5,-1605.5 1521.5,-1605.5\"/>\n",
       "<text text-anchor=\"start\" x=\"1446\" y=\"-1590.3\" font-family=\"Helvetica,sans-Serif\" font-size=\"14.00\" fill=\"#000000\">gini = 0.0</text>\n",
       "<text text-anchor=\"start\" x=\"1427.5\" y=\"-1575.3\" font-family=\"Helvetica,sans-Serif\" font-size=\"14.00\" fill=\"#000000\">samples = 344</text>\n",
       "<text text-anchor=\"start\" x=\"1425.5\" y=\"-1560.3\" font-family=\"Helvetica,sans-Serif\" font-size=\"14.00\" fill=\"#000000\">value = [0, 344]</text>\n",
       "</g>\n",
       "<!-- 54&#45;&gt;58 -->\n",
       "<g id=\"edge58\" class=\"edge\">\n",
       "<title>54&#45;&gt;58</title>\n",
       "<path fill=\"none\" stroke=\"#000000\" d=\"M1431.7834,-1648.9465C1438.7366,-1637.8215 1446.4705,-1625.4473 1453.4769,-1614.237\"/>\n",
       "<polygon fill=\"#000000\" stroke=\"#000000\" points=\"1456.5791,-1615.8772 1458.9111,-1605.5422 1450.6431,-1612.1671 1456.5791,-1615.8772\"/>\n",
       "</g>\n",
       "<!-- 56 -->\n",
       "<g id=\"node57\" class=\"node\">\n",
       "<title>56</title>\n",
       "<path fill=\"#399de5\" stroke=\"#000000\" d=\"M1323,-1501.5C1323,-1501.5 1248,-1501.5 1248,-1501.5 1242,-1501.5 1236,-1495.5 1236,-1489.5 1236,-1489.5 1236,-1460.5 1236,-1460.5 1236,-1454.5 1242,-1448.5 1248,-1448.5 1248,-1448.5 1323,-1448.5 1323,-1448.5 1329,-1448.5 1335,-1454.5 1335,-1460.5 1335,-1460.5 1335,-1489.5 1335,-1489.5 1335,-1495.5 1329,-1501.5 1323,-1501.5\"/>\n",
       "<text text-anchor=\"start\" x=\"1256\" y=\"-1486.3\" font-family=\"Helvetica,sans-Serif\" font-size=\"14.00\" fill=\"#000000\">gini = 0.0</text>\n",
       "<text text-anchor=\"start\" x=\"1246\" y=\"-1471.3\" font-family=\"Helvetica,sans-Serif\" font-size=\"14.00\" fill=\"#000000\">samples = 1</text>\n",
       "<text text-anchor=\"start\" x=\"1244\" y=\"-1456.3\" font-family=\"Helvetica,sans-Serif\" font-size=\"14.00\" fill=\"#000000\">value = [0, 1]</text>\n",
       "</g>\n",
       "<!-- 55&#45;&gt;56 -->\n",
       "<g id=\"edge56\" class=\"edge\">\n",
       "<title>55&#45;&gt;56</title>\n",
       "<path fill=\"none\" stroke=\"#000000\" d=\"M1325.1812,-1544.9465C1318.9324,-1533.9316 1311.9888,-1521.6922 1305.6793,-1510.5703\"/>\n",
       "<polygon fill=\"#000000\" stroke=\"#000000\" points=\"1308.5362,-1508.513 1300.5576,-1501.5422 1302.4477,-1511.967 1308.5362,-1508.513\"/>\n",
       "</g>\n",
       "<!-- 57 -->\n",
       "<g id=\"node58\" class=\"node\">\n",
       "<title>57</title>\n",
       "<path fill=\"#e58139\" stroke=\"#000000\" d=\"M1440,-1501.5C1440,-1501.5 1365,-1501.5 1365,-1501.5 1359,-1501.5 1353,-1495.5 1353,-1489.5 1353,-1489.5 1353,-1460.5 1353,-1460.5 1353,-1454.5 1359,-1448.5 1365,-1448.5 1365,-1448.5 1440,-1448.5 1440,-1448.5 1446,-1448.5 1452,-1454.5 1452,-1460.5 1452,-1460.5 1452,-1489.5 1452,-1489.5 1452,-1495.5 1446,-1501.5 1440,-1501.5\"/>\n",
       "<text text-anchor=\"start\" x=\"1373\" y=\"-1486.3\" font-family=\"Helvetica,sans-Serif\" font-size=\"14.00\" fill=\"#000000\">gini = 0.0</text>\n",
       "<text text-anchor=\"start\" x=\"1363\" y=\"-1471.3\" font-family=\"Helvetica,sans-Serif\" font-size=\"14.00\" fill=\"#000000\">samples = 2</text>\n",
       "<text text-anchor=\"start\" x=\"1361\" y=\"-1456.3\" font-family=\"Helvetica,sans-Serif\" font-size=\"14.00\" fill=\"#000000\">value = [2, 0]</text>\n",
       "</g>\n",
       "<!-- 55&#45;&gt;57 -->\n",
       "<g id=\"edge57\" class=\"edge\">\n",
       "<title>55&#45;&gt;57</title>\n",
       "<path fill=\"none\" stroke=\"#000000\" d=\"M1363.4914,-1544.9465C1369.6343,-1533.9316 1376.4601,-1521.6922 1382.6627,-1510.5703\"/>\n",
       "<polygon fill=\"#000000\" stroke=\"#000000\" points=\"1385.8837,-1511.9806 1387.6976,-1501.5422 1379.7701,-1508.5711 1385.8837,-1511.9806\"/>\n",
       "</g>\n",
       "</g>\n",
       "</svg>\n"
      ],
      "text/plain": [
       "<graphviz.files.Source at 0x7f5893e11390>"
      ]
     },
     "execution_count": 41,
     "metadata": {
      "tags": []
     },
     "output_type": "execute_result"
    }
   ],
   "source": [
    "import graphviz\n",
    "from IPython.display import Image\n",
    "dot_data = tree.export_graphviz(clf, out_file=None, \n",
    "                                feature_names=df.columns,\n",
    "                                filled=True, rounded=True,  \n",
    "                                special_characters=True)\n",
    "graph = graphviz.Source(dot_data)\n",
    "graph"
   ]
  },
  {
   "cell_type": "markdown",
   "metadata": {
    "colab_type": "text",
    "id": "N4cbAm3JNJgL"
   },
   "source": [
    "## 1.2 木の高さの上限を2に指定"
   ]
  },
  {
   "cell_type": "markdown",
   "metadata": {
    "colab_type": "text",
    "id": "WXFRsPpR-SLq"
   },
   "source": [
    "木の大きさが非常に大きくて、何が意味あるかが分かりにくいので、木の高さの上限を2に制限して分類と描画をする。"
   ]
  },
  {
   "cell_type": "code",
   "execution_count": 0,
   "metadata": {
    "colab": {
     "base_uri": "https://localhost:8080/",
     "height": 379
    },
    "colab_type": "code",
    "id": "iuQoCwwW-dCw",
    "outputId": "7728366a-9541-48da-c218-136f8179834a"
   },
   "outputs": [
    {
     "data": {
      "image/svg+xml": [
       "<?xml version=\"1.0\" encoding=\"UTF-8\" standalone=\"no\"?>\n",
       "<!DOCTYPE svg PUBLIC \"-//W3C//DTD SVG 1.1//EN\"\n",
       " \"http://www.w3.org/Graphics/SVG/1.1/DTD/svg11.dtd\">\n",
       "<!-- Generated by graphviz version 2.40.1 (20161225.0304)\n",
       " -->\n",
       "<!-- Title: Tree Pages: 1 -->\n",
       "<svg width=\"522pt\" height=\"269pt\"\n",
       " viewBox=\"0.00 0.00 522.00 269.00\" xmlns=\"http://www.w3.org/2000/svg\" xmlns:xlink=\"http://www.w3.org/1999/xlink\">\n",
       "<g id=\"graph0\" class=\"graph\" transform=\"scale(1 1) rotate(0) translate(4 265)\">\n",
       "<title>Tree</title>\n",
       "<polygon fill=\"#ffffff\" stroke=\"transparent\" points=\"-4,4 -4,-265 518,-265 518,4 -4,4\"/>\n",
       "<!-- 0 -->\n",
       "<g id=\"node1\" class=\"node\">\n",
       "<title>0</title>\n",
       "<path fill=\"#e58139\" fill-opacity=\"0.031373\" stroke=\"#000000\" d=\"M316,-261C316,-261 208,-261 208,-261 202,-261 196,-255 196,-249 196,-249 196,-205 196,-205 196,-199 202,-193 208,-193 208,-193 316,-193 316,-193 322,-193 328,-199 328,-205 328,-205 328,-249 328,-249 328,-255 322,-261 316,-261\"/>\n",
       "<text text-anchor=\"start\" x=\"218\" y=\"-245.8\" font-family=\"Helvetica,sans-Serif\" font-size=\"14.00\" fill=\"#000000\">TP63 ≤ 3.235</text>\n",
       "<text text-anchor=\"start\" x=\"232.5\" y=\"-230.8\" font-family=\"Helvetica,sans-Serif\" font-size=\"14.00\" fill=\"#000000\">gini = 0.5</text>\n",
       "<text text-anchor=\"start\" x=\"214\" y=\"-215.8\" font-family=\"Helvetica,sans-Serif\" font-size=\"14.00\" fill=\"#000000\">samples = 795</text>\n",
       "<text text-anchor=\"start\" x=\"204\" y=\"-200.8\" font-family=\"Helvetica,sans-Serif\" font-size=\"14.00\" fill=\"#000000\">value = [404, 391]</text>\n",
       "</g>\n",
       "<!-- 1 -->\n",
       "<g id=\"node2\" class=\"node\">\n",
       "<title>1</title>\n",
       "<path fill=\"#e58139\" fill-opacity=\"0.886275\" stroke=\"#000000\" d=\"M243,-157C243,-157 143,-157 143,-157 137,-157 131,-151 131,-145 131,-145 131,-101 131,-101 131,-95 137,-89 143,-89 143,-89 243,-89 243,-89 249,-89 255,-95 255,-101 255,-101 255,-145 255,-145 255,-151 249,-157 243,-157\"/>\n",
       "<text text-anchor=\"start\" x=\"146\" y=\"-141.8\" font-family=\"Helvetica,sans-Serif\" font-size=\"14.00\" fill=\"#000000\">MUC1 ≤ 3.277</text>\n",
       "<text text-anchor=\"start\" x=\"155\" y=\"-126.8\" font-family=\"Helvetica,sans-Serif\" font-size=\"14.00\" fill=\"#000000\">gini = 0.183</text>\n",
       "<text text-anchor=\"start\" x=\"145\" y=\"-111.8\" font-family=\"Helvetica,sans-Serif\" font-size=\"14.00\" fill=\"#000000\">samples = 441</text>\n",
       "<text text-anchor=\"start\" x=\"139\" y=\"-96.8\" font-family=\"Helvetica,sans-Serif\" font-size=\"14.00\" fill=\"#000000\">value = [396, 45]</text>\n",
       "</g>\n",
       "<!-- 0&#45;&gt;1 -->\n",
       "<g id=\"edge1\" class=\"edge\">\n",
       "<title>0&#45;&gt;1</title>\n",
       "<path fill=\"none\" stroke=\"#000000\" d=\"M239.4068,-192.9465C233.6286,-184.2373 227.3425,-174.7626 221.3166,-165.6801\"/>\n",
       "<polygon fill=\"#000000\" stroke=\"#000000\" points=\"224.089,-163.5278 215.6439,-157.13 218.256,-167.3978 224.089,-163.5278\"/>\n",
       "<text text-anchor=\"middle\" x=\"210.6866\" y=\"-177.9336\" font-family=\"Helvetica,sans-Serif\" font-size=\"14.00\" fill=\"#000000\">True</text>\n",
       "</g>\n",
       "<!-- 4 -->\n",
       "<g id=\"node5\" class=\"node\">\n",
       "<title>4</title>\n",
       "<path fill=\"#399de5\" fill-opacity=\"0.976471\" stroke=\"#000000\" d=\"M378.5,-157C378.5,-157 285.5,-157 285.5,-157 279.5,-157 273.5,-151 273.5,-145 273.5,-145 273.5,-101 273.5,-101 273.5,-95 279.5,-89 285.5,-89 285.5,-89 378.5,-89 378.5,-89 384.5,-89 390.5,-95 390.5,-101 390.5,-101 390.5,-145 390.5,-145 390.5,-151 384.5,-157 378.5,-157\"/>\n",
       "<text text-anchor=\"start\" x=\"281.5\" y=\"-141.8\" font-family=\"Helvetica,sans-Serif\" font-size=\"14.00\" fill=\"#000000\">FANCE ≤ 2.253</text>\n",
       "<text text-anchor=\"start\" x=\"294\" y=\"-126.8\" font-family=\"Helvetica,sans-Serif\" font-size=\"14.00\" fill=\"#000000\">gini = 0.044</text>\n",
       "<text text-anchor=\"start\" x=\"284\" y=\"-111.8\" font-family=\"Helvetica,sans-Serif\" font-size=\"14.00\" fill=\"#000000\">samples = 354</text>\n",
       "<text text-anchor=\"start\" x=\"282\" y=\"-96.8\" font-family=\"Helvetica,sans-Serif\" font-size=\"14.00\" fill=\"#000000\">value = [8, 346]</text>\n",
       "</g>\n",
       "<!-- 0&#45;&gt;4 -->\n",
       "<g id=\"edge4\" class=\"edge\">\n",
       "<title>0&#45;&gt;4</title>\n",
       "<path fill=\"none\" stroke=\"#000000\" d=\"M284.9206,-192.9465C290.7826,-184.2373 297.1598,-174.7626 303.273,-165.6801\"/>\n",
       "<polygon fill=\"#000000\" stroke=\"#000000\" points=\"306.3476,-167.3802 309.0279,-157.13 300.5405,-163.4716 306.3476,-167.3802\"/>\n",
       "<text text-anchor=\"middle\" x=\"313.8223\" y=\"-177.966\" font-family=\"Helvetica,sans-Serif\" font-size=\"14.00\" fill=\"#000000\">False</text>\n",
       "</g>\n",
       "<!-- 2 -->\n",
       "<g id=\"node3\" class=\"node\">\n",
       "<title>2</title>\n",
       "<path fill=\"#399de5\" fill-opacity=\"0.333333\" stroke=\"#000000\" d=\"M104,-53C104,-53 12,-53 12,-53 6,-53 0,-47 0,-41 0,-41 0,-12 0,-12 0,-6 6,0 12,0 12,0 104,0 104,0 110,0 116,-6 116,-12 116,-12 116,-41 116,-41 116,-47 110,-53 104,-53\"/>\n",
       "<text text-anchor=\"start\" x=\"24.5\" y=\"-37.8\" font-family=\"Helvetica,sans-Serif\" font-size=\"14.00\" fill=\"#000000\">gini = 0.48</text>\n",
       "<text text-anchor=\"start\" x=\"14\" y=\"-22.8\" font-family=\"Helvetica,sans-Serif\" font-size=\"14.00\" fill=\"#000000\">samples = 25</text>\n",
       "<text text-anchor=\"start\" x=\"8\" y=\"-7.8\" font-family=\"Helvetica,sans-Serif\" font-size=\"14.00\" fill=\"#000000\">value = [10, 15]</text>\n",
       "</g>\n",
       "<!-- 1&#45;&gt;2 -->\n",
       "<g id=\"edge2\" class=\"edge\">\n",
       "<title>1&#45;&gt;2</title>\n",
       "<path fill=\"none\" stroke=\"#000000\" d=\"M145.4041,-88.9777C131.8252,-79.2713 117.0661,-68.7213 103.6088,-59.1018\"/>\n",
       "<polygon fill=\"#000000\" stroke=\"#000000\" points=\"105.5908,-56.2164 95.4202,-53.2485 101.5201,-61.9111 105.5908,-56.2164\"/>\n",
       "</g>\n",
       "<!-- 3 -->\n",
       "<g id=\"node4\" class=\"node\">\n",
       "<title>3</title>\n",
       "<path fill=\"#e58139\" fill-opacity=\"0.921569\" stroke=\"#000000\" d=\"M246,-53C246,-53 146,-53 146,-53 140,-53 134,-47 134,-41 134,-41 134,-12 134,-12 134,-6 140,0 146,0 146,0 246,0 246,0 252,0 258,-6 258,-12 258,-12 258,-41 258,-41 258,-47 252,-53 246,-53\"/>\n",
       "<text text-anchor=\"start\" x=\"158\" y=\"-37.8\" font-family=\"Helvetica,sans-Serif\" font-size=\"14.00\" fill=\"#000000\">gini = 0.134</text>\n",
       "<text text-anchor=\"start\" x=\"148\" y=\"-22.8\" font-family=\"Helvetica,sans-Serif\" font-size=\"14.00\" fill=\"#000000\">samples = 416</text>\n",
       "<text text-anchor=\"start\" x=\"142\" y=\"-7.8\" font-family=\"Helvetica,sans-Serif\" font-size=\"14.00\" fill=\"#000000\">value = [386, 30]</text>\n",
       "</g>\n",
       "<!-- 1&#45;&gt;3 -->\n",
       "<g id=\"edge3\" class=\"edge\">\n",
       "<title>1&#45;&gt;3</title>\n",
       "<path fill=\"none\" stroke=\"#000000\" d=\"M194.0577,-88.9777C194.3139,-80.7364 194.589,-71.887 194.8493,-63.5153\"/>\n",
       "<polygon fill=\"#000000\" stroke=\"#000000\" points=\"198.3559,-63.3524 195.1684,-53.2485 191.3593,-63.1349 198.3559,-63.3524\"/>\n",
       "</g>\n",
       "<!-- 5 -->\n",
       "<g id=\"node6\" class=\"node\">\n",
       "<title>5</title>\n",
       "<path fill=\"#e58139\" fill-opacity=\"0.749020\" stroke=\"#000000\" d=\"M367.5,-53C367.5,-53 292.5,-53 292.5,-53 286.5,-53 280.5,-47 280.5,-41 280.5,-41 280.5,-12 280.5,-12 280.5,-6 286.5,0 292.5,0 292.5,0 367.5,0 367.5,0 373.5,0 379.5,-6 379.5,-12 379.5,-12 379.5,-41 379.5,-41 379.5,-47 373.5,-53 367.5,-53\"/>\n",
       "<text text-anchor=\"start\" x=\"296.5\" y=\"-37.8\" font-family=\"Helvetica,sans-Serif\" font-size=\"14.00\" fill=\"#000000\">gini = 0.32</text>\n",
       "<text text-anchor=\"start\" x=\"290.5\" y=\"-22.8\" font-family=\"Helvetica,sans-Serif\" font-size=\"14.00\" fill=\"#000000\">samples = 5</text>\n",
       "<text text-anchor=\"start\" x=\"288.5\" y=\"-7.8\" font-family=\"Helvetica,sans-Serif\" font-size=\"14.00\" fill=\"#000000\">value = [4, 1]</text>\n",
       "</g>\n",
       "<!-- 4&#45;&gt;5 -->\n",
       "<g id=\"edge5\" class=\"edge\">\n",
       "<title>4&#45;&gt;5</title>\n",
       "<path fill=\"none\" stroke=\"#000000\" d=\"M331.2949,-88.9777C331.1241,-80.7364 330.9407,-71.887 330.7672,-63.5153\"/>\n",
       "<polygon fill=\"#000000\" stroke=\"#000000\" points=\"334.2609,-63.1738 330.5544,-53.2485 327.2624,-63.3189 334.2609,-63.1738\"/>\n",
       "</g>\n",
       "<!-- 6 -->\n",
       "<g id=\"node7\" class=\"node\">\n",
       "<title>6</title>\n",
       "<path fill=\"#399de5\" fill-opacity=\"0.988235\" stroke=\"#000000\" d=\"M502,-53C502,-53 410,-53 410,-53 404,-53 398,-47 398,-41 398,-41 398,-12 398,-12 398,-6 404,0 410,0 410,0 502,0 502,0 508,0 514,-6 514,-12 514,-12 514,-41 514,-41 514,-47 508,-53 502,-53\"/>\n",
       "<text text-anchor=\"start\" x=\"418\" y=\"-37.8\" font-family=\"Helvetica,sans-Serif\" font-size=\"14.00\" fill=\"#000000\">gini = 0.023</text>\n",
       "<text text-anchor=\"start\" x=\"408\" y=\"-22.8\" font-family=\"Helvetica,sans-Serif\" font-size=\"14.00\" fill=\"#000000\">samples = 349</text>\n",
       "<text text-anchor=\"start\" x=\"406\" y=\"-7.8\" font-family=\"Helvetica,sans-Serif\" font-size=\"14.00\" fill=\"#000000\">value = [4, 345]</text>\n",
       "</g>\n",
       "<!-- 4&#45;&gt;6 -->\n",
       "<g id=\"edge6\" class=\"edge\">\n",
       "<title>4&#45;&gt;6</title>\n",
       "<path fill=\"none\" stroke=\"#000000\" d=\"M375.7178,-88.9777C387.9549,-79.4545 401.2355,-69.1191 413.4066,-59.6473\"/>\n",
       "<polygon fill=\"#000000\" stroke=\"#000000\" points=\"415.8866,-62.1523 421.6289,-53.2485 411.5875,-56.628 415.8866,-62.1523\"/>\n",
       "</g>\n",
       "</g>\n",
       "</svg>\n"
      ],
      "text/plain": [
       "<graphviz.files.Source at 0x7f589495e198>"
      ]
     },
     "execution_count": 42,
     "metadata": {
      "tags": []
     },
     "output_type": "execute_result"
    }
   ],
   "source": [
    "clf = tree.DecisionTreeClassifier(max_depth=2)  # max_depthで木の高さの上限を指定\n",
    "clf.fit(X_train, y_train)\n",
    "dot_data = tree.export_graphviz(clf, out_file=None,\n",
    "                                feature_names=df.columns,\n",
    "                                filled=True, rounded=True,  \n",
    "                                special_characters=True)\n",
    "graph = graphviz.Source(dot_data)\n",
    "graph"
   ]
  },
  {
   "cell_type": "markdown",
   "metadata": {
    "colab_type": "text",
    "id": "y1algsF9NUBX"
   },
   "source": [
    "構築した決定木の精度評価をする。"
   ]
  },
  {
   "cell_type": "code",
   "execution_count": 0,
   "metadata": {
    "colab": {
     "base_uri": "https://localhost:8080/",
     "height": 52
    },
    "colab_type": "code",
    "id": "Ft0H_YLPMzW1",
    "outputId": "0ed82747-baf9-435f-c161-aef28ac0b652"
   },
   "outputs": [
    {
     "name": "stdout",
     "output_type": "stream",
     "text": [
      "Training accuracy:  0.9433962264150944\n",
      "Test accuracy:  0.8994974874371859\n"
     ]
    }
   ],
   "source": [
    "# 訓練データでの精度\n",
    "y_train_pred = clf.predict(X_train)\n",
    "print(\"Training accuracy: \", accuracy_score(y_train, y_train_pred))\n",
    "# テストデータでの精度\n",
    "y_test_pred = clf.predict(X_test)\n",
    "print(\"Test accuracy: \", accuracy_score(y_test, y_test_pred))"
   ]
  },
  {
   "cell_type": "code",
   "execution_count": 0,
   "metadata": {
    "colab": {
     "base_uri": "https://localhost:8080/",
     "height": 295
    },
    "colab_type": "code",
    "id": "JdWTeMdiM3-_",
    "outputId": "b55df95f-c0de-4d5c-ca2f-365805a6f312"
   },
   "outputs": [
    {
     "data": {
      "image/png": "[encoded data removed]",
      "text/plain": [
       "<Figure size 432x288 with 1 Axes>"
      ]
     },
     "metadata": {
      "tags": []
     },
     "output_type": "display_data"
    }
   ],
   "source": [
    "y_test_proba = clf.predict_proba(X_test)\n",
    "\n",
    "# FPR, TPR(, しきい値) を算出\n",
    "fpr, tpr, thresholds = metrics.roc_curve(y_test, y_test_proba[:,1])\n",
    "auc = metrics.auc(fpr, tpr)\n",
    "\n",
    "# ROC曲線をプロット\n",
    "plt.plot(fpr, tpr, label='ROC curve (area = %.2f)'%auc)\n",
    "plt.legend()\n",
    "plt.title('ROC curve')\n",
    "plt.xlabel('False Positive Rate')\n",
    "plt.ylabel('True Positive Rate')\n",
    "plt.grid(True)"
   ]
  },
  {
   "cell_type": "markdown",
   "metadata": {
    "colab_type": "text",
    "id": "r5jG5L2sQrDC"
   },
   "source": [
    "## 1.3 指標の変更"
   ]
  },
  {
   "cell_type": "markdown",
   "metadata": {
    "colab_type": "text",
    "id": "fQkmrmAkQylp"
   },
   "source": [
    "決定木を作るときに、criterionで、決定木の良し悪しをはかる指標を変更できる。"
   ]
  },
  {
   "cell_type": "code",
   "execution_count": 0,
   "metadata": {
    "colab": {
     "base_uri": "https://localhost:8080/",
     "height": 379
    },
    "colab_type": "code",
    "id": "gDTfpkS3RFMj",
    "outputId": "f1d135aa-c81c-4d29-ee90-1ff614496693"
   },
   "outputs": [
    {
     "data": {
      "image/svg+xml": [
       "<?xml version=\"1.0\" encoding=\"UTF-8\" standalone=\"no\"?>\n",
       "<!DOCTYPE svg PUBLIC \"-//W3C//DTD SVG 1.1//EN\"\n",
       " \"http://www.w3.org/Graphics/SVG/1.1/DTD/svg11.dtd\">\n",
       "<!-- Generated by graphviz version 2.40.1 (20161225.0304)\n",
       " -->\n",
       "<!-- Title: Tree Pages: 1 -->\n",
       "<svg width=\"540pt\" height=\"269pt\"\n",
       " viewBox=\"0.00 0.00 540.00 269.00\" xmlns=\"http://www.w3.org/2000/svg\" xmlns:xlink=\"http://www.w3.org/1999/xlink\">\n",
       "<g id=\"graph0\" class=\"graph\" transform=\"scale(1 1) rotate(0) translate(4 265)\">\n",
       "<title>Tree</title>\n",
       "<polygon fill=\"#ffffff\" stroke=\"transparent\" points=\"-4,4 -4,-265 536,-265 536,4 -4,4\"/>\n",
       "<!-- 0 -->\n",
       "<g id=\"node1\" class=\"node\">\n",
       "<title>0</title>\n",
       "<path fill=\"#e58139\" fill-opacity=\"0.031373\" stroke=\"#000000\" d=\"M321,-261C321,-261 213,-261 213,-261 207,-261 201,-255 201,-249 201,-249 201,-205 201,-205 201,-199 207,-193 213,-193 213,-193 321,-193 321,-193 327,-193 333,-199 333,-205 333,-205 333,-249 333,-249 333,-255 327,-261 321,-261\"/>\n",
       "<text text-anchor=\"start\" x=\"223\" y=\"-245.8\" font-family=\"Helvetica,sans-Serif\" font-size=\"14.00\" fill=\"#000000\">TP63 ≤ 3.235</text>\n",
       "<text text-anchor=\"start\" x=\"224.5\" y=\"-230.8\" font-family=\"Helvetica,sans-Serif\" font-size=\"14.00\" fill=\"#000000\">entropy = 1.0</text>\n",
       "<text text-anchor=\"start\" x=\"219\" y=\"-215.8\" font-family=\"Helvetica,sans-Serif\" font-size=\"14.00\" fill=\"#000000\">samples = 795</text>\n",
       "<text text-anchor=\"start\" x=\"209\" y=\"-200.8\" font-family=\"Helvetica,sans-Serif\" font-size=\"14.00\" fill=\"#000000\">value = [404, 391]</text>\n",
       "</g>\n",
       "<!-- 1 -->\n",
       "<g id=\"node2\" class=\"node\">\n",
       "<title>1</title>\n",
       "<path fill=\"#e58139\" fill-opacity=\"0.886275\" stroke=\"#000000\" d=\"M248,-157C248,-157 148,-157 148,-157 142,-157 136,-151 136,-145 136,-145 136,-101 136,-101 136,-95 142,-89 148,-89 148,-89 248,-89 248,-89 254,-89 260,-95 260,-101 260,-101 260,-145 260,-145 260,-151 254,-157 248,-157\"/>\n",
       "<text text-anchor=\"start\" x=\"148\" y=\"-141.8\" font-family=\"Helvetica,sans-Serif\" font-size=\"14.00\" fill=\"#000000\">ERBB2 ≤ 3.571</text>\n",
       "<text text-anchor=\"start\" x=\"147\" y=\"-126.8\" font-family=\"Helvetica,sans-Serif\" font-size=\"14.00\" fill=\"#000000\">entropy = 0.475</text>\n",
       "<text text-anchor=\"start\" x=\"150\" y=\"-111.8\" font-family=\"Helvetica,sans-Serif\" font-size=\"14.00\" fill=\"#000000\">samples = 441</text>\n",
       "<text text-anchor=\"start\" x=\"144\" y=\"-96.8\" font-family=\"Helvetica,sans-Serif\" font-size=\"14.00\" fill=\"#000000\">value = [396, 45]</text>\n",
       "</g>\n",
       "<!-- 0&#45;&gt;1 -->\n",
       "<g id=\"edge1\" class=\"edge\">\n",
       "<title>0&#45;&gt;1</title>\n",
       "<path fill=\"none\" stroke=\"#000000\" d=\"M244.4068,-192.9465C238.6286,-184.2373 232.3425,-174.7626 226.3166,-165.6801\"/>\n",
       "<polygon fill=\"#000000\" stroke=\"#000000\" points=\"229.089,-163.5278 220.6439,-157.13 223.256,-167.3978 229.089,-163.5278\"/>\n",
       "<text text-anchor=\"middle\" x=\"215.6866\" y=\"-177.9336\" font-family=\"Helvetica,sans-Serif\" font-size=\"14.00\" fill=\"#000000\">True</text>\n",
       "</g>\n",
       "<!-- 4 -->\n",
       "<g id=\"node5\" class=\"node\">\n",
       "<title>4</title>\n",
       "<path fill=\"#399de5\" fill-opacity=\"0.976471\" stroke=\"#000000\" d=\"M384,-157C384,-157 290,-157 290,-157 284,-157 278,-151 278,-145 278,-145 278,-101 278,-101 278,-95 284,-89 290,-89 290,-89 384,-89 384,-89 390,-89 396,-95 396,-101 396,-101 396,-145 396,-145 396,-151 390,-157 384,-157\"/>\n",
       "<text text-anchor=\"start\" x=\"290\" y=\"-141.8\" font-family=\"Helvetica,sans-Serif\" font-size=\"14.00\" fill=\"#000000\">PRCC ≤ 3.078</text>\n",
       "<text text-anchor=\"start\" x=\"286\" y=\"-126.8\" font-family=\"Helvetica,sans-Serif\" font-size=\"14.00\" fill=\"#000000\">entropy = 0.156</text>\n",
       "<text text-anchor=\"start\" x=\"289\" y=\"-111.8\" font-family=\"Helvetica,sans-Serif\" font-size=\"14.00\" fill=\"#000000\">samples = 354</text>\n",
       "<text text-anchor=\"start\" x=\"287\" y=\"-96.8\" font-family=\"Helvetica,sans-Serif\" font-size=\"14.00\" fill=\"#000000\">value = [8, 346]</text>\n",
       "</g>\n",
       "<!-- 0&#45;&gt;4 -->\n",
       "<g id=\"edge4\" class=\"edge\">\n",
       "<title>0&#45;&gt;4</title>\n",
       "<path fill=\"none\" stroke=\"#000000\" d=\"M289.9206,-192.9465C295.7826,-184.2373 302.1598,-174.7626 308.273,-165.6801\"/>\n",
       "<polygon fill=\"#000000\" stroke=\"#000000\" points=\"311.3476,-167.3802 314.0279,-157.13 305.5405,-163.4716 311.3476,-167.3802\"/>\n",
       "<text text-anchor=\"middle\" x=\"318.8223\" y=\"-177.966\" font-family=\"Helvetica,sans-Serif\" font-size=\"14.00\" fill=\"#000000\">False</text>\n",
       "</g>\n",
       "<!-- 2 -->\n",
       "<g id=\"node3\" class=\"node\">\n",
       "<title>2</title>\n",
       "<path fill=\"#e58139\" fill-opacity=\"0.509804\" stroke=\"#000000\" d=\"M106,-53C106,-53 12,-53 12,-53 6,-53 0,-47 0,-41 0,-41 0,-12 0,-12 0,-6 6,0 12,0 12,0 106,0 106,0 112,0 118,-6 118,-12 118,-12 118,-41 118,-41 118,-47 112,-53 106,-53\"/>\n",
       "<text text-anchor=\"start\" x=\"8\" y=\"-37.8\" font-family=\"Helvetica,sans-Serif\" font-size=\"14.00\" fill=\"#000000\">entropy = 0.914</text>\n",
       "<text text-anchor=\"start\" x=\"15\" y=\"-22.8\" font-family=\"Helvetica,sans-Serif\" font-size=\"14.00\" fill=\"#000000\">samples = 88</text>\n",
       "<text text-anchor=\"start\" x=\"9\" y=\"-7.8\" font-family=\"Helvetica,sans-Serif\" font-size=\"14.00\" fill=\"#000000\">value = [59, 29]</text>\n",
       "</g>\n",
       "<!-- 1&#45;&gt;2 -->\n",
       "<g id=\"edge2\" class=\"edge\">\n",
       "<title>1&#45;&gt;2</title>\n",
       "<path fill=\"none\" stroke=\"#000000\" d=\"M148.9938,-88.9777C135.0126,-79.2713 119.8162,-68.7213 105.9602,-59.1018\"/>\n",
       "<polygon fill=\"#000000\" stroke=\"#000000\" points=\"107.7394,-56.0763 97.5289,-53.2485 103.7474,-61.8264 107.7394,-56.0763\"/>\n",
       "</g>\n",
       "<!-- 3 -->\n",
       "<g id=\"node4\" class=\"node\">\n",
       "<title>3</title>\n",
       "<path fill=\"#e58139\" fill-opacity=\"0.952941\" stroke=\"#000000\" d=\"M248,-53C248,-53 148,-53 148,-53 142,-53 136,-47 136,-41 136,-41 136,-12 136,-12 136,-6 142,0 148,0 148,0 248,0 248,0 254,0 260,-6 260,-12 260,-12 260,-41 260,-41 260,-47 254,-53 248,-53\"/>\n",
       "<text text-anchor=\"start\" x=\"147\" y=\"-37.8\" font-family=\"Helvetica,sans-Serif\" font-size=\"14.00\" fill=\"#000000\">entropy = 0.266</text>\n",
       "<text text-anchor=\"start\" x=\"150\" y=\"-22.8\" font-family=\"Helvetica,sans-Serif\" font-size=\"14.00\" fill=\"#000000\">samples = 353</text>\n",
       "<text text-anchor=\"start\" x=\"144\" y=\"-7.8\" font-family=\"Helvetica,sans-Serif\" font-size=\"14.00\" fill=\"#000000\">value = [337, 16]</text>\n",
       "</g>\n",
       "<!-- 1&#45;&gt;3 -->\n",
       "<g id=\"edge3\" class=\"edge\">\n",
       "<title>1&#45;&gt;3</title>\n",
       "<path fill=\"none\" stroke=\"#000000\" d=\"M198,-88.9777C198,-80.7364 198,-71.887 198,-63.5153\"/>\n",
       "<polygon fill=\"#000000\" stroke=\"#000000\" points=\"201.5001,-63.2484 198,-53.2485 194.5001,-63.2485 201.5001,-63.2484\"/>\n",
       "</g>\n",
       "<!-- 5 -->\n",
       "<g id=\"node6\" class=\"node\">\n",
       "<title>5</title>\n",
       "<path fill=\"#399de5\" fill-opacity=\"0.415686\" stroke=\"#000000\" d=\"M384,-53C384,-53 290,-53 290,-53 284,-53 278,-47 278,-41 278,-41 278,-12 278,-12 278,-6 284,0 290,0 290,0 384,0 384,0 390,0 396,-6 396,-12 396,-12 396,-41 396,-41 396,-47 390,-53 384,-53\"/>\n",
       "<text text-anchor=\"start\" x=\"286\" y=\"-37.8\" font-family=\"Helvetica,sans-Serif\" font-size=\"14.00\" fill=\"#000000\">entropy = 0.949</text>\n",
       "<text text-anchor=\"start\" x=\"293\" y=\"-22.8\" font-family=\"Helvetica,sans-Serif\" font-size=\"14.00\" fill=\"#000000\">samples = 19</text>\n",
       "<text text-anchor=\"start\" x=\"291.5\" y=\"-7.8\" font-family=\"Helvetica,sans-Serif\" font-size=\"14.00\" fill=\"#000000\">value = [7, 12]</text>\n",
       "</g>\n",
       "<!-- 4&#45;&gt;5 -->\n",
       "<g id=\"edge5\" class=\"edge\">\n",
       "<title>4&#45;&gt;5</title>\n",
       "<path fill=\"none\" stroke=\"#000000\" d=\"M337,-88.9777C337,-80.7364 337,-71.887 337,-63.5153\"/>\n",
       "<polygon fill=\"#000000\" stroke=\"#000000\" points=\"340.5001,-63.2484 337,-53.2485 333.5001,-63.2485 340.5001,-63.2484\"/>\n",
       "</g>\n",
       "<!-- 6 -->\n",
       "<g id=\"node7\" class=\"node\">\n",
       "<title>6</title>\n",
       "<path fill=\"#399de5\" fill-opacity=\"0.996078\" stroke=\"#000000\" d=\"M520,-53C520,-53 426,-53 426,-53 420,-53 414,-47 414,-41 414,-41 414,-12 414,-12 414,-6 420,0 426,0 426,0 520,0 520,0 526,0 532,-6 532,-12 532,-12 532,-41 532,-41 532,-47 526,-53 520,-53\"/>\n",
       "<text text-anchor=\"start\" x=\"422\" y=\"-37.8\" font-family=\"Helvetica,sans-Serif\" font-size=\"14.00\" fill=\"#000000\">entropy = 0.029</text>\n",
       "<text text-anchor=\"start\" x=\"425\" y=\"-22.8\" font-family=\"Helvetica,sans-Serif\" font-size=\"14.00\" fill=\"#000000\">samples = 335</text>\n",
       "<text text-anchor=\"start\" x=\"423\" y=\"-7.8\" font-family=\"Helvetica,sans-Serif\" font-size=\"14.00\" fill=\"#000000\">value = [1, 334]</text>\n",
       "</g>\n",
       "<!-- 4&#45;&gt;6 -->\n",
       "<g id=\"edge6\" class=\"edge\">\n",
       "<title>4&#45;&gt;6</title>\n",
       "<path fill=\"none\" stroke=\"#000000\" d=\"M384.9485,-88.9777C398.628,-79.2713 413.4964,-68.7213 427.0534,-59.1018\"/>\n",
       "<polygon fill=\"#000000\" stroke=\"#000000\" points=\"429.1725,-61.8898 435.3027,-53.2485 425.1217,-56.1809 429.1725,-61.8898\"/>\n",
       "</g>\n",
       "</g>\n",
       "</svg>\n"
      ],
      "text/plain": [
       "<graphviz.files.Source at 0x7f5894954fd0>"
      ]
     },
     "execution_count": 45,
     "metadata": {
      "tags": []
     },
     "output_type": "execute_result"
    }
   ],
   "source": [
    "clf = tree.DecisionTreeClassifier(max_depth=2, criterion=\"entropy\")  # criterionでエントロピーを指定\n",
    "clf.fit(X_train, y_train)\n",
    "dot_data = tree.export_graphviz(clf, out_file=None,\n",
    "                                feature_names=df.columns,\n",
    "                                filled=True, rounded=True,  \n",
    "                                special_characters=True)\n",
    "graph = graphviz.Source(dot_data)\n",
    "graph"
   ]
  },
  {
   "cell_type": "code",
   "execution_count": 0,
   "metadata": {
    "colab": {
     "base_uri": "https://localhost:8080/",
     "height": 295
    },
    "colab_type": "code",
    "id": "NzYxAW_RRPJC",
    "outputId": "ca87f4cf-75f5-4f91-b3fa-2e7639f6efa5"
   },
   "outputs": [
    {
     "data": {
      "image/png": "[encoded data removed]",
      "text/plain": [
       "<Figure size 432x288 with 1 Axes>"
      ]
     },
     "metadata": {
      "tags": []
     },
     "output_type": "display_data"
    }
   ],
   "source": [
    "y_test_proba = clf.predict_proba(X_test)\n",
    "\n",
    "# FPR, TPR(, しきい値) を算出\n",
    "fpr, tpr, thresholds = metrics.roc_curve(y_test, y_test_proba[:,1])\n",
    "auc = metrics.auc(fpr, tpr)\n",
    "\n",
    "# ROC曲線をプロット\n",
    "plt.plot(fpr, tpr, label='ROC curve (area = %.2f)'%auc)\n",
    "plt.legend()\n",
    "plt.title('ROC curve')\n",
    "plt.xlabel('False Positive Rate')\n",
    "plt.ylabel('True Positive Rate')\n",
    "plt.grid(True)"
   ]
  },
  {
   "cell_type": "markdown",
   "metadata": {
    "colab_type": "text",
    "id": "KZeadjMe-2b1"
   },
   "source": [
    "# 2. ランダムフォレスト"
   ]
  },
  {
   "cell_type": "markdown",
   "metadata": {
    "colab_type": "text",
    "id": "d5MXjYtaR4Wj"
   },
   "source": [
    "パッケージの読み込みと、訓練データを用いてランダムフォレストのモデルを構築する。\n",
    "n_estimators は、アンサンブル学習する際の木の数。max_depth は作成する木の大きさ。"
   ]
  },
  {
   "cell_type": "code",
   "execution_count": 0,
   "metadata": {
    "colab": {
     "base_uri": "https://localhost:8080/",
     "height": 141
    },
    "colab_type": "code",
    "id": "XYPoMvHv-4N7",
    "outputId": "bb88aa08-3ea5-44bb-e70a-369aa37bdbac"
   },
   "outputs": [
    {
     "data": {
      "text/plain": [
       "RandomForestClassifier(bootstrap=True, class_weight=None, criterion='gini',\n",
       "            max_depth=5, max_features='auto', max_leaf_nodes=None,\n",
       "            min_impurity_decrease=0.0, min_impurity_split=None,\n",
       "            min_samples_leaf=1, min_samples_split=2,\n",
       "            min_weight_fraction_leaf=0.0, n_estimators=100, n_jobs=None,\n",
       "            oob_score=False, random_state=None, verbose=0,\n",
       "            warm_start=False)"
      ]
     },
     "execution_count": 46,
     "metadata": {
      "tags": []
     },
     "output_type": "execute_result"
    }
   ],
   "source": [
    "from sklearn.ensemble import RandomForestClassifier\n",
    "clf = RandomForestClassifier(n_estimators=100, max_depth=5, random_state=None)\n",
    "clf.fit(X_train, y_train)"
   ]
  },
  {
   "cell_type": "markdown",
   "metadata": {
    "colab_type": "text",
    "id": "NwD7G2fdSVF4"
   },
   "source": [
    "予測精度を調べる。"
   ]
  },
  {
   "cell_type": "code",
   "execution_count": 0,
   "metadata": {
    "colab": {
     "base_uri": "https://localhost:8080/",
     "height": 52
    },
    "colab_type": "code",
    "id": "ROQy4zk0SRcw",
    "outputId": "74c662c4-df17-4203-8abf-998cbe31e3fa"
   },
   "outputs": [
    {
     "name": "stdout",
     "output_type": "stream",
     "text": [
      "Training accuracy:  0.9836477987421384\n",
      "Test accuracy:  0.949748743718593\n"
     ]
    }
   ],
   "source": [
    "# 訓練データでの精度\n",
    "y_train_pred = clf.predict(X_train)\n",
    "print(\"Training accuracy: \", accuracy_score(y_train, y_train_pred))\n",
    "# テストデータでの精度\n",
    "y_test_pred = clf.predict(X_test)\n",
    "print(\"Test accuracy: \", accuracy_score(y_test, y_test_pred))"
   ]
  },
  {
   "cell_type": "markdown",
   "metadata": {
    "colab_type": "text",
    "id": "-0C719AT_M10"
   },
   "source": [
    "Random Forest で求められた木を基に作成する、特徴量の重要性指標。上位10遺伝子を描画してみる。\n",
    "\n",
    "clf.feature_importance_ に各特徴量の分類に関する重要性指標値が入っている。"
   ]
  },
  {
   "cell_type": "code",
   "execution_count": 0,
   "metadata": {
    "colab": {
     "base_uri": "https://localhost:8080/",
     "height": 531
    },
    "colab_type": "code",
    "id": "4KlUDGxQ_brC",
    "outputId": "e7e4182d-6817-4bef-cef4-842c10033b5b"
   },
   "outputs": [
    {
     "name": "stdout",
     "output_type": "stream",
     "text": [
      "Feature ranking:\n",
      "1. TP63 (0.064043)\n",
      "2. MUC1 (0.044996)\n",
      "3. FANCE (0.036844)\n",
      "4. CRKL (0.032394)\n",
      "5. NKX2-1 (0.032073)\n",
      "6. EPHA10 (0.030686)\n",
      "7. DUSP9 (0.022940)\n",
      "8. ERBB3 (0.022256)\n",
      "9. NTRK2 (0.021927)\n",
      "10. ACKR3 (0.021919)\n"
     ]
    },
    {
     "data": {
      "image/png": "[encoded data removed]",
      "text/plain": [
       "<Figure size 720x360 with 1 Axes>"
      ]
     },
     "metadata": {
      "tags": []
     },
     "output_type": "display_data"
    }
   ],
   "source": [
    "# 重要性指標、値の上位10遺伝子を取り出す。\n",
    "importances = clf.feature_importances_\n",
    "N = 10\n",
    "indices = np.argsort(importances)[::-1][:N]\n",
    "std = np.std([clf.feature_importances_ for tree in clf.estimators_],\n",
    "             axis=0)\n",
    "\n",
    "# 重要性の高い特徴量から表示\n",
    "print(\"Feature ranking:\")\n",
    "for f in range(N):\n",
    "    print(\"%d. %s (%f)\" % (f + 1, df.columns[indices[f]], importances[indices[f]]))\n",
    "\n",
    "# 上記の数値を、棒グラフとして描画。\n",
    "plt.figure(figsize=(10,5))\n",
    "plt.title(\"Feature importances\")\n",
    "plt.bar(range(N), importances[indices],\n",
    "       color=\"m\", yerr=std[indices], align=\"center\")\n",
    "plt.xticks(range(N), [df.columns[indices[f]] for f in range(N)])\n",
    "plt.xlim([-1, N])\n",
    "plt.show()"
   ]
  },
  {
   "cell_type": "markdown",
   "metadata": {
    "colab_type": "text",
    "id": "LIad6jTB7QiT"
   },
   "source": [
    "# 3. SVM"
   ]
  },
  {
   "cell_type": "markdown",
   "metadata": {
    "colab_type": "text",
    "id": "-nLLJrat8JBO"
   },
   "source": [
    "SVMのパッケージの読み込みと、SVM(クラス名はSVC (Support vector classification))の実施。\n",
    "* SVC内のオプションは、scikit-learn のマニュアル ([sklearn.svm.SVC](https://scikit-learn.org/stable/modules/generated/sklearn.svm.SVC.html)) を参照。SVMでは、C、gamma、kernel が主要なパラメータ。\n",
    "* probability=Trueは、ROCカーブを書くために出力値の追加のオプション\n",
    "\n",
    "手順が、KNNとほとんど同じであることに注意。以下のクラス分類手法も、ほぼ同じ手順で学習が可能。"
   ]
  },
  {
   "cell_type": "code",
   "execution_count": 0,
   "metadata": {
    "colab": {
     "base_uri": "https://localhost:8080/",
     "height": 88
    },
    "colab_type": "code",
    "id": "YS_lf1Qf7IP4",
    "outputId": "dba424f3-173e-4836-d943-dd3378c51431"
   },
   "outputs": [
    {
     "data": {
      "text/plain": [
       "SVC(C=100, cache_size=200, class_weight=None, coef0=0.0,\n",
       "  decision_function_shape='ovr', degree=3, gamma='auto', kernel='rbf',\n",
       "  max_iter=-1, probability=True, random_state=None, shrinking=True,\n",
       "  tol=0.001, verbose=False)"
      ]
     },
     "execution_count": 54,
     "metadata": {
      "tags": []
     },
     "output_type": "execute_result"
    }
   ],
   "source": [
    "from sklearn.svm import SVC\n",
    "clf = SVC(C=100, gamma='auto', kernel='rbf', probability=True) #　実行するクラス分類機の設定。ここではSVM\n",
    "clf.fit(X_train, y_train) # クラス分類の実行、モデルの作成"
   ]
  },
  {
   "cell_type": "markdown",
   "metadata": {
    "colab_type": "text",
    "id": "DhSgM-9-88bT"
   },
   "source": [
    "精度の調査 (KNN同様)"
   ]
  },
  {
   "cell_type": "code",
   "execution_count": 0,
   "metadata": {
    "colab": {
     "base_uri": "https://localhost:8080/",
     "height": 52
    },
    "colab_type": "code",
    "id": "QsiCXUni8FAj",
    "outputId": "6ed5529b-2d55-48fd-c4de-4515e879b32f"
   },
   "outputs": [
    {
     "name": "stdout",
     "output_type": "stream",
     "text": [
      "Training accuracy:  1.0\n",
      "Test accuracy:  0.9698492462311558\n"
     ]
    }
   ],
   "source": [
    "# 訓練データでの精度\n",
    "y_train_pred = clf.predict(X_train)\n",
    "print(\"Training accuracy: \", accuracy_score(y_train, y_train_pred))\n",
    "# テストデータでの精度\n",
    "y_test_pred = clf.predict(X_test)\n",
    "print(\"Test accuracy: \", accuracy_score(y_test, y_test_pred))"
   ]
  },
  {
   "cell_type": "markdown",
   "metadata": {
    "colab_type": "text",
    "id": "XNaDg4EsWKh7"
   },
   "source": [
    "学習データにおける分類結果の分割表を調べる。"
   ]
  },
  {
   "cell_type": "code",
   "execution_count": 0,
   "metadata": {
    "colab": {
     "base_uri": "https://localhost:8080/",
     "height": 110
    },
    "colab_type": "code",
    "id": "5CmYy4rD810a",
    "outputId": "d18985aa-7f8c-487a-90a5-ba0d469df0be"
   },
   "outputs": [
    {
     "data": {
      "text/html": [
       "<div>\n",
       "<style scoped>\n",
       "    .dataframe tbody tr th:only-of-type {\n",
       "        vertical-align: middle;\n",
       "    }\n",
       "\n",
       "    .dataframe tbody tr th {\n",
       "        vertical-align: top;\n",
       "    }\n",
       "\n",
       "    .dataframe thead th {\n",
       "        text-align: right;\n",
       "    }\n",
       "</style>\n",
       "<table border=\"1\" class=\"dataframe\">\n",
       "  <thead>\n",
       "    <tr style=\"text-align: right;\">\n",
       "      <th></th>\n",
       "      <th>Prediction: 0</th>\n",
       "      <th>1</th>\n",
       "    </tr>\n",
       "  </thead>\n",
       "  <tbody>\n",
       "    <tr>\n",
       "      <th>0</th>\n",
       "      <td>404</td>\n",
       "      <td>0</td>\n",
       "    </tr>\n",
       "    <tr>\n",
       "      <th>1</th>\n",
       "      <td>0</td>\n",
       "      <td>391</td>\n",
       "    </tr>\n",
       "  </tbody>\n",
       "</table>\n",
       "</div>"
      ],
      "text/plain": [
       "   Prediction: 0    1\n",
       "0            404    0\n",
       "1              0  391"
      ]
     },
     "execution_count": 56,
     "metadata": {
      "tags": []
     },
     "output_type": "execute_result"
    }
   ],
   "source": [
    "targets = [\"Prediction: 0\", \"1\"]\n",
    "pd.DataFrame(confusion_matrix(y_train, y_train_pred), columns=targets) # Training"
   ]
  },
  {
   "cell_type": "markdown",
   "metadata": {
    "colab_type": "text",
    "id": "5-kXj7grWavp"
   },
   "source": [
    "同様に、テストデータにおける分類結果も調べる。"
   ]
  },
  {
   "cell_type": "code",
   "execution_count": 0,
   "metadata": {
    "colab": {
     "base_uri": "https://localhost:8080/",
     "height": 110
    },
    "colab_type": "code",
    "id": "iZrJy5t3Wdw5",
    "outputId": "f9ef5f3e-8d9d-4b11-8967-65283725221c"
   },
   "outputs": [
    {
     "data": {
      "text/html": [
       "<div>\n",
       "<style scoped>\n",
       "    .dataframe tbody tr th:only-of-type {\n",
       "        vertical-align: middle;\n",
       "    }\n",
       "\n",
       "    .dataframe tbody tr th {\n",
       "        vertical-align: top;\n",
       "    }\n",
       "\n",
       "    .dataframe thead th {\n",
       "        text-align: right;\n",
       "    }\n",
       "</style>\n",
       "<table border=\"1\" class=\"dataframe\">\n",
       "  <thead>\n",
       "    <tr style=\"text-align: right;\">\n",
       "      <th></th>\n",
       "      <th>Prediction: 0</th>\n",
       "      <th>1</th>\n",
       "    </tr>\n",
       "  </thead>\n",
       "  <tbody>\n",
       "    <tr>\n",
       "      <th>0</th>\n",
       "      <td>102</td>\n",
       "      <td>4</td>\n",
       "    </tr>\n",
       "    <tr>\n",
       "      <th>1</th>\n",
       "      <td>2</td>\n",
       "      <td>91</td>\n",
       "    </tr>\n",
       "  </tbody>\n",
       "</table>\n",
       "</div>"
      ],
      "text/plain": [
       "   Prediction: 0   1\n",
       "0            102   4\n",
       "1              2  91"
      ]
     },
     "execution_count": 57,
     "metadata": {
      "tags": []
     },
     "output_type": "execute_result"
    }
   ],
   "source": [
    "targets = [\"Prediction: 0\", \"1\"]\n",
    "pd.DataFrame(confusion_matrix(y_test, y_test_pred), columns=targets) # Training"
   ]
  },
  {
   "cell_type": "markdown",
   "metadata": {
    "colab_type": "text",
    "id": "RA4kUL6qWoP5"
   },
   "source": [
    "ROCカーブで性能を評価する。"
   ]
  },
  {
   "cell_type": "code",
   "execution_count": 0,
   "metadata": {
    "colab": {
     "base_uri": "https://localhost:8080/",
     "height": 295
    },
    "colab_type": "code",
    "id": "Fe_FIQfz8-JP",
    "outputId": "e39267ff-a394-4a05-a9fe-4e28b5a6fba5"
   },
   "outputs": [
    {
     "data": {
      "image/png": "[encoded data removed]",
      "text/plain": [
       "<Figure size 432x288 with 1 Axes>"
      ]
     },
     "metadata": {
      "tags": []
     },
     "output_type": "display_data"
    }
   ],
   "source": [
    "# SVMで出力を確率値にする\n",
    "y_test_proba = clf.predict_proba(X_test)\n",
    "\n",
    "# FPR, TPR(, しきい値) を算出\n",
    "fpr, tpr, thresholds = metrics.roc_curve(y_test, y_test_proba[:,1])\n",
    "auc = metrics.auc(fpr, tpr)\n",
    "\n",
    "# ROC曲線をプロット\n",
    "plt.plot(fpr, tpr, label='ROC curve (area = %.2f)'%auc)\n",
    "plt.legend()\n",
    "plt.title('ROC curve')\n",
    "plt.xlabel('False Positive Rate')\n",
    "plt.ylabel('True Positive Rate')\n",
    "plt.grid(True)"
   ]
  },
  {
   "cell_type": "markdown",
   "metadata": {
    "colab_type": "text",
    "id": "w94ekih5Ba7q"
   },
   "source": [
    "# 4. Cross validation (交差検証)\n",
    "\n",
    "交差検証をKFoldを利用して実施する。\n",
    "典型例としてSVMに対して行う。"
   ]
  },
  {
   "cell_type": "code",
   "execution_count": 0,
   "metadata": {
    "colab": {
     "base_uri": "https://localhost:8080/",
     "height": 141
    },
    "colab_type": "code",
    "id": "oiCLAYxxBW_t",
    "outputId": "fe7ed3ad-a2d1-4a87-fbff-5354a98f5b82"
   },
   "outputs": [
    {
     "name": "stdout",
     "output_type": "stream",
     "text": [
      "Accuracy:  0.9195979899497487\n",
      "Accuracy:  0.9547738693467337\n",
      "Accuracy:  0.9547738693467337\n",
      "Accuracy:  0.9547738693467337\n",
      "Accuracy:  0.9494949494949495\n",
      "Mean Accuracy:  0.9466829094969798\n",
      "SD:  0.01369592150752296\n"
     ]
    }
   ],
   "source": [
    "# SVMで Cross Validationを実行する例\n",
    "from sklearn.model_selection import KFold\n",
    "kf = KFold(n_splits=5, shuffle=True)  # n_splitsで分割数を指定する。ここでは5-fold cross validationを実施する\n",
    "accuracies = []\n",
    "for train_index, test_index in kf.split(X):\n",
    "    X_train, X_test = X[train_index], X[test_index]\n",
    "    y_train, y_test = y[train_index], y[test_index]\n",
    "    #　実行するクラス分類機の設定。ここではSVM\n",
    "    clf = SVC(gamma='auto', probability=True) \n",
    "    clf.fit(X_train, y_train) # クラス分類の実行、モデルの作成\n",
    "    # テストデータでの精度\n",
    "    y_test_pred = clf.predict(X_test)\n",
    "    acc = accuracy_score(y_test, y_test_pred)\n",
    "    accuracies.append(acc)\n",
    "    print(\"Accuracy: \", acc)\n",
    "print(\"Mean Accuracy: \", np.mean(accuracies))\n",
    "print(\"SD: \", np.std(accuracies))"
   ]
  },
  {
   "cell_type": "markdown",
   "metadata": {
    "colab_type": "text",
    "id": "HzNszl_uBp3h"
   },
   "source": [
    "頻出する手順なので、上記のルーティンをまとめた関数 cross_val_score が提供されている。"
   ]
  },
  {
   "cell_type": "code",
   "execution_count": 0,
   "metadata": {
    "colab": {
     "base_uri": "https://localhost:8080/",
     "height": 35
    },
    "colab_type": "code",
    "id": "X2yBE3cwBhxO",
    "outputId": "3832e496-3a14-4e22-9169-ae177978b8f0"
   },
   "outputs": [
    {
     "data": {
      "text/plain": [
       "array([0.95182046, 0.96240334, 0.94357957, 0.92506232, 0.95459184])"
      ]
     },
     "execution_count": 60,
     "metadata": {
      "tags": []
     },
     "output_type": "execute_result"
    }
   ],
   "source": [
    "from sklearn.model_selection import KFold, cross_val_score\n",
    "kf = KFold(n_splits=5, shuffle=True)\n",
    "clf = SVC(gamma='auto', probability=True) \n",
    "cross_val_score(clf, X, y, cv=kf, scoring='precision_macro')"
   ]
  },
  {
   "cell_type": "markdown",
   "metadata": {
    "colab_type": "text",
    "id": "vk9Y5t9tB3e7"
   },
   "source": [
    "# 5. ハイパーパラメータのGrid Search\n",
    "\n",
    "パラメータ（ハイパーパラメータ）の決定には、複数のパラメータによる実験・評価が必要である。ここでは、Grid Searchを用いて、下記のSVMのパラメータのパターンを全て探索する。\n",
    "\n",
    "* SVMのパラメータ\n",
    "  * カーネル(kernerl)：\"linear\", \"rbf\"\n",
    "  * ペナルティパラメータ C：1, 10"
   ]
  },
  {
   "cell_type": "code",
   "execution_count": 0,
   "metadata": {
    "colab": {
     "base_uri": "https://localhost:8080/",
     "height": 194
    },
    "colab_type": "code",
    "id": "PNiyYK09Bv2L",
    "outputId": "56ec6742-8d12-4ac8-cb51-c252a5cac30d"
   },
   "outputs": [
    {
     "data": {
      "text/plain": [
       "GridSearchCV(cv=KFold(n_splits=5, random_state=None, shuffle=True),\n",
       "       error_score='raise-deprecating',\n",
       "       estimator=SVC(C=1.0, cache_size=200, class_weight=None, coef0=0.0,\n",
       "  decision_function_shape='ovr', degree=3, gamma='auto', kernel='rbf',\n",
       "  max_iter=-1, probability=True, random_state=None, shrinking=True,\n",
       "  tol=0.001, verbose=False),\n",
       "       fit_params=None, iid='warn', n_jobs=-1,\n",
       "       param_grid={'kernel': ('linear', 'rbf'), 'C': [10, 100, 1000]},\n",
       "       pre_dispatch='2*n_jobs', refit=True, return_train_score='warn',\n",
       "       scoring=None, verbose=0)"
      ]
     },
     "execution_count": 63,
     "metadata": {
      "tags": []
     },
     "output_type": "execute_result"
    }
   ],
   "source": [
    "from sklearn.model_selection import GridSearchCV, cross_val_score\n",
    "kf = KFold(n_splits=5, shuffle=True)\n",
    "clf = SVC(gamma='auto', probability=True)\n",
    "# 探索するパラメータを指定する\n",
    "parameters = {'kernel':('linear', 'rbf'), 'C':[10,100,1000]}\n",
    "# Grid Searchの実施\n",
    "grid_clf = GridSearchCV(estimator=clf, cv=kf, param_grid=parameters, n_jobs=-1)\n",
    "grid_clf.fit(X_train, y_train)"
   ]
  },
  {
   "cell_type": "markdown",
   "metadata": {
    "colab_type": "text",
    "id": "ovd1w0FD8yT_"
   },
   "source": [
    "ベストスコアと、そのパラメータを出力する。"
   ]
  },
  {
   "cell_type": "code",
   "execution_count": 0,
   "metadata": {
    "colab": {
     "base_uri": "https://localhost:8080/",
     "height": 70
    },
    "colab_type": "code",
    "id": "25XC4XSgCJSD",
    "outputId": "b213cbec-4760-470a-d843-f8c9a7bcd7ee"
   },
   "outputs": [
    {
     "name": "stdout",
     "output_type": "stream",
     "text": [
      "Best score:  0.9522613065326633\n",
      "kernel:  rbf\n",
      "C:  10\n"
     ]
    }
   ],
   "source": [
    "print(\"Best score: \", grid_clf.best_score_)\n",
    "print(\"kernel: \", grid_clf.best_estimator_.kernel)\n",
    "print(\"C: \", grid_clf.best_estimator_.C)"
   ]
  },
  {
   "cell_type": "code",
   "execution_count": 0,
   "metadata": {
    "colab": {},
    "colab_type": "code",
    "id": "sKEfkQXV--DT"
   },
   "outputs": [],
   "source": []
  }
 ],
 "metadata": {
  "colab": {
   "collapsed_sections": [
    "jrCvfsBav9gn",
    "iC2oqwt1wjKC",
    "qIbSfSG39IKC",
    "gUJQMWAtM9Lq",
    "N4cbAm3JNJgL",
    "r5jG5L2sQrDC",
    "KZeadjMe-2b1",
    "LIad6jTB7QiT",
    "selMDCNEANMx",
    "DvuXvJ7tbPX_",
    "gfxl_4tiA8TX",
    "x1YGqbymBTaM",
    "w94ekih5Ba7q",
    "vk9Y5t9tB3e7"
   ],
   "name": "Supervised_learning.ipynb",
   "provenance": [],
   "version": "0.3.2"
  },
  "kernelspec": {
   "display_name": "Python 3",
   "language": "python",
   "name": "python3"
  },
  "language_info": {
   "codemirror_mode": {
    "name": "ipython",
    "version": 3
   },
   "file_extension": ".py",
   "mimetype": "text/x-python",
   "name": "python",
   "nbconvert_exporter": "python",
   "pygments_lexer": "ipython3",
   "version": "3.6.5"
  }
 },
 "nbformat": 4,
 "nbformat_minor": 1
}
